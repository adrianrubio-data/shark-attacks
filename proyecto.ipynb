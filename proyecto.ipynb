{
 "cells": [
  {
   "cell_type": "code",
   "execution_count": 5,
   "id": "7acd27b6",
   "metadata": {},
   "outputs": [],
   "source": [
    "import pandas as pd\n",
    "import numpy as np\n",
    "\n",
    "\n"
   ]
  },
  {
   "cell_type": "code",
   "execution_count": 6,
   "id": "f8507302",
   "metadata": {},
   "outputs": [],
   "source": [
    "df = pd.read_excel(\"https://www.sharkattackfile.net/spreadsheets/GSAF5.xls\")\n"
   ]
  },
  {
   "cell_type": "code",
   "execution_count": 7,
   "id": "a05f077a",
   "metadata": {},
   "outputs": [
    {
     "data": {
      "text/plain": [
       "(7049, 23)"
      ]
     },
     "execution_count": 7,
     "metadata": {},
     "output_type": "execute_result"
    }
   ],
   "source": [
    "df.shape"
   ]
  },
  {
   "cell_type": "code",
   "execution_count": 8,
   "id": "ea540c52",
   "metadata": {},
   "outputs": [
    {
     "data": {
      "text/plain": [
       "Index(['Date', 'Year', 'Type', 'Country', 'State', 'Location', 'Activity',\n",
       "       'Name', 'Sex', 'Age', 'Injury', 'Fatal Y/N', 'Time', 'Species ',\n",
       "       'Source', 'pdf', 'href formula', 'href', 'Case Number', 'Case Number.1',\n",
       "       'original order', 'Unnamed: 21', 'Unnamed: 22'],\n",
       "      dtype='object')"
      ]
     },
     "execution_count": 8,
     "metadata": {},
     "output_type": "execute_result"
    }
   ],
   "source": [
    "df.columns"
   ]
  },
  {
   "cell_type": "code",
   "execution_count": 9,
   "id": "c03f63ed",
   "metadata": {},
   "outputs": [
    {
     "data": {
      "text/plain": [
       "Date              False\n",
       "Year               True\n",
       "Type               True\n",
       "Country            True\n",
       "State              True\n",
       "Location           True\n",
       "Activity           True\n",
       "Name               True\n",
       "Sex                True\n",
       "Age                True\n",
       "Injury             True\n",
       "Fatal Y/N          True\n",
       "Time               True\n",
       "Species            True\n",
       "Source             True\n",
       "pdf                True\n",
       "href formula       True\n",
       "href               True\n",
       "Case Number        True\n",
       "Case Number.1      True\n",
       "original order     True\n",
       "Unnamed: 21        True\n",
       "Unnamed: 22        True\n",
       "dtype: bool"
      ]
     },
     "execution_count": 9,
     "metadata": {},
     "output_type": "execute_result"
    }
   ],
   "source": [
    "df.isna().any()\n"
   ]
  },
  {
   "cell_type": "code",
   "execution_count": 10,
   "id": "ec4ea34f",
   "metadata": {},
   "outputs": [
    {
     "data": {
      "text/plain": [
       "Date                 0\n",
       "Year                 2\n",
       "Type                18\n",
       "Country             50\n",
       "State              486\n",
       "Location           567\n",
       "Activity           585\n",
       "Name               219\n",
       "Sex                579\n",
       "Age               2994\n",
       "Injury              35\n",
       "Fatal Y/N          561\n",
       "Time              3526\n",
       "Species           3131\n",
       "Source              20\n",
       "pdf                250\n",
       "href formula       255\n",
       "href               253\n",
       "Case Number        251\n",
       "Case Number.1      252\n",
       "original order     250\n",
       "Unnamed: 21       7048\n",
       "Unnamed: 22       7047\n",
       "dtype: int64"
      ]
     },
     "execution_count": 10,
     "metadata": {},
     "output_type": "execute_result"
    }
   ],
   "source": [
    "df.isna().sum()"
   ]
  },
  {
   "cell_type": "markdown",
   "id": "13a728e0",
   "metadata": {},
   "source": []
  },
  {
   "cell_type": "code",
   "execution_count": 23,
   "id": "f0f2a87a",
   "metadata": {},
   "outputs": [
    {
     "data": {
      "text/plain": [
       "Date              0.000000\n",
       "Year              0.000284\n",
       "Type              0.002554\n",
       "Country           0.007093\n",
       "State             0.068946\n",
       "Location          0.080437\n",
       "Activity          0.082990\n",
       "Name              0.031068\n",
       "Sex               0.082139\n",
       "Age               0.424741\n",
       "Injury            0.004965\n",
       "Fatal Y/N         0.079586\n",
       "Time              0.500213\n",
       "Species           0.444176\n",
       "Source            0.002837\n",
       "pdf               0.035466\n",
       "href formula      0.036175\n",
       "href              0.035892\n",
       "Case Number       0.035608\n",
       "Case Number.1     0.035750\n",
       "original order    0.035466\n",
       "Unnamed: 21       0.999858\n",
       "Unnamed: 22       0.999716\n",
       "dtype: float64"
      ]
     },
     "execution_count": 23,
     "metadata": {},
     "output_type": "execute_result"
    }
   ],
   "source": [
    "# % de de nulos.\n",
    "\n",
    "df.isna().sum()/df.shape[0]"
   ]
  },
  {
   "cell_type": "code",
   "execution_count": 24,
   "id": "e5b00aa7",
   "metadata": {},
   "outputs": [
    {
     "ename": "SyntaxError",
     "evalue": "invalid syntax (273671427.py, line 2)",
     "output_type": "error",
     "traceback": [
      "  \u001b[36mCell\u001b[39m\u001b[36m \u001b[39m\u001b[32mIn[24]\u001b[39m\u001b[32m, line 2\u001b[39m\n\u001b[31m    \u001b[39m\u001b[31mdf  ->    .      ->     drop\u001b[39m\n        ^\n\u001b[31mSyntaxError\u001b[39m\u001b[31m:\u001b[39m invalid syntax\n"
     ]
    }
   ],
   "source": [
    "#eliminacion de celdas\n",
    "df  ->    .      ->     drop"
   ]
  },
  {
   "cell_type": "code",
   "execution_count": null,
   "id": "d2e5638f",
   "metadata": {},
   "outputs": [],
   "source": []
  }
 ],
 "metadata": {
  "kernelspec": {
   "display_name": "Python 3",
   "language": "python",
   "name": "python3"
  },
  "language_info": {
   "codemirror_mode": {
    "name": "ipython",
    "version": 3
   },
   "file_extension": ".py",
   "mimetype": "text/x-python",
   "name": "python",
   "nbconvert_exporter": "python",
   "pygments_lexer": "ipython3",
   "version": "3.13.4"
  }
 },
 "nbformat": 4,
 "nbformat_minor": 5
}
