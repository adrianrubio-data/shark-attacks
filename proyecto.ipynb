{
 "cells": [
  {
   "cell_type": "code",
   "execution_count": 1,
   "id": "7acd27b6",
   "metadata": {},
   "outputs": [],
   "source": [
    "import pandas as pd"
   ]
  },
  {
   "cell_type": "code",
   "execution_count": 2,
   "id": "f8507302",
   "metadata": {},
   "outputs": [],
   "source": [
    "df = pd.read_excel(\"https://www.sharkattackfile.net/spreadsheets/GSAF5.xls\")"
   ]
  },
  {
   "cell_type": "code",
   "execution_count": 3,
   "id": "a05f077a",
   "metadata": {},
   "outputs": [
    {
     "name": "stdout",
     "output_type": "stream",
     "text": [
      "<class 'pandas.core.frame.DataFrame'>\n",
      "RangeIndex: 7049 entries, 0 to 7048\n",
      "Data columns (total 23 columns):\n",
      " #   Column          Non-Null Count  Dtype  \n",
      "---  ------          --------------  -----  \n",
      " 0   Date            7049 non-null   object \n",
      " 1   Year            7047 non-null   float64\n",
      " 2   Type            7031 non-null   object \n",
      " 3   Country         6999 non-null   object \n",
      " 4   State           6563 non-null   object \n",
      " 5   Location        6482 non-null   object \n",
      " 6   Activity        6464 non-null   object \n",
      " 7   Name            6830 non-null   object \n",
      " 8   Sex             6470 non-null   object \n",
      " 9   Age             4055 non-null   object \n",
      " 10  Injury          7014 non-null   object \n",
      " 11  Fatal Y/N       6488 non-null   object \n",
      " 12  Time            3523 non-null   object \n",
      " 13  Species         3918 non-null   object \n",
      " 14  Source          7029 non-null   object \n",
      " 15  pdf             6799 non-null   object \n",
      " 16  href formula    6794 non-null   object \n",
      " 17  href            6796 non-null   object \n",
      " 18  Case Number     6798 non-null   object \n",
      " 19  Case Number.1   6797 non-null   object \n",
      " 20  original order  6799 non-null   float64\n",
      " 21  Unnamed: 21     1 non-null      object \n",
      " 22  Unnamed: 22     2 non-null      object \n",
      "dtypes: float64(2), object(21)\n",
      "memory usage: 1.2+ MB\n"
     ]
    }
   ],
   "source": [
    "df.info()"
   ]
  },
  {
   "cell_type": "code",
   "execution_count": 4,
   "id": "ea540c52",
   "metadata": {},
   "outputs": [
    {
     "data": {
      "application/vnd.microsoft.datawrangler.viewer.v0+json": {
       "columns": [
        {
         "name": "index",
         "rawType": "object",
         "type": "string"
        },
        {
         "name": "count",
         "rawType": "object",
         "type": "unknown"
        },
        {
         "name": "unique",
         "rawType": "object",
         "type": "unknown"
        },
        {
         "name": "top",
         "rawType": "object",
         "type": "unknown"
        },
        {
         "name": "freq",
         "rawType": "object",
         "type": "unknown"
        },
        {
         "name": "mean",
         "rawType": "object",
         "type": "unknown"
        },
        {
         "name": "std",
         "rawType": "object",
         "type": "unknown"
        },
        {
         "name": "min",
         "rawType": "object",
         "type": "unknown"
        },
        {
         "name": "25%",
         "rawType": "object",
         "type": "unknown"
        },
        {
         "name": "50%",
         "rawType": "object",
         "type": "unknown"
        },
        {
         "name": "75%",
         "rawType": "object",
         "type": "unknown"
        },
        {
         "name": "max",
         "rawType": "object",
         "type": "unknown"
        }
       ],
       "ref": "75168d25-b041-4e75-9397-d0e1a912edc6",
       "rows": [
        [
         "Date",
         "7049.0",
         "6093.0",
         "1957.0",
         "9.0",
         null,
         null,
         null,
         null,
         null,
         null,
         null
        ],
        [
         "Year",
         "7047.0",
         null,
         null,
         null,
         "1935.710231304101",
         "271.1009252122014",
         "0.0",
         "1948.0",
         "1986.0",
         "2010.0",
         "2026.0"
        ],
        [
         "Type",
         "7031",
         "13",
         "Unprovoked",
         "5202",
         null,
         null,
         null,
         null,
         null,
         null,
         null
        ],
        [
         "Country",
         "6999",
         "248",
         "USA",
         "2573",
         null,
         null,
         null,
         null,
         null,
         null,
         null
        ],
        [
         "State",
         "6563",
         "938",
         "Florida",
         "1192",
         null,
         null,
         null,
         null,
         null,
         null,
         null
        ],
        [
         "Location",
         "6482",
         "4597",
         "New Smyrna Beach, Volusia County",
         "191",
         null,
         null,
         null,
         null,
         null,
         null,
         null
        ],
        [
         "Activity",
         "6464",
         "1608",
         "Surfing",
         "1140",
         null,
         null,
         null,
         null,
         null,
         null,
         null
        ],
        [
         "Name",
         "6830",
         "5774",
         "male",
         "679",
         null,
         null,
         null,
         null,
         null,
         null,
         null
        ],
        [
         "Sex",
         "6470",
         "10",
         "M",
         "5653",
         null,
         null,
         null,
         null,
         null,
         null,
         null
        ],
        [
         "Age",
         "4055.0",
         "251.0",
         "16.0",
         "92.0",
         null,
         null,
         null,
         null,
         null,
         null,
         null
        ],
        [
         "Injury",
         "7014",
         "4166",
         "FATAL",
         "863",
         null,
         null,
         null,
         null,
         null,
         null,
         null
        ],
        [
         "Fatal Y/N",
         "6488",
         "12",
         "N",
         "4914",
         null,
         null,
         null,
         null,
         null,
         null,
         null
        ],
        [
         "Time",
         "3523",
         "462",
         "Afternoon",
         "215",
         null,
         null,
         null,
         null,
         null,
         null,
         null
        ],
        [
         "Species ",
         "3918",
         "1728",
         "White shark",
         "194",
         null,
         null,
         null,
         null,
         null,
         null,
         null
        ],
        [
         "Source",
         "7029",
         "5385",
         "K. McMurray, TrackingSharks.com",
         "131",
         null,
         null,
         null,
         null,
         null,
         null,
         null
        ],
        [
         "pdf",
         "6799",
         "6789",
         "1935.06.05.R-SolomonIslands.pdf",
         "2",
         null,
         null,
         null,
         null,
         null,
         null,
         null
        ],
        [
         "href formula",
         "6794",
         "6784",
         "http://sharkattackfile.net/spreadsheets/pdf_directory/1935.06.05.R-SolomonIslands.pdf",
         "2",
         null,
         null,
         null,
         null,
         null,
         null,
         null
        ],
        [
         "href",
         "6796",
         "6776",
         "http://sharkattackfile.net/spreadsheets/pdf_directory/w014.01.25-Grant.pdf",
         "4",
         null,
         null,
         null,
         null,
         null,
         null,
         null
        ],
        [
         "Case Number",
         "6798",
         "6777",
         "2013.10.05",
         "2",
         null,
         null,
         null,
         null,
         null,
         null,
         null
        ],
        [
         "Case Number.1",
         "6797",
         "6775",
         "2021.07.04",
         "2",
         null,
         null,
         null,
         null,
         null,
         null,
         null
        ],
        [
         "original order",
         "6799.0",
         null,
         null,
         null,
         "3401.15208118841",
         "1963.0763185252931",
         "2.0",
         "1701.5",
         "3401.0",
         "5100.5",
         "6802.0"
        ],
        [
         "Unnamed: 21",
         "1",
         "1",
         "stopped here",
         "1",
         null,
         null,
         null,
         null,
         null,
         null,
         null
        ],
        [
         "Unnamed: 22",
         "2",
         "2",
         "Teramo",
         "1",
         null,
         null,
         null,
         null,
         null,
         null,
         null
        ]
       ],
       "shape": {
        "columns": 11,
        "rows": 23
       }
      },
      "text/html": [
       "<div>\n",
       "<style scoped>\n",
       "    .dataframe tbody tr th:only-of-type {\n",
       "        vertical-align: middle;\n",
       "    }\n",
       "\n",
       "    .dataframe tbody tr th {\n",
       "        vertical-align: top;\n",
       "    }\n",
       "\n",
       "    .dataframe thead th {\n",
       "        text-align: right;\n",
       "    }\n",
       "</style>\n",
       "<table border=\"1\" class=\"dataframe\">\n",
       "  <thead>\n",
       "    <tr style=\"text-align: right;\">\n",
       "      <th></th>\n",
       "      <th>count</th>\n",
       "      <th>unique</th>\n",
       "      <th>top</th>\n",
       "      <th>freq</th>\n",
       "      <th>mean</th>\n",
       "      <th>std</th>\n",
       "      <th>min</th>\n",
       "      <th>25%</th>\n",
       "      <th>50%</th>\n",
       "      <th>75%</th>\n",
       "      <th>max</th>\n",
       "    </tr>\n",
       "  </thead>\n",
       "  <tbody>\n",
       "    <tr>\n",
       "      <th>Date</th>\n",
       "      <td>7049.0</td>\n",
       "      <td>6093.0</td>\n",
       "      <td>1957.0</td>\n",
       "      <td>9.0</td>\n",
       "      <td>NaN</td>\n",
       "      <td>NaN</td>\n",
       "      <td>NaN</td>\n",
       "      <td>NaN</td>\n",
       "      <td>NaN</td>\n",
       "      <td>NaN</td>\n",
       "      <td>NaN</td>\n",
       "    </tr>\n",
       "    <tr>\n",
       "      <th>Year</th>\n",
       "      <td>7047.0</td>\n",
       "      <td>NaN</td>\n",
       "      <td>NaN</td>\n",
       "      <td>NaN</td>\n",
       "      <td>1935.710231</td>\n",
       "      <td>271.100925</td>\n",
       "      <td>0.0</td>\n",
       "      <td>1948.0</td>\n",
       "      <td>1986.0</td>\n",
       "      <td>2010.0</td>\n",
       "      <td>2026.0</td>\n",
       "    </tr>\n",
       "    <tr>\n",
       "      <th>Type</th>\n",
       "      <td>7031</td>\n",
       "      <td>13</td>\n",
       "      <td>Unprovoked</td>\n",
       "      <td>5202</td>\n",
       "      <td>NaN</td>\n",
       "      <td>NaN</td>\n",
       "      <td>NaN</td>\n",
       "      <td>NaN</td>\n",
       "      <td>NaN</td>\n",
       "      <td>NaN</td>\n",
       "      <td>NaN</td>\n",
       "    </tr>\n",
       "    <tr>\n",
       "      <th>Country</th>\n",
       "      <td>6999</td>\n",
       "      <td>248</td>\n",
       "      <td>USA</td>\n",
       "      <td>2573</td>\n",
       "      <td>NaN</td>\n",
       "      <td>NaN</td>\n",
       "      <td>NaN</td>\n",
       "      <td>NaN</td>\n",
       "      <td>NaN</td>\n",
       "      <td>NaN</td>\n",
       "      <td>NaN</td>\n",
       "    </tr>\n",
       "    <tr>\n",
       "      <th>State</th>\n",
       "      <td>6563</td>\n",
       "      <td>938</td>\n",
       "      <td>Florida</td>\n",
       "      <td>1192</td>\n",
       "      <td>NaN</td>\n",
       "      <td>NaN</td>\n",
       "      <td>NaN</td>\n",
       "      <td>NaN</td>\n",
       "      <td>NaN</td>\n",
       "      <td>NaN</td>\n",
       "      <td>NaN</td>\n",
       "    </tr>\n",
       "    <tr>\n",
       "      <th>Location</th>\n",
       "      <td>6482</td>\n",
       "      <td>4597</td>\n",
       "      <td>New Smyrna Beach, Volusia County</td>\n",
       "      <td>191</td>\n",
       "      <td>NaN</td>\n",
       "      <td>NaN</td>\n",
       "      <td>NaN</td>\n",
       "      <td>NaN</td>\n",
       "      <td>NaN</td>\n",
       "      <td>NaN</td>\n",
       "      <td>NaN</td>\n",
       "    </tr>\n",
       "    <tr>\n",
       "      <th>Activity</th>\n",
       "      <td>6464</td>\n",
       "      <td>1608</td>\n",
       "      <td>Surfing</td>\n",
       "      <td>1140</td>\n",
       "      <td>NaN</td>\n",
       "      <td>NaN</td>\n",
       "      <td>NaN</td>\n",
       "      <td>NaN</td>\n",
       "      <td>NaN</td>\n",
       "      <td>NaN</td>\n",
       "      <td>NaN</td>\n",
       "    </tr>\n",
       "    <tr>\n",
       "      <th>Name</th>\n",
       "      <td>6830</td>\n",
       "      <td>5774</td>\n",
       "      <td>male</td>\n",
       "      <td>679</td>\n",
       "      <td>NaN</td>\n",
       "      <td>NaN</td>\n",
       "      <td>NaN</td>\n",
       "      <td>NaN</td>\n",
       "      <td>NaN</td>\n",
       "      <td>NaN</td>\n",
       "      <td>NaN</td>\n",
       "    </tr>\n",
       "    <tr>\n",
       "      <th>Sex</th>\n",
       "      <td>6470</td>\n",
       "      <td>10</td>\n",
       "      <td>M</td>\n",
       "      <td>5653</td>\n",
       "      <td>NaN</td>\n",
       "      <td>NaN</td>\n",
       "      <td>NaN</td>\n",
       "      <td>NaN</td>\n",
       "      <td>NaN</td>\n",
       "      <td>NaN</td>\n",
       "      <td>NaN</td>\n",
       "    </tr>\n",
       "    <tr>\n",
       "      <th>Age</th>\n",
       "      <td>4055.0</td>\n",
       "      <td>251.0</td>\n",
       "      <td>16.0</td>\n",
       "      <td>92.0</td>\n",
       "      <td>NaN</td>\n",
       "      <td>NaN</td>\n",
       "      <td>NaN</td>\n",
       "      <td>NaN</td>\n",
       "      <td>NaN</td>\n",
       "      <td>NaN</td>\n",
       "      <td>NaN</td>\n",
       "    </tr>\n",
       "    <tr>\n",
       "      <th>Injury</th>\n",
       "      <td>7014</td>\n",
       "      <td>4166</td>\n",
       "      <td>FATAL</td>\n",
       "      <td>863</td>\n",
       "      <td>NaN</td>\n",
       "      <td>NaN</td>\n",
       "      <td>NaN</td>\n",
       "      <td>NaN</td>\n",
       "      <td>NaN</td>\n",
       "      <td>NaN</td>\n",
       "      <td>NaN</td>\n",
       "    </tr>\n",
       "    <tr>\n",
       "      <th>Fatal Y/N</th>\n",
       "      <td>6488</td>\n",
       "      <td>12</td>\n",
       "      <td>N</td>\n",
       "      <td>4914</td>\n",
       "      <td>NaN</td>\n",
       "      <td>NaN</td>\n",
       "      <td>NaN</td>\n",
       "      <td>NaN</td>\n",
       "      <td>NaN</td>\n",
       "      <td>NaN</td>\n",
       "      <td>NaN</td>\n",
       "    </tr>\n",
       "    <tr>\n",
       "      <th>Time</th>\n",
       "      <td>3523</td>\n",
       "      <td>462</td>\n",
       "      <td>Afternoon</td>\n",
       "      <td>215</td>\n",
       "      <td>NaN</td>\n",
       "      <td>NaN</td>\n",
       "      <td>NaN</td>\n",
       "      <td>NaN</td>\n",
       "      <td>NaN</td>\n",
       "      <td>NaN</td>\n",
       "      <td>NaN</td>\n",
       "    </tr>\n",
       "    <tr>\n",
       "      <th>Species</th>\n",
       "      <td>3918</td>\n",
       "      <td>1728</td>\n",
       "      <td>White shark</td>\n",
       "      <td>194</td>\n",
       "      <td>NaN</td>\n",
       "      <td>NaN</td>\n",
       "      <td>NaN</td>\n",
       "      <td>NaN</td>\n",
       "      <td>NaN</td>\n",
       "      <td>NaN</td>\n",
       "      <td>NaN</td>\n",
       "    </tr>\n",
       "    <tr>\n",
       "      <th>Source</th>\n",
       "      <td>7029</td>\n",
       "      <td>5385</td>\n",
       "      <td>K. McMurray, TrackingSharks.com</td>\n",
       "      <td>131</td>\n",
       "      <td>NaN</td>\n",
       "      <td>NaN</td>\n",
       "      <td>NaN</td>\n",
       "      <td>NaN</td>\n",
       "      <td>NaN</td>\n",
       "      <td>NaN</td>\n",
       "      <td>NaN</td>\n",
       "    </tr>\n",
       "    <tr>\n",
       "      <th>pdf</th>\n",
       "      <td>6799</td>\n",
       "      <td>6789</td>\n",
       "      <td>1935.06.05.R-SolomonIslands.pdf</td>\n",
       "      <td>2</td>\n",
       "      <td>NaN</td>\n",
       "      <td>NaN</td>\n",
       "      <td>NaN</td>\n",
       "      <td>NaN</td>\n",
       "      <td>NaN</td>\n",
       "      <td>NaN</td>\n",
       "      <td>NaN</td>\n",
       "    </tr>\n",
       "    <tr>\n",
       "      <th>href formula</th>\n",
       "      <td>6794</td>\n",
       "      <td>6784</td>\n",
       "      <td>http://sharkattackfile.net/spreadsheets/pdf_di...</td>\n",
       "      <td>2</td>\n",
       "      <td>NaN</td>\n",
       "      <td>NaN</td>\n",
       "      <td>NaN</td>\n",
       "      <td>NaN</td>\n",
       "      <td>NaN</td>\n",
       "      <td>NaN</td>\n",
       "      <td>NaN</td>\n",
       "    </tr>\n",
       "    <tr>\n",
       "      <th>href</th>\n",
       "      <td>6796</td>\n",
       "      <td>6776</td>\n",
       "      <td>http://sharkattackfile.net/spreadsheets/pdf_di...</td>\n",
       "      <td>4</td>\n",
       "      <td>NaN</td>\n",
       "      <td>NaN</td>\n",
       "      <td>NaN</td>\n",
       "      <td>NaN</td>\n",
       "      <td>NaN</td>\n",
       "      <td>NaN</td>\n",
       "      <td>NaN</td>\n",
       "    </tr>\n",
       "    <tr>\n",
       "      <th>Case Number</th>\n",
       "      <td>6798</td>\n",
       "      <td>6777</td>\n",
       "      <td>2013.10.05</td>\n",
       "      <td>2</td>\n",
       "      <td>NaN</td>\n",
       "      <td>NaN</td>\n",
       "      <td>NaN</td>\n",
       "      <td>NaN</td>\n",
       "      <td>NaN</td>\n",
       "      <td>NaN</td>\n",
       "      <td>NaN</td>\n",
       "    </tr>\n",
       "    <tr>\n",
       "      <th>Case Number.1</th>\n",
       "      <td>6797</td>\n",
       "      <td>6775</td>\n",
       "      <td>2021.07.04</td>\n",
       "      <td>2</td>\n",
       "      <td>NaN</td>\n",
       "      <td>NaN</td>\n",
       "      <td>NaN</td>\n",
       "      <td>NaN</td>\n",
       "      <td>NaN</td>\n",
       "      <td>NaN</td>\n",
       "      <td>NaN</td>\n",
       "    </tr>\n",
       "    <tr>\n",
       "      <th>original order</th>\n",
       "      <td>6799.0</td>\n",
       "      <td>NaN</td>\n",
       "      <td>NaN</td>\n",
       "      <td>NaN</td>\n",
       "      <td>3401.152081</td>\n",
       "      <td>1963.076319</td>\n",
       "      <td>2.0</td>\n",
       "      <td>1701.5</td>\n",
       "      <td>3401.0</td>\n",
       "      <td>5100.5</td>\n",
       "      <td>6802.0</td>\n",
       "    </tr>\n",
       "    <tr>\n",
       "      <th>Unnamed: 21</th>\n",
       "      <td>1</td>\n",
       "      <td>1</td>\n",
       "      <td>stopped here</td>\n",
       "      <td>1</td>\n",
       "      <td>NaN</td>\n",
       "      <td>NaN</td>\n",
       "      <td>NaN</td>\n",
       "      <td>NaN</td>\n",
       "      <td>NaN</td>\n",
       "      <td>NaN</td>\n",
       "      <td>NaN</td>\n",
       "    </tr>\n",
       "    <tr>\n",
       "      <th>Unnamed: 22</th>\n",
       "      <td>2</td>\n",
       "      <td>2</td>\n",
       "      <td>Teramo</td>\n",
       "      <td>1</td>\n",
       "      <td>NaN</td>\n",
       "      <td>NaN</td>\n",
       "      <td>NaN</td>\n",
       "      <td>NaN</td>\n",
       "      <td>NaN</td>\n",
       "      <td>NaN</td>\n",
       "      <td>NaN</td>\n",
       "    </tr>\n",
       "  </tbody>\n",
       "</table>\n",
       "</div>"
      ],
      "text/plain": [
       "                 count  unique  \\\n",
       "Date            7049.0  6093.0   \n",
       "Year            7047.0     NaN   \n",
       "Type              7031      13   \n",
       "Country           6999     248   \n",
       "State             6563     938   \n",
       "Location          6482    4597   \n",
       "Activity          6464    1608   \n",
       "Name              6830    5774   \n",
       "Sex               6470      10   \n",
       "Age             4055.0   251.0   \n",
       "Injury            7014    4166   \n",
       "Fatal Y/N         6488      12   \n",
       "Time              3523     462   \n",
       "Species           3918    1728   \n",
       "Source            7029    5385   \n",
       "pdf               6799    6789   \n",
       "href formula      6794    6784   \n",
       "href              6796    6776   \n",
       "Case Number       6798    6777   \n",
       "Case Number.1     6797    6775   \n",
       "original order  6799.0     NaN   \n",
       "Unnamed: 21          1       1   \n",
       "Unnamed: 22          2       2   \n",
       "\n",
       "                                                              top  freq  \\\n",
       "Date                                                       1957.0   9.0   \n",
       "Year                                                          NaN   NaN   \n",
       "Type                                                   Unprovoked  5202   \n",
       "Country                                                       USA  2573   \n",
       "State                                                     Florida  1192   \n",
       "Location                         New Smyrna Beach, Volusia County   191   \n",
       "Activity                                                  Surfing  1140   \n",
       "Name                                                         male   679   \n",
       "Sex                                                             M  5653   \n",
       "Age                                                          16.0  92.0   \n",
       "Injury                                                      FATAL   863   \n",
       "Fatal Y/N                                                       N  4914   \n",
       "Time                                                    Afternoon   215   \n",
       "Species                                               White shark   194   \n",
       "Source                            K. McMurray, TrackingSharks.com   131   \n",
       "pdf                               1935.06.05.R-SolomonIslands.pdf     2   \n",
       "href formula    http://sharkattackfile.net/spreadsheets/pdf_di...     2   \n",
       "href            http://sharkattackfile.net/spreadsheets/pdf_di...     4   \n",
       "Case Number                                            2013.10.05     2   \n",
       "Case Number.1                                          2021.07.04     2   \n",
       "original order                                                NaN   NaN   \n",
       "Unnamed: 21                                          stopped here     1   \n",
       "Unnamed: 22                                                Teramo     1   \n",
       "\n",
       "                       mean          std  min     25%     50%     75%     max  \n",
       "Date                    NaN          NaN  NaN     NaN     NaN     NaN     NaN  \n",
       "Year            1935.710231   271.100925  0.0  1948.0  1986.0  2010.0  2026.0  \n",
       "Type                    NaN          NaN  NaN     NaN     NaN     NaN     NaN  \n",
       "Country                 NaN          NaN  NaN     NaN     NaN     NaN     NaN  \n",
       "State                   NaN          NaN  NaN     NaN     NaN     NaN     NaN  \n",
       "Location                NaN          NaN  NaN     NaN     NaN     NaN     NaN  \n",
       "Activity                NaN          NaN  NaN     NaN     NaN     NaN     NaN  \n",
       "Name                    NaN          NaN  NaN     NaN     NaN     NaN     NaN  \n",
       "Sex                     NaN          NaN  NaN     NaN     NaN     NaN     NaN  \n",
       "Age                     NaN          NaN  NaN     NaN     NaN     NaN     NaN  \n",
       "Injury                  NaN          NaN  NaN     NaN     NaN     NaN     NaN  \n",
       "Fatal Y/N               NaN          NaN  NaN     NaN     NaN     NaN     NaN  \n",
       "Time                    NaN          NaN  NaN     NaN     NaN     NaN     NaN  \n",
       "Species                 NaN          NaN  NaN     NaN     NaN     NaN     NaN  \n",
       "Source                  NaN          NaN  NaN     NaN     NaN     NaN     NaN  \n",
       "pdf                     NaN          NaN  NaN     NaN     NaN     NaN     NaN  \n",
       "href formula            NaN          NaN  NaN     NaN     NaN     NaN     NaN  \n",
       "href                    NaN          NaN  NaN     NaN     NaN     NaN     NaN  \n",
       "Case Number             NaN          NaN  NaN     NaN     NaN     NaN     NaN  \n",
       "Case Number.1           NaN          NaN  NaN     NaN     NaN     NaN     NaN  \n",
       "original order  3401.152081  1963.076319  2.0  1701.5  3401.0  5100.5  6802.0  \n",
       "Unnamed: 21             NaN          NaN  NaN     NaN     NaN     NaN     NaN  \n",
       "Unnamed: 22             NaN          NaN  NaN     NaN     NaN     NaN     NaN  "
      ]
     },
     "execution_count": 4,
     "metadata": {},
     "output_type": "execute_result"
    }
   ],
   "source": [
    "df.describe(include=\"all\").T"
   ]
  },
  {
   "cell_type": "code",
   "execution_count": 5,
   "id": "2ec4172b",
   "metadata": {},
   "outputs": [
    {
     "data": {
      "application/vnd.microsoft.datawrangler.viewer.v0+json": {
       "columns": [
        {
         "name": "index",
         "rawType": "int64",
         "type": "integer"
        },
        {
         "name": "Date",
         "rawType": "object",
         "type": "string"
        },
        {
         "name": "Year",
         "rawType": "float64",
         "type": "float"
        },
        {
         "name": "Type",
         "rawType": "object",
         "type": "string"
        },
        {
         "name": "Country",
         "rawType": "object",
         "type": "string"
        },
        {
         "name": "State",
         "rawType": "object",
         "type": "unknown"
        },
        {
         "name": "Location",
         "rawType": "object",
         "type": "string"
        },
        {
         "name": "Activity",
         "rawType": "object",
         "type": "string"
        },
        {
         "name": "Name",
         "rawType": "object",
         "type": "string"
        },
        {
         "name": "Sex",
         "rawType": "object",
         "type": "string"
        },
        {
         "name": "Age",
         "rawType": "object",
         "type": "string"
        },
        {
         "name": "Injury",
         "rawType": "object",
         "type": "string"
        },
        {
         "name": "Fatal Y/N",
         "rawType": "object",
         "type": "string"
        },
        {
         "name": "Time",
         "rawType": "object",
         "type": "string"
        },
        {
         "name": "Species ",
         "rawType": "object",
         "type": "string"
        },
        {
         "name": "Source",
         "rawType": "object",
         "type": "string"
        },
        {
         "name": "pdf",
         "rawType": "object",
         "type": "unknown"
        },
        {
         "name": "href formula",
         "rawType": "object",
         "type": "unknown"
        },
        {
         "name": "href",
         "rawType": "object",
         "type": "unknown"
        },
        {
         "name": "Case Number",
         "rawType": "object",
         "type": "unknown"
        },
        {
         "name": "Case Number.1",
         "rawType": "object",
         "type": "unknown"
        },
        {
         "name": "original order",
         "rawType": "float64",
         "type": "float"
        },
        {
         "name": "Unnamed: 21",
         "rawType": "object",
         "type": "unknown"
        },
        {
         "name": "Unnamed: 22",
         "rawType": "object",
         "type": "unknown"
        }
       ],
       "ref": "3fd55c45-d951-4981-9034-403ba120ded1",
       "rows": [
        [
         "0",
         "11th October",
         "2025.0",
         "Unprovoked",
         "Australia",
         "Queensland",
         "Cook Esplanade Thursday Island",
         "Fishing/swimming",
         "Samuel Nai",
         "M",
         "14",
         "Serious abdonminal injuries",
         "N",
         "1823 hrs",
         "Tiger or Bull shark",
         "Kevin McMurray Trackingsharks.com",
         null,
         null,
         null,
         null,
         null,
         null,
         null,
         null
        ],
        [
         "1",
         "7th October",
         "2025.0",
         "Unprovoked",
         "Australia",
         "South Australia",
         "Kangaroo Island",
         "Surfing",
         "Lee Berryman",
         "M",
         "50+",
         "Lacerations to calf ",
         "N",
         "1330hrs",
         "Bronze whaler?",
         "Kevin McMurray Trackingsharks.com",
         null,
         null,
         null,
         null,
         null,
         null,
         null,
         null
        ],
        [
         "2",
         "29th September",
         "2025.0",
         "Unprovoked",
         "USA",
         "Off California",
         "Catalina Island",
         "Swimming",
         "Christopher Murray",
         "M",
         "54",
         "Leg and foot injury",
         "N",
         "0100hrs",
         "unknown 1.2m shark",
         "Todd Smith: Kevin McMurray Trackingsharks.com",
         null,
         null,
         null,
         null,
         null,
         null,
         null,
         null
        ],
        [
         "3",
         "27th September",
         "2025.0",
         "Provoked",
         "Costa Rica",
         null,
         "Cocos Islands",
         "Diving-Tagging sharks",
         "Dr. Mauricio Hoyos",
         "M",
         "48",
         "Head face and arms",
         "N",
         "Not stated",
         "Tiger shark 4m",
         "Todd Smith: Kevin McMurray Trackingsharks.com",
         null,
         null,
         null,
         null,
         null,
         null,
         null,
         null
        ],
        [
         "4",
         "6th September",
         "2025.0",
         "Unprovoked",
         "Australia",
         "NSW",
         "Long Reef Sydney",
         "Surfing",
         "Mercury Psillaskis",
         "M",
         "57",
         "Both legs and arm severed",
         "Y",
         "0930hrs",
         "Great White Shark",
         "Todd Smith: Andy Currie: Simon De Marchi: Kevin McMurray Trackingsharks.com:",
         null,
         null,
         null,
         null,
         null,
         null,
         null,
         null
        ]
       ],
       "shape": {
        "columns": 23,
        "rows": 5
       }
      },
      "text/html": [
       "<div>\n",
       "<style scoped>\n",
       "    .dataframe tbody tr th:only-of-type {\n",
       "        vertical-align: middle;\n",
       "    }\n",
       "\n",
       "    .dataframe tbody tr th {\n",
       "        vertical-align: top;\n",
       "    }\n",
       "\n",
       "    .dataframe thead th {\n",
       "        text-align: right;\n",
       "    }\n",
       "</style>\n",
       "<table border=\"1\" class=\"dataframe\">\n",
       "  <thead>\n",
       "    <tr style=\"text-align: right;\">\n",
       "      <th></th>\n",
       "      <th>Date</th>\n",
       "      <th>Year</th>\n",
       "      <th>Type</th>\n",
       "      <th>Country</th>\n",
       "      <th>State</th>\n",
       "      <th>Location</th>\n",
       "      <th>Activity</th>\n",
       "      <th>Name</th>\n",
       "      <th>Sex</th>\n",
       "      <th>Age</th>\n",
       "      <th>...</th>\n",
       "      <th>Species</th>\n",
       "      <th>Source</th>\n",
       "      <th>pdf</th>\n",
       "      <th>href formula</th>\n",
       "      <th>href</th>\n",
       "      <th>Case Number</th>\n",
       "      <th>Case Number.1</th>\n",
       "      <th>original order</th>\n",
       "      <th>Unnamed: 21</th>\n",
       "      <th>Unnamed: 22</th>\n",
       "    </tr>\n",
       "  </thead>\n",
       "  <tbody>\n",
       "    <tr>\n",
       "      <th>0</th>\n",
       "      <td>11th October</td>\n",
       "      <td>2025.0</td>\n",
       "      <td>Unprovoked</td>\n",
       "      <td>Australia</td>\n",
       "      <td>Queensland</td>\n",
       "      <td>Cook Esplanade Thursday Island</td>\n",
       "      <td>Fishing/swimming</td>\n",
       "      <td>Samuel Nai</td>\n",
       "      <td>M</td>\n",
       "      <td>14</td>\n",
       "      <td>...</td>\n",
       "      <td>Tiger or Bull shark</td>\n",
       "      <td>Kevin McMurray Trackingsharks.com</td>\n",
       "      <td>NaN</td>\n",
       "      <td>NaN</td>\n",
       "      <td>NaN</td>\n",
       "      <td>NaN</td>\n",
       "      <td>NaN</td>\n",
       "      <td>NaN</td>\n",
       "      <td>NaN</td>\n",
       "      <td>NaN</td>\n",
       "    </tr>\n",
       "    <tr>\n",
       "      <th>1</th>\n",
       "      <td>7th October</td>\n",
       "      <td>2025.0</td>\n",
       "      <td>Unprovoked</td>\n",
       "      <td>Australia</td>\n",
       "      <td>South Australia</td>\n",
       "      <td>Kangaroo Island</td>\n",
       "      <td>Surfing</td>\n",
       "      <td>Lee Berryman</td>\n",
       "      <td>M</td>\n",
       "      <td>50+</td>\n",
       "      <td>...</td>\n",
       "      <td>Bronze whaler?</td>\n",
       "      <td>Kevin McMurray Trackingsharks.com</td>\n",
       "      <td>NaN</td>\n",
       "      <td>NaN</td>\n",
       "      <td>NaN</td>\n",
       "      <td>NaN</td>\n",
       "      <td>NaN</td>\n",
       "      <td>NaN</td>\n",
       "      <td>NaN</td>\n",
       "      <td>NaN</td>\n",
       "    </tr>\n",
       "    <tr>\n",
       "      <th>2</th>\n",
       "      <td>29th September</td>\n",
       "      <td>2025.0</td>\n",
       "      <td>Unprovoked</td>\n",
       "      <td>USA</td>\n",
       "      <td>Off California</td>\n",
       "      <td>Catalina Island</td>\n",
       "      <td>Swimming</td>\n",
       "      <td>Christopher Murray</td>\n",
       "      <td>M</td>\n",
       "      <td>54</td>\n",
       "      <td>...</td>\n",
       "      <td>unknown 1.2m shark</td>\n",
       "      <td>Todd Smith: Kevin McMurray Trackingsharks.com</td>\n",
       "      <td>NaN</td>\n",
       "      <td>NaN</td>\n",
       "      <td>NaN</td>\n",
       "      <td>NaN</td>\n",
       "      <td>NaN</td>\n",
       "      <td>NaN</td>\n",
       "      <td>NaN</td>\n",
       "      <td>NaN</td>\n",
       "    </tr>\n",
       "    <tr>\n",
       "      <th>3</th>\n",
       "      <td>27th September</td>\n",
       "      <td>2025.0</td>\n",
       "      <td>Provoked</td>\n",
       "      <td>Costa Rica</td>\n",
       "      <td>NaN</td>\n",
       "      <td>Cocos Islands</td>\n",
       "      <td>Diving-Tagging sharks</td>\n",
       "      <td>Dr. Mauricio Hoyos</td>\n",
       "      <td>M</td>\n",
       "      <td>48</td>\n",
       "      <td>...</td>\n",
       "      <td>Tiger shark 4m</td>\n",
       "      <td>Todd Smith: Kevin McMurray Trackingsharks.com</td>\n",
       "      <td>NaN</td>\n",
       "      <td>NaN</td>\n",
       "      <td>NaN</td>\n",
       "      <td>NaN</td>\n",
       "      <td>NaN</td>\n",
       "      <td>NaN</td>\n",
       "      <td>NaN</td>\n",
       "      <td>NaN</td>\n",
       "    </tr>\n",
       "    <tr>\n",
       "      <th>4</th>\n",
       "      <td>6th September</td>\n",
       "      <td>2025.0</td>\n",
       "      <td>Unprovoked</td>\n",
       "      <td>Australia</td>\n",
       "      <td>NSW</td>\n",
       "      <td>Long Reef Sydney</td>\n",
       "      <td>Surfing</td>\n",
       "      <td>Mercury Psillaskis</td>\n",
       "      <td>M</td>\n",
       "      <td>57</td>\n",
       "      <td>...</td>\n",
       "      <td>Great White Shark</td>\n",
       "      <td>Todd Smith: Andy Currie: Simon De Marchi: Kevi...</td>\n",
       "      <td>NaN</td>\n",
       "      <td>NaN</td>\n",
       "      <td>NaN</td>\n",
       "      <td>NaN</td>\n",
       "      <td>NaN</td>\n",
       "      <td>NaN</td>\n",
       "      <td>NaN</td>\n",
       "      <td>NaN</td>\n",
       "    </tr>\n",
       "  </tbody>\n",
       "</table>\n",
       "<p>5 rows × 23 columns</p>\n",
       "</div>"
      ],
      "text/plain": [
       "             Date    Year        Type     Country            State  \\\n",
       "0    11th October  2025.0  Unprovoked   Australia       Queensland   \n",
       "1     7th October  2025.0  Unprovoked   Australia  South Australia   \n",
       "2  29th September  2025.0  Unprovoked         USA   Off California   \n",
       "3  27th September  2025.0    Provoked  Costa Rica              NaN   \n",
       "4   6th September  2025.0  Unprovoked   Australia              NSW   \n",
       "\n",
       "                         Location               Activity                Name  \\\n",
       "0  Cook Esplanade Thursday Island       Fishing/swimming          Samuel Nai   \n",
       "1                 Kangaroo Island                Surfing        Lee Berryman   \n",
       "2                 Catalina Island               Swimming  Christopher Murray   \n",
       "3                   Cocos Islands  Diving-Tagging sharks  Dr. Mauricio Hoyos   \n",
       "4                Long Reef Sydney                Surfing  Mercury Psillaskis   \n",
       "\n",
       "  Sex  Age  ...             Species   \\\n",
       "0   M   14  ...  Tiger or Bull shark   \n",
       "1   M  50+  ...       Bronze whaler?   \n",
       "2   M   54  ...   unknown 1.2m shark   \n",
       "3   M   48  ...       Tiger shark 4m   \n",
       "4   M   57  ...    Great White Shark   \n",
       "\n",
       "                                              Source  pdf href formula href  \\\n",
       "0                  Kevin McMurray Trackingsharks.com  NaN          NaN  NaN   \n",
       "1                  Kevin McMurray Trackingsharks.com  NaN          NaN  NaN   \n",
       "2      Todd Smith: Kevin McMurray Trackingsharks.com  NaN          NaN  NaN   \n",
       "3      Todd Smith: Kevin McMurray Trackingsharks.com  NaN          NaN  NaN   \n",
       "4  Todd Smith: Andy Currie: Simon De Marchi: Kevi...  NaN          NaN  NaN   \n",
       "\n",
       "  Case Number Case Number.1 original order Unnamed: 21 Unnamed: 22  \n",
       "0         NaN           NaN            NaN         NaN         NaN  \n",
       "1         NaN           NaN            NaN         NaN         NaN  \n",
       "2         NaN           NaN            NaN         NaN         NaN  \n",
       "3         NaN           NaN            NaN         NaN         NaN  \n",
       "4         NaN           NaN            NaN         NaN         NaN  \n",
       "\n",
       "[5 rows x 23 columns]"
      ]
     },
     "execution_count": 5,
     "metadata": {},
     "output_type": "execute_result"
    }
   ],
   "source": [
    "df.head()\n"
   ]
  },
  {
   "cell_type": "code",
   "execution_count": 6,
   "id": "d2e5638f",
   "metadata": {},
   "outputs": [
    {
     "data": {
      "text/plain": [
       "['Date',\n",
       " 'Year',\n",
       " 'Type',\n",
       " 'Country',\n",
       " 'State',\n",
       " 'Location',\n",
       " 'Activity',\n",
       " 'Name',\n",
       " 'Sex',\n",
       " 'Age',\n",
       " 'Injury',\n",
       " 'Fatal Y/N',\n",
       " 'Time',\n",
       " 'Species ',\n",
       " 'Source',\n",
       " 'pdf',\n",
       " 'href formula',\n",
       " 'href',\n",
       " 'Case Number',\n",
       " 'Case Number.1',\n",
       " 'original order',\n",
       " 'Unnamed: 21',\n",
       " 'Unnamed: 22']"
      ]
     },
     "execution_count": 6,
     "metadata": {},
     "output_type": "execute_result"
    }
   ],
   "source": [
    "df.columns.tolist()"
   ]
  },
  {
   "cell_type": "code",
   "execution_count": 7,
   "id": "91d5a215",
   "metadata": {},
   "outputs": [],
   "source": [
    "df = df.dropna(how='all')"
   ]
  },
  {
   "cell_type": "code",
   "execution_count": 8,
   "id": "998f4a09",
   "metadata": {},
   "outputs": [],
   "source": [
    "df = df.drop_duplicates()"
   ]
  },
  {
   "cell_type": "code",
   "execution_count": 9,
   "id": "bdb2eea9",
   "metadata": {},
   "outputs": [],
   "source": [
    "df = df.drop(columns=['Unnamed: 22', 'Unnamed: 23'], errors='ignore')"
   ]
  },
  {
   "cell_type": "code",
   "execution_count": 10,
   "id": "149ed633",
   "metadata": {},
   "outputs": [],
   "source": [
    "df.columns = df.columns.str.strip().str.lower().str.replace(\" \", \"_\")"
   ]
  },
  {
   "cell_type": "code",
   "execution_count": 11,
   "id": "6cbf7067",
   "metadata": {},
   "outputs": [],
   "source": [
    "cols = [\n",
    "    'fatal_y/n',  # Resultado del ataque\n",
    "    'species',    # Tipo de tiburón\n",
    "    'injury',     # Tipo o descripción de la herida\n",
    "    'sex',        # Sexo de la víctima\n",
    "    'year',       # Año del ataque\n",
    "    'date',       # Fecha exacta (si está)\n",
    "    'age',        # Edad\n",
    "    'country',    # País\n",
    "    'location'    # Lugar dentro del país\n",
    "]\n",
    "\n"
   ]
  },
  {
   "cell_type": "code",
   "execution_count": 12,
   "id": "0cbf9efa",
   "metadata": {},
   "outputs": [
    {
     "data": {
      "application/vnd.microsoft.datawrangler.viewer.v0+json": {
       "columns": [
        {
         "name": "index",
         "rawType": "int64",
         "type": "integer"
        },
        {
         "name": "fatal_y/n",
         "rawType": "object",
         "type": "string"
        },
        {
         "name": "species",
         "rawType": "object",
         "type": "string"
        },
        {
         "name": "injury",
         "rawType": "object",
         "type": "string"
        },
        {
         "name": "sex",
         "rawType": "object",
         "type": "string"
        },
        {
         "name": "year",
         "rawType": "float64",
         "type": "float"
        },
        {
         "name": "date",
         "rawType": "object",
         "type": "string"
        },
        {
         "name": "age",
         "rawType": "object",
         "type": "string"
        },
        {
         "name": "country",
         "rawType": "object",
         "type": "string"
        },
        {
         "name": "location",
         "rawType": "object",
         "type": "string"
        }
       ],
       "ref": "644826cc-94d7-4b9d-86cb-84f6134911d8",
       "rows": [
        [
         "0",
         "N",
         "Tiger or Bull shark",
         "Serious abdonminal injuries",
         "M",
         "2025.0",
         "11th October",
         "14",
         "Australia",
         "Cook Esplanade Thursday Island"
        ],
        [
         "1",
         "N",
         "Bronze whaler?",
         "Lacerations to calf ",
         "M",
         "2025.0",
         "7th October",
         "50+",
         "Australia",
         "Kangaroo Island"
        ],
        [
         "2",
         "N",
         "unknown 1.2m shark",
         "Leg and foot injury",
         "M",
         "2025.0",
         "29th September",
         "54",
         "USA",
         "Catalina Island"
        ],
        [
         "3",
         "N",
         "Tiger shark 4m",
         "Head face and arms",
         "M",
         "2025.0",
         "27th September",
         "48",
         "Costa Rica",
         "Cocos Islands"
        ],
        [
         "4",
         "Y",
         "Great White Shark",
         "Both legs and arm severed",
         "M",
         "2025.0",
         "6th September",
         "57",
         "Australia",
         "Long Reef Sydney"
        ]
       ],
       "shape": {
        "columns": 9,
        "rows": 5
       }
      },
      "text/html": [
       "<div>\n",
       "<style scoped>\n",
       "    .dataframe tbody tr th:only-of-type {\n",
       "        vertical-align: middle;\n",
       "    }\n",
       "\n",
       "    .dataframe tbody tr th {\n",
       "        vertical-align: top;\n",
       "    }\n",
       "\n",
       "    .dataframe thead th {\n",
       "        text-align: right;\n",
       "    }\n",
       "</style>\n",
       "<table border=\"1\" class=\"dataframe\">\n",
       "  <thead>\n",
       "    <tr style=\"text-align: right;\">\n",
       "      <th></th>\n",
       "      <th>fatal_y/n</th>\n",
       "      <th>species</th>\n",
       "      <th>injury</th>\n",
       "      <th>sex</th>\n",
       "      <th>year</th>\n",
       "      <th>date</th>\n",
       "      <th>age</th>\n",
       "      <th>country</th>\n",
       "      <th>location</th>\n",
       "    </tr>\n",
       "  </thead>\n",
       "  <tbody>\n",
       "    <tr>\n",
       "      <th>0</th>\n",
       "      <td>N</td>\n",
       "      <td>Tiger or Bull shark</td>\n",
       "      <td>Serious abdonminal injuries</td>\n",
       "      <td>M</td>\n",
       "      <td>2025.0</td>\n",
       "      <td>11th October</td>\n",
       "      <td>14</td>\n",
       "      <td>Australia</td>\n",
       "      <td>Cook Esplanade Thursday Island</td>\n",
       "    </tr>\n",
       "    <tr>\n",
       "      <th>1</th>\n",
       "      <td>N</td>\n",
       "      <td>Bronze whaler?</td>\n",
       "      <td>Lacerations to calf</td>\n",
       "      <td>M</td>\n",
       "      <td>2025.0</td>\n",
       "      <td>7th October</td>\n",
       "      <td>50+</td>\n",
       "      <td>Australia</td>\n",
       "      <td>Kangaroo Island</td>\n",
       "    </tr>\n",
       "    <tr>\n",
       "      <th>2</th>\n",
       "      <td>N</td>\n",
       "      <td>unknown 1.2m shark</td>\n",
       "      <td>Leg and foot injury</td>\n",
       "      <td>M</td>\n",
       "      <td>2025.0</td>\n",
       "      <td>29th September</td>\n",
       "      <td>54</td>\n",
       "      <td>USA</td>\n",
       "      <td>Catalina Island</td>\n",
       "    </tr>\n",
       "    <tr>\n",
       "      <th>3</th>\n",
       "      <td>N</td>\n",
       "      <td>Tiger shark 4m</td>\n",
       "      <td>Head face and arms</td>\n",
       "      <td>M</td>\n",
       "      <td>2025.0</td>\n",
       "      <td>27th September</td>\n",
       "      <td>48</td>\n",
       "      <td>Costa Rica</td>\n",
       "      <td>Cocos Islands</td>\n",
       "    </tr>\n",
       "    <tr>\n",
       "      <th>4</th>\n",
       "      <td>Y</td>\n",
       "      <td>Great White Shark</td>\n",
       "      <td>Both legs and arm severed</td>\n",
       "      <td>M</td>\n",
       "      <td>2025.0</td>\n",
       "      <td>6th September</td>\n",
       "      <td>57</td>\n",
       "      <td>Australia</td>\n",
       "      <td>Long Reef Sydney</td>\n",
       "    </tr>\n",
       "  </tbody>\n",
       "</table>\n",
       "</div>"
      ],
      "text/plain": [
       "  fatal_y/n              species                       injury sex    year  \\\n",
       "0         N  Tiger or Bull shark  Serious abdonminal injuries   M  2025.0   \n",
       "1         N       Bronze whaler?         Lacerations to calf    M  2025.0   \n",
       "2         N   unknown 1.2m shark          Leg and foot injury   M  2025.0   \n",
       "3         N       Tiger shark 4m           Head face and arms   M  2025.0   \n",
       "4         Y    Great White Shark    Both legs and arm severed   M  2025.0   \n",
       "\n",
       "             date  age     country                        location  \n",
       "0    11th October   14   Australia  Cook Esplanade Thursday Island  \n",
       "1     7th October  50+   Australia                 Kangaroo Island  \n",
       "2  29th September   54         USA                 Catalina Island  \n",
       "3  27th September   48  Costa Rica                   Cocos Islands  \n",
       "4   6th September   57   Australia                Long Reef Sydney  "
      ]
     },
     "execution_count": 12,
     "metadata": {},
     "output_type": "execute_result"
    }
   ],
   "source": [
    "df = df[cols].copy()\n",
    "df.head()"
   ]
  },
  {
   "cell_type": "code",
   "execution_count": 13,
   "id": "2ee08d8f",
   "metadata": {},
   "outputs": [],
   "source": [
    "df.columns = ['fatal', 'species', 'injury', 'sex', 'year', 'date', 'age', 'country', 'location']\n"
   ]
  },
  {
   "cell_type": "code",
   "execution_count": 14,
   "id": "668532af",
   "metadata": {},
   "outputs": [
    {
     "name": "stdout",
     "output_type": "stream",
     "text": [
      "<class 'pandas.core.frame.DataFrame'>\n",
      "RangeIndex: 7049 entries, 0 to 7048\n",
      "Data columns (total 9 columns):\n",
      " #   Column    Non-Null Count  Dtype  \n",
      "---  ------    --------------  -----  \n",
      " 0   fatal     6488 non-null   object \n",
      " 1   species   3918 non-null   object \n",
      " 2   injury    7014 non-null   object \n",
      " 3   sex       6470 non-null   object \n",
      " 4   year      7047 non-null   float64\n",
      " 5   date      7049 non-null   object \n",
      " 6   age       4055 non-null   object \n",
      " 7   country   6999 non-null   object \n",
      " 8   location  6482 non-null   object \n",
      "dtypes: float64(1), object(8)\n",
      "memory usage: 495.8+ KB\n"
     ]
    },
    {
     "data": {
      "application/vnd.microsoft.datawrangler.viewer.v0+json": {
       "columns": [
        {
         "name": "index",
         "rawType": "object",
         "type": "string"
        },
        {
         "name": "0",
         "rawType": "float64",
         "type": "float"
        }
       ],
       "ref": "4e2732d1-b2e7-4686-ab00-b206705c77c1",
       "rows": [
        [
         "fatal",
         "8.0"
        ],
        [
         "species",
         "44.4"
        ],
        [
         "injury",
         "0.5"
        ],
        [
         "sex",
         "8.2"
        ],
        [
         "year",
         "0.0"
        ],
        [
         "date",
         "0.0"
        ],
        [
         "age",
         "42.5"
        ],
        [
         "country",
         "0.7"
        ],
        [
         "location",
         "8.0"
        ]
       ],
       "shape": {
        "columns": 1,
        "rows": 9
       }
      },
      "text/plain": [
       "fatal        8.0\n",
       "species     44.4\n",
       "injury       0.5\n",
       "sex          8.2\n",
       "year         0.0\n",
       "date         0.0\n",
       "age         42.5\n",
       "country      0.7\n",
       "location     8.0\n",
       "dtype: float64"
      ]
     },
     "execution_count": 14,
     "metadata": {},
     "output_type": "execute_result"
    }
   ],
   "source": [
    "df.info()\n",
    "(df.isna().sum() / len(df) * 100).round(1)\n"
   ]
  },
  {
   "cell_type": "code",
   "execution_count": 15,
   "id": "9c6c5a90",
   "metadata": {},
   "outputs": [
    {
     "data": {
      "text/plain": [
       "(7049, 9)"
      ]
     },
     "execution_count": 15,
     "metadata": {},
     "output_type": "execute_result"
    }
   ],
   "source": [
    "df.shape"
   ]
  },
  {
   "cell_type": "code",
   "execution_count": 16,
   "id": "f5c20c82",
   "metadata": {},
   "outputs": [],
   "source": [
    "df['fatal'] = (df['fatal'].astype(str).str.strip().str.upper()\n",
    "               .replace({'Y':'Yes','N':'No','UNKNOWN':None,'F':'No','M':'No','':None}))\n",
    "df['fatal_bool'] = df['fatal'].map({'Yes': True, 'No': False})"
   ]
  },
  {
   "cell_type": "code",
   "execution_count": 17,
   "id": "4105aa6f",
   "metadata": {},
   "outputs": [],
   "source": [
    "df['sex'] = (df['sex'].astype(str).str.strip().str.upper()\n",
    "             .replace({'M':'Male','F':'Female','UNKNOWN':None,'NAN':None,'NONE':None,'':None}))"
   ]
  },
  {
   "cell_type": "code",
   "execution_count": 18,
   "id": "7ce04596",
   "metadata": {},
   "outputs": [],
   "source": [
    "age_num = df['age'].astype(str).str.extract(r'(\\d+)')[0]\n",
    "df['age'] = age_num.where(age_num.isna(), age_num.astype(float))\n",
    "df.loc[(df['age'] < 1) | (df['age'] > 100), 'age'] = None"
   ]
  },
  {
   "cell_type": "code",
   "execution_count": 19,
   "id": "65ed7388",
   "metadata": {},
   "outputs": [],
   "source": [
    "df['year'] = df['year'].astype(str).str.extract(r'(\\d{4})')[0]\n",
    "df['year'] = df['year'].astype('Int64')\n",
    "df.loc[(df['year'] < 1800) | (df['year'] > 2025), 'year'] = None"
   ]
  },
  {
   "cell_type": "code",
   "execution_count": 20,
   "id": "c516c571",
   "metadata": {},
   "outputs": [
    {
     "name": "stderr",
     "output_type": "stream",
     "text": [
      "C:\\Users\\CeX-Laguna\\AppData\\Local\\Temp\\ipykernel_32460\\2370506791.py:1: UserWarning: Could not infer format, so each element will be parsed individually, falling back to `dateutil`. To ensure parsing is consistent and as-expected, please specify a format.\n",
      "  df['date'] = pd.to_datetime(df['date'], errors='coerce')\n"
     ]
    }
   ],
   "source": [
    "df['date'] = pd.to_datetime(df['date'], errors='coerce')"
   ]
  },
  {
   "cell_type": "code",
   "execution_count": 21,
   "id": "8380f4aa",
   "metadata": {},
   "outputs": [],
   "source": [
    "s = df['species'].astype(str).str.strip().str.lower().str.replace(r'\\s+', ' ', regex=True)\n",
    "\n",
    "df['species_clean'] = None\n",
    "df.loc[s.str.contains('white|carcharodon|tiburón blanco|tiburon blanco', case=False, na=False), 'species_clean'] = 'tiburon blanco'\n",
    "df.loc[s.str.contains('tiger|galeocerdo|tiburón tigre|tiburon tigre',   case=False, na=False), 'species_clean'] = 'tiburon tigre'\n",
    "df.loc[s.str.contains('bull|leucas|tiburón toro|tiburon toro',          case=False, na=False), 'species_clean'] = 'tiburon toro'\n",
    "df.loc[s.str.contains('blue|prionace|tiburón azul|tiburon azul',        case=False, na=False), 'species_clean'] = 'tiburon azul'"
   ]
  },
  {
   "cell_type": "code",
   "execution_count": 22,
   "id": "77a21289",
   "metadata": {},
   "outputs": [],
   "source": [
    "inj = df['injury'].astype(str).str.strip().str.lower()\n",
    "df['injury_type'] = None\n",
    "df.loc[    inj.str.contains('fatal',      na=False), 'injury_type'] = 'fatal'\n",
    "df.loc[    inj.str.contains('no injury|uninjured', na=False), 'injury_type'] = 'sin herida'\n",
    "df.loc[    inj.str.contains('minor|superficial',   na=False), 'injury_type'] = 'leve'\n",
    "df.loc[    inj.str.contains('serious|severe|amput',na=False), 'injury_type'] = 'grave'\n",
    "df['injury_type'] = df['injury_type'].fillna('otros')"
   ]
  },
  {
   "cell_type": "code",
   "execution_count": 23,
   "id": "c9714ec8",
   "metadata": {},
   "outputs": [],
   "source": [
    "df['country']  = df['country'].astype(str).str.strip().str.title().replace({'Usa':'USA','United States':'USA'})\n",
    "df['location'] = df['location'].astype(str).str.strip().str.title()"
   ]
  },
  {
   "cell_type": "code",
   "execution_count": 24,
   "id": "013214d5",
   "metadata": {},
   "outputs": [
    {
     "name": "stdout",
     "output_type": "stream",
     "text": [
      "Shape: (7049, 12)\n",
      "\n",
      "Nulls (%):\n",
      "species_clean    80.3\n",
      "species          44.4\n",
      "age              43.1\n",
      "date             12.8\n",
      "fatal_bool        9.0\n",
      "sex               8.2\n",
      "year              2.6\n",
      "fatal             1.0\n",
      "injury            0.5\n",
      "country           0.0\n",
      "location          0.0\n",
      "injury_type       0.0\n",
      "dtype: float64\n",
      "\n",
      "Species counts:\n",
      "species_clean\n",
      "None              5659\n",
      "tiburon blanco     748\n",
      "tiburon tigre      334\n",
      "tiburon toro       245\n",
      "tiburon azul        63\n",
      "Name: count, dtype: int64\n"
     ]
    }
   ],
   "source": [
    "print(\"Shape:\", df.shape)\n",
    "print(\"\\nNulls (%):\")\n",
    "print((df.isna().sum()/len(df)*100).round(1).sort_values(ascending=False))\n",
    "print(\"\\nSpecies counts:\")\n",
    "print(df['species_clean'].value_counts(dropna=False))"
   ]
  },
  {
   "cell_type": "code",
   "execution_count": 25,
   "id": "418cd872",
   "metadata": {},
   "outputs": [
    {
     "name": "stdout",
     "output_type": "stream",
     "text": [
      "Requirement already satisfied: openpyxl in c:\\users\\cex-laguna\\appdata\\local\\programs\\python\\python313\\lib\\site-packages (3.1.5)\n",
      "Requirement already satisfied: et-xmlfile in c:\\users\\cex-laguna\\appdata\\local\\programs\\python\\python313\\lib\\site-packages (from openpyxl) (2.0.0)\n",
      "Note: you may need to restart the kernel to use updated packages.\n"
     ]
    },
    {
     "ename": "PermissionError",
     "evalue": "[Errno 13] Permission denied: 'data/attacks_clean.xlsx'",
     "output_type": "error",
     "traceback": [
      "\u001b[31m---------------------------------------------------------------------------\u001b[39m",
      "\u001b[31mPermissionError\u001b[39m                           Traceback (most recent call last)",
      "\u001b[36mCell\u001b[39m\u001b[36m \u001b[39m\u001b[32mIn[25]\u001b[39m\u001b[32m, line 5\u001b[39m\n\u001b[32m      3\u001b[39m \u001b[38;5;28;01mimport\u001b[39;00m\u001b[38;5;250m \u001b[39m\u001b[34;01mos\u001b[39;00m\n\u001b[32m      4\u001b[39m os.makedirs(\u001b[33m\"\u001b[39m\u001b[33mdata\u001b[39m\u001b[33m\"\u001b[39m, exist_ok=\u001b[38;5;28;01mTrue\u001b[39;00m)  \u001b[38;5;66;03m# por si la carpeta no existe\u001b[39;00m\n\u001b[32m----> \u001b[39m\u001b[32m5\u001b[39m \u001b[43mdf\u001b[49m\u001b[43m.\u001b[49m\u001b[43mto_excel\u001b[49m\u001b[43m(\u001b[49m\u001b[33;43m\"\u001b[39;49m\u001b[33;43mdata/attacks_clean.xlsx\u001b[39;49m\u001b[33;43m\"\u001b[39;49m\u001b[43m,\u001b[49m\u001b[43m \u001b[49m\u001b[43mindex\u001b[49m\u001b[43m=\u001b[49m\u001b[38;5;28;43;01mFalse\u001b[39;49;00m\u001b[43m)\u001b[49m \n",
      "\u001b[36mFile \u001b[39m\u001b[32mc:\\Users\\CeX-Laguna\\AppData\\Local\\Programs\\Python\\Python313\\Lib\\site-packages\\pandas\\util\\_decorators.py:333\u001b[39m, in \u001b[36mdeprecate_nonkeyword_arguments.<locals>.decorate.<locals>.wrapper\u001b[39m\u001b[34m(*args, **kwargs)\u001b[39m\n\u001b[32m    327\u001b[39m \u001b[38;5;28;01mif\u001b[39;00m \u001b[38;5;28mlen\u001b[39m(args) > num_allow_args:\n\u001b[32m    328\u001b[39m     warnings.warn(\n\u001b[32m    329\u001b[39m         msg.format(arguments=_format_argument_list(allow_args)),\n\u001b[32m    330\u001b[39m         \u001b[38;5;167;01mFutureWarning\u001b[39;00m,\n\u001b[32m    331\u001b[39m         stacklevel=find_stack_level(),\n\u001b[32m    332\u001b[39m     )\n\u001b[32m--> \u001b[39m\u001b[32m333\u001b[39m \u001b[38;5;28;01mreturn\u001b[39;00m \u001b[43mfunc\u001b[49m\u001b[43m(\u001b[49m\u001b[43m*\u001b[49m\u001b[43margs\u001b[49m\u001b[43m,\u001b[49m\u001b[43m \u001b[49m\u001b[43m*\u001b[49m\u001b[43m*\u001b[49m\u001b[43mkwargs\u001b[49m\u001b[43m)\u001b[49m\n",
      "\u001b[36mFile \u001b[39m\u001b[32mc:\\Users\\CeX-Laguna\\AppData\\Local\\Programs\\Python\\Python313\\Lib\\site-packages\\pandas\\core\\generic.py:2436\u001b[39m, in \u001b[36mNDFrame.to_excel\u001b[39m\u001b[34m(self, excel_writer, sheet_name, na_rep, float_format, columns, header, index, index_label, startrow, startcol, engine, merge_cells, inf_rep, freeze_panes, storage_options, engine_kwargs)\u001b[39m\n\u001b[32m   2423\u001b[39m \u001b[38;5;28;01mfrom\u001b[39;00m\u001b[38;5;250m \u001b[39m\u001b[34;01mpandas\u001b[39;00m\u001b[34;01m.\u001b[39;00m\u001b[34;01mio\u001b[39;00m\u001b[34;01m.\u001b[39;00m\u001b[34;01mformats\u001b[39;00m\u001b[34;01m.\u001b[39;00m\u001b[34;01mexcel\u001b[39;00m\u001b[38;5;250m \u001b[39m\u001b[38;5;28;01mimport\u001b[39;00m ExcelFormatter\n\u001b[32m   2425\u001b[39m formatter = ExcelFormatter(\n\u001b[32m   2426\u001b[39m     df,\n\u001b[32m   2427\u001b[39m     na_rep=na_rep,\n\u001b[32m   (...)\u001b[39m\u001b[32m   2434\u001b[39m     inf_rep=inf_rep,\n\u001b[32m   2435\u001b[39m )\n\u001b[32m-> \u001b[39m\u001b[32m2436\u001b[39m \u001b[43mformatter\u001b[49m\u001b[43m.\u001b[49m\u001b[43mwrite\u001b[49m\u001b[43m(\u001b[49m\n\u001b[32m   2437\u001b[39m \u001b[43m    \u001b[49m\u001b[43mexcel_writer\u001b[49m\u001b[43m,\u001b[49m\n\u001b[32m   2438\u001b[39m \u001b[43m    \u001b[49m\u001b[43msheet_name\u001b[49m\u001b[43m=\u001b[49m\u001b[43msheet_name\u001b[49m\u001b[43m,\u001b[49m\n\u001b[32m   2439\u001b[39m \u001b[43m    \u001b[49m\u001b[43mstartrow\u001b[49m\u001b[43m=\u001b[49m\u001b[43mstartrow\u001b[49m\u001b[43m,\u001b[49m\n\u001b[32m   2440\u001b[39m \u001b[43m    \u001b[49m\u001b[43mstartcol\u001b[49m\u001b[43m=\u001b[49m\u001b[43mstartcol\u001b[49m\u001b[43m,\u001b[49m\n\u001b[32m   2441\u001b[39m \u001b[43m    \u001b[49m\u001b[43mfreeze_panes\u001b[49m\u001b[43m=\u001b[49m\u001b[43mfreeze_panes\u001b[49m\u001b[43m,\u001b[49m\n\u001b[32m   2442\u001b[39m \u001b[43m    \u001b[49m\u001b[43mengine\u001b[49m\u001b[43m=\u001b[49m\u001b[43mengine\u001b[49m\u001b[43m,\u001b[49m\n\u001b[32m   2443\u001b[39m \u001b[43m    \u001b[49m\u001b[43mstorage_options\u001b[49m\u001b[43m=\u001b[49m\u001b[43mstorage_options\u001b[49m\u001b[43m,\u001b[49m\n\u001b[32m   2444\u001b[39m \u001b[43m    \u001b[49m\u001b[43mengine_kwargs\u001b[49m\u001b[43m=\u001b[49m\u001b[43mengine_kwargs\u001b[49m\u001b[43m,\u001b[49m\n\u001b[32m   2445\u001b[39m \u001b[43m\u001b[49m\u001b[43m)\u001b[49m\n",
      "\u001b[36mFile \u001b[39m\u001b[32mc:\\Users\\CeX-Laguna\\AppData\\Local\\Programs\\Python\\Python313\\Lib\\site-packages\\pandas\\io\\formats\\excel.py:943\u001b[39m, in \u001b[36mExcelFormatter.write\u001b[39m\u001b[34m(self, writer, sheet_name, startrow, startcol, freeze_panes, engine, storage_options, engine_kwargs)\u001b[39m\n\u001b[32m    941\u001b[39m     need_save = \u001b[38;5;28;01mFalse\u001b[39;00m\n\u001b[32m    942\u001b[39m \u001b[38;5;28;01melse\u001b[39;00m:\n\u001b[32m--> \u001b[39m\u001b[32m943\u001b[39m     writer = \u001b[43mExcelWriter\u001b[49m\u001b[43m(\u001b[49m\n\u001b[32m    944\u001b[39m \u001b[43m        \u001b[49m\u001b[43mwriter\u001b[49m\u001b[43m,\u001b[49m\n\u001b[32m    945\u001b[39m \u001b[43m        \u001b[49m\u001b[43mengine\u001b[49m\u001b[43m=\u001b[49m\u001b[43mengine\u001b[49m\u001b[43m,\u001b[49m\n\u001b[32m    946\u001b[39m \u001b[43m        \u001b[49m\u001b[43mstorage_options\u001b[49m\u001b[43m=\u001b[49m\u001b[43mstorage_options\u001b[49m\u001b[43m,\u001b[49m\n\u001b[32m    947\u001b[39m \u001b[43m        \u001b[49m\u001b[43mengine_kwargs\u001b[49m\u001b[43m=\u001b[49m\u001b[43mengine_kwargs\u001b[49m\u001b[43m,\u001b[49m\n\u001b[32m    948\u001b[39m \u001b[43m    \u001b[49m\u001b[43m)\u001b[49m\n\u001b[32m    949\u001b[39m     need_save = \u001b[38;5;28;01mTrue\u001b[39;00m\n\u001b[32m    951\u001b[39m \u001b[38;5;28;01mtry\u001b[39;00m:\n",
      "\u001b[36mFile \u001b[39m\u001b[32mc:\\Users\\CeX-Laguna\\AppData\\Local\\Programs\\Python\\Python313\\Lib\\site-packages\\pandas\\io\\excel\\_openpyxl.py:61\u001b[39m, in \u001b[36mOpenpyxlWriter.__init__\u001b[39m\u001b[34m(self, path, engine, date_format, datetime_format, mode, storage_options, if_sheet_exists, engine_kwargs, **kwargs)\u001b[39m\n\u001b[32m     57\u001b[39m \u001b[38;5;28;01mfrom\u001b[39;00m\u001b[38;5;250m \u001b[39m\u001b[34;01mopenpyxl\u001b[39;00m\u001b[34;01m.\u001b[39;00m\u001b[34;01mworkbook\u001b[39;00m\u001b[38;5;250m \u001b[39m\u001b[38;5;28;01mimport\u001b[39;00m Workbook\n\u001b[32m     59\u001b[39m engine_kwargs = combine_kwargs(engine_kwargs, kwargs)\n\u001b[32m---> \u001b[39m\u001b[32m61\u001b[39m \u001b[38;5;28;43msuper\u001b[39;49m\u001b[43m(\u001b[49m\u001b[43m)\u001b[49m\u001b[43m.\u001b[49m\u001b[34;43m__init__\u001b[39;49m\u001b[43m(\u001b[49m\n\u001b[32m     62\u001b[39m \u001b[43m    \u001b[49m\u001b[43mpath\u001b[49m\u001b[43m,\u001b[49m\n\u001b[32m     63\u001b[39m \u001b[43m    \u001b[49m\u001b[43mmode\u001b[49m\u001b[43m=\u001b[49m\u001b[43mmode\u001b[49m\u001b[43m,\u001b[49m\n\u001b[32m     64\u001b[39m \u001b[43m    \u001b[49m\u001b[43mstorage_options\u001b[49m\u001b[43m=\u001b[49m\u001b[43mstorage_options\u001b[49m\u001b[43m,\u001b[49m\n\u001b[32m     65\u001b[39m \u001b[43m    \u001b[49m\u001b[43mif_sheet_exists\u001b[49m\u001b[43m=\u001b[49m\u001b[43mif_sheet_exists\u001b[49m\u001b[43m,\u001b[49m\n\u001b[32m     66\u001b[39m \u001b[43m    \u001b[49m\u001b[43mengine_kwargs\u001b[49m\u001b[43m=\u001b[49m\u001b[43mengine_kwargs\u001b[49m\u001b[43m,\u001b[49m\n\u001b[32m     67\u001b[39m \u001b[43m\u001b[49m\u001b[43m)\u001b[49m\n\u001b[32m     69\u001b[39m \u001b[38;5;66;03m# ExcelWriter replaced \"a\" by \"r+\" to allow us to first read the excel file from\u001b[39;00m\n\u001b[32m     70\u001b[39m \u001b[38;5;66;03m# the file and later write to it\u001b[39;00m\n\u001b[32m     71\u001b[39m \u001b[38;5;28;01mif\u001b[39;00m \u001b[33m\"\u001b[39m\u001b[33mr+\u001b[39m\u001b[33m\"\u001b[39m \u001b[38;5;129;01min\u001b[39;00m \u001b[38;5;28mself\u001b[39m._mode:  \u001b[38;5;66;03m# Load from existing workbook\u001b[39;00m\n",
      "\u001b[36mFile \u001b[39m\u001b[32mc:\\Users\\CeX-Laguna\\AppData\\Local\\Programs\\Python\\Python313\\Lib\\site-packages\\pandas\\io\\excel\\_base.py:1246\u001b[39m, in \u001b[36mExcelWriter.__init__\u001b[39m\u001b[34m(self, path, engine, date_format, datetime_format, mode, storage_options, if_sheet_exists, engine_kwargs)\u001b[39m\n\u001b[32m   1242\u001b[39m \u001b[38;5;28mself\u001b[39m._handles = IOHandles(\n\u001b[32m   1243\u001b[39m     cast(IO[\u001b[38;5;28mbytes\u001b[39m], path), compression={\u001b[33m\"\u001b[39m\u001b[33mcompression\u001b[39m\u001b[33m\"\u001b[39m: \u001b[38;5;28;01mNone\u001b[39;00m}\n\u001b[32m   1244\u001b[39m )\n\u001b[32m   1245\u001b[39m \u001b[38;5;28;01mif\u001b[39;00m \u001b[38;5;129;01mnot\u001b[39;00m \u001b[38;5;28misinstance\u001b[39m(path, ExcelWriter):\n\u001b[32m-> \u001b[39m\u001b[32m1246\u001b[39m     \u001b[38;5;28mself\u001b[39m._handles = \u001b[43mget_handle\u001b[49m\u001b[43m(\u001b[49m\n\u001b[32m   1247\u001b[39m \u001b[43m        \u001b[49m\u001b[43mpath\u001b[49m\u001b[43m,\u001b[49m\u001b[43m \u001b[49m\u001b[43mmode\u001b[49m\u001b[43m,\u001b[49m\u001b[43m \u001b[49m\u001b[43mstorage_options\u001b[49m\u001b[43m=\u001b[49m\u001b[43mstorage_options\u001b[49m\u001b[43m,\u001b[49m\u001b[43m \u001b[49m\u001b[43mis_text\u001b[49m\u001b[43m=\u001b[49m\u001b[38;5;28;43;01mFalse\u001b[39;49;00m\n\u001b[32m   1248\u001b[39m \u001b[43m    \u001b[49m\u001b[43m)\u001b[49m\n\u001b[32m   1249\u001b[39m \u001b[38;5;28mself\u001b[39m._cur_sheet = \u001b[38;5;28;01mNone\u001b[39;00m\n\u001b[32m   1251\u001b[39m \u001b[38;5;28;01mif\u001b[39;00m date_format \u001b[38;5;129;01mis\u001b[39;00m \u001b[38;5;28;01mNone\u001b[39;00m:\n",
      "\u001b[36mFile \u001b[39m\u001b[32mc:\\Users\\CeX-Laguna\\AppData\\Local\\Programs\\Python\\Python313\\Lib\\site-packages\\pandas\\io\\common.py:882\u001b[39m, in \u001b[36mget_handle\u001b[39m\u001b[34m(path_or_buf, mode, encoding, compression, memory_map, is_text, errors, storage_options)\u001b[39m\n\u001b[32m    873\u001b[39m         handle = \u001b[38;5;28mopen\u001b[39m(\n\u001b[32m    874\u001b[39m             handle,\n\u001b[32m    875\u001b[39m             ioargs.mode,\n\u001b[32m   (...)\u001b[39m\u001b[32m    878\u001b[39m             newline=\u001b[33m\"\u001b[39m\u001b[33m\"\u001b[39m,\n\u001b[32m    879\u001b[39m         )\n\u001b[32m    880\u001b[39m     \u001b[38;5;28;01melse\u001b[39;00m:\n\u001b[32m    881\u001b[39m         \u001b[38;5;66;03m# Binary mode\u001b[39;00m\n\u001b[32m--> \u001b[39m\u001b[32m882\u001b[39m         handle = \u001b[38;5;28;43mopen\u001b[39;49m\u001b[43m(\u001b[49m\u001b[43mhandle\u001b[49m\u001b[43m,\u001b[49m\u001b[43m \u001b[49m\u001b[43mioargs\u001b[49m\u001b[43m.\u001b[49m\u001b[43mmode\u001b[49m\u001b[43m)\u001b[49m\n\u001b[32m    883\u001b[39m     handles.append(handle)\n\u001b[32m    885\u001b[39m \u001b[38;5;66;03m# Convert BytesIO or file objects passed with an encoding\u001b[39;00m\n",
      "\u001b[31mPermissionError\u001b[39m: [Errno 13] Permission denied: 'data/attacks_clean.xlsx'"
     ]
    }
   ],
   "source": [
    "%pip install openpyxl\n",
    "\n",
    "import os\n",
    "os.makedirs(\"data\", exist_ok=True)  # por si la carpeta no existe\n",
    "df.to_excel(\"data/attacks_clean.xlsx\", index=False) "
   ]
  },
  {
   "cell_type": "code",
   "execution_count": null,
   "id": "139b839d",
   "metadata": {},
   "outputs": [
    {
     "name": "stderr",
     "output_type": "stream",
     "text": [
      "C:\\Users\\CeX-Laguna\\AppData\\Local\\Temp\\ipykernel_12244\\2832433809.py:1: FutureWarning: Downcasting behavior in `replace` is deprecated and will be removed in a future version. To retain the old behavior, explicitly call `result.infer_objects(copy=False)`. To opt-in to the future behavior, set `pd.set_option('future.no_silent_downcasting', True)`\n",
      "  df.replace(['###', 'Y X 2', 'NQ', 'Nan', ' '], pd.NA, inplace=True)\n"
     ]
    }
   ],
   "source": [
    "df.replace(['###', 'Y X 2', 'NQ', 'Nan', ' '], pd.NA, inplace=True)"
   ]
  },
  {
   "cell_type": "code",
   "execution_count": null,
   "id": "5423da03",
   "metadata": {},
   "outputs": [],
   "source": [
    "grouped = df.groupby('year')\n"
   ]
  },
  {
   "cell_type": "code",
   "execution_count": null,
   "id": "c96bde8c",
   "metadata": {},
   "outputs": [
    {
     "data": {
      "application/vnd.microsoft.datawrangler.viewer.v0+json": {
       "columns": [
        {
         "name": "year",
         "rawType": "Int64",
         "type": "integer"
        },
        {
         "name": "date",
         "rawType": "datetime64[ns]",
         "type": "datetime"
        }
       ],
       "ref": "f968af78-b5a6-4b96-897a-5ad4fa76aaec",
       "rows": [
        [
         "1800",
         "1800-01-01 00:00:00"
        ],
        [
         "1801",
         null
        ],
        [
         "1802",
         null
        ],
        [
         "1803",
         "1803-04-17 08:00:00"
        ],
        [
         "1804",
         null
        ],
        [
         "1805",
         "1805-09-01 00:00:00"
        ],
        [
         "1807",
         "1807-01-12 00:00:00"
        ],
        [
         "1808",
         "1808-02-07 00:00:00"
        ],
        [
         "1810",
         "1810-09-15 00:00:00"
        ],
        [
         "1811",
         "1811-03-01 00:00:00"
        ],
        [
         "1812",
         "1812-05-01 00:00:00"
        ],
        [
         "1815",
         "1815-10-01 00:00:00"
        ],
        [
         "1816",
         null
        ],
        [
         "1817",
         "1817-05-11 06:00:00"
        ],
        [
         "1818",
         null
        ],
        [
         "1819",
         null
        ],
        [
         "1822",
         "1822-04-15 00:00:00"
        ],
        [
         "1823",
         null
        ],
        [
         "1825",
         null
        ],
        [
         "1826",
         "1826-10-14 12:00:00"
        ],
        [
         "1827",
         "1827-04-11 16:00:00"
        ],
        [
         "1828",
         "1828-05-15 12:00:00"
        ],
        [
         "1829",
         "1829-03-22 00:00:00"
        ],
        [
         "1830",
         "1830-06-12 12:00:00"
        ],
        [
         "1831",
         "1831-08-24 00:00:00"
        ],
        [
         "1832",
         "1832-06-04 00:00:00"
        ],
        [
         "1834",
         null
        ],
        [
         "1835",
         "1835-01-06 00:00:00"
        ],
        [
         "1836",
         null
        ],
        [
         "1837",
         "1837-05-30 08:00:00"
        ],
        [
         "1839",
         "1839-07-31 12:00:00"
        ],
        [
         "1840",
         "1840-07-02 00:00:00"
        ],
        [
         "1841",
         "1841-03-27 00:00:00"
        ],
        [
         "1842",
         "1842-04-05 18:00:00"
        ],
        [
         "1844",
         "1886-04-25 08:00:00.000000512"
        ],
        [
         "1845",
         "1845-11-30 00:00:00"
        ],
        [
         "1846",
         "1846-12-08 00:00:00"
        ],
        [
         "1847",
         "1847-05-30 04:00:00"
        ],
        [
         "1848",
         "1848-07-31 12:00:00"
        ],
        [
         "1849",
         "1849-08-11 03:25:42.857142784"
        ],
        [
         "1850",
         "1850-05-27 12:00:00"
        ],
        [
         "1851",
         "1851-01-30 12:00:00"
        ],
        [
         "1852",
         "1883-08-11 06:51:25.714285568"
        ],
        [
         "1853",
         "1853-05-20 19:12:00"
        ],
        [
         "1855",
         "1855-08-09 00:00:00"
        ],
        [
         "1856",
         "1856-02-06 00:00:00"
        ],
        [
         "1857",
         "1857-05-05 00:00:00"
        ],
        [
         "1858",
         "1858-06-06 18:00:00"
        ],
        [
         "1859",
         "1859-03-16 00:00:00"
        ],
        [
         "1860",
         "1860-06-18 06:51:25.714285568"
        ]
       ],
       "shape": {
        "columns": 1,
        "rows": 215
       }
      },
      "text/plain": [
       "year\n",
       "1800   1800-01-01 00:00:00.000000000\n",
       "1801                             NaT\n",
       "1802                             NaT\n",
       "1803   1803-04-17 08:00:00.000000000\n",
       "1804                             NaT\n",
       "                    ...             \n",
       "2021   2021-06-11 00:00:00.000000000\n",
       "2022   2022-06-23 15:15:00.000000000\n",
       "2023   2023-07-10 11:31:45.882352896\n",
       "2024   2024-07-07 06:00:00.000000000\n",
       "2025   2025-03-01 03:25:42.857142784\n",
       "Name: date, Length: 215, dtype: datetime64[ns]"
      ]
     },
     "execution_count": 53,
     "metadata": {},
     "output_type": "execute_result"
    }
   ],
   "source": [
    "df.groupby(['year'])['date'].mean()"
   ]
  },
  {
   "cell_type": "code",
   "execution_count": null,
   "id": "33fcd8e4",
   "metadata": {},
   "outputs": [],
   "source": [
    "df['date'] = pd.to_datetime(df['date'], errors='coerce')\n",
    "df['year'] = pd.to_numeric(df['year'], errors='coerce').astype('Int64')"
   ]
  },
  {
   "cell_type": "code",
   "execution_count": null,
   "id": "61406297",
   "metadata": {},
   "outputs": [],
   "source": [
    "m = df['date'].dt.month\n",
    "d = df['date'].dt.day"
   ]
  },
  {
   "cell_type": "code",
   "execution_count": null,
   "id": "21326414",
   "metadata": {},
   "outputs": [],
   "source": [
    "mask = df['year'].notna() & m.notna() & d.notna()\n",
    "\n",
    "df['date_fixed'] = pd.NaT\n",
    "df.loc[mask, 'date_fixed'] = pd.to_datetime(\n",
    "    {\n",
    "        'year':  df.loc[mask, 'year'].astype(int),\n",
    "        'month': m.loc[mask].astype(int),\n",
    "        'day':   d.loc[mask].astype(int),\n",
    "    },\n",
    "    errors='coerce'\n",
    ")"
   ]
  },
  {
   "cell_type": "code",
   "execution_count": null,
   "id": "03409fbe",
   "metadata": {},
   "outputs": [],
   "source": [
    "df['date_dm'] = df['date_fixed'].dt.strftime('%d-%m')\n"
   ]
  },
  {
   "cell_type": "code",
   "execution_count": null,
   "id": "6ffe94f6",
   "metadata": {},
   "outputs": [
    {
     "name": "stdout",
     "output_type": "stream",
     "text": [
      "Filas correctas: 6122 de 7049\n"
     ]
    },
    {
     "data": {
      "application/vnd.microsoft.datawrangler.viewer.v0+json": {
       "columns": [
        {
         "name": "index",
         "rawType": "int64",
         "type": "integer"
        },
        {
         "name": "year",
         "rawType": "Int64",
         "type": "integer"
        },
        {
         "name": "date",
         "rawType": "datetime64[ns]",
         "type": "datetime"
        },
        {
         "name": "date_fixed",
         "rawType": "datetime64[ns]",
         "type": "datetime"
        }
       ],
       "ref": "6db183a4-293f-486e-9f4a-20331b617e85",
       "rows": [],
       "shape": {
        "columns": 3,
        "rows": 0
       }
      },
      "text/html": [
       "<div>\n",
       "<style scoped>\n",
       "    .dataframe tbody tr th:only-of-type {\n",
       "        vertical-align: middle;\n",
       "    }\n",
       "\n",
       "    .dataframe tbody tr th {\n",
       "        vertical-align: top;\n",
       "    }\n",
       "\n",
       "    .dataframe thead th {\n",
       "        text-align: right;\n",
       "    }\n",
       "</style>\n",
       "<table border=\"1\" class=\"dataframe\">\n",
       "  <thead>\n",
       "    <tr style=\"text-align: right;\">\n",
       "      <th></th>\n",
       "      <th>year</th>\n",
       "      <th>date</th>\n",
       "      <th>date_fixed</th>\n",
       "    </tr>\n",
       "  </thead>\n",
       "  <tbody>\n",
       "  </tbody>\n",
       "</table>\n",
       "</div>"
      ],
      "text/plain": [
       "Empty DataFrame\n",
       "Columns: [year, date, date_fixed]\n",
       "Index: []"
      ]
     },
     "execution_count": 58,
     "metadata": {},
     "output_type": "execute_result"
    }
   ],
   "source": [
    "ok = df['date_fixed'].dt.year.eq(df['year'])\n",
    "print('Filas correctas:', ok.sum(), 'de', len(df))\n",
    "df.loc[~ok, ['year','date','date_fixed']].head()"
   ]
  },
  {
   "cell_type": "code",
   "execution_count": null,
   "id": "52466b68",
   "metadata": {},
   "outputs": [
    {
     "name": "stdout",
     "output_type": "stream",
     "text": [
      "Requirement already satisfied: openpyxl in c:\\users\\cex-laguna\\appdata\\local\\programs\\python\\python313\\lib\\site-packages (3.1.5)\n",
      "Requirement already satisfied: et-xmlfile in c:\\users\\cex-laguna\\appdata\\local\\programs\\python\\python313\\lib\\site-packages (from openpyxl) (2.0.0)\n",
      "Note: you may need to restart the kernel to use updated packages.\n"
     ]
    },
    {
     "ename": "PermissionError",
     "evalue": "[Errno 13] Permission denied: 'data/attacks_clean.xlsx'",
     "output_type": "error",
     "traceback": [
      "\u001b[31m---------------------------------------------------------------------------\u001b[39m",
      "\u001b[31mPermissionError\u001b[39m                           Traceback (most recent call last)",
      "\u001b[36mCell\u001b[39m\u001b[36m \u001b[39m\u001b[32mIn[59]\u001b[39m\u001b[32m, line 5\u001b[39m\n\u001b[32m      3\u001b[39m \u001b[38;5;28;01mimport\u001b[39;00m\u001b[38;5;250m \u001b[39m\u001b[34;01mos\u001b[39;00m\n\u001b[32m      4\u001b[39m os.makedirs(\u001b[33m\"\u001b[39m\u001b[33mdata\u001b[39m\u001b[33m\"\u001b[39m, exist_ok=\u001b[38;5;28;01mTrue\u001b[39;00m) \n\u001b[32m----> \u001b[39m\u001b[32m5\u001b[39m \u001b[43mdf\u001b[49m\u001b[43m.\u001b[49m\u001b[43mto_excel\u001b[49m\u001b[43m(\u001b[49m\u001b[33;43m\"\u001b[39;49m\u001b[33;43mdata/attacks_clean.xlsx\u001b[39;49m\u001b[33;43m\"\u001b[39;49m\u001b[43m,\u001b[49m\u001b[43m \u001b[49m\u001b[43mindex\u001b[49m\u001b[43m=\u001b[49m\u001b[38;5;28;43;01mFalse\u001b[39;49;00m\u001b[43m)\u001b[49m \n",
      "\u001b[36mFile \u001b[39m\u001b[32mc:\\Users\\CeX-Laguna\\AppData\\Local\\Programs\\Python\\Python313\\Lib\\site-packages\\pandas\\util\\_decorators.py:333\u001b[39m, in \u001b[36mdeprecate_nonkeyword_arguments.<locals>.decorate.<locals>.wrapper\u001b[39m\u001b[34m(*args, **kwargs)\u001b[39m\n\u001b[32m    327\u001b[39m \u001b[38;5;28;01mif\u001b[39;00m \u001b[38;5;28mlen\u001b[39m(args) > num_allow_args:\n\u001b[32m    328\u001b[39m     warnings.warn(\n\u001b[32m    329\u001b[39m         msg.format(arguments=_format_argument_list(allow_args)),\n\u001b[32m    330\u001b[39m         \u001b[38;5;167;01mFutureWarning\u001b[39;00m,\n\u001b[32m    331\u001b[39m         stacklevel=find_stack_level(),\n\u001b[32m    332\u001b[39m     )\n\u001b[32m--> \u001b[39m\u001b[32m333\u001b[39m \u001b[38;5;28;01mreturn\u001b[39;00m \u001b[43mfunc\u001b[49m\u001b[43m(\u001b[49m\u001b[43m*\u001b[49m\u001b[43margs\u001b[49m\u001b[43m,\u001b[49m\u001b[43m \u001b[49m\u001b[43m*\u001b[49m\u001b[43m*\u001b[49m\u001b[43mkwargs\u001b[49m\u001b[43m)\u001b[49m\n",
      "\u001b[36mFile \u001b[39m\u001b[32mc:\\Users\\CeX-Laguna\\AppData\\Local\\Programs\\Python\\Python313\\Lib\\site-packages\\pandas\\core\\generic.py:2436\u001b[39m, in \u001b[36mNDFrame.to_excel\u001b[39m\u001b[34m(self, excel_writer, sheet_name, na_rep, float_format, columns, header, index, index_label, startrow, startcol, engine, merge_cells, inf_rep, freeze_panes, storage_options, engine_kwargs)\u001b[39m\n\u001b[32m   2423\u001b[39m \u001b[38;5;28;01mfrom\u001b[39;00m\u001b[38;5;250m \u001b[39m\u001b[34;01mpandas\u001b[39;00m\u001b[34;01m.\u001b[39;00m\u001b[34;01mio\u001b[39;00m\u001b[34;01m.\u001b[39;00m\u001b[34;01mformats\u001b[39;00m\u001b[34;01m.\u001b[39;00m\u001b[34;01mexcel\u001b[39;00m\u001b[38;5;250m \u001b[39m\u001b[38;5;28;01mimport\u001b[39;00m ExcelFormatter\n\u001b[32m   2425\u001b[39m formatter = ExcelFormatter(\n\u001b[32m   2426\u001b[39m     df,\n\u001b[32m   2427\u001b[39m     na_rep=na_rep,\n\u001b[32m   (...)\u001b[39m\u001b[32m   2434\u001b[39m     inf_rep=inf_rep,\n\u001b[32m   2435\u001b[39m )\n\u001b[32m-> \u001b[39m\u001b[32m2436\u001b[39m \u001b[43mformatter\u001b[49m\u001b[43m.\u001b[49m\u001b[43mwrite\u001b[49m\u001b[43m(\u001b[49m\n\u001b[32m   2437\u001b[39m \u001b[43m    \u001b[49m\u001b[43mexcel_writer\u001b[49m\u001b[43m,\u001b[49m\n\u001b[32m   2438\u001b[39m \u001b[43m    \u001b[49m\u001b[43msheet_name\u001b[49m\u001b[43m=\u001b[49m\u001b[43msheet_name\u001b[49m\u001b[43m,\u001b[49m\n\u001b[32m   2439\u001b[39m \u001b[43m    \u001b[49m\u001b[43mstartrow\u001b[49m\u001b[43m=\u001b[49m\u001b[43mstartrow\u001b[49m\u001b[43m,\u001b[49m\n\u001b[32m   2440\u001b[39m \u001b[43m    \u001b[49m\u001b[43mstartcol\u001b[49m\u001b[43m=\u001b[49m\u001b[43mstartcol\u001b[49m\u001b[43m,\u001b[49m\n\u001b[32m   2441\u001b[39m \u001b[43m    \u001b[49m\u001b[43mfreeze_panes\u001b[49m\u001b[43m=\u001b[49m\u001b[43mfreeze_panes\u001b[49m\u001b[43m,\u001b[49m\n\u001b[32m   2442\u001b[39m \u001b[43m    \u001b[49m\u001b[43mengine\u001b[49m\u001b[43m=\u001b[49m\u001b[43mengine\u001b[49m\u001b[43m,\u001b[49m\n\u001b[32m   2443\u001b[39m \u001b[43m    \u001b[49m\u001b[43mstorage_options\u001b[49m\u001b[43m=\u001b[49m\u001b[43mstorage_options\u001b[49m\u001b[43m,\u001b[49m\n\u001b[32m   2444\u001b[39m \u001b[43m    \u001b[49m\u001b[43mengine_kwargs\u001b[49m\u001b[43m=\u001b[49m\u001b[43mengine_kwargs\u001b[49m\u001b[43m,\u001b[49m\n\u001b[32m   2445\u001b[39m \u001b[43m\u001b[49m\u001b[43m)\u001b[49m\n",
      "\u001b[36mFile \u001b[39m\u001b[32mc:\\Users\\CeX-Laguna\\AppData\\Local\\Programs\\Python\\Python313\\Lib\\site-packages\\pandas\\io\\formats\\excel.py:943\u001b[39m, in \u001b[36mExcelFormatter.write\u001b[39m\u001b[34m(self, writer, sheet_name, startrow, startcol, freeze_panes, engine, storage_options, engine_kwargs)\u001b[39m\n\u001b[32m    941\u001b[39m     need_save = \u001b[38;5;28;01mFalse\u001b[39;00m\n\u001b[32m    942\u001b[39m \u001b[38;5;28;01melse\u001b[39;00m:\n\u001b[32m--> \u001b[39m\u001b[32m943\u001b[39m     writer = \u001b[43mExcelWriter\u001b[49m\u001b[43m(\u001b[49m\n\u001b[32m    944\u001b[39m \u001b[43m        \u001b[49m\u001b[43mwriter\u001b[49m\u001b[43m,\u001b[49m\n\u001b[32m    945\u001b[39m \u001b[43m        \u001b[49m\u001b[43mengine\u001b[49m\u001b[43m=\u001b[49m\u001b[43mengine\u001b[49m\u001b[43m,\u001b[49m\n\u001b[32m    946\u001b[39m \u001b[43m        \u001b[49m\u001b[43mstorage_options\u001b[49m\u001b[43m=\u001b[49m\u001b[43mstorage_options\u001b[49m\u001b[43m,\u001b[49m\n\u001b[32m    947\u001b[39m \u001b[43m        \u001b[49m\u001b[43mengine_kwargs\u001b[49m\u001b[43m=\u001b[49m\u001b[43mengine_kwargs\u001b[49m\u001b[43m,\u001b[49m\n\u001b[32m    948\u001b[39m \u001b[43m    \u001b[49m\u001b[43m)\u001b[49m\n\u001b[32m    949\u001b[39m     need_save = \u001b[38;5;28;01mTrue\u001b[39;00m\n\u001b[32m    951\u001b[39m \u001b[38;5;28;01mtry\u001b[39;00m:\n",
      "\u001b[36mFile \u001b[39m\u001b[32mc:\\Users\\CeX-Laguna\\AppData\\Local\\Programs\\Python\\Python313\\Lib\\site-packages\\pandas\\io\\excel\\_openpyxl.py:61\u001b[39m, in \u001b[36mOpenpyxlWriter.__init__\u001b[39m\u001b[34m(self, path, engine, date_format, datetime_format, mode, storage_options, if_sheet_exists, engine_kwargs, **kwargs)\u001b[39m\n\u001b[32m     57\u001b[39m \u001b[38;5;28;01mfrom\u001b[39;00m\u001b[38;5;250m \u001b[39m\u001b[34;01mopenpyxl\u001b[39;00m\u001b[34;01m.\u001b[39;00m\u001b[34;01mworkbook\u001b[39;00m\u001b[38;5;250m \u001b[39m\u001b[38;5;28;01mimport\u001b[39;00m Workbook\n\u001b[32m     59\u001b[39m engine_kwargs = combine_kwargs(engine_kwargs, kwargs)\n\u001b[32m---> \u001b[39m\u001b[32m61\u001b[39m \u001b[38;5;28;43msuper\u001b[39;49m\u001b[43m(\u001b[49m\u001b[43m)\u001b[49m\u001b[43m.\u001b[49m\u001b[34;43m__init__\u001b[39;49m\u001b[43m(\u001b[49m\n\u001b[32m     62\u001b[39m \u001b[43m    \u001b[49m\u001b[43mpath\u001b[49m\u001b[43m,\u001b[49m\n\u001b[32m     63\u001b[39m \u001b[43m    \u001b[49m\u001b[43mmode\u001b[49m\u001b[43m=\u001b[49m\u001b[43mmode\u001b[49m\u001b[43m,\u001b[49m\n\u001b[32m     64\u001b[39m \u001b[43m    \u001b[49m\u001b[43mstorage_options\u001b[49m\u001b[43m=\u001b[49m\u001b[43mstorage_options\u001b[49m\u001b[43m,\u001b[49m\n\u001b[32m     65\u001b[39m \u001b[43m    \u001b[49m\u001b[43mif_sheet_exists\u001b[49m\u001b[43m=\u001b[49m\u001b[43mif_sheet_exists\u001b[49m\u001b[43m,\u001b[49m\n\u001b[32m     66\u001b[39m \u001b[43m    \u001b[49m\u001b[43mengine_kwargs\u001b[49m\u001b[43m=\u001b[49m\u001b[43mengine_kwargs\u001b[49m\u001b[43m,\u001b[49m\n\u001b[32m     67\u001b[39m \u001b[43m\u001b[49m\u001b[43m)\u001b[49m\n\u001b[32m     69\u001b[39m \u001b[38;5;66;03m# ExcelWriter replaced \"a\" by \"r+\" to allow us to first read the excel file from\u001b[39;00m\n\u001b[32m     70\u001b[39m \u001b[38;5;66;03m# the file and later write to it\u001b[39;00m\n\u001b[32m     71\u001b[39m \u001b[38;5;28;01mif\u001b[39;00m \u001b[33m\"\u001b[39m\u001b[33mr+\u001b[39m\u001b[33m\"\u001b[39m \u001b[38;5;129;01min\u001b[39;00m \u001b[38;5;28mself\u001b[39m._mode:  \u001b[38;5;66;03m# Load from existing workbook\u001b[39;00m\n",
      "\u001b[36mFile \u001b[39m\u001b[32mc:\\Users\\CeX-Laguna\\AppData\\Local\\Programs\\Python\\Python313\\Lib\\site-packages\\pandas\\io\\excel\\_base.py:1246\u001b[39m, in \u001b[36mExcelWriter.__init__\u001b[39m\u001b[34m(self, path, engine, date_format, datetime_format, mode, storage_options, if_sheet_exists, engine_kwargs)\u001b[39m\n\u001b[32m   1242\u001b[39m \u001b[38;5;28mself\u001b[39m._handles = IOHandles(\n\u001b[32m   1243\u001b[39m     cast(IO[\u001b[38;5;28mbytes\u001b[39m], path), compression={\u001b[33m\"\u001b[39m\u001b[33mcompression\u001b[39m\u001b[33m\"\u001b[39m: \u001b[38;5;28;01mNone\u001b[39;00m}\n\u001b[32m   1244\u001b[39m )\n\u001b[32m   1245\u001b[39m \u001b[38;5;28;01mif\u001b[39;00m \u001b[38;5;129;01mnot\u001b[39;00m \u001b[38;5;28misinstance\u001b[39m(path, ExcelWriter):\n\u001b[32m-> \u001b[39m\u001b[32m1246\u001b[39m     \u001b[38;5;28mself\u001b[39m._handles = \u001b[43mget_handle\u001b[49m\u001b[43m(\u001b[49m\n\u001b[32m   1247\u001b[39m \u001b[43m        \u001b[49m\u001b[43mpath\u001b[49m\u001b[43m,\u001b[49m\u001b[43m \u001b[49m\u001b[43mmode\u001b[49m\u001b[43m,\u001b[49m\u001b[43m \u001b[49m\u001b[43mstorage_options\u001b[49m\u001b[43m=\u001b[49m\u001b[43mstorage_options\u001b[49m\u001b[43m,\u001b[49m\u001b[43m \u001b[49m\u001b[43mis_text\u001b[49m\u001b[43m=\u001b[49m\u001b[38;5;28;43;01mFalse\u001b[39;49;00m\n\u001b[32m   1248\u001b[39m \u001b[43m    \u001b[49m\u001b[43m)\u001b[49m\n\u001b[32m   1249\u001b[39m \u001b[38;5;28mself\u001b[39m._cur_sheet = \u001b[38;5;28;01mNone\u001b[39;00m\n\u001b[32m   1251\u001b[39m \u001b[38;5;28;01mif\u001b[39;00m date_format \u001b[38;5;129;01mis\u001b[39;00m \u001b[38;5;28;01mNone\u001b[39;00m:\n",
      "\u001b[36mFile \u001b[39m\u001b[32mc:\\Users\\CeX-Laguna\\AppData\\Local\\Programs\\Python\\Python313\\Lib\\site-packages\\pandas\\io\\common.py:882\u001b[39m, in \u001b[36mget_handle\u001b[39m\u001b[34m(path_or_buf, mode, encoding, compression, memory_map, is_text, errors, storage_options)\u001b[39m\n\u001b[32m    873\u001b[39m         handle = \u001b[38;5;28mopen\u001b[39m(\n\u001b[32m    874\u001b[39m             handle,\n\u001b[32m    875\u001b[39m             ioargs.mode,\n\u001b[32m   (...)\u001b[39m\u001b[32m    878\u001b[39m             newline=\u001b[33m\"\u001b[39m\u001b[33m\"\u001b[39m,\n\u001b[32m    879\u001b[39m         )\n\u001b[32m    880\u001b[39m     \u001b[38;5;28;01melse\u001b[39;00m:\n\u001b[32m    881\u001b[39m         \u001b[38;5;66;03m# Binary mode\u001b[39;00m\n\u001b[32m--> \u001b[39m\u001b[32m882\u001b[39m         handle = \u001b[38;5;28;43mopen\u001b[39;49m\u001b[43m(\u001b[49m\u001b[43mhandle\u001b[49m\u001b[43m,\u001b[49m\u001b[43m \u001b[49m\u001b[43mioargs\u001b[49m\u001b[43m.\u001b[49m\u001b[43mmode\u001b[49m\u001b[43m)\u001b[49m\n\u001b[32m    883\u001b[39m     handles.append(handle)\n\u001b[32m    885\u001b[39m \u001b[38;5;66;03m# Convert BytesIO or file objects passed with an encoding\u001b[39;00m\n",
      "\u001b[31mPermissionError\u001b[39m: [Errno 13] Permission denied: 'data/attacks_clean.xlsx'"
     ]
    }
   ],
   "source": [
    "%pip install openpyxl\n",
    "\n",
    "import os\n",
    "os.makedirs(\"data\", exist_ok=True) \n",
    "df.to_excel(\"data/attacks_clean.xlsx\", index=False) "
   ]
  },
  {
   "cell_type": "code",
   "execution_count": 26,
   "id": "47cb34ac",
   "metadata": {},
   "outputs": [
    {
     "name": "stdout",
     "output_type": "stream",
     "text": [
      "Requirement already satisfied: geopandas in c:\\users\\cex-laguna\\appdata\\local\\programs\\python\\python313\\lib\\site-packages (1.1.1)\n",
      "Requirement already satisfied: matplotlib in c:\\users\\cex-laguna\\appdata\\local\\programs\\python\\python313\\lib\\site-packages (3.10.7)\n",
      "Requirement already satisfied: pandas in c:\\users\\cex-laguna\\appdata\\local\\programs\\python\\python313\\lib\\site-packages (2.3.2)\n",
      "Requirement already satisfied: numpy>=1.24 in c:\\users\\cex-laguna\\appdata\\local\\programs\\python\\python313\\lib\\site-packages (from geopandas) (2.3.3)\n",
      "Requirement already satisfied: pyogrio>=0.7.2 in c:\\users\\cex-laguna\\appdata\\local\\programs\\python\\python313\\lib\\site-packages (from geopandas) (0.11.1)\n",
      "Requirement already satisfied: packaging in c:\\users\\cex-laguna\\appdata\\local\\programs\\python\\python313\\lib\\site-packages (from geopandas) (25.0)\n",
      "Requirement already satisfied: pyproj>=3.5.0 in c:\\users\\cex-laguna\\appdata\\local\\programs\\python\\python313\\lib\\site-packages (from geopandas) (3.7.2)\n",
      "Requirement already satisfied: shapely>=2.0.0 in c:\\users\\cex-laguna\\appdata\\local\\programs\\python\\python313\\lib\\site-packages (from geopandas) (2.1.2)\n",
      "Requirement already satisfied: contourpy>=1.0.1 in c:\\users\\cex-laguna\\appdata\\local\\programs\\python\\python313\\lib\\site-packages (from matplotlib) (1.3.3)\n",
      "Requirement already satisfied: cycler>=0.10 in c:\\users\\cex-laguna\\appdata\\local\\programs\\python\\python313\\lib\\site-packages (from matplotlib) (0.12.1)\n",
      "Requirement already satisfied: fonttools>=4.22.0 in c:\\users\\cex-laguna\\appdata\\local\\programs\\python\\python313\\lib\\site-packages (from matplotlib) (4.60.1)\n",
      "Requirement already satisfied: kiwisolver>=1.3.1 in c:\\users\\cex-laguna\\appdata\\local\\programs\\python\\python313\\lib\\site-packages (from matplotlib) (1.4.9)\n",
      "Requirement already satisfied: pillow>=8 in c:\\users\\cex-laguna\\appdata\\local\\programs\\python\\python313\\lib\\site-packages (from matplotlib) (12.0.0)\n",
      "Requirement already satisfied: pyparsing>=3 in c:\\users\\cex-laguna\\appdata\\local\\programs\\python\\python313\\lib\\site-packages (from matplotlib) (3.2.5)\n",
      "Requirement already satisfied: python-dateutil>=2.7 in c:\\users\\cex-laguna\\appdata\\local\\programs\\python\\python313\\lib\\site-packages (from matplotlib) (2.9.0.post0)\n",
      "Requirement already satisfied: pytz>=2020.1 in c:\\users\\cex-laguna\\appdata\\local\\programs\\python\\python313\\lib\\site-packages (from pandas) (2025.2)\n",
      "Requirement already satisfied: tzdata>=2022.7 in c:\\users\\cex-laguna\\appdata\\local\\programs\\python\\python313\\lib\\site-packages (from pandas) (2025.2)\n",
      "Requirement already satisfied: certifi in c:\\users\\cex-laguna\\appdata\\local\\programs\\python\\python313\\lib\\site-packages (from pyogrio>=0.7.2->geopandas) (2025.10.5)\n",
      "Requirement already satisfied: six>=1.5 in c:\\users\\cex-laguna\\appdata\\local\\programs\\python\\python313\\lib\\site-packages (from python-dateutil>=2.7->matplotlib) (1.17.0)\n",
      "Note: you may need to restart the kernel to use updated packages.\n"
     ]
    }
   ],
   "source": [
    "pip install geopandas matplotlib pandas"
   ]
  },
  {
   "cell_type": "code",
   "execution_count": 27,
   "id": "7b8f6e11",
   "metadata": {},
   "outputs": [
    {
     "name": "stdout",
     "output_type": "stream",
     "text": [
      "Requirement already satisfied: plotly in c:\\users\\cex-laguna\\appdata\\local\\programs\\python\\python313\\lib\\site-packages (6.3.1)\n",
      "Requirement already satisfied: narwhals>=1.15.1 in c:\\users\\cex-laguna\\appdata\\local\\programs\\python\\python313\\lib\\site-packages (from plotly) (2.8.0)\n",
      "Requirement already satisfied: packaging in c:\\users\\cex-laguna\\appdata\\local\\programs\\python\\python313\\lib\\site-packages (from plotly) (25.0)\n",
      "Note: you may need to restart the kernel to use updated packages.\n"
     ]
    }
   ],
   "source": [
    "pip install plotly"
   ]
  },
  {
   "cell_type": "code",
   "execution_count": 28,
   "id": "6f669388",
   "metadata": {},
   "outputs": [
    {
     "name": "stdout",
     "output_type": "stream",
     "text": [
      "Name: plotly\n",
      "Version: 6.3.1\n",
      "Summary: An open-source interactive data visualization library for Python\n",
      "Home-page: https://plotly.com/python/\n",
      "Author: \n",
      "Author-email: Chris P <chris@plot.ly>\n",
      "License: MIT License\n",
      "\n",
      "Copyright (c) 2016-2024 Plotly Technologies Inc.\n",
      "\n",
      "Permission is hereby granted, free of charge, to any person obtaining a copy\n",
      "of this software and associated documentation files (the \"Software\"), to deal\n",
      "in the Software without restriction, including without limitation the rights\n",
      "to use, copy, modify, merge, publish, distribute, sublicense, and/or sell\n",
      "copies of the Software, and to permit persons to whom the Software is\n",
      "furnished to do so, subject to the following conditions:\n",
      "\n",
      "The above copyright notice and this permission notice shall be included in\n",
      "all copies or substantial portions of the Software.\n",
      "\n",
      "THE SOFTWARE IS PROVIDED \"AS IS\", WITHOUT WARRANTY OF ANY KIND, EXPRESS OR\n",
      "IMPLIED, INCLUDING BUT NOT LIMITED TO THE WARRANTIES OF MERCHANTABILITY,\n",
      "FITNESS FOR A PARTICULAR PURPOSE AND NONINFRINGEMENT. IN NO EVENT SHALL THE\n",
      "AUTHORS OR COPYRIGHT HOLDERS BE LIABLE FOR ANY CLAIM, DAMAGES OR OTHER\n",
      "LIABILITY, WHETHER IN AN ACTION OF CONTRACT, TORT OR OTHERWISE, ARISING FROM,\n",
      "OUT OF OR IN CONNECTION WITH THE SOFTWARE OR THE USE OR OTHER DEALINGS IN\n",
      "THE SOFTWARE.\n",
      "\n",
      "Location: c:\\Users\\CeX-Laguna\\AppData\\Local\\Programs\\Python\\Python313\\Lib\\site-packages\n",
      "Requires: narwhals, packaging\n",
      "Required-by: \n",
      "Note: you may need to restart the kernel to use updated packages.\n"
     ]
    }
   ],
   "source": [
    "pip show plotly"
   ]
  },
  {
   "cell_type": "code",
   "execution_count": 29,
   "id": "9555aceb",
   "metadata": {},
   "outputs": [
    {
     "name": "stdout",
     "output_type": "stream",
     "text": [
      "Requirement already satisfied: nbformat in c:\\users\\cex-laguna\\appdata\\local\\programs\\python\\python313\\lib\\site-packages (5.10.4)\n",
      "Requirement already satisfied: fastjsonschema>=2.15 in c:\\users\\cex-laguna\\appdata\\local\\programs\\python\\python313\\lib\\site-packages (from nbformat) (2.21.2)\n",
      "Requirement already satisfied: jsonschema>=2.6 in c:\\users\\cex-laguna\\appdata\\local\\programs\\python\\python313\\lib\\site-packages (from nbformat) (4.25.1)\n",
      "Requirement already satisfied: jupyter-core!=5.0.*,>=4.12 in c:\\users\\cex-laguna\\appdata\\local\\programs\\python\\python313\\lib\\site-packages (from nbformat) (5.8.1)\n",
      "Requirement already satisfied: traitlets>=5.1 in c:\\users\\cex-laguna\\appdata\\local\\programs\\python\\python313\\lib\\site-packages (from nbformat) (5.14.3)\n",
      "Requirement already satisfied: attrs>=22.2.0 in c:\\users\\cex-laguna\\appdata\\local\\programs\\python\\python313\\lib\\site-packages (from jsonschema>=2.6->nbformat) (25.4.0)\n",
      "Requirement already satisfied: jsonschema-specifications>=2023.03.6 in c:\\users\\cex-laguna\\appdata\\local\\programs\\python\\python313\\lib\\site-packages (from jsonschema>=2.6->nbformat) (2025.9.1)\n",
      "Requirement already satisfied: referencing>=0.28.4 in c:\\users\\cex-laguna\\appdata\\local\\programs\\python\\python313\\lib\\site-packages (from jsonschema>=2.6->nbformat) (0.37.0)\n",
      "Requirement already satisfied: rpds-py>=0.7.1 in c:\\users\\cex-laguna\\appdata\\local\\programs\\python\\python313\\lib\\site-packages (from jsonschema>=2.6->nbformat) (0.27.1)\n",
      "Requirement already satisfied: platformdirs>=2.5 in c:\\users\\cex-laguna\\appdata\\local\\programs\\python\\python313\\lib\\site-packages (from jupyter-core!=5.0.*,>=4.12->nbformat) (4.4.0)\n",
      "Requirement already satisfied: pywin32>=300 in c:\\users\\cex-laguna\\appdata\\local\\programs\\python\\python313\\lib\\site-packages (from jupyter-core!=5.0.*,>=4.12->nbformat) (311)\n",
      "Note: you may need to restart the kernel to use updated packages.\n"
     ]
    }
   ],
   "source": [
    "pip install nbformat"
   ]
  },
  {
   "cell_type": "code",
   "execution_count": 30,
   "id": "b5183ab6",
   "metadata": {},
   "outputs": [],
   "source": [
    "import geopandas as gpd\n",
    "import matplotlib.pyplot as plt\n",
    "import plotly.express as px"
   ]
  },
  {
   "cell_type": "code",
   "execution_count": 31,
   "id": "1d17a0eb",
   "metadata": {},
   "outputs": [],
   "source": [
    "ataques_por_pais = df['country'].value_counts().reset_index()\n",
    "ataques_por_pais.columns = ['country', 'num_ataques']"
   ]
  },
  {
   "cell_type": "code",
   "execution_count": 32,
   "id": "a5a8df68",
   "metadata": {},
   "outputs": [
    {
     "name": "stderr",
     "output_type": "stream",
     "text": [
      "C:\\Users\\CeX-Laguna\\AppData\\Local\\Temp\\ipykernel_32460\\3058907367.py:1: DeprecationWarning: The library used by the *country names* `locationmode` option is changing in an upcoming version. Country names in existing plots may not work in the new version. To ensure consistent behavior, consider setting `locationmode` to *ISO-3*.\n",
      "  fig = px.choropleth(\n"
     ]
    },
    {
     "data": {
      "application/vnd.plotly.v1+json": {
       "config": {
        "plotlyServerURL": "https://plot.ly"
       },
       "data": [
        {
         "coloraxis": "coloraxis",
         "geo": "geo",
         "hovertemplate": "country=%{location}<br>num_ataques=%{z}<extra></extra>",
         "locationmode": "country names",
         "locations": [
          "USA",
          "Australia",
          "South Africa",
          "New Zealand",
          "Bahamas",
          "Papua New Guinea",
          "Brazil",
          "Mexico",
          "Italy",
          "Fiji",
          "New Caledonia",
          "Philippines",
          "Reunion",
          "Egypt",
          "Mozambique",
          "Nan",
          "Cuba",
          "Spain",
          "India",
          "French Polynesia",
          "Japan",
          "Croatia",
          "Jamaica",
          "Panama",
          "Solomon Islands",
          "Iran",
          "Indonesia",
          "England",
          "Greece",
          "Hong Kong",
          "Pacific Ocean",
          "Costa Rica",
          "Tonga",
          "Atlantic Ocean",
          "Bermuda",
          "Vietnam",
          "Vanuatu",
          "Canada",
          "Sri Lanka",
          "Marshall Islands",
          "France",
          "Thailand",
          "South Atlantic Ocean",
          "Iraq",
          "Turkey",
          "Venezuela",
          "Ecuador",
          "United Kingdom",
          "Senegal",
          "Samoa",
          "Mauritius",
          "Kenya",
          "Seychelles",
          "New Guinea",
          "Columbia",
          "Yemen",
          "Sierra Leone",
          "Israel",
          "Taiwan",
          "China",
          "Scotland",
          "Chile",
          "Belize",
          "Madagascar",
          "South Korea",
          "Caribbean Sea",
          "Tanzania",
          "Nicaragua",
          "North Pacific Ocean",
          "Dominican Republic",
          "Indian Ocean",
          "Okinawa",
          "Maldives",
          "Singapore",
          "New Britain",
          "Barbados",
          "Somalia",
          "Kiribati",
          "Libya",
          "Honduras",
          "Palau",
          "Reunion Island",
          "Saudi Arabia",
          "Malta",
          "Malaysia",
          "Turks & Caicos",
          "Mid Atlantic Ocean",
          "Azores",
          "North Atlantic Ocean",
          "Grenada",
          "Sudan",
          "El Salvador",
          "Russia",
          "Burma",
          "Nigeria",
          "Persian Gulf",
          "Guam",
          "Portugal",
          "Uruguay",
          "Haiti",
          "American Samoa",
          "Martinique",
          "Lebanon",
          "Ceylon",
          "Guinea",
          "Liberia",
          "Tunisia",
          "Tobago",
          "Trinidad & Tobago",
          "Cape Verde",
          "Turks And Caicos",
          "Maldive Islands",
          "Guyana",
          "Micronesia",
          "Montenegro",
          "Puerto Rico",
          "Antigua",
          "Peru",
          "Colombia",
          "Ireland",
          "Argentina",
          "Iceland",
          "Crete",
          "Central Pacific",
          "Southwest Pacific Ocean",
          "Java",
          "United Arab Emirates (Uae)",
          "Johnston Island",
          "South Pacific Ocean",
          "Namibia",
          "Norway",
          "Cayman Islands",
          "United Arab Emirates",
          "St Helena, British Overseas Territory",
          "West Indies",
          "Mediterranean Sea",
          "St. Martin",
          "Comoros",
          "St Martin",
          "Palestinian Territories",
          "Aruba",
          "Coral Sea",
          "Trinidad",
          "Morocco",
          "Hawaii",
          "British Overseas Territory",
          "Canary Islands",
          "Jordan",
          "St Kitts / Nevis",
          "Diego Garcia",
          "Red Sea / Indian Ocean",
          "North Sea",
          "British West Indies",
          "Federated States Of Micronesia",
          "Red Sea",
          "Western Samoa",
          "British Isles",
          "South China Sea",
          "Bangladesh",
          "Angola",
          "British Virgin Islands",
          "St. Maartin",
          "Grand Cayman",
          "Northern Arabian Sea",
          "Egypt / Israel",
          "Nevis",
          "Gulf Of Aden",
          "Admiralty Islands",
          "Solomon Islands / Vanuatu",
          "Guatemala",
          "Mayotte",
          "Slovenia",
          "Bay Of Bengal",
          "Italy / Croatia",
          "Iran / Iraq",
          "Netherlands Antilles",
          "Northern Mariana Islands",
          "Sudan?",
          "The Balkans",
          "Gabon",
          "Andaman / Nicobar Islandas",
          "Cyprus",
          "Falkland Islands",
          "Kuwait",
          "San Domingo",
          "Monaco",
          "Mid-Pacifc Ocean",
          "Curacao",
          "Paraguay",
          "Georgia",
          "Ocean",
          "Tuvalu",
          "Syria",
          "Indian Ocean?",
          "Andaman Islands",
          "Equatorial Guinea / Cameroon",
          "British New Guinea",
          "Cook Islands",
          "Africa",
          "Coast Of Africa",
          "Algeria",
          "Tasman Sea",
          "Ghana",
          "Greenland",
          "Sweden",
          "Roatan",
          "Between Portugal & India",
          "Djibouti",
          "Bahrein",
          "Korea",
          "Red Sea?",
          "Asia?",
          "Ceylon (Sri Lanka)"
         ],
         "name": "",
         "type": "choropleth",
         "z": {
          "bdata": "DQrmBVcCkgCNAIgAegBrAEgARgBCAEEAPAA1ADIAMgAxAC8AKQAnACQAIwAgACAAHgAdABkAGQAYABgAEwATABIAEQAQAA8ADwAOAA4ADQANAA0ADAAMAAwACwALAAsACwAKAAoACgAKAAoACgAJAAkACQAJAAkACAAIAAgACAAIAAgACAAHAAcABwAHAAYABgAGAAYABgAGAAYABgAGAAUABQAFAAUABQAFAAUABQAFAAQABAAEAAQABAAEAAQABAAEAAQAAwADAAMAAwADAAMAAwADAAMAAwADAAMAAwADAAMAAwACAAIAAgACAAIAAgACAAIAAgACAAIAAgACAAIAAgACAAIAAgACAAIAAgABAAEAAQABAAEAAQABAAEAAQABAAEAAQABAAEAAQABAAEAAQABAAEAAQABAAEAAQABAAEAAQABAAEAAQABAAEAAQABAAEAAQABAAEAAQABAAEAAQABAAEAAQABAAEAAQABAAEAAQABAAEAAQABAAEAAQABAAEAAQABAAEAAQABAAEAAQABAAEAAQABAAEAAQABAAEAAQABAAEA",
          "dtype": "i2"
         }
        }
       ],
       "layout": {
        "coloraxis": {
         "colorbar": {
          "title": {
           "text": "num_ataques"
          }
         },
         "colorscale": [
          [
           0,
           "rgb(255,245,240)"
          ],
          [
           0.125,
           "rgb(254,224,210)"
          ],
          [
           0.25,
           "rgb(252,187,161)"
          ],
          [
           0.375,
           "rgb(252,146,114)"
          ],
          [
           0.5,
           "rgb(251,106,74)"
          ],
          [
           0.625,
           "rgb(239,59,44)"
          ],
          [
           0.75,
           "rgb(203,24,29)"
          ],
          [
           0.875,
           "rgb(165,15,21)"
          ],
          [
           1,
           "rgb(103,0,13)"
          ]
         ]
        },
        "geo": {
         "center": {},
         "domain": {
          "x": [
           0,
           1
          ],
          "y": [
           0,
           1
          ]
         }
        },
        "legend": {
         "tracegroupgap": 0
        },
        "template": {
         "data": {
          "bar": [
           {
            "error_x": {
             "color": "#2a3f5f"
            },
            "error_y": {
             "color": "#2a3f5f"
            },
            "marker": {
             "line": {
              "color": "#E5ECF6",
              "width": 0.5
             },
             "pattern": {
              "fillmode": "overlay",
              "size": 10,
              "solidity": 0.2
             }
            },
            "type": "bar"
           }
          ],
          "barpolar": [
           {
            "marker": {
             "line": {
              "color": "#E5ECF6",
              "width": 0.5
             },
             "pattern": {
              "fillmode": "overlay",
              "size": 10,
              "solidity": 0.2
             }
            },
            "type": "barpolar"
           }
          ],
          "carpet": [
           {
            "aaxis": {
             "endlinecolor": "#2a3f5f",
             "gridcolor": "white",
             "linecolor": "white",
             "minorgridcolor": "white",
             "startlinecolor": "#2a3f5f"
            },
            "baxis": {
             "endlinecolor": "#2a3f5f",
             "gridcolor": "white",
             "linecolor": "white",
             "minorgridcolor": "white",
             "startlinecolor": "#2a3f5f"
            },
            "type": "carpet"
           }
          ],
          "choropleth": [
           {
            "colorbar": {
             "outlinewidth": 0,
             "ticks": ""
            },
            "type": "choropleth"
           }
          ],
          "contour": [
           {
            "colorbar": {
             "outlinewidth": 0,
             "ticks": ""
            },
            "colorscale": [
             [
              0,
              "#0d0887"
             ],
             [
              0.1111111111111111,
              "#46039f"
             ],
             [
              0.2222222222222222,
              "#7201a8"
             ],
             [
              0.3333333333333333,
              "#9c179e"
             ],
             [
              0.4444444444444444,
              "#bd3786"
             ],
             [
              0.5555555555555556,
              "#d8576b"
             ],
             [
              0.6666666666666666,
              "#ed7953"
             ],
             [
              0.7777777777777778,
              "#fb9f3a"
             ],
             [
              0.8888888888888888,
              "#fdca26"
             ],
             [
              1,
              "#f0f921"
             ]
            ],
            "type": "contour"
           }
          ],
          "contourcarpet": [
           {
            "colorbar": {
             "outlinewidth": 0,
             "ticks": ""
            },
            "type": "contourcarpet"
           }
          ],
          "heatmap": [
           {
            "colorbar": {
             "outlinewidth": 0,
             "ticks": ""
            },
            "colorscale": [
             [
              0,
              "#0d0887"
             ],
             [
              0.1111111111111111,
              "#46039f"
             ],
             [
              0.2222222222222222,
              "#7201a8"
             ],
             [
              0.3333333333333333,
              "#9c179e"
             ],
             [
              0.4444444444444444,
              "#bd3786"
             ],
             [
              0.5555555555555556,
              "#d8576b"
             ],
             [
              0.6666666666666666,
              "#ed7953"
             ],
             [
              0.7777777777777778,
              "#fb9f3a"
             ],
             [
              0.8888888888888888,
              "#fdca26"
             ],
             [
              1,
              "#f0f921"
             ]
            ],
            "type": "heatmap"
           }
          ],
          "histogram": [
           {
            "marker": {
             "pattern": {
              "fillmode": "overlay",
              "size": 10,
              "solidity": 0.2
             }
            },
            "type": "histogram"
           }
          ],
          "histogram2d": [
           {
            "colorbar": {
             "outlinewidth": 0,
             "ticks": ""
            },
            "colorscale": [
             [
              0,
              "#0d0887"
             ],
             [
              0.1111111111111111,
              "#46039f"
             ],
             [
              0.2222222222222222,
              "#7201a8"
             ],
             [
              0.3333333333333333,
              "#9c179e"
             ],
             [
              0.4444444444444444,
              "#bd3786"
             ],
             [
              0.5555555555555556,
              "#d8576b"
             ],
             [
              0.6666666666666666,
              "#ed7953"
             ],
             [
              0.7777777777777778,
              "#fb9f3a"
             ],
             [
              0.8888888888888888,
              "#fdca26"
             ],
             [
              1,
              "#f0f921"
             ]
            ],
            "type": "histogram2d"
           }
          ],
          "histogram2dcontour": [
           {
            "colorbar": {
             "outlinewidth": 0,
             "ticks": ""
            },
            "colorscale": [
             [
              0,
              "#0d0887"
             ],
             [
              0.1111111111111111,
              "#46039f"
             ],
             [
              0.2222222222222222,
              "#7201a8"
             ],
             [
              0.3333333333333333,
              "#9c179e"
             ],
             [
              0.4444444444444444,
              "#bd3786"
             ],
             [
              0.5555555555555556,
              "#d8576b"
             ],
             [
              0.6666666666666666,
              "#ed7953"
             ],
             [
              0.7777777777777778,
              "#fb9f3a"
             ],
             [
              0.8888888888888888,
              "#fdca26"
             ],
             [
              1,
              "#f0f921"
             ]
            ],
            "type": "histogram2dcontour"
           }
          ],
          "mesh3d": [
           {
            "colorbar": {
             "outlinewidth": 0,
             "ticks": ""
            },
            "type": "mesh3d"
           }
          ],
          "parcoords": [
           {
            "line": {
             "colorbar": {
              "outlinewidth": 0,
              "ticks": ""
             }
            },
            "type": "parcoords"
           }
          ],
          "pie": [
           {
            "automargin": true,
            "type": "pie"
           }
          ],
          "scatter": [
           {
            "fillpattern": {
             "fillmode": "overlay",
             "size": 10,
             "solidity": 0.2
            },
            "type": "scatter"
           }
          ],
          "scatter3d": [
           {
            "line": {
             "colorbar": {
              "outlinewidth": 0,
              "ticks": ""
             }
            },
            "marker": {
             "colorbar": {
              "outlinewidth": 0,
              "ticks": ""
             }
            },
            "type": "scatter3d"
           }
          ],
          "scattercarpet": [
           {
            "marker": {
             "colorbar": {
              "outlinewidth": 0,
              "ticks": ""
             }
            },
            "type": "scattercarpet"
           }
          ],
          "scattergeo": [
           {
            "marker": {
             "colorbar": {
              "outlinewidth": 0,
              "ticks": ""
             }
            },
            "type": "scattergeo"
           }
          ],
          "scattergl": [
           {
            "marker": {
             "colorbar": {
              "outlinewidth": 0,
              "ticks": ""
             }
            },
            "type": "scattergl"
           }
          ],
          "scattermap": [
           {
            "marker": {
             "colorbar": {
              "outlinewidth": 0,
              "ticks": ""
             }
            },
            "type": "scattermap"
           }
          ],
          "scattermapbox": [
           {
            "marker": {
             "colorbar": {
              "outlinewidth": 0,
              "ticks": ""
             }
            },
            "type": "scattermapbox"
           }
          ],
          "scatterpolar": [
           {
            "marker": {
             "colorbar": {
              "outlinewidth": 0,
              "ticks": ""
             }
            },
            "type": "scatterpolar"
           }
          ],
          "scatterpolargl": [
           {
            "marker": {
             "colorbar": {
              "outlinewidth": 0,
              "ticks": ""
             }
            },
            "type": "scatterpolargl"
           }
          ],
          "scatterternary": [
           {
            "marker": {
             "colorbar": {
              "outlinewidth": 0,
              "ticks": ""
             }
            },
            "type": "scatterternary"
           }
          ],
          "surface": [
           {
            "colorbar": {
             "outlinewidth": 0,
             "ticks": ""
            },
            "colorscale": [
             [
              0,
              "#0d0887"
             ],
             [
              0.1111111111111111,
              "#46039f"
             ],
             [
              0.2222222222222222,
              "#7201a8"
             ],
             [
              0.3333333333333333,
              "#9c179e"
             ],
             [
              0.4444444444444444,
              "#bd3786"
             ],
             [
              0.5555555555555556,
              "#d8576b"
             ],
             [
              0.6666666666666666,
              "#ed7953"
             ],
             [
              0.7777777777777778,
              "#fb9f3a"
             ],
             [
              0.8888888888888888,
              "#fdca26"
             ],
             [
              1,
              "#f0f921"
             ]
            ],
            "type": "surface"
           }
          ],
          "table": [
           {
            "cells": {
             "fill": {
              "color": "#EBF0F8"
             },
             "line": {
              "color": "white"
             }
            },
            "header": {
             "fill": {
              "color": "#C8D4E3"
             },
             "line": {
              "color": "white"
             }
            },
            "type": "table"
           }
          ]
         },
         "layout": {
          "annotationdefaults": {
           "arrowcolor": "#2a3f5f",
           "arrowhead": 0,
           "arrowwidth": 1
          },
          "autotypenumbers": "strict",
          "coloraxis": {
           "colorbar": {
            "outlinewidth": 0,
            "ticks": ""
           }
          },
          "colorscale": {
           "diverging": [
            [
             0,
             "#8e0152"
            ],
            [
             0.1,
             "#c51b7d"
            ],
            [
             0.2,
             "#de77ae"
            ],
            [
             0.3,
             "#f1b6da"
            ],
            [
             0.4,
             "#fde0ef"
            ],
            [
             0.5,
             "#f7f7f7"
            ],
            [
             0.6,
             "#e6f5d0"
            ],
            [
             0.7,
             "#b8e186"
            ],
            [
             0.8,
             "#7fbc41"
            ],
            [
             0.9,
             "#4d9221"
            ],
            [
             1,
             "#276419"
            ]
           ],
           "sequential": [
            [
             0,
             "#0d0887"
            ],
            [
             0.1111111111111111,
             "#46039f"
            ],
            [
             0.2222222222222222,
             "#7201a8"
            ],
            [
             0.3333333333333333,
             "#9c179e"
            ],
            [
             0.4444444444444444,
             "#bd3786"
            ],
            [
             0.5555555555555556,
             "#d8576b"
            ],
            [
             0.6666666666666666,
             "#ed7953"
            ],
            [
             0.7777777777777778,
             "#fb9f3a"
            ],
            [
             0.8888888888888888,
             "#fdca26"
            ],
            [
             1,
             "#f0f921"
            ]
           ],
           "sequentialminus": [
            [
             0,
             "#0d0887"
            ],
            [
             0.1111111111111111,
             "#46039f"
            ],
            [
             0.2222222222222222,
             "#7201a8"
            ],
            [
             0.3333333333333333,
             "#9c179e"
            ],
            [
             0.4444444444444444,
             "#bd3786"
            ],
            [
             0.5555555555555556,
             "#d8576b"
            ],
            [
             0.6666666666666666,
             "#ed7953"
            ],
            [
             0.7777777777777778,
             "#fb9f3a"
            ],
            [
             0.8888888888888888,
             "#fdca26"
            ],
            [
             1,
             "#f0f921"
            ]
           ]
          },
          "colorway": [
           "#636efa",
           "#EF553B",
           "#00cc96",
           "#ab63fa",
           "#FFA15A",
           "#19d3f3",
           "#FF6692",
           "#B6E880",
           "#FF97FF",
           "#FECB52"
          ],
          "font": {
           "color": "#2a3f5f"
          },
          "geo": {
           "bgcolor": "white",
           "lakecolor": "white",
           "landcolor": "#E5ECF6",
           "showlakes": true,
           "showland": true,
           "subunitcolor": "white"
          },
          "hoverlabel": {
           "align": "left"
          },
          "hovermode": "closest",
          "mapbox": {
           "style": "light"
          },
          "paper_bgcolor": "white",
          "plot_bgcolor": "#E5ECF6",
          "polar": {
           "angularaxis": {
            "gridcolor": "white",
            "linecolor": "white",
            "ticks": ""
           },
           "bgcolor": "#E5ECF6",
           "radialaxis": {
            "gridcolor": "white",
            "linecolor": "white",
            "ticks": ""
           }
          },
          "scene": {
           "xaxis": {
            "backgroundcolor": "#E5ECF6",
            "gridcolor": "white",
            "gridwidth": 2,
            "linecolor": "white",
            "showbackground": true,
            "ticks": "",
            "zerolinecolor": "white"
           },
           "yaxis": {
            "backgroundcolor": "#E5ECF6",
            "gridcolor": "white",
            "gridwidth": 2,
            "linecolor": "white",
            "showbackground": true,
            "ticks": "",
            "zerolinecolor": "white"
           },
           "zaxis": {
            "backgroundcolor": "#E5ECF6",
            "gridcolor": "white",
            "gridwidth": 2,
            "linecolor": "white",
            "showbackground": true,
            "ticks": "",
            "zerolinecolor": "white"
           }
          },
          "shapedefaults": {
           "line": {
            "color": "#2a3f5f"
           }
          },
          "ternary": {
           "aaxis": {
            "gridcolor": "white",
            "linecolor": "white",
            "ticks": ""
           },
           "baxis": {
            "gridcolor": "white",
            "linecolor": "white",
            "ticks": ""
           },
           "bgcolor": "#E5ECF6",
           "caxis": {
            "gridcolor": "white",
            "linecolor": "white",
            "ticks": ""
           }
          },
          "title": {
           "x": 0.05
          },
          "xaxis": {
           "automargin": true,
           "gridcolor": "white",
           "linecolor": "white",
           "ticks": "",
           "title": {
            "standoff": 15
           },
           "zerolinecolor": "white",
           "zerolinewidth": 2
          },
          "yaxis": {
           "automargin": true,
           "gridcolor": "white",
           "linecolor": "white",
           "ticks": "",
           "title": {
            "standoff": 15
           },
           "zerolinecolor": "white",
           "zerolinewidth": 2
          }
         }
        },
        "title": {
         "text": "Ataques de tiburones por país"
        }
       }
      }
     },
     "metadata": {},
     "output_type": "display_data"
    }
   ],
   "source": [
    "fig = px.choropleth(\n",
    "    ataques_por_pais,\n",
    "    locations='country',\n",
    "    locationmode='country names',  # Usa los nombres de países\n",
    "    color='num_ataques',\n",
    "    color_continuous_scale='Reds',  # Escala de color roja\n",
    "    title='Ataques de tiburones por país'\n",
    ")\n",
    "\n",
    "fig.show()"
   ]
  },
  {
   "cell_type": "code",
   "execution_count": 33,
   "id": "fe6b90ab",
   "metadata": {},
   "outputs": [
    {
     "ename": "NameError",
     "evalue": "name 'world' is not defined",
     "output_type": "error",
     "traceback": [
      "\u001b[31m---------------------------------------------------------------------------\u001b[39m",
      "\u001b[31mNameError\u001b[39m                                 Traceback (most recent call last)",
      "\u001b[36mCell\u001b[39m\u001b[36m \u001b[39m\u001b[32mIn[33]\u001b[39m\u001b[32m, line 1\u001b[39m\n\u001b[32m----> \u001b[39m\u001b[32m1\u001b[39m \u001b[43mworld\u001b[49m.plot()\n\u001b[32m      2\u001b[39m plt.title(\u001b[33m'\u001b[39m\u001b[33mMapa del mundo base\u001b[39m\u001b[33m'\u001b[39m)\n\u001b[32m      3\u001b[39m plt.show()\n",
      "\u001b[31mNameError\u001b[39m: name 'world' is not defined"
     ]
    }
   ],
   "source": [
    "world.plot()\n",
    "plt.title('Mapa del mundo base')\n",
    "plt.show()"
   ]
  }
 ],
 "metadata": {
  "kernelspec": {
   "display_name": "Python 3",
   "language": "python",
   "name": "python3"
  },
  "language_info": {
   "codemirror_mode": {
    "name": "ipython",
    "version": 3
   },
   "file_extension": ".py",
   "mimetype": "text/x-python",
   "name": "python",
   "nbconvert_exporter": "python",
   "pygments_lexer": "ipython3",
   "version": "3.13.7"
  }
 },
 "nbformat": 4,
 "nbformat_minor": 5
}
