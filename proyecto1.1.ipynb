{
 "cells": [
  {
   "cell_type": "code",
   "execution_count": 16,
   "id": "02f1e854",
   "metadata": {},
   "outputs": [
    {
     "name": "stdout",
     "output_type": "stream",
     "text": [
      "Cargado: (7045, 23)\n"
     ]
    },
    {
     "data": {
      "application/vnd.microsoft.datawrangler.viewer.v0+json": {
       "columns": [
        {
         "name": "index",
         "rawType": "int64",
         "type": "integer"
        },
        {
         "name": "Date",
         "rawType": "object",
         "type": "string"
        },
        {
         "name": "Year",
         "rawType": "object",
         "type": "string"
        },
        {
         "name": "Type",
         "rawType": "object",
         "type": "string"
        },
        {
         "name": "Country",
         "rawType": "object",
         "type": "string"
        },
        {
         "name": "State",
         "rawType": "object",
         "type": "string"
        },
        {
         "name": "Location",
         "rawType": "object",
         "type": "string"
        },
        {
         "name": "Activity",
         "rawType": "object",
         "type": "string"
        },
        {
         "name": "Name",
         "rawType": "object",
         "type": "string"
        },
        {
         "name": "Sex",
         "rawType": "object",
         "type": "string"
        },
        {
         "name": "Age",
         "rawType": "object",
         "type": "string"
        },
        {
         "name": "Injury",
         "rawType": "object",
         "type": "string"
        },
        {
         "name": "Fatal Y/N",
         "rawType": "object",
         "type": "string"
        },
        {
         "name": "Time",
         "rawType": "object",
         "type": "string"
        },
        {
         "name": "Species ",
         "rawType": "object",
         "type": "string"
        },
        {
         "name": "Source",
         "rawType": "object",
         "type": "string"
        },
        {
         "name": "pdf",
         "rawType": "object",
         "type": "unknown"
        },
        {
         "name": "href formula",
         "rawType": "object",
         "type": "unknown"
        },
        {
         "name": "href",
         "rawType": "object",
         "type": "unknown"
        },
        {
         "name": "Case Number",
         "rawType": "object",
         "type": "unknown"
        },
        {
         "name": "Case Number.1",
         "rawType": "object",
         "type": "unknown"
        },
        {
         "name": "original order",
         "rawType": "float64",
         "type": "float"
        },
        {
         "name": "Unnamed: 21",
         "rawType": "object",
         "type": "unknown"
        },
        {
         "name": "Unnamed: 22",
         "rawType": "object",
         "type": "unknown"
        }
       ],
       "ref": "f2fac876-9d96-4e4b-be03-e07ffed184e8",
       "rows": [
        [
         "0",
         "6th September",
         "2025",
         "Unprovoked",
         "Australia",
         "NSW",
         "Long Reef Sydney",
         "Surfing",
         "Mercury Psillaskis",
         "M",
         "57",
         "Both legs and arm severed",
         "Y",
         "0930hrs",
         "Great White Shark",
         "Todd Smith: Andy Currie: Simon De Marchi: Kevin McMurray Trackingsharks.com:",
         null,
         null,
         null,
         null,
         null,
         null,
         null,
         null
        ],
        [
         "1",
         "1st September",
         "2025",
         "Unprovoked",
         "USA",
         "Florida",
         "Horseshoe reef Key Largo",
         "Snorkeling",
         "Richard Burrows",
         "M",
         "8",
         "Bite to leg",
         "N",
         "1524hrs",
         "Not stated",
         "Todd Smith: US SUN: NY Post: The Guardian: People:",
         null,
         null,
         null,
         null,
         null,
         null,
         null,
         null
        ],
        [
         "2",
         "30th August",
         "2025",
         "Unprovoked",
         "USA",
         "Texas",
         "Galveston",
         "Swimming",
         "Harper Ochoa",
         "F",
         "8",
         "Bite to leg",
         "N",
         "Not stated",
         "Not stated",
         "Bob Myatt GSAF : People:",
         null,
         null,
         null,
         null,
         null,
         null,
         null,
         null
        ],
        [
         "3",
         "18th August",
         "2025",
         "Unprovoked",
         "Australia",
         "NSW",
         "Cabarita Beach",
         "Surfing",
         "Brad Ross",
         "M",
         "?",
         "None sustained board severly damaged",
         "N",
         "0730hrs",
         "5m (16.5ft) Great White",
         "Bob Myatt GSAF The Guardian: 9 News: ABS News: Daily Telegraph:",
         null,
         null,
         null,
         null,
         null,
         null,
         null,
         null
        ],
        [
         "4",
         "17th August",
         "2025",
         "Unprovoked",
         "Bahamas",
         "Atlantic Ocean near Big Grand Cay",
         "North of Grand Bahama near Freeport",
         "Spearfishing",
         "Not stated",
         "M",
         "63",
         "Severe injuries no detail",
         "N",
         "1300hrs",
         "Undetermined",
         "Ralph Collier GSAF and Kevin MCMurray Trackingsharks.com ",
         null,
         null,
         null,
         null,
         null,
         null,
         null,
         null
        ]
       ],
       "shape": {
        "columns": 23,
        "rows": 5
       }
      },
      "text/html": [
       "<div>\n",
       "<style scoped>\n",
       "    .dataframe tbody tr th:only-of-type {\n",
       "        vertical-align: middle;\n",
       "    }\n",
       "\n",
       "    .dataframe tbody tr th {\n",
       "        vertical-align: top;\n",
       "    }\n",
       "\n",
       "    .dataframe thead th {\n",
       "        text-align: right;\n",
       "    }\n",
       "</style>\n",
       "<table border=\"1\" class=\"dataframe\">\n",
       "  <thead>\n",
       "    <tr style=\"text-align: right;\">\n",
       "      <th></th>\n",
       "      <th>Date</th>\n",
       "      <th>Year</th>\n",
       "      <th>Type</th>\n",
       "      <th>Country</th>\n",
       "      <th>State</th>\n",
       "      <th>Location</th>\n",
       "      <th>Activity</th>\n",
       "      <th>Name</th>\n",
       "      <th>Sex</th>\n",
       "      <th>Age</th>\n",
       "      <th>...</th>\n",
       "      <th>Species</th>\n",
       "      <th>Source</th>\n",
       "      <th>pdf</th>\n",
       "      <th>href formula</th>\n",
       "      <th>href</th>\n",
       "      <th>Case Number</th>\n",
       "      <th>Case Number.1</th>\n",
       "      <th>original order</th>\n",
       "      <th>Unnamed: 21</th>\n",
       "      <th>Unnamed: 22</th>\n",
       "    </tr>\n",
       "  </thead>\n",
       "  <tbody>\n",
       "    <tr>\n",
       "      <th>0</th>\n",
       "      <td>6th September</td>\n",
       "      <td>2025</td>\n",
       "      <td>Unprovoked</td>\n",
       "      <td>Australia</td>\n",
       "      <td>NSW</td>\n",
       "      <td>Long Reef Sydney</td>\n",
       "      <td>Surfing</td>\n",
       "      <td>Mercury Psillaskis</td>\n",
       "      <td>M</td>\n",
       "      <td>57</td>\n",
       "      <td>...</td>\n",
       "      <td>Great White Shark</td>\n",
       "      <td>Todd Smith: Andy Currie: Simon De Marchi: Kevi...</td>\n",
       "      <td>NaN</td>\n",
       "      <td>NaN</td>\n",
       "      <td>NaN</td>\n",
       "      <td>NaN</td>\n",
       "      <td>NaN</td>\n",
       "      <td>NaN</td>\n",
       "      <td>NaN</td>\n",
       "      <td>NaN</td>\n",
       "    </tr>\n",
       "    <tr>\n",
       "      <th>1</th>\n",
       "      <td>1st September</td>\n",
       "      <td>2025</td>\n",
       "      <td>Unprovoked</td>\n",
       "      <td>USA</td>\n",
       "      <td>Florida</td>\n",
       "      <td>Horseshoe reef Key Largo</td>\n",
       "      <td>Snorkeling</td>\n",
       "      <td>Richard Burrows</td>\n",
       "      <td>M</td>\n",
       "      <td>8</td>\n",
       "      <td>...</td>\n",
       "      <td>Not stated</td>\n",
       "      <td>Todd Smith: US SUN: NY Post: The Guardian: Peo...</td>\n",
       "      <td>NaN</td>\n",
       "      <td>NaN</td>\n",
       "      <td>NaN</td>\n",
       "      <td>NaN</td>\n",
       "      <td>NaN</td>\n",
       "      <td>NaN</td>\n",
       "      <td>NaN</td>\n",
       "      <td>NaN</td>\n",
       "    </tr>\n",
       "    <tr>\n",
       "      <th>2</th>\n",
       "      <td>30th August</td>\n",
       "      <td>2025</td>\n",
       "      <td>Unprovoked</td>\n",
       "      <td>USA</td>\n",
       "      <td>Texas</td>\n",
       "      <td>Galveston</td>\n",
       "      <td>Swimming</td>\n",
       "      <td>Harper Ochoa</td>\n",
       "      <td>F</td>\n",
       "      <td>8</td>\n",
       "      <td>...</td>\n",
       "      <td>Not stated</td>\n",
       "      <td>Bob Myatt GSAF : People:</td>\n",
       "      <td>NaN</td>\n",
       "      <td>NaN</td>\n",
       "      <td>NaN</td>\n",
       "      <td>NaN</td>\n",
       "      <td>NaN</td>\n",
       "      <td>NaN</td>\n",
       "      <td>NaN</td>\n",
       "      <td>NaN</td>\n",
       "    </tr>\n",
       "    <tr>\n",
       "      <th>3</th>\n",
       "      <td>18th August</td>\n",
       "      <td>2025</td>\n",
       "      <td>Unprovoked</td>\n",
       "      <td>Australia</td>\n",
       "      <td>NSW</td>\n",
       "      <td>Cabarita Beach</td>\n",
       "      <td>Surfing</td>\n",
       "      <td>Brad Ross</td>\n",
       "      <td>M</td>\n",
       "      <td>?</td>\n",
       "      <td>...</td>\n",
       "      <td>5m (16.5ft) Great White</td>\n",
       "      <td>Bob Myatt GSAF The Guardian: 9 News: ABS News:...</td>\n",
       "      <td>NaN</td>\n",
       "      <td>NaN</td>\n",
       "      <td>NaN</td>\n",
       "      <td>NaN</td>\n",
       "      <td>NaN</td>\n",
       "      <td>NaN</td>\n",
       "      <td>NaN</td>\n",
       "      <td>NaN</td>\n",
       "    </tr>\n",
       "    <tr>\n",
       "      <th>4</th>\n",
       "      <td>17th August</td>\n",
       "      <td>2025</td>\n",
       "      <td>Unprovoked</td>\n",
       "      <td>Bahamas</td>\n",
       "      <td>Atlantic Ocean near Big Grand Cay</td>\n",
       "      <td>North of Grand Bahama near Freeport</td>\n",
       "      <td>Spearfishing</td>\n",
       "      <td>Not stated</td>\n",
       "      <td>M</td>\n",
       "      <td>63</td>\n",
       "      <td>...</td>\n",
       "      <td>Undetermined</td>\n",
       "      <td>Ralph Collier GSAF and Kevin MCMurray Tracking...</td>\n",
       "      <td>NaN</td>\n",
       "      <td>NaN</td>\n",
       "      <td>NaN</td>\n",
       "      <td>NaN</td>\n",
       "      <td>NaN</td>\n",
       "      <td>NaN</td>\n",
       "      <td>NaN</td>\n",
       "      <td>NaN</td>\n",
       "    </tr>\n",
       "  </tbody>\n",
       "</table>\n",
       "<p>5 rows × 23 columns</p>\n",
       "</div>"
      ],
      "text/plain": [
       "            Date  Year        Type    Country  \\\n",
       "0  6th September  2025  Unprovoked  Australia   \n",
       "1  1st September  2025  Unprovoked        USA   \n",
       "2    30th August  2025  Unprovoked        USA   \n",
       "3    18th August  2025  Unprovoked  Australia   \n",
       "4    17th August  2025  Unprovoked    Bahamas   \n",
       "\n",
       "                               State                             Location  \\\n",
       "0                                NSW                     Long Reef Sydney   \n",
       "1                            Florida             Horseshoe reef Key Largo   \n",
       "2                              Texas                            Galveston   \n",
       "3                                NSW                       Cabarita Beach   \n",
       "4  Atlantic Ocean near Big Grand Cay  North of Grand Bahama near Freeport   \n",
       "\n",
       "       Activity                Name Sex Age  ...                 Species   \\\n",
       "0       Surfing  Mercury Psillaskis   M  57  ...        Great White Shark   \n",
       "1    Snorkeling     Richard Burrows   M   8  ...               Not stated   \n",
       "2      Swimming        Harper Ochoa   F   8  ...               Not stated   \n",
       "3       Surfing           Brad Ross   M   ?  ...  5m (16.5ft) Great White   \n",
       "4  Spearfishing          Not stated   M  63  ...             Undetermined   \n",
       "\n",
       "                                              Source  pdf href formula href  \\\n",
       "0  Todd Smith: Andy Currie: Simon De Marchi: Kevi...  NaN          NaN  NaN   \n",
       "1  Todd Smith: US SUN: NY Post: The Guardian: Peo...  NaN          NaN  NaN   \n",
       "2                           Bob Myatt GSAF : People:  NaN          NaN  NaN   \n",
       "3  Bob Myatt GSAF The Guardian: 9 News: ABS News:...  NaN          NaN  NaN   \n",
       "4  Ralph Collier GSAF and Kevin MCMurray Tracking...  NaN          NaN  NaN   \n",
       "\n",
       "  Case Number Case Number.1 original order Unnamed: 21 Unnamed: 22  \n",
       "0         NaN           NaN            NaN         NaN         NaN  \n",
       "1         NaN           NaN            NaN         NaN         NaN  \n",
       "2         NaN           NaN            NaN         NaN         NaN  \n",
       "3         NaN           NaN            NaN         NaN         NaN  \n",
       "4         NaN           NaN            NaN         NaN         NaN  \n",
       "\n",
       "[5 rows x 23 columns]"
      ]
     },
     "execution_count": 16,
     "metadata": {},
     "output_type": "execute_result"
    }
   ],
   "source": [
    "# --------------------------\n",
    "# BLOQUE 1 · CARGA Y REVISIÓN INICIAL\n",
    "# --------------------------\n",
    "from pathlib import Path\n",
    "import numpy as np\n",
    "import pandas as pd\n",
    "import re\n",
    "\n",
    "BASE = Path.cwd()\n",
    "DATA_RAW = BASE / \"data\" / \"raw\"\n",
    "DATA_PROCESSED = BASE / \"data\" / \"processed\"\n",
    "DATA_PROCESSED.mkdir(parents=True, exist_ok=True)\n",
    "\n",
    "ARCHIVO = DATA_RAW / \"GSAF5.csv\"\n",
    "\n",
    "df = pd.read_csv(ARCHIVO, encoding=\"latin-1\")\n",
    "print(\"Cargado:\", df.shape)\n",
    "df.head(5)\n"
   ]
  },
  {
   "cell_type": "code",
   "execution_count": 17,
   "id": "296021a8",
   "metadata": {},
   "outputs": [
    {
     "name": "stdout",
     "output_type": "stream",
     "text": [
      "<class 'pandas.core.frame.DataFrame'>\n",
      "RangeIndex: 7045 entries, 0 to 7044\n",
      "Data columns (total 23 columns):\n",
      " #   Column          Non-Null Count  Dtype  \n",
      "---  ------          --------------  -----  \n",
      " 0   Date            7045 non-null   object \n",
      " 1   Year            7043 non-null   object \n",
      " 2   Type            7027 non-null   object \n",
      " 3   Country         6995 non-null   object \n",
      " 4   State           6560 non-null   object \n",
      " 5   Location        6478 non-null   object \n",
      " 6   Activity        6460 non-null   object \n",
      " 7   Name            6826 non-null   object \n",
      " 8   Sex             6466 non-null   object \n",
      " 9   Age             4051 non-null   object \n",
      " 10  Injury          7010 non-null   object \n",
      " 11  Fatal Y/N       6484 non-null   object \n",
      " 12  Time            3519 non-null   object \n",
      " 13  Species         3914 non-null   object \n",
      " 14  Source          7025 non-null   object \n",
      " 15  pdf             6799 non-null   object \n",
      " 16  href formula    6794 non-null   object \n",
      " 17  href            6796 non-null   object \n",
      " 18  Case Number     6798 non-null   object \n",
      " 19  Case Number.1   6797 non-null   object \n",
      " 20  original order  6799 non-null   float64\n",
      " 21  Unnamed: 21     1 non-null      object \n",
      " 22  Unnamed: 22     2 non-null      object \n",
      "dtypes: float64(1), object(22)\n",
      "memory usage: 1.2+ MB\n",
      "\n",
      "Nulos (%):\n"
     ]
    },
    {
     "data": {
      "application/vnd.microsoft.datawrangler.viewer.v0+json": {
       "columns": [
        {
         "name": "index",
         "rawType": "object",
         "type": "string"
        },
        {
         "name": "0",
         "rawType": "float64",
         "type": "float"
        }
       ],
       "ref": "b4588f0e-f108-4008-8a9c-b6bb0e865872",
       "rows": [
        [
         "Unnamed: 21",
         "99.99"
        ],
        [
         "Unnamed: 22",
         "99.97"
        ],
        [
         "Time",
         "50.05"
        ],
        [
         "Species ",
         "44.44"
        ],
        [
         "Age",
         "42.5"
        ],
        [
         "Activity",
         "8.3"
        ],
        [
         "Sex",
         "8.22"
        ],
        [
         "Location",
         "8.05"
        ],
        [
         "Fatal Y/N",
         "7.96"
        ],
        [
         "State",
         "6.88"
        ],
        [
         "href formula",
         "3.56"
        ],
        [
         "href",
         "3.53"
        ],
        [
         "Case Number.1",
         "3.52"
        ],
        [
         "Case Number",
         "3.51"
        ],
        [
         "pdf",
         "3.49"
        ],
        [
         "original order",
         "3.49"
        ],
        [
         "Name",
         "3.11"
        ],
        [
         "Country",
         "0.71"
        ],
        [
         "Injury",
         "0.5"
        ],
        [
         "Source",
         "0.28"
        ]
       ],
       "shape": {
        "columns": 1,
        "rows": 20
       }
      },
      "text/plain": [
       "Unnamed: 21       99.99\n",
       "Unnamed: 22       99.97\n",
       "Time              50.05\n",
       "Species           44.44\n",
       "Age               42.50\n",
       "Activity           8.30\n",
       "Sex                8.22\n",
       "Location           8.05\n",
       "Fatal Y/N          7.96\n",
       "State              6.88\n",
       "href formula       3.56\n",
       "href               3.53\n",
       "Case Number.1      3.52\n",
       "Case Number        3.51\n",
       "pdf                3.49\n",
       "original order     3.49\n",
       "Name               3.11\n",
       "Country            0.71\n",
       "Injury             0.50\n",
       "Source             0.28\n",
       "dtype: float64"
      ]
     },
     "metadata": {},
     "output_type": "display_data"
    }
   ],
   "source": [
    "# Información general\n",
    "df.info()\n",
    "print(\"\\nNulos (%):\")\n",
    "display((df.isna().mean().sort_values(ascending=False)*100).round(2).head(20))\n"
   ]
  },
  {
   "cell_type": "code",
   "execution_count": 18,
   "id": "b1350a72",
   "metadata": {},
   "outputs": [
    {
     "name": "stdout",
     "output_type": "stream",
     "text": [
      "Columnas traducidas: ['Fecha', 'Año', 'País', 'Estado', 'Sexo', 'Edad', 'Provocado', 'Provocado', 'Fatal', 'Hora', 'Especie', 'Herida']\n"
     ]
    },
    {
     "data": {
      "application/vnd.microsoft.datawrangler.viewer.v0+json": {
       "columns": [
        {
         "name": "index",
         "rawType": "int64",
         "type": "integer"
        },
        {
         "name": "Fecha",
         "rawType": "object",
         "type": "string"
        },
        {
         "name": "Año",
         "rawType": "object",
         "type": "string"
        },
        {
         "name": "País",
         "rawType": "object",
         "type": "string"
        },
        {
         "name": "Estado",
         "rawType": "object",
         "type": "string"
        },
        {
         "name": "Sexo",
         "rawType": "object",
         "type": "string"
        },
        {
         "name": "Edad",
         "rawType": "object",
         "type": "string"
        },
        {
         "name": "Provocado",
         "rawType": "object",
         "type": "string"
        },
        {
         "name": "Provocado",
         "rawType": "object",
         "type": "string"
        },
        {
         "name": "Fatal",
         "rawType": "object",
         "type": "string"
        },
        {
         "name": "Hora",
         "rawType": "object",
         "type": "string"
        },
        {
         "name": "Especie",
         "rawType": "object",
         "type": "string"
        },
        {
         "name": "Herida",
         "rawType": "object",
         "type": "string"
        }
       ],
       "ref": "5ddcad94-ff7b-4b05-8c47-1a4d4efb1ed3",
       "rows": [
        [
         "0",
         "6th September",
         "2025",
         "Australia",
         "NSW",
         "M",
         "57",
         "Unprovoked",
         "Unprovoked",
         "Y",
         "0930hrs",
         "Great White Shark",
         "Both legs and arm severed"
        ],
        [
         "1",
         "1st September",
         "2025",
         "USA",
         "Florida",
         "M",
         "8",
         "Unprovoked",
         "Unprovoked",
         "N",
         "1524hrs",
         "Not stated",
         "Bite to leg"
        ],
        [
         "2",
         "30th August",
         "2025",
         "USA",
         "Texas",
         "F",
         "8",
         "Unprovoked",
         "Unprovoked",
         "N",
         "Not stated",
         "Not stated",
         "Bite to leg"
        ],
        [
         "3",
         "18th August",
         "2025",
         "Australia",
         "NSW",
         "M",
         "?",
         "Unprovoked",
         "Unprovoked",
         "N",
         "0730hrs",
         "5m (16.5ft) Great White",
         "None sustained board severly damaged"
        ],
        [
         "4",
         "17th August",
         "2025",
         "Bahamas",
         "Atlantic Ocean near Big Grand Cay",
         "M",
         "63",
         "Unprovoked",
         "Unprovoked",
         "N",
         "1300hrs",
         "Undetermined",
         "Severe injuries no detail"
        ]
       ],
       "shape": {
        "columns": 12,
        "rows": 5
       }
      },
      "text/html": [
       "<div>\n",
       "<style scoped>\n",
       "    .dataframe tbody tr th:only-of-type {\n",
       "        vertical-align: middle;\n",
       "    }\n",
       "\n",
       "    .dataframe tbody tr th {\n",
       "        vertical-align: top;\n",
       "    }\n",
       "\n",
       "    .dataframe thead th {\n",
       "        text-align: right;\n",
       "    }\n",
       "</style>\n",
       "<table border=\"1\" class=\"dataframe\">\n",
       "  <thead>\n",
       "    <tr style=\"text-align: right;\">\n",
       "      <th></th>\n",
       "      <th>Fecha</th>\n",
       "      <th>Año</th>\n",
       "      <th>País</th>\n",
       "      <th>Estado</th>\n",
       "      <th>Sexo</th>\n",
       "      <th>Edad</th>\n",
       "      <th>Provocado</th>\n",
       "      <th>Provocado</th>\n",
       "      <th>Fatal</th>\n",
       "      <th>Hora</th>\n",
       "      <th>Especie</th>\n",
       "      <th>Herida</th>\n",
       "    </tr>\n",
       "  </thead>\n",
       "  <tbody>\n",
       "    <tr>\n",
       "      <th>0</th>\n",
       "      <td>6th September</td>\n",
       "      <td>2025</td>\n",
       "      <td>Australia</td>\n",
       "      <td>NSW</td>\n",
       "      <td>M</td>\n",
       "      <td>57</td>\n",
       "      <td>Unprovoked</td>\n",
       "      <td>Unprovoked</td>\n",
       "      <td>Y</td>\n",
       "      <td>0930hrs</td>\n",
       "      <td>Great White Shark</td>\n",
       "      <td>Both legs and arm severed</td>\n",
       "    </tr>\n",
       "    <tr>\n",
       "      <th>1</th>\n",
       "      <td>1st September</td>\n",
       "      <td>2025</td>\n",
       "      <td>USA</td>\n",
       "      <td>Florida</td>\n",
       "      <td>M</td>\n",
       "      <td>8</td>\n",
       "      <td>Unprovoked</td>\n",
       "      <td>Unprovoked</td>\n",
       "      <td>N</td>\n",
       "      <td>1524hrs</td>\n",
       "      <td>Not stated</td>\n",
       "      <td>Bite to leg</td>\n",
       "    </tr>\n",
       "    <tr>\n",
       "      <th>2</th>\n",
       "      <td>30th August</td>\n",
       "      <td>2025</td>\n",
       "      <td>USA</td>\n",
       "      <td>Texas</td>\n",
       "      <td>F</td>\n",
       "      <td>8</td>\n",
       "      <td>Unprovoked</td>\n",
       "      <td>Unprovoked</td>\n",
       "      <td>N</td>\n",
       "      <td>Not stated</td>\n",
       "      <td>Not stated</td>\n",
       "      <td>Bite to leg</td>\n",
       "    </tr>\n",
       "    <tr>\n",
       "      <th>3</th>\n",
       "      <td>18th August</td>\n",
       "      <td>2025</td>\n",
       "      <td>Australia</td>\n",
       "      <td>NSW</td>\n",
       "      <td>M</td>\n",
       "      <td>?</td>\n",
       "      <td>Unprovoked</td>\n",
       "      <td>Unprovoked</td>\n",
       "      <td>N</td>\n",
       "      <td>0730hrs</td>\n",
       "      <td>5m (16.5ft) Great White</td>\n",
       "      <td>None sustained board severly damaged</td>\n",
       "    </tr>\n",
       "    <tr>\n",
       "      <th>4</th>\n",
       "      <td>17th August</td>\n",
       "      <td>2025</td>\n",
       "      <td>Bahamas</td>\n",
       "      <td>Atlantic Ocean near Big Grand Cay</td>\n",
       "      <td>M</td>\n",
       "      <td>63</td>\n",
       "      <td>Unprovoked</td>\n",
       "      <td>Unprovoked</td>\n",
       "      <td>N</td>\n",
       "      <td>1300hrs</td>\n",
       "      <td>Undetermined</td>\n",
       "      <td>Severe injuries no detail</td>\n",
       "    </tr>\n",
       "  </tbody>\n",
       "</table>\n",
       "</div>"
      ],
      "text/plain": [
       "           Fecha   Año       País                             Estado Sexo  \\\n",
       "0  6th September  2025  Australia                                NSW    M   \n",
       "1  1st September  2025        USA                            Florida    M   \n",
       "2    30th August  2025        USA                              Texas    F   \n",
       "3    18th August  2025  Australia                                NSW    M   \n",
       "4    17th August  2025    Bahamas  Atlantic Ocean near Big Grand Cay    M   \n",
       "\n",
       "  Edad   Provocado   Provocado Fatal        Hora                  Especie  \\\n",
       "0   57  Unprovoked  Unprovoked     Y     0930hrs        Great White Shark   \n",
       "1    8  Unprovoked  Unprovoked     N     1524hrs               Not stated   \n",
       "2    8  Unprovoked  Unprovoked     N  Not stated               Not stated   \n",
       "3    ?  Unprovoked  Unprovoked     N     0730hrs  5m (16.5ft) Great White   \n",
       "4   63  Unprovoked  Unprovoked     N     1300hrs             Undetermined   \n",
       "\n",
       "                                 Herida  \n",
       "0             Both legs and arm severed  \n",
       "1                           Bite to leg  \n",
       "2                           Bite to leg  \n",
       "3  None sustained board severly damaged  \n",
       "4             Severe injuries no detail  "
      ]
     },
     "execution_count": 18,
     "metadata": {},
     "output_type": "execute_result"
    }
   ],
   "source": [
    "# --------------------------\n",
    "# BLOQUE 2 · SELECCIÓN + TRADUCCIÓN DE COLUMNAS\n",
    "# --------------------------\n",
    "def pick(df, opts):\n",
    "    for c in opts:\n",
    "        if c in df.columns:\n",
    "            return c\n",
    "    return None\n",
    "\n",
    "cols = {\n",
    "    \"Fecha\":      pick(df, [\"Date\"]),\n",
    "    \"Año\":        pick(df, [\"Year\"]),\n",
    "    \"País\":       pick(df, [\"Country\"]),\n",
    "    \"Estado\":     pick(df, [\"State\"]),\n",
    "    \"Área\":       pick(df, [\"Area\"]),\n",
    "    \"Sexo\":       pick(df, [\"Sex\"]),\n",
    "    \"Edad\":       pick(df, [\"Age\"]),\n",
    "    \"Tipo\":       pick(df, [\"Type\"]),\n",
    "    \"Provocado\":  pick(df, [\"Type\"]),\n",
    "    \"Fatal\":      pick(df, [\"Fatal (Y/N)\", \"Fatal Y/N\", \"Fatal\"]),\n",
    "    \"Hora\":       pick(df, [\"Time\"]),\n",
    "    \"Especie\":    pick(df, [\"Species \", \"Species\"]),\n",
    "    \"Herida\":     pick(df, [\"Injury\"])\n",
    "}\n",
    "\n",
    "cols = {k:v for k,v in cols.items() if v}\n",
    "df = df[list(cols.values())].rename(columns={v:k for k,v in cols.items()})\n",
    "print(\"Columnas traducidas:\", df.columns.to_list())\n",
    "df.head(5)\n"
   ]
  },
  {
   "cell_type": "code",
   "execution_count": 19,
   "id": "573eb680",
   "metadata": {},
   "outputs": [
    {
     "name": "stdout",
     "output_type": "stream",
     "text": [
      "Columnas disponibles: ['Fecha', 'Año', 'País', 'Estado', 'Sexo', 'Edad', 'Provocado', 'Provocado', 'Fatal', 'Hora', 'Especie', 'Herida']\n"
     ]
    },
    {
     "name": "stderr",
     "output_type": "stream",
     "text": [
      "C:\\Users\\cubea\\AppData\\Local\\Temp\\ipykernel_26476\\317725933.py:20: UserWarning: Could not infer format, so each element will be parsed individually, falling back to `dateutil`. To ensure parsing is consistent and as-expected, please specify a format.\n",
      "  df[\"Fecha\"] = pd.to_datetime(df[\"Fecha\"], errors=\"coerce\", dayfirst=True)\n"
     ]
    },
    {
     "name": "stdout",
     "output_type": "stream",
     "text": [
      "Limpieza básica OK. Shape: (7033, 13)\n"
     ]
    }
   ],
   "source": [
    "# --------------------------\n",
    "# BLOQUE 3 · LIMPIEZA BÁSICA (ROBUSTO)\n",
    "# --------------------------\n",
    "\n",
    "\n",
    "# Por si acaso, ver qué columnas tenemos tras el bloque 2:\n",
    "print(\"Columnas disponibles:\", df.columns.to_list())\n",
    "\n",
    "# 1) Duplicados\n",
    "df = df.drop_duplicates().copy()\n",
    "\n",
    "# 2) Tipos básicos (solo si existen)\n",
    "if \"Año\" in df.columns:\n",
    "    df[\"Año\"] = pd.to_numeric(df[\"Año\"], errors=\"coerce\").astype(\"Int64\")\n",
    "\n",
    "if \"Edad\" in df.columns:\n",
    "    df[\"Edad\"] = pd.to_numeric(df[\"Edad\"], errors=\"coerce\").astype(\"Int64\")\n",
    "\n",
    "if \"Fecha\" in df.columns:\n",
    "    df[\"Fecha\"] = pd.to_datetime(df[\"Fecha\"], errors=\"coerce\", dayfirst=True)\n",
    "\n",
    "# 3) Sexo → M/F/NaN (solo si existe)\n",
    "if \"Sexo\" in df.columns:\n",
    "    df[\"Sexo\"] = (\n",
    "        df[\"Sexo\"].astype(str).str.upper().str.strip()\n",
    "        .replace({\"M\":\"M\", \"F\":\"F\", \"\":np.nan, \"UNK\":\"\", \"UNKNOWN\":\"\"})\n",
    "    )\n",
    "\n",
    "# 4) Fatal → booleano (si existe y es texto); si no existe, la creamos como NaN\n",
    "if \"Fatal\" in df.columns:\n",
    "    if df[\"Fatal\"].dtype == object:\n",
    "        df[\"Fatal\"] = (\n",
    "            df[\"Fatal\"].astype(str).str.strip()\n",
    "            .map({\"Y\": True, \"N\": False, \"y\": True, \"n\": False})\n",
    "        )\n",
    "else:\n",
    "    df[\"Fatal\"] = np.nan\n",
    "\n",
    "# 5) Tipo/Provocado (si existe 'Tipo'); si no, creamos ambas como NaN para no romper después\n",
    "if \"Tipo\" in df.columns:\n",
    "    df[\"Tipo\"] = df[\"Tipo\"].astype(str).str.lower().str.strip()\n",
    "    # Provocado = True si contiene 'provoked', False si contiene 'unprovoked'\n",
    "    df[\"Provocado\"] = np.where(\n",
    "        df[\"Tipo\"].str.contains(\"provoked\", na=False), True,\n",
    "        np.where(df[\"Tipo\"].str.contains(\"unprovoked\", na=False), False, np.nan)\n",
    "    )\n",
    "else:\n",
    "    df[\"Tipo\"] = np.nan\n",
    "    df[\"Provocado\"] = np.nan\n",
    "\n",
    "print(\"Limpieza básica OK. Shape:\", df.shape)\n",
    "\n"
   ]
  },
  {
   "cell_type": "code",
   "execution_count": 20,
   "id": "33f4ec7d",
   "metadata": {},
   "outputs": [
    {
     "name": "stdout",
     "output_type": "stream",
     "text": [
      "Hora/Momento listos.\n"
     ]
    }
   ],
   "source": [
    "# --------------------------\n",
    "# BLOQUE 4 · HORA LIMPIA + MOMENTO DEL DÍA\n",
    "# --------------------------\n",
    "\n",
    "# Hora → número 0–23 (soporta formatos tipo \"0930hrs\", \"13h00\", etc.)\n",
    "def limpiar_hora(x):\n",
    "    if pd.isna(x): \n",
    "        return np.nan\n",
    "    s = re.sub(r\"[^0-9]\", \"\", str(x))\n",
    "    if len(s) >= 3:\n",
    "        try:\n",
    "            h = int(s[:2])\n",
    "            return h if 0 <= h <= 23 else np.nan\n",
    "        except:\n",
    "            return np.nan\n",
    "    return np.nan\n",
    "\n",
    "if \"Hora\" in df.columns:\n",
    "    df[\"Hora_limpia\"] = df[\"Hora\"].map(limpiar_hora).astype(\"Int64\")\n",
    "else:\n",
    "    df[\"Hora_limpia\"] = np.nan\n",
    "\n",
    "# Momento del día a partir de Hora_limpia\n",
    "def momento(h):\n",
    "    if pd.isna(h): return np.nan\n",
    "    h = int(h)\n",
    "    if   0 <= h <= 5:   return \"Madrugada\"\n",
    "    elif 6 <= h <= 11:  return \"Mañana\"\n",
    "    elif 12 <= h <= 18: return \"Tarde\"\n",
    "    elif 19 <= h <= 23: return \"Noche\"\n",
    "    return np.nan\n",
    "\n",
    "df[\"Momento_día\"] = df[\"Hora_limpia\"].map(momento)\n",
    "print(\"Hora/Momento listos.\")\n"
   ]
  },
  {
   "cell_type": "code",
   "execution_count": 21,
   "id": "cbfe879f",
   "metadata": {},
   "outputs": [
    {
     "name": "stdout",
     "output_type": "stream",
     "text": [
      "Recuento por especie mapeada:\n"
     ]
    },
    {
     "data": {
      "application/vnd.microsoft.datawrangler.viewer.v0+json": {
       "columns": [
        {
         "name": "Especie_grupo",
         "rawType": "object",
         "type": "unknown"
        },
        {
         "name": "count",
         "rawType": "int64",
         "type": "integer"
        }
       ],
       "ref": "21b199e8-37cc-4664-b3ae-a3c396ab3bb1",
       "rows": [
        [
         null,
         "5701"
        ],
        [
         "Blanco",
         "711"
        ],
        [
         "Tigre",
         "339"
        ],
        [
         "Toro",
         "232"
        ],
        [
         "Martillo",
         "50"
        ]
       ],
       "shape": {
        "columns": 1,
        "rows": 5
       }
      },
      "text/plain": [
       "Especie_grupo\n",
       "NaN         5701\n",
       "Blanco       711\n",
       "Tigre        339\n",
       "Toro         232\n",
       "Martillo      50\n",
       "Name: count, dtype: int64"
      ]
     },
     "metadata": {},
     "output_type": "display_data"
    }
   ],
   "source": [
    "# --------------------------\n",
    "# BLOQUE 5 · ESPECIES CLAVE (mapeo robusto)\n",
    "# --------------------------\n",
    "df[\"Especie\"] = df[\"Especie\"].astype(str).str.lower()\n",
    "\n",
    "def especie_grupo(s):\n",
    "    if pd.isna(s) or not s or s == \"nan\":\n",
    "        return np.nan\n",
    "    if any(k in s for k in [\"great white\", \"white shark\", \"white pointer\", \"carcharodon carcharias\"]):\n",
    "        return \"Blanco\"\n",
    "    if any(k in s for k in [\"hammerhead\", \"sphyrna\", \"hammer head\"]):\n",
    "        return \"Martillo\"\n",
    "    if any(k in s for k in [\"tiger shark\", \"galeocerdo cuvier\"]):\n",
    "        return \"Tigre\"\n",
    "    if any(k in s for k in [\"bull shark\", \"carcharhinus leucas\", \"zambezi shark\", \"zambi\", \"bull-shark\"]):\n",
    "        return \"Toro\"\n",
    "    return np.nan\n",
    "\n",
    "df[\"Especie_grupo\"] = df[\"Especie\"].apply(especie_grupo)\n",
    "\n",
    "print(\"Recuento por especie mapeada:\")\n",
    "display(df[\"Especie_grupo\"].value_counts(dropna=False))\n"
   ]
  },
  {
   "cell_type": "code",
   "execution_count": 22,
   "id": "b1ca2116",
   "metadata": {},
   "outputs": [
    {
     "name": "stdout",
     "output_type": "stream",
     "text": [
      "Filas con 4 especies elegidas: (1332, 16)\n"
     ]
    },
    {
     "data": {
      "application/vnd.microsoft.datawrangler.viewer.v0+json": {
       "columns": [
        {
         "name": "Especie_grupo",
         "rawType": "object",
         "type": "string"
        },
        {
         "name": "count",
         "rawType": "int64",
         "type": "integer"
        }
       ],
       "ref": "0ab91971-81bc-4c07-86e1-95fb17abd5dd",
       "rows": [
        [
         "Blanco",
         "711"
        ],
        [
         "Tigre",
         "339"
        ],
        [
         "Toro",
         "232"
        ],
        [
         "Martillo",
         "50"
        ]
       ],
       "shape": {
        "columns": 1,
        "rows": 4
       }
      },
      "text/plain": [
       "Especie_grupo\n",
       "Blanco      711\n",
       "Tigre       339\n",
       "Toro        232\n",
       "Martillo     50\n",
       "Name: count, dtype: int64"
      ]
     },
     "metadata": {},
     "output_type": "display_data"
    }
   ],
   "source": [
    "especies_4 = [\"Blanco\", \"Martillo\", \"Tigre\", \"Toro\"]\n",
    "\n",
    "df_4 = df[df[\"Especie_grupo\"].isin(especies_4)].copy()\n",
    "print(\"Filas con 4 especies elegidas:\", df_4.shape)\n",
    "display(df_4[\"Especie_grupo\"].value_counts())\n"
   ]
  },
  {
   "cell_type": "code",
   "execution_count": 23,
   "id": "58eee4a6",
   "metadata": {},
   "outputs": [
    {
     "name": "stdout",
     "output_type": "stream",
     "text": [
      "FINAL (todas): (7029, 15)  | FINAL (4 especies): (1332, 15)\n",
      "\n",
      "Nulos (% top 10) FINAL (4 especies):\n"
     ]
    },
    {
     "data": {
      "application/vnd.microsoft.datawrangler.viewer.v0+json": {
       "columns": [
        {
         "name": "index",
         "rawType": "object",
         "type": "string"
        },
        {
         "name": "0",
         "rawType": "float64",
         "type": "float"
        }
       ],
       "ref": "589ea461-20e3-45e1-9ec2-21ebe51c4033",
       "rows": [
        [
         "Provocado",
         "100.0"
        ],
        [
         "Provocado",
         "100.0"
        ],
        [
         "Tipo",
         "100.0"
        ],
        [
         "Hora_limpia",
         "38.36"
        ],
        [
         "Momento_día",
         "38.36"
        ],
        [
         "Edad",
         "31.61"
        ],
        [
         "Fecha",
         "9.53"
        ],
        [
         "Estado",
         "3.53"
        ],
        [
         "Fatal",
         "1.95"
        ],
        [
         "Herida",
         "0.3"
        ]
       ],
       "shape": {
        "columns": 1,
        "rows": 10
       }
      },
      "text/plain": [
       "Provocado      100.00\n",
       "Provocado      100.00\n",
       "Tipo           100.00\n",
       "Hora_limpia     38.36\n",
       "Momento_día     38.36\n",
       "Edad            31.61\n",
       "Fecha            9.53\n",
       "Estado           3.53\n",
       "Fatal            1.95\n",
       "Herida           0.30\n",
       "dtype: float64"
      ]
     },
     "metadata": {},
     "output_type": "display_data"
    }
   ],
   "source": [
    "# --------------------------\n",
    "# BLOQUE 6 · CONJUNTO FINAL + QC\n",
    "# --------------------------\n",
    "# Completar 'Estado' con 'Área' si existe\n",
    "if \"Estado\" in df.columns and \"Área\" in df.columns:\n",
    "    df[\"Estado\"] = df[\"Estado\"].fillna(df[\"Área\"])\n",
    "    df_4[\"Estado\"] = df_4[\"Estado\"].fillna(df_4.get(\"Área\"))\n",
    "\n",
    "# Ubicación \"País - Estado\"\n",
    "def construir_ubicacion(frame):\n",
    "    if \"País\" in frame.columns and \"Estado\" in frame.columns:\n",
    "        base = frame[\"País\"].fillna(\"\")\n",
    "        comp = frame[\"País\"].fillna(\"\") + \" - \" + frame[\"Estado\"].fillna(\"\")\n",
    "        frame[\"Ubicación\"] = comp.where(frame[\"Estado\"].notna(), base).str.strip(\" -\")\n",
    "    else:\n",
    "        frame[\"Ubicación\"] = frame.get(\"País\")\n",
    "    return frame\n",
    "\n",
    "df   = construir_ubicacion(df)\n",
    "df_4 = construir_ubicacion(df_4)\n",
    "\n",
    "# Conjunto mínimo de columnas (más \"Herida\" como contexto)\n",
    "cols_min = [\n",
    "    \"Fecha\",\"Año\",\"País\",\"Estado\",\"Ubicación\",\n",
    "    \"Sexo\",\"Edad\",\"Tipo\",\"Provocado\",\"Fatal\",\n",
    "    \"Hora_limpia\",\"Momento_día\",\"Especie_grupo\",\"Herida\"\n",
    "]\n",
    "cols_min = [c for c in cols_min if c in df.columns]\n",
    "\n",
    "df_final   = df[cols_min].drop_duplicates().reset_index(drop=True)\n",
    "df_final_4 = df_4[[c for c in cols_min if c in df_4.columns]].drop_duplicates().reset_index(drop=True)\n",
    "\n",
    "print(\"FINAL (todas):\", df_final.shape, \" | FINAL (4 especies):\", df_final_4.shape)\n",
    "\n",
    "print(\"\\nNulos (% top 10) FINAL (4 especies):\")\n",
    "display((df_final_4.isna().mean().sort_values(ascending=False)*100).round(2).head(10))\n"
   ]
  },
  {
   "cell_type": "code",
   "execution_count": 24,
   "id": "f4305e9d",
   "metadata": {},
   "outputs": [
    {
     "name": "stdout",
     "output_type": "stream",
     "text": [
      "Exportados a data/processed/\n",
      "\n",
      "Top especies (4):\n"
     ]
    },
    {
     "data": {
      "application/vnd.microsoft.datawrangler.viewer.v0+json": {
       "columns": [
        {
         "name": "Especie_grupo",
         "rawType": "object",
         "type": "string"
        },
        {
         "name": "count",
         "rawType": "int64",
         "type": "integer"
        }
       ],
       "ref": "24831309-e5da-42b5-880b-e17c320a2668",
       "rows": [
        [
         "Blanco",
         "711"
        ],
        [
         "Tigre",
         "339"
        ],
        [
         "Toro",
         "232"
        ],
        [
         "Martillo",
         "50"
        ]
       ],
       "shape": {
        "columns": 1,
        "rows": 4
       }
      },
      "text/plain": [
       "Especie_grupo\n",
       "Blanco      711\n",
       "Tigre       339\n",
       "Toro        232\n",
       "Martillo     50\n",
       "Name: count, dtype: int64"
      ]
     },
     "metadata": {},
     "output_type": "display_data"
    },
    {
     "name": "stdout",
     "output_type": "stream",
     "text": [
      "\n",
      "Ataques por año (últimos 10):\n"
     ]
    },
    {
     "data": {
      "application/vnd.microsoft.datawrangler.viewer.v0+json": {
       "columns": [
        {
         "name": "Año",
         "rawType": "Int64",
         "type": "integer"
        },
        {
         "name": "0",
         "rawType": "int64",
         "type": "integer"
        }
       ],
       "ref": "cb0addd6-8df1-4755-93a7-d575bf037cc3",
       "rows": [
        [
         "2016",
         "27"
        ],
        [
         "2017",
         "36"
        ],
        [
         "2018",
         "38"
        ],
        [
         "2019",
         "24"
        ],
        [
         "2020",
         "32"
        ],
        [
         "2021",
         "20"
        ],
        [
         "2022",
         "23"
        ],
        [
         "2023",
         "21"
        ],
        [
         "2024",
         "22"
        ],
        [
         "2025",
         "18"
        ]
       ],
       "shape": {
        "columns": 1,
        "rows": 10
       }
      },
      "text/plain": [
       "Año\n",
       "2016    27\n",
       "2017    36\n",
       "2018    38\n",
       "2019    24\n",
       "2020    32\n",
       "2021    20\n",
       "2022    23\n",
       "2023    21\n",
       "2024    22\n",
       "2025    18\n",
       "dtype: int64"
      ]
     },
     "metadata": {},
     "output_type": "display_data"
    },
    {
     "name": "stdout",
     "output_type": "stream",
     "text": [
      "\n",
      "Top 10 países (4 especies):\n"
     ]
    },
    {
     "data": {
      "application/vnd.microsoft.datawrangler.viewer.v0+json": {
       "columns": [
        {
         "name": "País",
         "rawType": "object",
         "type": "string"
        },
        {
         "name": "count",
         "rawType": "int64",
         "type": "integer"
        }
       ],
       "ref": "1143fd2d-4540-4739-b298-18a93a570a3d",
       "rows": [
        [
         "USA",
         "495"
        ],
        [
         "AUSTRALIA",
         "293"
        ],
        [
         "SOUTH AFRICA",
         "191"
        ],
        [
         "ITALY",
         "26"
        ],
        [
         "BAHAMAS",
         "24"
        ],
        [
         "REUNION",
         "23"
        ],
        [
         "NEW ZEALAND",
         "23"
        ],
        [
         "NEW CALEDONIA",
         "22"
        ],
        [
         "BRAZIL",
         "20"
        ],
        [
         "MEXICO",
         "16"
        ]
       ],
       "shape": {
        "columns": 1,
        "rows": 10
       }
      },
      "text/plain": [
       "País\n",
       "USA              495\n",
       "AUSTRALIA        293\n",
       "SOUTH AFRICA     191\n",
       "ITALY             26\n",
       "BAHAMAS           24\n",
       "REUNION           23\n",
       "NEW ZEALAND       23\n",
       "NEW CALEDONIA     22\n",
       "BRAZIL            20\n",
       "MEXICO            16\n",
       "Name: count, dtype: int64"
      ]
     },
     "metadata": {},
     "output_type": "display_data"
    }
   ],
   "source": [
    "from pathlib import Path\n",
    "DATA_PROCESSED = Path(\"data/processed\"); DATA_PROCESSED.mkdir(parents=True, exist_ok=True)\n",
    "\n",
    "df_final.to_csv(DATA_PROCESSED/\"shark_attacks_final.csv\", index=False, encoding=\"utf-8\")\n",
    "df_final_4.to_csv(DATA_PROCESSED/\"shark_attacks_final_4especies.csv\", index=False, encoding=\"utf-8\")\n",
    "print(\"Exportados a data/processed/\")\n",
    "\n",
    "print(\"\\nTop especies (4):\")\n",
    "display(df_final_4[\"Especie_grupo\"].value_counts())\n",
    "\n",
    "print(\"\\nAtaques por año (últimos 10):\")\n",
    "display(df_final_4.groupby(\"Año\").size().tail(10))\n",
    "\n",
    "print(\"\\nTop 10 países (4 especies):\")\n",
    "display(df_final_4[\"País\"].value_counts().head(10))\n"
   ]
  },
  {
   "cell_type": "code",
   "execution_count": 25,
   "id": "19ccdcb1",
   "metadata": {},
   "outputs": [
    {
     "data": {
      "application/vnd.microsoft.datawrangler.viewer.v0+json": {
       "columns": [
        {
         "name": "index",
         "rawType": "int64",
         "type": "integer"
        },
        {
         "name": "Fecha",
         "rawType": "datetime64[ns]",
         "type": "datetime"
        },
        {
         "name": "Año",
         "rawType": "Int64",
         "type": "integer"
        },
        {
         "name": "País",
         "rawType": "object",
         "type": "string"
        },
        {
         "name": "Estado",
         "rawType": "object",
         "type": "unknown"
        },
        {
         "name": "Ubicación",
         "rawType": "object",
         "type": "string"
        },
        {
         "name": "Sexo",
         "rawType": "object",
         "type": "string"
        },
        {
         "name": "Edad",
         "rawType": "Int64",
         "type": "integer"
        },
        {
         "name": "Tipo",
         "rawType": "float64",
         "type": "float"
        },
        {
         "name": "Provocado",
         "rawType": "float64",
         "type": "float"
        },
        {
         "name": "Provocado",
         "rawType": "float64",
         "type": "float"
        },
        {
         "name": "Fatal",
         "rawType": "object",
         "type": "unknown"
        },
        {
         "name": "Hora_limpia",
         "rawType": "Int64",
         "type": "integer"
        },
        {
         "name": "Momento_día",
         "rawType": "object",
         "type": "unknown"
        },
        {
         "name": "Especie_grupo",
         "rawType": "object",
         "type": "string"
        },
        {
         "name": "Herida",
         "rawType": "object",
         "type": "unknown"
        }
       ],
       "ref": "4d91322d-7dba-4c91-81fa-4d93319fc17f",
       "rows": [
        [
         "0",
         null,
         "2025",
         "Australia",
         "NSW",
         "Australia - NSW",
         "M",
         "57",
         null,
         null,
         null,
         "True",
         "9",
         "Mañana",
         "Blanco",
         "Both legs and arm severed"
        ],
        [
         "1",
         null,
         "2025",
         "Australia",
         "NSW",
         "Australia - NSW",
         "M",
         null,
         null,
         null,
         null,
         "False",
         "7",
         "Mañana",
         "Blanco",
         "None sustained board severly damaged"
        ],
        [
         "2",
         null,
         "2025",
         "Australia",
         "NSW",
         "Australia - NSW",
         "M",
         "9",
         null,
         null,
         null,
         "False",
         "16",
         "Tarde",
         "Blanco",
         "None sustained board severely damaged"
        ],
        [
         "3",
         null,
         "2025",
         "Australia",
         "South Australia",
         "Australia - South Australia",
         "M",
         "19",
         null,
         null,
         null,
         "False",
         "11",
         "Mañana",
         "Blanco",
         "Kayak badly damaged no injury to person"
        ],
        [
         "4",
         null,
         "2025",
         "Bahamas",
         "Great Abaco Islands",
         "Bahamas - Great Abaco Islands",
         "M",
         "66",
         null,
         null,
         null,
         "False",
         null,
         null,
         "Toro",
         "Lacerations to right arm"
        ],
        [
         "5",
         null,
         "2025",
         "Australia",
         "NSW",
         "Australia - NSW",
         "M",
         "16",
         null,
         null,
         null,
         "False",
         "16",
         "Tarde",
         "Toro",
         "Serious bites to r bicep r wrist and r leg"
        ],
        [
         "6",
         null,
         "2025",
         "USA",
         "Long Island NY",
         "USA - Long Island NY",
         "F",
         "20",
         null,
         null,
         null,
         "False",
         "16",
         "Tarde",
         "Tigre",
         "Lacerations to lower left foot and leg"
        ],
        [
         "7",
         null,
         "2025",
         "USA",
         "Florida",
         "USA - Florida",
         "F",
         "9",
         null,
         null,
         null,
         "False",
         "12",
         "Tarde",
         "Toro",
         "Right hand almost torn off"
        ],
        [
         "8",
         null,
         "2025",
         "USA",
         "California",
         "USA - California",
         "M",
         "42",
         null,
         null,
         null,
         "False",
         "14",
         "Tarde",
         "Blanco",
         "No injury "
        ],
        [
         "9",
         null,
         "2025",
         "Australia",
         "WA",
         "Australia - WA",
         "M",
         null,
         null,
         null,
         null,
         "False",
         "14",
         "Tarde",
         "Tigre",
         "Bumping to the body"
        ],
        [
         "10",
         null,
         "2025",
         "Australia",
         "WA",
         "Australia - WA",
         "M",
         "37",
         null,
         null,
         null,
         "True",
         "12",
         "Tarde",
         "Blanco",
         "Missing body not recovered"
        ],
        [
         "11",
         null,
         "2025",
         "Australia",
         "NSW",
         "Australia - NSW",
         "F",
         "56",
         null,
         null,
         null,
         "False",
         "13",
         "Tarde",
         "Toro",
         "Serious lacerations above right knee."
        ],
        [
         "12",
         null,
         "2025",
         "Bahamas",
         null,
         "Bahamas",
         "F",
         "24",
         null,
         null,
         null,
         "False",
         "18",
         "Tarde",
         "Toro",
         "Left foot injured"
        ],
        [
         "13",
         null,
         "2025",
         "Bahamas",
         null,
         "Bahamas",
         "F",
         "20",
         null,
         null,
         null,
         "False",
         "18",
         "Tarde",
         "Toro",
         "Severed archilles tendon artery severed nerves severed."
        ],
        [
         "14",
         null,
         "2025",
         "Turks and Caicos",
         "Near five Cays settlement West Caicos",
         "Turks and Caicos - Near five Cays settlement West Caicos",
         "F",
         "55",
         null,
         null,
         null,
         "False",
         null,
         null,
         "Toro",
         "both hands bitten off and a bite to left thigh"
        ],
        [
         "15",
         null,
         "2025",
         "Australia",
         "Queensland",
         "Australia - Queensland",
         "F",
         "17",
         null,
         null,
         null,
         "True",
         "16",
         "Tarde",
         "Toro",
         "Bites to arm and upper body"
        ],
        [
         "16",
         null,
         "2025",
         "New Caledonia",
         "Grande Terre",
         "New Caledonia - Grande Terre",
         "M",
         "40",
         null,
         null,
         null,
         "True",
         "16",
         "Tarde",
         "Toro",
         "Severe arm injury and delay in medical treatment caused victim to die "
        ],
        [
         "17",
         null,
         "2025",
         "Australia",
         "South Australia",
         "Australia - South Australia",
         "M",
         "28",
         null,
         null,
         null,
         "True",
         "17",
         "Tarde",
         "Blanco",
         "Body not recovered"
        ],
        [
         "18",
         null,
         "2024",
         "Egypt",
         "North of Marsa Alam",
         "Egypt - North of Marsa Alam",
         "M",
         "69",
         null,
         null,
         null,
         "False",
         null,
         null,
         "Tigre",
         "Injuries to stomach preventing attack on friend"
        ],
        [
         "19",
         null,
         "2024",
         "Egypt",
         "North of Marsa Alam",
         "Egypt - North of Marsa Alam",
         "M",
         "48",
         null,
         null,
         null,
         "True",
         null,
         null,
         "Tigre",
         "Entire calf muscle removed and bitten both arms and legs"
        ],
        [
         "20",
         null,
         "2024",
         "New Zealand",
         "Bay of Waitangi",
         "New Zealand - Bay of Waitangi",
         "M",
         "24",
         null,
         null,
         null,
         "True",
         null,
         null,
         "Blanco",
         "Not stated but injuries fatal"
        ],
        [
         "21",
         null,
         "2024",
         "Australia",
         "Queensland",
         "Australia - Queensland",
         "F",
         "57",
         null,
         null,
         null,
         "False",
         "16",
         "Tarde",
         "Tigre",
         "30cm (1ft) bite to lower calf "
        ],
        [
         "22",
         null,
         "2024",
         "Honduras",
         "Tela",
         "Honduras - Tela",
         "M",
         "38",
         null,
         null,
         null,
         "False",
         null,
         null,
         "Toro",
         "Back and thigh extensive tissue loss"
        ],
        [
         "23",
         null,
         "2024",
         "USA",
         "Florida",
         "USA - Florida",
         "M",
         "16",
         null,
         null,
         null,
         "False",
         null,
         null,
         "Toro",
         "Bite to left arm"
        ],
        [
         "24",
         null,
         "2024",
         "Indonesia",
         "Timor Leste",
         "Indonesia - Timor Leste",
         "F",
         "68",
         null,
         null,
         null,
         "True",
         null,
         null,
         "Tigre",
         "Found inside shark"
        ],
        [
         "25",
         null,
         "2024",
         "Honduras",
         "Trujillo Colon",
         "Honduras - Trujillo Colon",
         "M",
         "33",
         null,
         null,
         null,
         "False",
         null,
         null,
         "Toro",
         "Bite to left leg"
        ],
        [
         "26",
         null,
         "2024",
         "Morocco",
         "Southern Morocco",
         "Morocco - Southern Morocco",
         "F",
         "30",
         null,
         null,
         null,
         "True",
         "16",
         "Tarde",
         "Blanco",
         "Leg severed"
        ],
        [
         "27",
         null,
         "2024",
         "Jamaica",
         "Montego Bay",
         "Jamaica - Montego Bay",
         "M",
         "16",
         null,
         null,
         null,
         "True",
         null,
         null,
         "Tigre",
         "Head right arm and leg severed"
        ],
        [
         "28",
         null,
         "2024",
         "Australia",
         "NSW",
         "Australia - NSW",
         "M",
         "23",
         null,
         null,
         null,
         "False",
         "11",
         "Mañana",
         "Blanco",
         "Serious injury to leg"
        ],
        [
         "29",
         null,
         "2024",
         "USA",
         "Texas",
         "USA - Texas",
         "F",
         null,
         null,
         null,
         null,
         "False",
         null,
         null,
         "Toro",
         "Bite to left leg calf muscle removed"
        ],
        [
         "30",
         null,
         "2024",
         "USA",
         "Florida",
         "USA - Florida",
         "F",
         "15",
         null,
         null,
         null,
         "False",
         "15",
         "Tarde",
         "Toro",
         "Left hand bitten off and right leg bitten"
        ],
        [
         "31",
         null,
         "2024",
         "USA",
         "Florida",
         "USA - Florida",
         "F",
         "45",
         null,
         null,
         null,
         "False",
         "13",
         "Tarde",
         "Toro",
         "Significant injuries to pelvic and abdominal region lower left arm amputated"
        ],
        [
         "32",
         null,
         "2024",
         "Tobago",
         "Graet Courland Bay",
         "Tobago - Graet Courland Bay",
         "M",
         "64",
         null,
         null,
         null,
         "False",
         null,
         null,
         "Toro",
         "Bite wounds to left arm and leg wounds to abdomen and left hand"
        ],
        [
         "33",
         null,
         "2024",
         "Australia",
         "South Australia",
         "Australia - South Australia",
         "M",
         "16",
         null,
         null,
         null,
         "False",
         "13",
         "Tarde",
         "Blanco",
         "Minor bite to left leg"
        ],
        [
         "34",
         "2024-03-15 00:00:00",
         "2024",
         "AUSTRALIA",
         "Queensland",
         "AUSTRALIA - Queensland",
         "F",
         "13",
         null,
         null,
         null,
         "False",
         "16",
         "Tarde",
         "Tigre",
         "Minor injuries to back, abdomen and legs"
        ],
        [
         "35",
         "2024-03-04 00:00:00",
         "2024",
         "USA",
         "Hawaii",
         "USA - Hawaii",
         "M",
         null,
         null,
         null,
         null,
         "False",
         null,
         null,
         "Tigre",
         "No injury, shark bit surfboard"
        ],
        [
         "36",
         "2024-02-25 00:00:00",
         "2024",
         "AUSTRALIA",
         "Western Australia",
         "AUSTRALIA - Western Australia",
         "F",
         "46",
         null,
         null,
         null,
         "False",
         "11",
         "Mañana",
         "Tigre",
         "Leg bitten"
        ],
        [
         "37",
         "2024-02-14 00:00:00",
         "2024",
         "INDIA",
         "Maharashtra",
         "INDIA - Maharashtra",
         "M",
         "32",
         null,
         null,
         null,
         "False",
         null,
         null,
         "Toro",
         "Calf of lower left leg injured"
        ],
        [
         "38",
         "2024-01-29 00:00:00",
         "2024",
         "AUSTRALIA",
         "New  South Wales",
         "AUSTRALIA - New  South Wales",
         "F",
         "29",
         null,
         null,
         null,
         "False",
         "20",
         "Noche",
         "Toro",
         "Right leg bitten"
        ],
        [
         "39",
         "2024-01-09 00:00:00",
         "2024",
         "AUSTRALIA",
         "South Australia",
         "AUSTRALIA - South Australia",
         "M",
         "64",
         null,
         null,
         null,
         "False",
         "13",
         "Tarde",
         "Blanco",
         "Leg bitten"
        ],
        [
         "40",
         "2023-12-29 00:00:00",
         "2023",
         "MEXICO",
         "Sonora",
         "MEXICO - Sonora",
         "M",
         "22",
         null,
         null,
         null,
         "True",
         "13",
         "Tarde",
         "Blanco",
         "FATAL"
        ],
        [
         "41",
         "2023-12-28 00:00:00",
         "2023",
         "AUSTRALIA",
         "South Australia",
         "AUSTRALIA - South Australia",
         "M",
         "15",
         null,
         null,
         null,
         "True",
         "13",
         "Tarde",
         "Blanco",
         "FATAL"
        ],
        [
         "42",
         "2023-11-30 00:00:00",
         "2023",
         "AUSTRALIA",
         "Queensland",
         "AUSTRALIA - Queensland",
         "M",
         "21",
         null,
         null,
         null,
         "False",
         "11",
         "Mañana",
         "Toro",
         "Puncture wounds to right upper arm"
        ],
        [
         "43",
         "2023-11-02 00:00:00",
         "2023",
         "NEW ZEALAND",
         "North Island",
         "NEW ZEALAND - North Island",
         "M",
         null,
         null,
         null,
         null,
         "False",
         "9",
         "Mañana",
         "Blanco",
         "Minor injury. Wetsuit shredded"
        ],
        [
         "44",
         "2023-10-31 00:00:00",
         "2023",
         "AUSTRALIA",
         "South Australia",
         "AUSTRALIA - South Australia",
         "M",
         "55",
         null,
         null,
         null,
         "True",
         "10",
         "Mañana",
         "Blanco",
         "FATAL"
        ],
        [
         "45",
         "2023-10-25 00:00:00",
         "2023",
         "USA",
         "Hawaii",
         "USA - Hawaii",
         "M",
         "30",
         null,
         null,
         null,
         "False",
         "15",
         "Tarde",
         "Tigre",
         "Bite to right thigh"
        ],
        [
         "46",
         "2023-10-15 00:00:00",
         "2023",
         "USA",
         "Hawaii",
         "USA - Hawaii",
         "M",
         "50",
         null,
         null,
         null,
         "False",
         "16",
         "Tarde",
         "Tigre",
         "Left leg and hand injured"
        ],
        [
         "47",
         "2023-09-13 00:00:00",
         "2023",
         "EGYPT",
         "South Sinai",
         "EGYPT - South Sinai",
         "F",
         "34",
         null,
         null,
         null,
         "False",
         null,
         null,
         "Tigre",
         "Left arm severely bitten, surgically amputated"
        ],
        [
         "48",
         "2023-08-25 00:00:00",
         "2023",
         "AUSTRALIA",
         "New South Wales",
         "AUSTRALIA - New South Wales",
         "M",
         "44",
         null,
         null,
         null,
         null,
         "10",
         "Mañana",
         "Blanco",
         "Severe injuries to lower limbs"
        ],
        [
         "49",
         "2023-07-03 00:00:00",
         "2023",
         "USA",
         "New York",
         "USA - New York",
         "F",
         "15",
         null,
         null,
         null,
         "False",
         "13",
         "Tarde",
         "Tigre",
         "3 small puncture wounds to left leg"
        ]
       ],
       "shape": {
        "columns": 15,
        "rows": 1332
       }
      },
      "text/html": [
       "<div>\n",
       "<style scoped>\n",
       "    .dataframe tbody tr th:only-of-type {\n",
       "        vertical-align: middle;\n",
       "    }\n",
       "\n",
       "    .dataframe tbody tr th {\n",
       "        vertical-align: top;\n",
       "    }\n",
       "\n",
       "    .dataframe thead th {\n",
       "        text-align: right;\n",
       "    }\n",
       "</style>\n",
       "<table border=\"1\" class=\"dataframe\">\n",
       "  <thead>\n",
       "    <tr style=\"text-align: right;\">\n",
       "      <th></th>\n",
       "      <th>Fecha</th>\n",
       "      <th>Año</th>\n",
       "      <th>País</th>\n",
       "      <th>Estado</th>\n",
       "      <th>Ubicación</th>\n",
       "      <th>Sexo</th>\n",
       "      <th>Edad</th>\n",
       "      <th>Tipo</th>\n",
       "      <th>Provocado</th>\n",
       "      <th>Provocado</th>\n",
       "      <th>Fatal</th>\n",
       "      <th>Hora_limpia</th>\n",
       "      <th>Momento_día</th>\n",
       "      <th>Especie_grupo</th>\n",
       "      <th>Herida</th>\n",
       "    </tr>\n",
       "  </thead>\n",
       "  <tbody>\n",
       "    <tr>\n",
       "      <th>0</th>\n",
       "      <td>NaT</td>\n",
       "      <td>2025</td>\n",
       "      <td>Australia</td>\n",
       "      <td>NSW</td>\n",
       "      <td>Australia - NSW</td>\n",
       "      <td>M</td>\n",
       "      <td>57</td>\n",
       "      <td>NaN</td>\n",
       "      <td>NaN</td>\n",
       "      <td>NaN</td>\n",
       "      <td>True</td>\n",
       "      <td>9</td>\n",
       "      <td>Mañana</td>\n",
       "      <td>Blanco</td>\n",
       "      <td>Both legs and arm severed</td>\n",
       "    </tr>\n",
       "    <tr>\n",
       "      <th>1</th>\n",
       "      <td>NaT</td>\n",
       "      <td>2025</td>\n",
       "      <td>Australia</td>\n",
       "      <td>NSW</td>\n",
       "      <td>Australia - NSW</td>\n",
       "      <td>M</td>\n",
       "      <td>&lt;NA&gt;</td>\n",
       "      <td>NaN</td>\n",
       "      <td>NaN</td>\n",
       "      <td>NaN</td>\n",
       "      <td>False</td>\n",
       "      <td>7</td>\n",
       "      <td>Mañana</td>\n",
       "      <td>Blanco</td>\n",
       "      <td>None sustained board severly damaged</td>\n",
       "    </tr>\n",
       "    <tr>\n",
       "      <th>2</th>\n",
       "      <td>NaT</td>\n",
       "      <td>2025</td>\n",
       "      <td>Australia</td>\n",
       "      <td>NSW</td>\n",
       "      <td>Australia - NSW</td>\n",
       "      <td>M</td>\n",
       "      <td>9</td>\n",
       "      <td>NaN</td>\n",
       "      <td>NaN</td>\n",
       "      <td>NaN</td>\n",
       "      <td>False</td>\n",
       "      <td>16</td>\n",
       "      <td>Tarde</td>\n",
       "      <td>Blanco</td>\n",
       "      <td>None sustained board severely damaged</td>\n",
       "    </tr>\n",
       "    <tr>\n",
       "      <th>3</th>\n",
       "      <td>NaT</td>\n",
       "      <td>2025</td>\n",
       "      <td>Australia</td>\n",
       "      <td>South Australia</td>\n",
       "      <td>Australia - South Australia</td>\n",
       "      <td>M</td>\n",
       "      <td>19</td>\n",
       "      <td>NaN</td>\n",
       "      <td>NaN</td>\n",
       "      <td>NaN</td>\n",
       "      <td>False</td>\n",
       "      <td>11</td>\n",
       "      <td>Mañana</td>\n",
       "      <td>Blanco</td>\n",
       "      <td>Kayak badly damaged no injury to person</td>\n",
       "    </tr>\n",
       "    <tr>\n",
       "      <th>4</th>\n",
       "      <td>NaT</td>\n",
       "      <td>2025</td>\n",
       "      <td>Bahamas</td>\n",
       "      <td>Great Abaco Islands</td>\n",
       "      <td>Bahamas - Great Abaco Islands</td>\n",
       "      <td>M</td>\n",
       "      <td>66</td>\n",
       "      <td>NaN</td>\n",
       "      <td>NaN</td>\n",
       "      <td>NaN</td>\n",
       "      <td>False</td>\n",
       "      <td>&lt;NA&gt;</td>\n",
       "      <td>NaN</td>\n",
       "      <td>Toro</td>\n",
       "      <td>Lacerations to right arm</td>\n",
       "    </tr>\n",
       "    <tr>\n",
       "      <th>...</th>\n",
       "      <td>...</td>\n",
       "      <td>...</td>\n",
       "      <td>...</td>\n",
       "      <td>...</td>\n",
       "      <td>...</td>\n",
       "      <td>...</td>\n",
       "      <td>...</td>\n",
       "      <td>...</td>\n",
       "      <td>...</td>\n",
       "      <td>...</td>\n",
       "      <td>...</td>\n",
       "      <td>...</td>\n",
       "      <td>...</td>\n",
       "      <td>...</td>\n",
       "      <td>...</td>\n",
       "    </tr>\n",
       "    <tr>\n",
       "      <th>1327</th>\n",
       "      <td>NaT</td>\n",
       "      <td>0</td>\n",
       "      <td>USA</td>\n",
       "      <td>California</td>\n",
       "      <td>USA - California</td>\n",
       "      <td>F</td>\n",
       "      <td>&lt;NA&gt;</td>\n",
       "      <td>NaN</td>\n",
       "      <td>NaN</td>\n",
       "      <td>NaN</td>\n",
       "      <td>False</td>\n",
       "      <td>&lt;NA&gt;</td>\n",
       "      <td>NaN</td>\n",
       "      <td>Blanco</td>\n",
       "      <td>Leg injured</td>\n",
       "    </tr>\n",
       "    <tr>\n",
       "      <th>1328</th>\n",
       "      <td>NaT</td>\n",
       "      <td>0</td>\n",
       "      <td>NICARAGUA</td>\n",
       "      <td>Lake Nicaragua (fresh water)</td>\n",
       "      <td>NICARAGUA - Lake Nicaragua (fresh water)</td>\n",
       "      <td>M</td>\n",
       "      <td>&lt;NA&gt;</td>\n",
       "      <td>NaN</td>\n",
       "      <td>NaN</td>\n",
       "      <td>NaN</td>\n",
       "      <td>True</td>\n",
       "      <td>&lt;NA&gt;</td>\n",
       "      <td>NaN</td>\n",
       "      <td>Toro</td>\n",
       "      <td>FATAL, leg severed</td>\n",
       "    </tr>\n",
       "    <tr>\n",
       "      <th>1329</th>\n",
       "      <td>NaT</td>\n",
       "      <td>0</td>\n",
       "      <td>IRAQ</td>\n",
       "      <td>Basrah</td>\n",
       "      <td>IRAQ - Basrah</td>\n",
       "      <td>M</td>\n",
       "      <td>&lt;NA&gt;</td>\n",
       "      <td>NaN</td>\n",
       "      <td>NaN</td>\n",
       "      <td>NaN</td>\n",
       "      <td>True</td>\n",
       "      <td>&lt;NA&gt;</td>\n",
       "      <td>NaN</td>\n",
       "      <td>Toro</td>\n",
       "      <td>FATAL, left leg bitten with severe blood loss</td>\n",
       "    </tr>\n",
       "    <tr>\n",
       "      <th>1330</th>\n",
       "      <td>NaT</td>\n",
       "      <td>0</td>\n",
       "      <td>ITALY</td>\n",
       "      <td>Adriatic Sea</td>\n",
       "      <td>ITALY - Adriatic Sea</td>\n",
       "      <td>M</td>\n",
       "      <td>&lt;NA&gt;</td>\n",
       "      <td>NaN</td>\n",
       "      <td>NaN</td>\n",
       "      <td>NaN</td>\n",
       "      <td>False</td>\n",
       "      <td>&lt;NA&gt;</td>\n",
       "      <td>NaN</td>\n",
       "      <td>Blanco</td>\n",
       "      <td>No injury to occupant; shark capsized boat</td>\n",
       "    </tr>\n",
       "    <tr>\n",
       "      <th>1331</th>\n",
       "      <td>NaT</td>\n",
       "      <td>0</td>\n",
       "      <td>BELIZE</td>\n",
       "      <td>NaN</td>\n",
       "      <td>BELIZE</td>\n",
       "      <td>M</td>\n",
       "      <td>16</td>\n",
       "      <td>NaN</td>\n",
       "      <td>NaN</td>\n",
       "      <td>NaN</td>\n",
       "      <td>True</td>\n",
       "      <td>&lt;NA&gt;</td>\n",
       "      <td>NaN</td>\n",
       "      <td>Tigre</td>\n",
       "      <td>FATAL</td>\n",
       "    </tr>\n",
       "  </tbody>\n",
       "</table>\n",
       "<p>1332 rows × 15 columns</p>\n",
       "</div>"
      ],
      "text/plain": [
       "     Fecha   Año       País                        Estado  \\\n",
       "0      NaT  2025  Australia                           NSW   \n",
       "1      NaT  2025  Australia                           NSW   \n",
       "2      NaT  2025  Australia                           NSW   \n",
       "3      NaT  2025  Australia               South Australia   \n",
       "4      NaT  2025    Bahamas           Great Abaco Islands   \n",
       "...    ...   ...        ...                           ...   \n",
       "1327   NaT     0        USA                    California   \n",
       "1328   NaT     0  NICARAGUA  Lake Nicaragua (fresh water)   \n",
       "1329   NaT     0       IRAQ                        Basrah   \n",
       "1330   NaT     0      ITALY                  Adriatic Sea   \n",
       "1331   NaT     0     BELIZE                           NaN   \n",
       "\n",
       "                                     Ubicación Sexo  Edad  Tipo  Provocado  \\\n",
       "0                              Australia - NSW    M    57   NaN        NaN   \n",
       "1                              Australia - NSW    M  <NA>   NaN        NaN   \n",
       "2                              Australia - NSW    M     9   NaN        NaN   \n",
       "3                  Australia - South Australia    M    19   NaN        NaN   \n",
       "4                Bahamas - Great Abaco Islands    M    66   NaN        NaN   \n",
       "...                                        ...  ...   ...   ...        ...   \n",
       "1327                          USA - California    F  <NA>   NaN        NaN   \n",
       "1328  NICARAGUA - Lake Nicaragua (fresh water)    M  <NA>   NaN        NaN   \n",
       "1329                             IRAQ - Basrah    M  <NA>   NaN        NaN   \n",
       "1330                      ITALY - Adriatic Sea    M  <NA>   NaN        NaN   \n",
       "1331                                    BELIZE    M    16   NaN        NaN   \n",
       "\n",
       "      Provocado  Fatal  Hora_limpia Momento_día Especie_grupo  \\\n",
       "0           NaN   True            9      Mañana        Blanco   \n",
       "1           NaN  False            7      Mañana        Blanco   \n",
       "2           NaN  False           16       Tarde        Blanco   \n",
       "3           NaN  False           11      Mañana        Blanco   \n",
       "4           NaN  False         <NA>         NaN          Toro   \n",
       "...         ...    ...          ...         ...           ...   \n",
       "1327        NaN  False         <NA>         NaN        Blanco   \n",
       "1328        NaN   True         <NA>         NaN          Toro   \n",
       "1329        NaN   True         <NA>         NaN          Toro   \n",
       "1330        NaN  False         <NA>         NaN        Blanco   \n",
       "1331        NaN   True         <NA>         NaN         Tigre   \n",
       "\n",
       "                                             Herida  \n",
       "0                         Both legs and arm severed  \n",
       "1              None sustained board severly damaged  \n",
       "2             None sustained board severely damaged  \n",
       "3           Kayak badly damaged no injury to person  \n",
       "4                          Lacerations to right arm  \n",
       "...                                             ...  \n",
       "1327                                    Leg injured  \n",
       "1328                            FATAL, leg severed   \n",
       "1329  FATAL, left leg bitten with severe blood loss  \n",
       "1330     No injury to occupant; shark capsized boat  \n",
       "1331                                          FATAL  \n",
       "\n",
       "[1332 rows x 15 columns]"
      ]
     },
     "execution_count": 25,
     "metadata": {},
     "output_type": "execute_result"
    }
   ],
   "source": [
    "df_final_4"
   ]
  },
  {
   "cell_type": "code",
   "execution_count": 26,
   "id": "cc18357b",
   "metadata": {},
   "outputs": [
    {
     "data": {
      "text/plain": [
       "Index(['Fecha', 'Año', 'País', 'Estado', 'Ubicación', 'Sexo', 'Edad', 'Tipo',\n",
       "       'Provocado', 'Provocado', 'Fatal', 'Hora_limpia', 'Momento_día',\n",
       "       'Especie_grupo', 'Herida'],\n",
       "      dtype='object')"
      ]
     },
     "execution_count": 26,
     "metadata": {},
     "output_type": "execute_result"
    }
   ],
   "source": [
    "df_final_4.columns"
   ]
  },
  {
   "cell_type": "code",
   "execution_count": 27,
   "id": "d7473b45",
   "metadata": {},
   "outputs": [
    {
     "name": "stdout",
     "output_type": "stream",
     "text": [
      "Columnas df_final_4: ['Fecha', 'Año', 'País', 'Estado', 'Sexo', 'Edad', 'Provocado', 'Fatal', 'Hora_limpia', 'Momento_día', 'Especie_grupo', 'Herida']\n",
      "Shape df_final_4: (1332, 12)\n"
     ]
    }
   ],
   "source": [
    "# 1) Quitar nombres de columna duplicados (se queda con la primera aparición)\n",
    "df_final_4 = df_final_4.loc[:, ~df_final_4.columns.duplicated()].copy()\n",
    "\n",
    "# (si también tienes df_final para “todas las especies”, haz lo mismo)\n",
    "try:\n",
    "    df_final = df_final.loc[:, ~df_final.columns.duplicated()].copy()\n",
    "except NameError:\n",
    "    pass\n",
    "\n",
    "# 2) Nos quedamos con el set limpio (12–13 columnas)\n",
    "cols_finales = [\n",
    "    \"Fecha\",\"Año\",\"País\",\"Estado\",  \n",
    "    \"Sexo\",\"Edad\",\n",
    "    \"Provocado\",\"Fatal\",\n",
    "    \"Hora_limpia\",\"Momento_día\",\n",
    "    \"Especie_grupo\",\"Herida\"\n",
    "]\n",
    "\n",
    "# 3) Eliminar columnas sobrantes como 'Tipo' (y cualquier otra que no esté en la lista)\n",
    "df_final_4 = df_final_4[[c for c in cols_finales if c in df_final_4.columns]].copy()\n",
    "try:\n",
    "    df_final = df_final[[c for c in cols_finales if c in df_final.columns]].copy()\n",
    "except NameError:\n",
    "    pass\n",
    "\n",
    "print(\"Columnas df_final_4:\", df_final_4.columns.to_list())\n",
    "print(\"Shape df_final_4:\", df_final_4.shape)\n"
   ]
  },
  {
   "cell_type": "code",
   "execution_count": 28,
   "id": "f400853e",
   "metadata": {},
   "outputs": [
    {
     "name": "stdout",
     "output_type": "stream",
     "text": [
      "Guardados en: data\\processed\n"
     ]
    }
   ],
   "source": [
    "from pathlib import Path\n",
    "DATA_PROCESSED = Path(\"data/processed\"); DATA_PROCESSED.mkdir(parents=True, exist_ok=True)\n",
    "\n",
    "df_final_4.to_csv(DATA_PROCESSED/\"shark_attacks_final_4especies_min.csv\", index=False, encoding=\"utf-8\")\n",
    "try:\n",
    "    df_final.to_csv(DATA_PROCESSED/\"shark_attacks_final_min.csv\", index=False, encoding=\"utf-8\")\n",
    "except NameError:\n",
    "    pass\n",
    "\n",
    "print(\"Guardados en:\", DATA_PROCESSED)\n"
   ]
  },
  {
   "cell_type": "code",
   "execution_count": null,
   "id": "e1dec262",
   "metadata": {},
   "outputs": [],
   "source": [
    "import os, numpy as np, pandas as pd, matplotlib.pyplot as plt\n",
    "os.makedirs(\"figures\", exist_ok=True)\n",
    "\n",
    "BLUE  = \"#A5D8FF\"\n",
    "CORAL = \"#FF6B6B\"\n",
    "INK   = \"#0B132B\"\n",
    "\n",
    "data = df_final_4.copy() \n"
   ]
  },
  {
   "cell_type": "code",
   "execution_count": 33,
   "id": "dbe424aa",
   "metadata": {},
   "outputs": [
    {
     "data": {
      "image/png": "[encoded data removed]",
      "text/plain": [
       "<Figure size 1200x400 with 1 Axes>"
      ]
     },
     "metadata": {},
     "output_type": "display_data"
    },
    {
     "data": {
      "image/png": "[encoded data removed]",
      "text/plain": [
       "<Figure size 700x400 with 1 Axes>"
      ]
     },
     "metadata": {},
     "output_type": "display_data"
    }
   ],
   "source": [
    "# Por hora (0–23)\n",
    "if data['Hora_limpia'].notna().any():\n",
    "    by_hour = data.groupby('Hora_limpia').size().reindex(range(24), fill_value=0)\n",
    "    plt.figure(figsize=(12,4))\n",
    "    by_hour.plot(kind='bar', color=BLUE, edgecolor=INK)\n",
    "    plt.title(\"Incidentes por hora del día (4 especies)\")\n",
    "    plt.xlabel(\"Hora\"); plt.ylabel(\"Nº incidentes\")\n",
    "    plt.tight_layout(); plt.savefig(\"figures/04_incidentes_por_hora.png\", dpi=300); plt.show()\n",
    "\n",
    "# Por momento del día\n",
    "if 'Momento_día' in data.columns:\n",
    "    cats = [\"Madrugada\",\"Mañana\",\"Tarde\",\"Noche\"]\n",
    "    by_moment = data['Momento_día'].astype(pd.CategoricalDtype(categories=cats, ordered=True)) \\\n",
    "                                   .value_counts().reindex(cats)\n",
    "    plt.figure(figsize=(7,4))\n",
    "    by_moment.plot(kind='bar', color=CORAL, edgecolor=INK)\n",
    "    plt.title(\"Incidentes por momento del día\")\n",
    "    plt.xlabel(\"Momento\"); plt.ylabel(\"Nº incidentes\")\n",
    "    plt.xticks(rotation=0)\n",
    "    plt.tight_layout(); plt.savefig(\"figures/04b_incidentes_por_momento.png\", dpi=300); plt.show()\n"
   ]
  },
  {
   "cell_type": "code",
   "execution_count": 34,
   "id": "bb9e338a",
   "metadata": {},
   "outputs": [
    {
     "data": {
      "image/png": "[encoded data removed]",
      "text/plain": [
       "<Figure size 900x400 with 1 Axes>"
      ]
     },
     "metadata": {},
     "output_type": "display_data"
    },
    {
     "data": {
      "image/png": "[encoded data removed]",
      "text/plain": [
       "<Figure size 1000x400 with 1 Axes>"
      ]
     },
     "metadata": {},
     "output_type": "display_data"
    }
   ],
   "source": [
    "# Mes\n",
    "mes = data['Fecha'].dt.month\n",
    "by_month = mes.value_counts().sort_index()\n",
    "plt.figure(figsize=(9,4))\n",
    "by_month.plot(kind='bar', color=BLUE, edgecolor=INK)\n",
    "plt.title(\"Incidentes por mes (estacionalidad)\")\n",
    "plt.xlabel(\"Mes\"); plt.ylabel(\"Nº incidentes\")\n",
    "plt.tight_layout(); plt.savefig(\"figures/05_incidentes_por_mes.png\", dpi=300); plt.show()\n",
    "\n",
    "# Top países\n",
    "top_paises = data['País'].value_counts().head(10)\n",
    "plt.figure(figsize=(10,4))\n",
    "top_paises.plot(kind='bar', color=CORAL, edgecolor=INK)\n",
    "plt.title(\"Top 10 países por nº de incidentes (4 especies)\")\n",
    "plt.xlabel(\"País\"); plt.ylabel(\"Nº incidentes\")\n",
    "plt.tight_layout(); plt.savefig(\"figures/05b_top10_paises.png\", dpi=300); plt.show()\n"
   ]
  },
  {
   "cell_type": "code",
   "execution_count": 39,
   "id": "8b28b73c",
   "metadata": {},
   "outputs": [
    {
     "data": {
      "image/png": "[encoded data removed]",
      "text/plain": [
       "<Figure size 600x600 with 1 Axes>"
      ]
     },
     "metadata": {},
     "output_type": "display_data"
    }
   ],
   "source": [
    "# --- Gráfico 1: Distribución de ataques por especie ---\n",
    "cts = data[\"Especie_grupo\"].value_counts().reindex([\"Blanco\",\"Tigre\",\"Toro\",\"Martillo\"])\n",
    "colors = [CORAL, \"#FF9B73\", \"#FFD1C1\", BLUE]\n",
    "\n",
    "fig, ax = plt.subplots(figsize=(6,6), facecolor=\"none\")\n",
    "wedges, texts, autotexts = ax.pie(\n",
    "    cts.values, labels=cts.index,\n",
    "    autopct=\"%1.1f%%\",\n",
    "    startangle=140,\n",
    "    colors=colors,\n",
    "    textprops={'color': 'white', 'fontsize': 11}\n",
    ")\n",
    "\n",
    "plt.setp(autotexts, size=11, weight=\"bold\", color=\"#0B132B\")\n",
    "ax.set_title(\"Distribución de incidentes por especie\", fontsize=14, pad=20, color=\"white\")\n",
    "plt.tight_layout()\n",
    "plt.savefig(\"figures/01_especie_grupo_quesito.png\", dpi=300, transparent=True)\n",
    "plt.show()\n"
   ]
  },
  {
   "cell_type": "code",
   "execution_count": 40,
   "id": "112933fa",
   "metadata": {},
   "outputs": [
    {
     "data": {
      "image/png": "[encoded data removed]",
      "text/plain": [
       "<Figure size 800x500 with 1 Axes>"
      ]
     },
     "metadata": {},
     "output_type": "display_data"
    }
   ],
   "source": [
    "# --- Gráfico 2: Gravedad por especie ---\n",
    "sev = (data\n",
    "       .assign(Fatal_lbl=np.where(data[\"Fatal\"]==True, \"Fatal\", \"No fatal\"))\n",
    "       .groupby([\"Especie_grupo\",\"Fatal_lbl\"])\n",
    "       .size().unstack(fill_value=0)\n",
    "       .reindex([\"Blanco\",\"Tigre\",\"Toro\",\"Martillo\"]))\n",
    "\n",
    "fig, ax = plt.subplots(figsize=(8,5))\n",
    "width = 0.35\n",
    "x = np.arange(len(sev))\n",
    "\n",
    "bars1 = ax.bar(x - width/2, sev[\"Fatal\"], width, label=\"Fatal\", color=CORAL)\n",
    "bars2 = ax.bar(x + width/2, sev[\"No fatal\"], width, label=\"No fatal\", color=BLUE)\n",
    "\n",
    "ax.set_xticks(x)\n",
    "ax.set_xticklabels(sev.index)\n",
    "ax.set_xlabel(\"Especie\"); ax.set_ylabel(\"Nº de incidentes\")\n",
    "ax.set_title(\"Gravedad por especie (Fatal vs No Fatal)\")\n",
    "ax.legend(frameon=False)\n",
    "ax.grid(axis=\"y\", alpha=0.25)\n",
    "\n",
    "# Etiquetas\n",
    "for bars in [bars1, bars2]:\n",
    "    for bar in bars:\n",
    "        height = bar.get_height()\n",
    "        if height > 0:\n",
    "            ax.text(bar.get_x() + bar.get_width()/2, height + 1,\n",
    "                    f\"{int(height)}\", ha='center', va='bottom', fontsize=9, color=\"white\")\n",
    "\n",
    "plt.tight_layout()\n",
    "plt.savefig(\"figures/02_gravedad_por_especie_grouped.png\", dpi=300, transparent=True)\n",
    "plt.show()\n"
   ]
  },
  {
   "cell_type": "code",
   "execution_count": 41,
   "id": "23e6ed3c",
   "metadata": {},
   "outputs": [
    {
     "data": {
      "image/png": "[encoded data removed]",
      "text/plain": [
       "<Figure size 1000x400 with 1 Axes>"
      ]
     },
     "metadata": {},
     "output_type": "display_data"
    }
   ],
   "source": [
    "# --- Gráfico 3: Incidentes por hora del día ---\n",
    "by_hour = data.groupby(\"Hora_limpia\").size().reindex(range(24), fill_value=0)\n",
    "\n",
    "fig, ax = plt.subplots(figsize=(10,4))\n",
    "ax.plot(by_hour.index, by_hour.values, color=BLUE, linewidth=2.5, marker='o')\n",
    "ax.fill_between(by_hour.index, by_hour.values, color=BLUE, alpha=0.2)\n",
    "ax.set_xticks(range(0,24,2))\n",
    "ax.set_title(\"Incidentes por hora del día\")\n",
    "ax.set_xlabel(\"Hora del día\"); ax.set_ylabel(\"Nº de incidentes\")\n",
    "ax.grid(alpha=0.3)\n",
    "plt.tight_layout()\n",
    "plt.savefig(\"figures/03_hora_linea.png\", dpi=300, transparent=True)\n",
    "plt.show()\n"
   ]
  },
  {
   "cell_type": "code",
   "execution_count": 47,
   "id": "1feb1e22",
   "metadata": {},
   "outputs": [
    {
     "name": "stdout",
     "output_type": "stream",
     "text": [
      "Collecting geopandas\n",
      "  Using cached geopandas-1.1.1-py3-none-any.whl.metadata (2.3 kB)\n",
      "Collecting pyproj\n",
      "  Using cached pyproj-3.7.2-cp313-cp313-win_amd64.whl.metadata (31 kB)\n",
      "Collecting shapely\n",
      "  Using cached shapely-2.1.2-cp313-cp313-win_amd64.whl.metadata (7.1 kB)\n",
      "Collecting fiona\n",
      "  Downloading fiona-1.10.1-cp313-cp313-win_amd64.whl.metadata (58 kB)\n",
      "Requirement already satisfied: numpy>=1.24 in c:\\users\\cubea\\anaconda3\\lib\\site-packages (from geopandas) (2.1.3)\n",
      "Collecting pyogrio>=0.7.2 (from geopandas)\n",
      "  Using cached pyogrio-0.11.1-cp313-cp313-win_amd64.whl.metadata (5.4 kB)\n",
      "Requirement already satisfied: packaging in c:\\users\\cubea\\appdata\\roaming\\python\\python313\\site-packages (from geopandas) (25.0)\n",
      "Requirement already satisfied: pandas>=2.0.0 in c:\\users\\cubea\\anaconda3\\lib\\site-packages (from geopandas) (2.2.3)\n",
      "Requirement already satisfied: certifi in c:\\users\\cubea\\anaconda3\\lib\\site-packages (from pyproj) (2025.8.3)\n",
      "Requirement already satisfied: attrs>=19.2.0 in c:\\users\\cubea\\anaconda3\\lib\\site-packages (from fiona) (24.3.0)\n",
      "Requirement already satisfied: click~=8.0 in c:\\users\\cubea\\anaconda3\\lib\\site-packages (from fiona) (8.1.8)\n",
      "Collecting click-plugins>=1.0 (from fiona)\n",
      "  Downloading click_plugins-1.1.1.2-py2.py3-none-any.whl.metadata (6.5 kB)\n",
      "Collecting cligj>=0.5 (from fiona)\n",
      "  Downloading cligj-0.7.2-py3-none-any.whl.metadata (5.0 kB)\n",
      "Requirement already satisfied: colorama in c:\\users\\cubea\\appdata\\roaming\\python\\python313\\site-packages (from click~=8.0->fiona) (0.4.6)\n",
      "Requirement already satisfied: python-dateutil>=2.8.2 in c:\\users\\cubea\\appdata\\roaming\\python\\python313\\site-packages (from pandas>=2.0.0->geopandas) (2.9.0.post0)\n",
      "Requirement already satisfied: pytz>=2020.1 in c:\\users\\cubea\\anaconda3\\lib\\site-packages (from pandas>=2.0.0->geopandas) (2024.1)\n",
      "Requirement already satisfied: tzdata>=2022.7 in c:\\users\\cubea\\anaconda3\\lib\\site-packages (from pandas>=2.0.0->geopandas) (2025.2)\n",
      "Requirement already satisfied: six>=1.5 in c:\\users\\cubea\\appdata\\roaming\\python\\python313\\site-packages (from python-dateutil>=2.8.2->pandas>=2.0.0->geopandas) (1.17.0)\n",
      "Using cached geopandas-1.1.1-py3-none-any.whl (338 kB)\n",
      "Using cached pyproj-3.7.2-cp313-cp313-win_amd64.whl (6.3 MB)\n",
      "Using cached shapely-2.1.2-cp313-cp313-win_amd64.whl (1.7 MB)\n",
      "Downloading fiona-1.10.1-cp313-cp313-win_amd64.whl (24.5 MB)\n",
      "   ---------------------------------------- 0.0/24.5 MB ? eta -:--:--\n",
      "   -------------------------- ------------- 16.0/24.5 MB 87.8 MB/s eta 0:00:01\n",
      "   ---------------------------------------- 24.5/24.5 MB 81.0 MB/s eta 0:00:00\n",
      "Downloading click_plugins-1.1.1.2-py2.py3-none-any.whl (11 kB)\n",
      "Downloading cligj-0.7.2-py3-none-any.whl (7.1 kB)\n",
      "Using cached pyogrio-0.11.1-cp313-cp313-win_amd64.whl (19.2 MB)\n",
      "Installing collected packages: shapely, pyproj, pyogrio, cligj, click-plugins, geopandas, fiona\n",
      "\n",
      "   ---------------------------------------- 0/7 [shapely]\n",
      "   ----- ---------------------------------- 1/7 [pyproj]\n",
      "   ----------- ---------------------------- 2/7 [pyogrio]\n",
      "   ----------- ---------------------------- 2/7 [pyogrio]\n",
      "   ---------------------------- ----------- 5/7 [geopandas]\n",
      "   ---------------------------- ----------- 5/7 [geopandas]\n",
      "   ---------------------------------- ----- 6/7 [fiona]\n",
      "   ---------------------------------- ----- 6/7 [fiona]\n",
      "   ---------------------------------- ----- 6/7 [fiona]\n",
      "   ---------------------------------------- 7/7 [fiona]\n",
      "\n",
      "Successfully installed click-plugins-1.1.1.2 cligj-0.7.2 fiona-1.10.1 geopandas-1.1.1 pyogrio-0.11.1 pyproj-3.7.2 shapely-2.1.2\n",
      "Note: you may need to restart the kernel to use updated packages.\n"
     ]
    },
    {
     "name": "stderr",
     "output_type": "stream",
     "text": [
      "  WARNING: The script pyproj.exe is installed in 'c:\\Users\\cubea\\anaconda3\\Scripts' which is not on PATH.\n",
      "  Consider adding this directory to PATH or, if you prefer to suppress this warning, use --no-warn-script-location.\n",
      "  WARNING: The script fio.exe is installed in 'c:\\Users\\cubea\\anaconda3\\Scripts' which is not on PATH.\n",
      "  Consider adding this directory to PATH or, if you prefer to suppress this warning, use --no-warn-script-location.\n"
     ]
    }
   ],
   "source": [
    "pip install geopandas pyproj shapely fiona"
   ]
  },
  {
   "cell_type": "code",
   "execution_count": 58,
   "id": "5f98a231",
   "metadata": {},
   "outputs": [
    {
     "name": "stdout",
     "output_type": "stream",
     "text": [
      "Collecting geodatasets\n",
      "  Downloading geodatasets-2024.8.0-py3-none-any.whl.metadata (5.4 kB)\n",
      "Collecting pooch (from geodatasets)\n",
      "  Downloading pooch-1.8.2-py3-none-any.whl.metadata (10 kB)\n",
      "Requirement already satisfied: platformdirs>=2.5.0 in c:\\users\\cubea\\appdata\\roaming\\python\\python313\\site-packages (from pooch->geodatasets) (4.4.0)\n",
      "Requirement already satisfied: packaging>=20.0 in c:\\users\\cubea\\appdata\\roaming\\python\\python313\\site-packages (from pooch->geodatasets) (25.0)\n",
      "Requirement already satisfied: requests>=2.19.0 in c:\\users\\cubea\\anaconda3\\lib\\site-packages (from pooch->geodatasets) (2.32.3)\n",
      "Requirement already satisfied: charset-normalizer<4,>=2 in c:\\users\\cubea\\anaconda3\\lib\\site-packages (from requests>=2.19.0->pooch->geodatasets) (3.3.2)\n",
      "Requirement already satisfied: idna<4,>=2.5 in c:\\users\\cubea\\anaconda3\\lib\\site-packages (from requests>=2.19.0->pooch->geodatasets) (3.7)\n",
      "Requirement already satisfied: urllib3<3,>=1.21.1 in c:\\users\\cubea\\anaconda3\\lib\\site-packages (from requests>=2.19.0->pooch->geodatasets) (2.3.0)\n",
      "Requirement already satisfied: certifi>=2017.4.17 in c:\\users\\cubea\\anaconda3\\lib\\site-packages (from requests>=2.19.0->pooch->geodatasets) (2025.8.3)\n",
      "Downloading geodatasets-2024.8.0-py3-none-any.whl (20 kB)\n",
      "Downloading pooch-1.8.2-py3-none-any.whl (64 kB)\n",
      "Installing collected packages: pooch, geodatasets\n",
      "\n",
      "   ---------------------------------------- 2/2 [geodatasets]\n",
      "\n",
      "Successfully installed geodatasets-2024.8.0 pooch-1.8.2\n",
      "Note: you may need to restart the kernel to use updated packages.\n"
     ]
    }
   ],
   "source": [
    "pip install geodatasets\n"
   ]
  },
  {
   "cell_type": "code",
   "execution_count": null,
   "id": "ce46dc56",
   "metadata": {},
   "outputs": [],
   "source": []
  }
 ],
 "metadata": {
  "kernelspec": {
   "display_name": "base",
   "language": "python",
   "name": "python3"
  },
  "language_info": {
   "codemirror_mode": {
    "name": "ipython",
    "version": 3
   },
   "file_extension": ".py",
   "mimetype": "text/x-python",
   "name": "python",
   "nbconvert_exporter": "python",
   "pygments_lexer": "ipython3",
   "version": "3.13.5"
  }
 },
 "nbformat": 4,
 "nbformat_minor": 5
}
