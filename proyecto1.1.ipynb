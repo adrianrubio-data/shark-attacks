{
 "cells": [
  {
   "cell_type": "code",
   "execution_count": 1,
   "id": "02f1e854",
   "metadata": {},
   "outputs": [
    {
     "name": "stdout",
     "output_type": "stream",
     "text": [
      "Cargado: (7045, 23)\n"
     ]
    },
    {
     "data": {
      "application/vnd.microsoft.datawrangler.viewer.v0+json": {
       "columns": [
        {
         "name": "index",
         "rawType": "int64",
         "type": "integer"
        },
        {
         "name": "Date",
         "rawType": "object",
         "type": "string"
        },
        {
         "name": "Year",
         "rawType": "object",
         "type": "string"
        },
        {
         "name": "Type",
         "rawType": "object",
         "type": "string"
        },
        {
         "name": "Country",
         "rawType": "object",
         "type": "string"
        },
        {
         "name": "State",
         "rawType": "object",
         "type": "string"
        },
        {
         "name": "Location",
         "rawType": "object",
         "type": "string"
        },
        {
         "name": "Activity",
         "rawType": "object",
         "type": "string"
        },
        {
         "name": "Name",
         "rawType": "object",
         "type": "string"
        },
        {
         "name": "Sex",
         "rawType": "object",
         "type": "string"
        },
        {
         "name": "Age",
         "rawType": "object",
         "type": "string"
        },
        {
         "name": "Injury",
         "rawType": "object",
         "type": "string"
        },
        {
         "name": "Fatal Y/N",
         "rawType": "object",
         "type": "string"
        },
        {
         "name": "Time",
         "rawType": "object",
         "type": "string"
        },
        {
         "name": "Species ",
         "rawType": "object",
         "type": "string"
        },
        {
         "name": "Source",
         "rawType": "object",
         "type": "string"
        },
        {
         "name": "pdf",
         "rawType": "object",
         "type": "unknown"
        },
        {
         "name": "href formula",
         "rawType": "object",
         "type": "unknown"
        },
        {
         "name": "href",
         "rawType": "object",
         "type": "unknown"
        },
        {
         "name": "Case Number",
         "rawType": "object",
         "type": "unknown"
        },
        {
         "name": "Case Number.1",
         "rawType": "object",
         "type": "unknown"
        },
        {
         "name": "original order",
         "rawType": "float64",
         "type": "float"
        },
        {
         "name": "Unnamed: 21",
         "rawType": "object",
         "type": "unknown"
        },
        {
         "name": "Unnamed: 22",
         "rawType": "object",
         "type": "unknown"
        }
       ],
       "ref": "14b4febb-64ba-4958-a79b-ff3b428d6318",
       "rows": [
        [
         "0",
         "6th September",
         "2025",
         "Unprovoked",
         "Australia",
         "NSW",
         "Long Reef Sydney",
         "Surfing",
         "Mercury Psillaskis",
         "M",
         "57",
         "Both legs and arm severed",
         "Y",
         "0930hrs",
         "Great White Shark",
         "Todd Smith: Andy Currie: Simon De Marchi: Kevin McMurray Trackingsharks.com:",
         null,
         null,
         null,
         null,
         null,
         null,
         null,
         null
        ],
        [
         "1",
         "1st September",
         "2025",
         "Unprovoked",
         "USA",
         "Florida",
         "Horseshoe reef Key Largo",
         "Snorkeling",
         "Richard Burrows",
         "M",
         "8",
         "Bite to leg",
         "N",
         "1524hrs",
         "Not stated",
         "Todd Smith: US SUN: NY Post: The Guardian: People:",
         null,
         null,
         null,
         null,
         null,
         null,
         null,
         null
        ],
        [
         "2",
         "30th August",
         "2025",
         "Unprovoked",
         "USA",
         "Texas",
         "Galveston",
         "Swimming",
         "Harper Ochoa",
         "F",
         "8",
         "Bite to leg",
         "N",
         "Not stated",
         "Not stated",
         "Bob Myatt GSAF : People:",
         null,
         null,
         null,
         null,
         null,
         null,
         null,
         null
        ],
        [
         "3",
         "18th August",
         "2025",
         "Unprovoked",
         "Australia",
         "NSW",
         "Cabarita Beach",
         "Surfing",
         "Brad Ross",
         "M",
         "?",
         "None sustained board severly damaged",
         "N",
         "0730hrs",
         "5m (16.5ft) Great White",
         "Bob Myatt GSAF The Guardian: 9 News: ABS News: Daily Telegraph:",
         null,
         null,
         null,
         null,
         null,
         null,
         null,
         null
        ],
        [
         "4",
         "17th August",
         "2025",
         "Unprovoked",
         "Bahamas",
         "Atlantic Ocean near Big Grand Cay",
         "North of Grand Bahama near Freeport",
         "Spearfishing",
         "Not stated",
         "M",
         "63",
         "Severe injuries no detail",
         "N",
         "1300hrs",
         "Undetermined",
         "Ralph Collier GSAF and Kevin MCMurray Trackingsharks.com ",
         null,
         null,
         null,
         null,
         null,
         null,
         null,
         null
        ]
       ],
       "shape": {
        "columns": 23,
        "rows": 5
       }
      },
      "text/html": [
       "<div>\n",
       "<style scoped>\n",
       "    .dataframe tbody tr th:only-of-type {\n",
       "        vertical-align: middle;\n",
       "    }\n",
       "\n",
       "    .dataframe tbody tr th {\n",
       "        vertical-align: top;\n",
       "    }\n",
       "\n",
       "    .dataframe thead th {\n",
       "        text-align: right;\n",
       "    }\n",
       "</style>\n",
       "<table border=\"1\" class=\"dataframe\">\n",
       "  <thead>\n",
       "    <tr style=\"text-align: right;\">\n",
       "      <th></th>\n",
       "      <th>Date</th>\n",
       "      <th>Year</th>\n",
       "      <th>Type</th>\n",
       "      <th>Country</th>\n",
       "      <th>State</th>\n",
       "      <th>Location</th>\n",
       "      <th>Activity</th>\n",
       "      <th>Name</th>\n",
       "      <th>Sex</th>\n",
       "      <th>Age</th>\n",
       "      <th>...</th>\n",
       "      <th>Species</th>\n",
       "      <th>Source</th>\n",
       "      <th>pdf</th>\n",
       "      <th>href formula</th>\n",
       "      <th>href</th>\n",
       "      <th>Case Number</th>\n",
       "      <th>Case Number.1</th>\n",
       "      <th>original order</th>\n",
       "      <th>Unnamed: 21</th>\n",
       "      <th>Unnamed: 22</th>\n",
       "    </tr>\n",
       "  </thead>\n",
       "  <tbody>\n",
       "    <tr>\n",
       "      <th>0</th>\n",
       "      <td>6th September</td>\n",
       "      <td>2025</td>\n",
       "      <td>Unprovoked</td>\n",
       "      <td>Australia</td>\n",
       "      <td>NSW</td>\n",
       "      <td>Long Reef Sydney</td>\n",
       "      <td>Surfing</td>\n",
       "      <td>Mercury Psillaskis</td>\n",
       "      <td>M</td>\n",
       "      <td>57</td>\n",
       "      <td>...</td>\n",
       "      <td>Great White Shark</td>\n",
       "      <td>Todd Smith: Andy Currie: Simon De Marchi: Kevi...</td>\n",
       "      <td>NaN</td>\n",
       "      <td>NaN</td>\n",
       "      <td>NaN</td>\n",
       "      <td>NaN</td>\n",
       "      <td>NaN</td>\n",
       "      <td>NaN</td>\n",
       "      <td>NaN</td>\n",
       "      <td>NaN</td>\n",
       "    </tr>\n",
       "    <tr>\n",
       "      <th>1</th>\n",
       "      <td>1st September</td>\n",
       "      <td>2025</td>\n",
       "      <td>Unprovoked</td>\n",
       "      <td>USA</td>\n",
       "      <td>Florida</td>\n",
       "      <td>Horseshoe reef Key Largo</td>\n",
       "      <td>Snorkeling</td>\n",
       "      <td>Richard Burrows</td>\n",
       "      <td>M</td>\n",
       "      <td>8</td>\n",
       "      <td>...</td>\n",
       "      <td>Not stated</td>\n",
       "      <td>Todd Smith: US SUN: NY Post: The Guardian: Peo...</td>\n",
       "      <td>NaN</td>\n",
       "      <td>NaN</td>\n",
       "      <td>NaN</td>\n",
       "      <td>NaN</td>\n",
       "      <td>NaN</td>\n",
       "      <td>NaN</td>\n",
       "      <td>NaN</td>\n",
       "      <td>NaN</td>\n",
       "    </tr>\n",
       "    <tr>\n",
       "      <th>2</th>\n",
       "      <td>30th August</td>\n",
       "      <td>2025</td>\n",
       "      <td>Unprovoked</td>\n",
       "      <td>USA</td>\n",
       "      <td>Texas</td>\n",
       "      <td>Galveston</td>\n",
       "      <td>Swimming</td>\n",
       "      <td>Harper Ochoa</td>\n",
       "      <td>F</td>\n",
       "      <td>8</td>\n",
       "      <td>...</td>\n",
       "      <td>Not stated</td>\n",
       "      <td>Bob Myatt GSAF : People:</td>\n",
       "      <td>NaN</td>\n",
       "      <td>NaN</td>\n",
       "      <td>NaN</td>\n",
       "      <td>NaN</td>\n",
       "      <td>NaN</td>\n",
       "      <td>NaN</td>\n",
       "      <td>NaN</td>\n",
       "      <td>NaN</td>\n",
       "    </tr>\n",
       "    <tr>\n",
       "      <th>3</th>\n",
       "      <td>18th August</td>\n",
       "      <td>2025</td>\n",
       "      <td>Unprovoked</td>\n",
       "      <td>Australia</td>\n",
       "      <td>NSW</td>\n",
       "      <td>Cabarita Beach</td>\n",
       "      <td>Surfing</td>\n",
       "      <td>Brad Ross</td>\n",
       "      <td>M</td>\n",
       "      <td>?</td>\n",
       "      <td>...</td>\n",
       "      <td>5m (16.5ft) Great White</td>\n",
       "      <td>Bob Myatt GSAF The Guardian: 9 News: ABS News:...</td>\n",
       "      <td>NaN</td>\n",
       "      <td>NaN</td>\n",
       "      <td>NaN</td>\n",
       "      <td>NaN</td>\n",
       "      <td>NaN</td>\n",
       "      <td>NaN</td>\n",
       "      <td>NaN</td>\n",
       "      <td>NaN</td>\n",
       "    </tr>\n",
       "    <tr>\n",
       "      <th>4</th>\n",
       "      <td>17th August</td>\n",
       "      <td>2025</td>\n",
       "      <td>Unprovoked</td>\n",
       "      <td>Bahamas</td>\n",
       "      <td>Atlantic Ocean near Big Grand Cay</td>\n",
       "      <td>North of Grand Bahama near Freeport</td>\n",
       "      <td>Spearfishing</td>\n",
       "      <td>Not stated</td>\n",
       "      <td>M</td>\n",
       "      <td>63</td>\n",
       "      <td>...</td>\n",
       "      <td>Undetermined</td>\n",
       "      <td>Ralph Collier GSAF and Kevin MCMurray Tracking...</td>\n",
       "      <td>NaN</td>\n",
       "      <td>NaN</td>\n",
       "      <td>NaN</td>\n",
       "      <td>NaN</td>\n",
       "      <td>NaN</td>\n",
       "      <td>NaN</td>\n",
       "      <td>NaN</td>\n",
       "      <td>NaN</td>\n",
       "    </tr>\n",
       "  </tbody>\n",
       "</table>\n",
       "<p>5 rows × 23 columns</p>\n",
       "</div>"
      ],
      "text/plain": [
       "            Date  Year        Type    Country  \\\n",
       "0  6th September  2025  Unprovoked  Australia   \n",
       "1  1st September  2025  Unprovoked        USA   \n",
       "2    30th August  2025  Unprovoked        USA   \n",
       "3    18th August  2025  Unprovoked  Australia   \n",
       "4    17th August  2025  Unprovoked    Bahamas   \n",
       "\n",
       "                               State                             Location  \\\n",
       "0                                NSW                     Long Reef Sydney   \n",
       "1                            Florida             Horseshoe reef Key Largo   \n",
       "2                              Texas                            Galveston   \n",
       "3                                NSW                       Cabarita Beach   \n",
       "4  Atlantic Ocean near Big Grand Cay  North of Grand Bahama near Freeport   \n",
       "\n",
       "       Activity                Name Sex Age  ...                 Species   \\\n",
       "0       Surfing  Mercury Psillaskis   M  57  ...        Great White Shark   \n",
       "1    Snorkeling     Richard Burrows   M   8  ...               Not stated   \n",
       "2      Swimming        Harper Ochoa   F   8  ...               Not stated   \n",
       "3       Surfing           Brad Ross   M   ?  ...  5m (16.5ft) Great White   \n",
       "4  Spearfishing          Not stated   M  63  ...             Undetermined   \n",
       "\n",
       "                                              Source  pdf href formula href  \\\n",
       "0  Todd Smith: Andy Currie: Simon De Marchi: Kevi...  NaN          NaN  NaN   \n",
       "1  Todd Smith: US SUN: NY Post: The Guardian: Peo...  NaN          NaN  NaN   \n",
       "2                           Bob Myatt GSAF : People:  NaN          NaN  NaN   \n",
       "3  Bob Myatt GSAF The Guardian: 9 News: ABS News:...  NaN          NaN  NaN   \n",
       "4  Ralph Collier GSAF and Kevin MCMurray Tracking...  NaN          NaN  NaN   \n",
       "\n",
       "  Case Number Case Number.1 original order Unnamed: 21 Unnamed: 22  \n",
       "0         NaN           NaN            NaN         NaN         NaN  \n",
       "1         NaN           NaN            NaN         NaN         NaN  \n",
       "2         NaN           NaN            NaN         NaN         NaN  \n",
       "3         NaN           NaN            NaN         NaN         NaN  \n",
       "4         NaN           NaN            NaN         NaN         NaN  \n",
       "\n",
       "[5 rows x 23 columns]"
      ]
     },
     "execution_count": 1,
     "metadata": {},
     "output_type": "execute_result"
    }
   ],
   "source": [
    "# --------------------------\n",
    "# BLOQUE 1 · CARGA Y REVISIÓN INICIAL\n",
    "# --------------------------\n",
    "from pathlib import Path\n",
    "import numpy as np\n",
    "import pandas as pd\n",
    "import re\n",
    "\n",
    "BASE = Path.cwd()\n",
    "DATA_RAW = BASE / \"data\" / \"raw\"\n",
    "DATA_PROCESSED = BASE / \"data\" / \"processed\"\n",
    "DATA_PROCESSED.mkdir(parents=True, exist_ok=True)\n",
    "\n",
    "ARCHIVO = DATA_RAW / \"GSAF5.csv\"\n",
    "\n",
    "df = pd.read_csv(ARCHIVO, encoding=\"latin-1\")\n",
    "print(\"Cargado:\", df.shape)\n",
    "df.head(5)\n"
   ]
  },
  {
   "cell_type": "code",
   "execution_count": 2,
   "id": "296021a8",
   "metadata": {},
   "outputs": [
    {
     "name": "stdout",
     "output_type": "stream",
     "text": [
      "<class 'pandas.core.frame.DataFrame'>\n",
      "RangeIndex: 7045 entries, 0 to 7044\n",
      "Data columns (total 23 columns):\n",
      " #   Column          Non-Null Count  Dtype  \n",
      "---  ------          --------------  -----  \n",
      " 0   Date            7045 non-null   object \n",
      " 1   Year            7043 non-null   object \n",
      " 2   Type            7027 non-null   object \n",
      " 3   Country         6995 non-null   object \n",
      " 4   State           6560 non-null   object \n",
      " 5   Location        6478 non-null   object \n",
      " 6   Activity        6460 non-null   object \n",
      " 7   Name            6826 non-null   object \n",
      " 8   Sex             6466 non-null   object \n",
      " 9   Age             4051 non-null   object \n",
      " 10  Injury          7010 non-null   object \n",
      " 11  Fatal Y/N       6484 non-null   object \n",
      " 12  Time            3519 non-null   object \n",
      " 13  Species         3914 non-null   object \n",
      " 14  Source          7025 non-null   object \n",
      " 15  pdf             6799 non-null   object \n",
      " 16  href formula    6794 non-null   object \n",
      " 17  href            6796 non-null   object \n",
      " 18  Case Number     6798 non-null   object \n",
      " 19  Case Number.1   6797 non-null   object \n",
      " 20  original order  6799 non-null   float64\n",
      " 21  Unnamed: 21     1 non-null      object \n",
      " 22  Unnamed: 22     2 non-null      object \n",
      "dtypes: float64(1), object(22)\n",
      "memory usage: 1.2+ MB\n",
      "\n",
      "Nulos (%):\n"
     ]
    },
    {
     "data": {
      "application/vnd.microsoft.datawrangler.viewer.v0+json": {
       "columns": [
        {
         "name": "index",
         "rawType": "object",
         "type": "string"
        },
        {
         "name": "0",
         "rawType": "float64",
         "type": "float"
        }
       ],
       "ref": "8dd1d064-78ef-43d4-9ad4-ce1fa2c6407d",
       "rows": [
        [
         "Unnamed: 21",
         "99.99"
        ],
        [
         "Unnamed: 22",
         "99.97"
        ],
        [
         "Time",
         "50.05"
        ],
        [
         "Species ",
         "44.44"
        ],
        [
         "Age",
         "42.5"
        ],
        [
         "Activity",
         "8.3"
        ],
        [
         "Sex",
         "8.22"
        ],
        [
         "Location",
         "8.05"
        ],
        [
         "Fatal Y/N",
         "7.96"
        ],
        [
         "State",
         "6.88"
        ],
        [
         "href formula",
         "3.56"
        ],
        [
         "href",
         "3.53"
        ],
        [
         "Case Number.1",
         "3.52"
        ],
        [
         "Case Number",
         "3.51"
        ],
        [
         "pdf",
         "3.49"
        ],
        [
         "original order",
         "3.49"
        ],
        [
         "Name",
         "3.11"
        ],
        [
         "Country",
         "0.71"
        ],
        [
         "Injury",
         "0.5"
        ],
        [
         "Source",
         "0.28"
        ]
       ],
       "shape": {
        "columns": 1,
        "rows": 20
       }
      },
      "text/plain": [
       "Unnamed: 21       99.99\n",
       "Unnamed: 22       99.97\n",
       "Time              50.05\n",
       "Species           44.44\n",
       "Age               42.50\n",
       "Activity           8.30\n",
       "Sex                8.22\n",
       "Location           8.05\n",
       "Fatal Y/N          7.96\n",
       "State              6.88\n",
       "href formula       3.56\n",
       "href               3.53\n",
       "Case Number.1      3.52\n",
       "Case Number        3.51\n",
       "pdf                3.49\n",
       "original order     3.49\n",
       "Name               3.11\n",
       "Country            0.71\n",
       "Injury             0.50\n",
       "Source             0.28\n",
       "dtype: float64"
      ]
     },
     "metadata": {},
     "output_type": "display_data"
    }
   ],
   "source": [
    "# Información general\n",
    "df.info()\n",
    "print(\"\\nNulos (%):\")\n",
    "display((df.isna().mean().sort_values(ascending=False)*100).round(2).head(20))\n"
   ]
  },
  {
   "cell_type": "code",
   "execution_count": 3,
   "id": "b1350a72",
   "metadata": {},
   "outputs": [
    {
     "name": "stdout",
     "output_type": "stream",
     "text": [
      "Columnas traducidas: ['Fecha', 'Año', 'País', 'Estado', 'Sexo', 'Edad', 'Provocado', 'Provocado', 'Fatal', 'Hora', 'Especie', 'Herida']\n"
     ]
    },
    {
     "data": {
      "application/vnd.microsoft.datawrangler.viewer.v0+json": {
       "columns": [
        {
         "name": "index",
         "rawType": "int64",
         "type": "integer"
        },
        {
         "name": "Fecha",
         "rawType": "object",
         "type": "string"
        },
        {
         "name": "Año",
         "rawType": "object",
         "type": "string"
        },
        {
         "name": "País",
         "rawType": "object",
         "type": "string"
        },
        {
         "name": "Estado",
         "rawType": "object",
         "type": "string"
        },
        {
         "name": "Sexo",
         "rawType": "object",
         "type": "string"
        },
        {
         "name": "Edad",
         "rawType": "object",
         "type": "string"
        },
        {
         "name": "Provocado",
         "rawType": "object",
         "type": "string"
        },
        {
         "name": "Provocado",
         "rawType": "object",
         "type": "string"
        },
        {
         "name": "Fatal",
         "rawType": "object",
         "type": "string"
        },
        {
         "name": "Hora",
         "rawType": "object",
         "type": "string"
        },
        {
         "name": "Especie",
         "rawType": "object",
         "type": "string"
        },
        {
         "name": "Herida",
         "rawType": "object",
         "type": "string"
        }
       ],
       "ref": "e3bb40b2-8b37-474b-9702-593cab700260",
       "rows": [
        [
         "0",
         "6th September",
         "2025",
         "Australia",
         "NSW",
         "M",
         "57",
         "Unprovoked",
         "Unprovoked",
         "Y",
         "0930hrs",
         "Great White Shark",
         "Both legs and arm severed"
        ],
        [
         "1",
         "1st September",
         "2025",
         "USA",
         "Florida",
         "M",
         "8",
         "Unprovoked",
         "Unprovoked",
         "N",
         "1524hrs",
         "Not stated",
         "Bite to leg"
        ],
        [
         "2",
         "30th August",
         "2025",
         "USA",
         "Texas",
         "F",
         "8",
         "Unprovoked",
         "Unprovoked",
         "N",
         "Not stated",
         "Not stated",
         "Bite to leg"
        ],
        [
         "3",
         "18th August",
         "2025",
         "Australia",
         "NSW",
         "M",
         "?",
         "Unprovoked",
         "Unprovoked",
         "N",
         "0730hrs",
         "5m (16.5ft) Great White",
         "None sustained board severly damaged"
        ],
        [
         "4",
         "17th August",
         "2025",
         "Bahamas",
         "Atlantic Ocean near Big Grand Cay",
         "M",
         "63",
         "Unprovoked",
         "Unprovoked",
         "N",
         "1300hrs",
         "Undetermined",
         "Severe injuries no detail"
        ]
       ],
       "shape": {
        "columns": 12,
        "rows": 5
       }
      },
      "text/html": [
       "<div>\n",
       "<style scoped>\n",
       "    .dataframe tbody tr th:only-of-type {\n",
       "        vertical-align: middle;\n",
       "    }\n",
       "\n",
       "    .dataframe tbody tr th {\n",
       "        vertical-align: top;\n",
       "    }\n",
       "\n",
       "    .dataframe thead th {\n",
       "        text-align: right;\n",
       "    }\n",
       "</style>\n",
       "<table border=\"1\" class=\"dataframe\">\n",
       "  <thead>\n",
       "    <tr style=\"text-align: right;\">\n",
       "      <th></th>\n",
       "      <th>Fecha</th>\n",
       "      <th>Año</th>\n",
       "      <th>País</th>\n",
       "      <th>Estado</th>\n",
       "      <th>Sexo</th>\n",
       "      <th>Edad</th>\n",
       "      <th>Provocado</th>\n",
       "      <th>Provocado</th>\n",
       "      <th>Fatal</th>\n",
       "      <th>Hora</th>\n",
       "      <th>Especie</th>\n",
       "      <th>Herida</th>\n",
       "    </tr>\n",
       "  </thead>\n",
       "  <tbody>\n",
       "    <tr>\n",
       "      <th>0</th>\n",
       "      <td>6th September</td>\n",
       "      <td>2025</td>\n",
       "      <td>Australia</td>\n",
       "      <td>NSW</td>\n",
       "      <td>M</td>\n",
       "      <td>57</td>\n",
       "      <td>Unprovoked</td>\n",
       "      <td>Unprovoked</td>\n",
       "      <td>Y</td>\n",
       "      <td>0930hrs</td>\n",
       "      <td>Great White Shark</td>\n",
       "      <td>Both legs and arm severed</td>\n",
       "    </tr>\n",
       "    <tr>\n",
       "      <th>1</th>\n",
       "      <td>1st September</td>\n",
       "      <td>2025</td>\n",
       "      <td>USA</td>\n",
       "      <td>Florida</td>\n",
       "      <td>M</td>\n",
       "      <td>8</td>\n",
       "      <td>Unprovoked</td>\n",
       "      <td>Unprovoked</td>\n",
       "      <td>N</td>\n",
       "      <td>1524hrs</td>\n",
       "      <td>Not stated</td>\n",
       "      <td>Bite to leg</td>\n",
       "    </tr>\n",
       "    <tr>\n",
       "      <th>2</th>\n",
       "      <td>30th August</td>\n",
       "      <td>2025</td>\n",
       "      <td>USA</td>\n",
       "      <td>Texas</td>\n",
       "      <td>F</td>\n",
       "      <td>8</td>\n",
       "      <td>Unprovoked</td>\n",
       "      <td>Unprovoked</td>\n",
       "      <td>N</td>\n",
       "      <td>Not stated</td>\n",
       "      <td>Not stated</td>\n",
       "      <td>Bite to leg</td>\n",
       "    </tr>\n",
       "    <tr>\n",
       "      <th>3</th>\n",
       "      <td>18th August</td>\n",
       "      <td>2025</td>\n",
       "      <td>Australia</td>\n",
       "      <td>NSW</td>\n",
       "      <td>M</td>\n",
       "      <td>?</td>\n",
       "      <td>Unprovoked</td>\n",
       "      <td>Unprovoked</td>\n",
       "      <td>N</td>\n",
       "      <td>0730hrs</td>\n",
       "      <td>5m (16.5ft) Great White</td>\n",
       "      <td>None sustained board severly damaged</td>\n",
       "    </tr>\n",
       "    <tr>\n",
       "      <th>4</th>\n",
       "      <td>17th August</td>\n",
       "      <td>2025</td>\n",
       "      <td>Bahamas</td>\n",
       "      <td>Atlantic Ocean near Big Grand Cay</td>\n",
       "      <td>M</td>\n",
       "      <td>63</td>\n",
       "      <td>Unprovoked</td>\n",
       "      <td>Unprovoked</td>\n",
       "      <td>N</td>\n",
       "      <td>1300hrs</td>\n",
       "      <td>Undetermined</td>\n",
       "      <td>Severe injuries no detail</td>\n",
       "    </tr>\n",
       "  </tbody>\n",
       "</table>\n",
       "</div>"
      ],
      "text/plain": [
       "           Fecha   Año       País                             Estado Sexo  \\\n",
       "0  6th September  2025  Australia                                NSW    M   \n",
       "1  1st September  2025        USA                            Florida    M   \n",
       "2    30th August  2025        USA                              Texas    F   \n",
       "3    18th August  2025  Australia                                NSW    M   \n",
       "4    17th August  2025    Bahamas  Atlantic Ocean near Big Grand Cay    M   \n",
       "\n",
       "  Edad   Provocado   Provocado Fatal        Hora                  Especie  \\\n",
       "0   57  Unprovoked  Unprovoked     Y     0930hrs        Great White Shark   \n",
       "1    8  Unprovoked  Unprovoked     N     1524hrs               Not stated   \n",
       "2    8  Unprovoked  Unprovoked     N  Not stated               Not stated   \n",
       "3    ?  Unprovoked  Unprovoked     N     0730hrs  5m (16.5ft) Great White   \n",
       "4   63  Unprovoked  Unprovoked     N     1300hrs             Undetermined   \n",
       "\n",
       "                                 Herida  \n",
       "0             Both legs and arm severed  \n",
       "1                           Bite to leg  \n",
       "2                           Bite to leg  \n",
       "3  None sustained board severly damaged  \n",
       "4             Severe injuries no detail  "
      ]
     },
     "execution_count": 3,
     "metadata": {},
     "output_type": "execute_result"
    }
   ],
   "source": [
    "# --------------------------\n",
    "# BLOQUE 2 · SELECCIÓN + TRADUCCIÓN DE COLUMNAS\n",
    "# --------------------------\n",
    "def pick(df, opts):\n",
    "    for c in opts:\n",
    "        if c in df.columns:\n",
    "            return c\n",
    "    return None\n",
    "\n",
    "cols = {\n",
    "    \"Fecha\":      pick(df, [\"Date\"]),\n",
    "    \"Año\":        pick(df, [\"Year\"]),\n",
    "    \"País\":       pick(df, [\"Country\"]),\n",
    "    \"Estado\":     pick(df, [\"State\"]),\n",
    "    \"Área\":       pick(df, [\"Area\"]),\n",
    "    \"Sexo\":       pick(df, [\"Sex\"]),\n",
    "    \"Edad\":       pick(df, [\"Age\"]),\n",
    "    \"Tipo\":       pick(df, [\"Type\"]),\n",
    "    \"Provocado\":  pick(df, [\"Type\"]),\n",
    "    \"Fatal\":      pick(df, [\"Fatal (Y/N)\", \"Fatal Y/N\", \"Fatal\"]),\n",
    "    \"Hora\":       pick(df, [\"Time\"]),\n",
    "    \"Especie\":    pick(df, [\"Species \", \"Species\"]),\n",
    "    \"Herida\":     pick(df, [\"Injury\"])\n",
    "}\n",
    "\n",
    "cols = {k:v for k,v in cols.items() if v}\n",
    "df = df[list(cols.values())].rename(columns={v:k for k,v in cols.items()})\n",
    "print(\"Columnas traducidas:\", df.columns.to_list())\n",
    "df.head(5)\n"
   ]
  },
  {
   "cell_type": "code",
   "execution_count": 4,
   "id": "573eb680",
   "metadata": {},
   "outputs": [
    {
     "name": "stdout",
     "output_type": "stream",
     "text": [
      "Columnas disponibles: ['Fecha', 'Año', 'País', 'Estado', 'Sexo', 'Edad', 'Provocado', 'Provocado', 'Fatal', 'Hora', 'Especie', 'Herida']\n"
     ]
    },
    {
     "name": "stderr",
     "output_type": "stream",
     "text": [
      "C:\\Users\\CeX-Laguna\\AppData\\Local\\Temp\\ipykernel_30996\\317725933.py:20: UserWarning: Could not infer format, so each element will be parsed individually, falling back to `dateutil`. To ensure parsing is consistent and as-expected, please specify a format.\n",
      "  df[\"Fecha\"] = pd.to_datetime(df[\"Fecha\"], errors=\"coerce\", dayfirst=True)\n"
     ]
    },
    {
     "name": "stdout",
     "output_type": "stream",
     "text": [
      "Limpieza básica OK. Shape: (7033, 13)\n"
     ]
    }
   ],
   "source": [
    "# --------------------------\n",
    "# BLOQUE 3 · LIMPIEZA BÁSICA (ROBUSTO)\n",
    "# --------------------------\n",
    "\n",
    "\n",
    "# Por si acaso, ver qué columnas tenemos tras el bloque 2:\n",
    "print(\"Columnas disponibles:\", df.columns.to_list())\n",
    "\n",
    "# 1) Duplicados\n",
    "df = df.drop_duplicates().copy()\n",
    "\n",
    "# 2) Tipos básicos (solo si existen)\n",
    "if \"Año\" in df.columns:\n",
    "    df[\"Año\"] = pd.to_numeric(df[\"Año\"], errors=\"coerce\").astype(\"Int64\")\n",
    "\n",
    "if \"Edad\" in df.columns:\n",
    "    df[\"Edad\"] = pd.to_numeric(df[\"Edad\"], errors=\"coerce\").astype(\"Int64\")\n",
    "\n",
    "if \"Fecha\" in df.columns:\n",
    "    df[\"Fecha\"] = pd.to_datetime(df[\"Fecha\"], errors=\"coerce\", dayfirst=True)\n",
    "\n",
    "# 3) Sexo → M/F/NaN (solo si existe)\n",
    "if \"Sexo\" in df.columns:\n",
    "    df[\"Sexo\"] = (\n",
    "        df[\"Sexo\"].astype(str).str.upper().str.strip()\n",
    "        .replace({\"M\":\"M\", \"F\":\"F\", \"\":np.nan, \"UNK\":\"\", \"UNKNOWN\":\"\"})\n",
    "    )\n",
    "\n",
    "# 4) Fatal → booleano (si existe y es texto); si no existe, la creamos como NaN\n",
    "if \"Fatal\" in df.columns:\n",
    "    if df[\"Fatal\"].dtype == object:\n",
    "        df[\"Fatal\"] = (\n",
    "            df[\"Fatal\"].astype(str).str.strip()\n",
    "            .map({\"Y\": True, \"N\": False, \"y\": True, \"n\": False})\n",
    "        )\n",
    "else:\n",
    "    df[\"Fatal\"] = np.nan\n",
    "\n",
    "# 5) Tipo/Provocado (si existe 'Tipo'); si no, creamos ambas como NaN para no romper después\n",
    "if \"Tipo\" in df.columns:\n",
    "    df[\"Tipo\"] = df[\"Tipo\"].astype(str).str.lower().str.strip()\n",
    "    # Provocado = True si contiene 'provoked', False si contiene 'unprovoked'\n",
    "    df[\"Provocado\"] = np.where(\n",
    "        df[\"Tipo\"].str.contains(\"provoked\", na=False), True,\n",
    "        np.where(df[\"Tipo\"].str.contains(\"unprovoked\", na=False), False, np.nan)\n",
    "    )\n",
    "else:\n",
    "    df[\"Tipo\"] = np.nan\n",
    "    df[\"Provocado\"] = np.nan\n",
    "\n",
    "print(\"Limpieza básica OK. Shape:\", df.shape)\n",
    "\n"
   ]
  },
  {
   "cell_type": "code",
   "execution_count": 5,
   "id": "33f4ec7d",
   "metadata": {},
   "outputs": [
    {
     "name": "stdout",
     "output_type": "stream",
     "text": [
      "Hora/Momento listos.\n"
     ]
    }
   ],
   "source": [
    "# --------------------------\n",
    "# BLOQUE 4 · HORA LIMPIA + MOMENTO DEL DÍA\n",
    "# --------------------------\n",
    "\n",
    "# Hora → número 0–23 (soporta formatos tipo \"0930hrs\", \"13h00\", etc.)\n",
    "def limpiar_hora(x):\n",
    "    if pd.isna(x): \n",
    "        return np.nan\n",
    "    s = re.sub(r\"[^0-9]\", \"\", str(x))\n",
    "    if len(s) >= 3:\n",
    "        try:\n",
    "            h = int(s[:2])\n",
    "            return h if 0 <= h <= 23 else np.nan\n",
    "        except:\n",
    "            return np.nan\n",
    "    return np.nan\n",
    "\n",
    "if \"Hora\" in df.columns:\n",
    "    df[\"Hora_limpia\"] = df[\"Hora\"].map(limpiar_hora).astype(\"Int64\")\n",
    "else:\n",
    "    df[\"Hora_limpia\"] = np.nan\n",
    "\n",
    "# Momento del día a partir de Hora_limpia\n",
    "def momento(h):\n",
    "    if pd.isna(h): return np.nan\n",
    "    h = int(h)\n",
    "    if   0 <= h <= 5:   return \"Madrugada\"\n",
    "    elif 6 <= h <= 11:  return \"Mañana\"\n",
    "    elif 12 <= h <= 18: return \"Tarde\"\n",
    "    elif 19 <= h <= 23: return \"Noche\"\n",
    "    return np.nan\n",
    "\n",
    "df[\"Momento_día\"] = df[\"Hora_limpia\"].map(momento)\n",
    "print(\"Hora/Momento listos.\")\n"
   ]
  },
  {
   "cell_type": "code",
   "execution_count": 6,
   "id": "cbfe879f",
   "metadata": {},
   "outputs": [
    {
     "name": "stdout",
     "output_type": "stream",
     "text": [
      "Recuento por especie mapeada:\n"
     ]
    },
    {
     "data": {
      "application/vnd.microsoft.datawrangler.viewer.v0+json": {
       "columns": [
        {
         "name": "Especie_grupo",
         "rawType": "object",
         "type": "unknown"
        },
        {
         "name": "count",
         "rawType": "int64",
         "type": "integer"
        }
       ],
       "ref": "ce862ec0-c01d-43be-a3c8-df7865a47d96",
       "rows": [
        [
         null,
         "5701"
        ],
        [
         "Blanco",
         "711"
        ],
        [
         "Tigre",
         "339"
        ],
        [
         "Toro",
         "232"
        ],
        [
         "Martillo",
         "50"
        ]
       ],
       "shape": {
        "columns": 1,
        "rows": 5
       }
      },
      "text/plain": [
       "Especie_grupo\n",
       "NaN         5701\n",
       "Blanco       711\n",
       "Tigre        339\n",
       "Toro         232\n",
       "Martillo      50\n",
       "Name: count, dtype: int64"
      ]
     },
     "metadata": {},
     "output_type": "display_data"
    }
   ],
   "source": [
    "# --------------------------\n",
    "# BLOQUE 5 · ESPECIES CLAVE (mapeo robusto)\n",
    "# --------------------------\n",
    "df[\"Especie\"] = df[\"Especie\"].astype(str).str.lower()\n",
    "\n",
    "def especie_grupo(s):\n",
    "    if pd.isna(s) or not s or s == \"nan\":\n",
    "        return np.nan\n",
    "    if any(k in s for k in [\"great white\", \"white shark\", \"white pointer\", \"carcharodon carcharias\"]):\n",
    "        return \"Blanco\"\n",
    "    if any(k in s for k in [\"hammerhead\", \"sphyrna\", \"hammer head\"]):\n",
    "        return \"Martillo\"\n",
    "    if any(k in s for k in [\"tiger shark\", \"galeocerdo cuvier\"]):\n",
    "        return \"Tigre\"\n",
    "    if any(k in s for k in [\"bull shark\", \"carcharhinus leucas\", \"zambezi shark\", \"zambi\", \"bull-shark\"]):\n",
    "        return \"Toro\"\n",
    "    return np.nan\n",
    "\n",
    "df[\"Especie_grupo\"] = df[\"Especie\"].apply(especie_grupo)\n",
    "\n",
    "print(\"Recuento por especie mapeada:\")\n",
    "display(df[\"Especie_grupo\"].value_counts(dropna=False))\n"
   ]
  },
  {
   "cell_type": "code",
   "execution_count": 7,
   "id": "b1ca2116",
   "metadata": {},
   "outputs": [
    {
     "name": "stdout",
     "output_type": "stream",
     "text": [
      "Filas con 4 especies elegidas: (1332, 16)\n"
     ]
    },
    {
     "data": {
      "application/vnd.microsoft.datawrangler.viewer.v0+json": {
       "columns": [
        {
         "name": "Especie_grupo",
         "rawType": "object",
         "type": "string"
        },
        {
         "name": "count",
         "rawType": "int64",
         "type": "integer"
        }
       ],
       "ref": "0312d368-bca7-4214-af96-6ea767ed4fe1",
       "rows": [
        [
         "Blanco",
         "711"
        ],
        [
         "Tigre",
         "339"
        ],
        [
         "Toro",
         "232"
        ],
        [
         "Martillo",
         "50"
        ]
       ],
       "shape": {
        "columns": 1,
        "rows": 4
       }
      },
      "text/plain": [
       "Especie_grupo\n",
       "Blanco      711\n",
       "Tigre       339\n",
       "Toro        232\n",
       "Martillo     50\n",
       "Name: count, dtype: int64"
      ]
     },
     "metadata": {},
     "output_type": "display_data"
    }
   ],
   "source": [
    "especies_4 = [\"Blanco\", \"Martillo\", \"Tigre\", \"Toro\"]\n",
    "\n",
    "df_4 = df[df[\"Especie_grupo\"].isin(especies_4)].copy()\n",
    "print(\"Filas con 4 especies elegidas:\", df_4.shape)\n",
    "display(df_4[\"Especie_grupo\"].value_counts())\n"
   ]
  },
  {
   "cell_type": "code",
   "execution_count": 8,
   "id": "58eee4a6",
   "metadata": {},
   "outputs": [
    {
     "name": "stdout",
     "output_type": "stream",
     "text": [
      "FINAL (todas): (7029, 15)  | FINAL (4 especies): (1332, 15)\n",
      "\n",
      "Nulos (% top 10) FINAL (4 especies):\n"
     ]
    },
    {
     "data": {
      "application/vnd.microsoft.datawrangler.viewer.v0+json": {
       "columns": [
        {
         "name": "index",
         "rawType": "object",
         "type": "string"
        },
        {
         "name": "0",
         "rawType": "float64",
         "type": "float"
        }
       ],
       "ref": "6ed449f7-20b7-4c62-88a4-44a27602f08b",
       "rows": [
        [
         "Provocado",
         "100.0"
        ],
        [
         "Provocado",
         "100.0"
        ],
        [
         "Tipo",
         "100.0"
        ],
        [
         "Hora_limpia",
         "38.36"
        ],
        [
         "Momento_día",
         "38.36"
        ],
        [
         "Edad",
         "31.61"
        ],
        [
         "Fecha",
         "9.53"
        ],
        [
         "Estado",
         "3.53"
        ],
        [
         "Fatal",
         "1.95"
        ],
        [
         "Herida",
         "0.3"
        ]
       ],
       "shape": {
        "columns": 1,
        "rows": 10
       }
      },
      "text/plain": [
       "Provocado      100.00\n",
       "Provocado      100.00\n",
       "Tipo           100.00\n",
       "Hora_limpia     38.36\n",
       "Momento_día     38.36\n",
       "Edad            31.61\n",
       "Fecha            9.53\n",
       "Estado           3.53\n",
       "Fatal            1.95\n",
       "Herida           0.30\n",
       "dtype: float64"
      ]
     },
     "metadata": {},
     "output_type": "display_data"
    }
   ],
   "source": [
    "# --------------------------\n",
    "# BLOQUE 6 · CONJUNTO FINAL + QC\n",
    "# --------------------------\n",
    "# Completar 'Estado' con 'Área' si existe\n",
    "if \"Estado\" in df.columns and \"Área\" in df.columns:\n",
    "    df[\"Estado\"] = df[\"Estado\"].fillna(df[\"Área\"])\n",
    "    df_4[\"Estado\"] = df_4[\"Estado\"].fillna(df_4.get(\"Área\"))\n",
    "\n",
    "# Ubicación \"País - Estado\"\n",
    "def construir_ubicacion(frame):\n",
    "    if \"País\" in frame.columns and \"Estado\" in frame.columns:\n",
    "        base = frame[\"País\"].fillna(\"\")\n",
    "        comp = frame[\"País\"].fillna(\"\") + \" - \" + frame[\"Estado\"].fillna(\"\")\n",
    "        frame[\"Ubicación\"] = comp.where(frame[\"Estado\"].notna(), base).str.strip(\" -\")\n",
    "    else:\n",
    "        frame[\"Ubicación\"] = frame.get(\"País\")\n",
    "    return frame\n",
    "\n",
    "df   = construir_ubicacion(df)\n",
    "df_4 = construir_ubicacion(df_4)\n",
    "\n",
    "# Conjunto mínimo de columnas (más \"Herida\" como contexto)\n",
    "cols_min = [\n",
    "    \"Fecha\",\"Año\",\"País\",\"Estado\",\"Ubicación\",\n",
    "    \"Sexo\",\"Edad\",\"Tipo\",\"Provocado\",\"Fatal\",\n",
    "    \"Hora_limpia\",\"Momento_día\",\"Especie_grupo\",\"Herida\"\n",
    "]\n",
    "cols_min = [c for c in cols_min if c in df.columns]\n",
    "\n",
    "df_final   = df[cols_min].drop_duplicates().reset_index(drop=True)\n",
    "df_final_4 = df_4[[c for c in cols_min if c in df_4.columns]].drop_duplicates().reset_index(drop=True)\n",
    "\n",
    "print(\"FINAL (todas):\", df_final.shape, \" | FINAL (4 especies):\", df_final_4.shape)\n",
    "\n",
    "print(\"\\nNulos (% top 10) FINAL (4 especies):\")\n",
    "display((df_final_4.isna().mean().sort_values(ascending=False)*100).round(2).head(10))\n"
   ]
  },
  {
   "cell_type": "code",
   "execution_count": 9,
   "id": "f4305e9d",
   "metadata": {},
   "outputs": [
    {
     "name": "stdout",
     "output_type": "stream",
     "text": [
      "Exportados a data/processed/\n",
      "\n",
      "Top especies (4):\n"
     ]
    },
    {
     "data": {
      "application/vnd.microsoft.datawrangler.viewer.v0+json": {
       "columns": [
        {
         "name": "Especie_grupo",
         "rawType": "object",
         "type": "string"
        },
        {
         "name": "count",
         "rawType": "int64",
         "type": "integer"
        }
       ],
       "ref": "6d2bd036-389f-4e6b-9c55-f18e8746d815",
       "rows": [
        [
         "Blanco",
         "711"
        ],
        [
         "Tigre",
         "339"
        ],
        [
         "Toro",
         "232"
        ],
        [
         "Martillo",
         "50"
        ]
       ],
       "shape": {
        "columns": 1,
        "rows": 4
       }
      },
      "text/plain": [
       "Especie_grupo\n",
       "Blanco      711\n",
       "Tigre       339\n",
       "Toro        232\n",
       "Martillo     50\n",
       "Name: count, dtype: int64"
      ]
     },
     "metadata": {},
     "output_type": "display_data"
    },
    {
     "name": "stdout",
     "output_type": "stream",
     "text": [
      "\n",
      "Ataques por año (últimos 10):\n"
     ]
    },
    {
     "data": {
      "application/vnd.microsoft.datawrangler.viewer.v0+json": {
       "columns": [
        {
         "name": "Año",
         "rawType": "Int64",
         "type": "integer"
        },
        {
         "name": "0",
         "rawType": "int64",
         "type": "integer"
        }
       ],
       "ref": "823534bf-7ec8-4c22-a62c-2f67040e2d1d",
       "rows": [
        [
         "2016",
         "27"
        ],
        [
         "2017",
         "36"
        ],
        [
         "2018",
         "38"
        ],
        [
         "2019",
         "24"
        ],
        [
         "2020",
         "32"
        ],
        [
         "2021",
         "20"
        ],
        [
         "2022",
         "23"
        ],
        [
         "2023",
         "21"
        ],
        [
         "2024",
         "22"
        ],
        [
         "2025",
         "18"
        ]
       ],
       "shape": {
        "columns": 1,
        "rows": 10
       }
      },
      "text/plain": [
       "Año\n",
       "2016    27\n",
       "2017    36\n",
       "2018    38\n",
       "2019    24\n",
       "2020    32\n",
       "2021    20\n",
       "2022    23\n",
       "2023    21\n",
       "2024    22\n",
       "2025    18\n",
       "dtype: int64"
      ]
     },
     "metadata": {},
     "output_type": "display_data"
    },
    {
     "name": "stdout",
     "output_type": "stream",
     "text": [
      "\n",
      "Top 10 países (4 especies):\n"
     ]
    },
    {
     "data": {
      "application/vnd.microsoft.datawrangler.viewer.v0+json": {
       "columns": [
        {
         "name": "País",
         "rawType": "object",
         "type": "string"
        },
        {
         "name": "count",
         "rawType": "int64",
         "type": "integer"
        }
       ],
       "ref": "0da19f52-0c97-4aae-8d7d-913103de88aa",
       "rows": [
        [
         "USA",
         "495"
        ],
        [
         "AUSTRALIA",
         "293"
        ],
        [
         "SOUTH AFRICA",
         "191"
        ],
        [
         "ITALY",
         "26"
        ],
        [
         "BAHAMAS",
         "24"
        ],
        [
         "REUNION",
         "23"
        ],
        [
         "NEW ZEALAND",
         "23"
        ],
        [
         "NEW CALEDONIA",
         "22"
        ],
        [
         "BRAZIL",
         "20"
        ],
        [
         "MEXICO",
         "16"
        ]
       ],
       "shape": {
        "columns": 1,
        "rows": 10
       }
      },
      "text/plain": [
       "País\n",
       "USA              495\n",
       "AUSTRALIA        293\n",
       "SOUTH AFRICA     191\n",
       "ITALY             26\n",
       "BAHAMAS           24\n",
       "REUNION           23\n",
       "NEW ZEALAND       23\n",
       "NEW CALEDONIA     22\n",
       "BRAZIL            20\n",
       "MEXICO            16\n",
       "Name: count, dtype: int64"
      ]
     },
     "metadata": {},
     "output_type": "display_data"
    }
   ],
   "source": [
    "from pathlib import Path\n",
    "DATA_PROCESSED = Path(\"data/processed\"); DATA_PROCESSED.mkdir(parents=True, exist_ok=True)\n",
    "\n",
    "df_final.to_csv(DATA_PROCESSED/\"shark_attacks_final.csv\", index=False, encoding=\"utf-8\")\n",
    "df_final_4.to_csv(DATA_PROCESSED/\"shark_attacks_final_4especies.csv\", index=False, encoding=\"utf-8\")\n",
    "print(\"Exportados a data/processed/\")\n",
    "\n",
    "print(\"\\nTop especies (4):\")\n",
    "display(df_final_4[\"Especie_grupo\"].value_counts())\n",
    "\n",
    "print(\"\\nAtaques por año (últimos 10):\")\n",
    "display(df_final_4.groupby(\"Año\").size().tail(10))\n",
    "\n",
    "print(\"\\nTop 10 países (4 especies):\")\n",
    "display(df_final_4[\"País\"].value_counts().head(10))\n"
   ]
  },
  {
   "cell_type": "code",
   "execution_count": 10,
   "id": "19ccdcb1",
   "metadata": {},
   "outputs": [
    {
     "data": {
      "application/vnd.microsoft.datawrangler.viewer.v0+json": {
       "columns": [
        {
         "name": "index",
         "rawType": "int64",
         "type": "integer"
        },
        {
         "name": "Fecha",
         "rawType": "datetime64[ns]",
         "type": "datetime"
        },
        {
         "name": "Año",
         "rawType": "Int64",
         "type": "integer"
        },
        {
         "name": "País",
         "rawType": "object",
         "type": "string"
        },
        {
         "name": "Estado",
         "rawType": "object",
         "type": "unknown"
        },
        {
         "name": "Ubicación",
         "rawType": "object",
         "type": "string"
        },
        {
         "name": "Sexo",
         "rawType": "object",
         "type": "string"
        },
        {
         "name": "Edad",
         "rawType": "Int64",
         "type": "integer"
        },
        {
         "name": "Tipo",
         "rawType": "float64",
         "type": "float"
        },
        {
         "name": "Provocado",
         "rawType": "float64",
         "type": "float"
        },
        {
         "name": "Provocado",
         "rawType": "float64",
         "type": "float"
        },
        {
         "name": "Fatal",
         "rawType": "object",
         "type": "unknown"
        },
        {
         "name": "Hora_limpia",
         "rawType": "Int64",
         "type": "integer"
        },
        {
         "name": "Momento_día",
         "rawType": "object",
         "type": "unknown"
        },
        {
         "name": "Especie_grupo",
         "rawType": "object",
         "type": "string"
        },
        {
         "name": "Herida",
         "rawType": "object",
         "type": "unknown"
        }
       ],
       "ref": "084701a5-39af-4213-9bf8-64e909a6173b",
       "rows": [
        [
         "0",
         null,
         "2025",
         "Australia",
         "NSW",
         "Australia - NSW",
         "M",
         "57",
         null,
         null,
         null,
         "True",
         "9",
         "Mañana",
         "Blanco",
         "Both legs and arm severed"
        ],
        [
         "1",
         null,
         "2025",
         "Australia",
         "NSW",
         "Australia - NSW",
         "M",
         null,
         null,
         null,
         null,
         "False",
         "7",
         "Mañana",
         "Blanco",
         "None sustained board severly damaged"
        ],
        [
         "2",
         null,
         "2025",
         "Australia",
         "NSW",
         "Australia - NSW",
         "M",
         "9",
         null,
         null,
         null,
         "False",
         "16",
         "Tarde",
         "Blanco",
         "None sustained board severely damaged"
        ],
        [
         "3",
         null,
         "2025",
         "Australia",
         "South Australia",
         "Australia - South Australia",
         "M",
         "19",
         null,
         null,
         null,
         "False",
         "11",
         "Mañana",
         "Blanco",
         "Kayak badly damaged no injury to person"
        ],
        [
         "4",
         null,
         "2025",
         "Bahamas",
         "Great Abaco Islands",
         "Bahamas - Great Abaco Islands",
         "M",
         "66",
         null,
         null,
         null,
         "False",
         null,
         null,
         "Toro",
         "Lacerations to right arm"
        ],
        [
         "5",
         null,
         "2025",
         "Australia",
         "NSW",
         "Australia - NSW",
         "M",
         "16",
         null,
         null,
         null,
         "False",
         "16",
         "Tarde",
         "Toro",
         "Serious bites to r bicep r wrist and r leg"
        ],
        [
         "6",
         null,
         "2025",
         "USA",
         "Long Island NY",
         "USA - Long Island NY",
         "F",
         "20",
         null,
         null,
         null,
         "False",
         "16",
         "Tarde",
         "Tigre",
         "Lacerations to lower left foot and leg"
        ],
        [
         "7",
         null,
         "2025",
         "USA",
         "Florida",
         "USA - Florida",
         "F",
         "9",
         null,
         null,
         null,
         "False",
         "12",
         "Tarde",
         "Toro",
         "Right hand almost torn off"
        ],
        [
         "8",
         null,
         "2025",
         "USA",
         "California",
         "USA - California",
         "M",
         "42",
         null,
         null,
         null,
         "False",
         "14",
         "Tarde",
         "Blanco",
         "No injury "
        ],
        [
         "9",
         null,
         "2025",
         "Australia",
         "WA",
         "Australia - WA",
         "M",
         null,
         null,
         null,
         null,
         "False",
         "14",
         "Tarde",
         "Tigre",
         "Bumping to the body"
        ],
        [
         "10",
         null,
         "2025",
         "Australia",
         "WA",
         "Australia - WA",
         "M",
         "37",
         null,
         null,
         null,
         "True",
         "12",
         "Tarde",
         "Blanco",
         "Missing body not recovered"
        ],
        [
         "11",
         null,
         "2025",
         "Australia",
         "NSW",
         "Australia - NSW",
         "F",
         "56",
         null,
         null,
         null,
         "False",
         "13",
         "Tarde",
         "Toro",
         "Serious lacerations above right knee."
        ],
        [
         "12",
         null,
         "2025",
         "Bahamas",
         null,
         "Bahamas",
         "F",
         "24",
         null,
         null,
         null,
         "False",
         "18",
         "Tarde",
         "Toro",
         "Left foot injured"
        ],
        [
         "13",
         null,
         "2025",
         "Bahamas",
         null,
         "Bahamas",
         "F",
         "20",
         null,
         null,
         null,
         "False",
         "18",
         "Tarde",
         "Toro",
         "Severed archilles tendon artery severed nerves severed."
        ],
        [
         "14",
         null,
         "2025",
         "Turks and Caicos",
         "Near five Cays settlement West Caicos",
         "Turks and Caicos - Near five Cays settlement West Caicos",
         "F",
         "55",
         null,
         null,
         null,
         "False",
         null,
         null,
         "Toro",
         "both hands bitten off and a bite to left thigh"
        ],
        [
         "15",
         null,
         "2025",
         "Australia",
         "Queensland",
         "Australia - Queensland",
         "F",
         "17",
         null,
         null,
         null,
         "True",
         "16",
         "Tarde",
         "Toro",
         "Bites to arm and upper body"
        ],
        [
         "16",
         null,
         "2025",
         "New Caledonia",
         "Grande Terre",
         "New Caledonia - Grande Terre",
         "M",
         "40",
         null,
         null,
         null,
         "True",
         "16",
         "Tarde",
         "Toro",
         "Severe arm injury and delay in medical treatment caused victim to die "
        ],
        [
         "17",
         null,
         "2025",
         "Australia",
         "South Australia",
         "Australia - South Australia",
         "M",
         "28",
         null,
         null,
         null,
         "True",
         "17",
         "Tarde",
         "Blanco",
         "Body not recovered"
        ],
        [
         "18",
         null,
         "2024",
         "Egypt",
         "North of Marsa Alam",
         "Egypt - North of Marsa Alam",
         "M",
         "69",
         null,
         null,
         null,
         "False",
         null,
         null,
         "Tigre",
         "Injuries to stomach preventing attack on friend"
        ],
        [
         "19",
         null,
         "2024",
         "Egypt",
         "North of Marsa Alam",
         "Egypt - North of Marsa Alam",
         "M",
         "48",
         null,
         null,
         null,
         "True",
         null,
         null,
         "Tigre",
         "Entire calf muscle removed and bitten both arms and legs"
        ],
        [
         "20",
         null,
         "2024",
         "New Zealand",
         "Bay of Waitangi",
         "New Zealand - Bay of Waitangi",
         "M",
         "24",
         null,
         null,
         null,
         "True",
         null,
         null,
         "Blanco",
         "Not stated but injuries fatal"
        ],
        [
         "21",
         null,
         "2024",
         "Australia",
         "Queensland",
         "Australia - Queensland",
         "F",
         "57",
         null,
         null,
         null,
         "False",
         "16",
         "Tarde",
         "Tigre",
         "30cm (1ft) bite to lower calf "
        ],
        [
         "22",
         null,
         "2024",
         "Honduras",
         "Tela",
         "Honduras - Tela",
         "M",
         "38",
         null,
         null,
         null,
         "False",
         null,
         null,
         "Toro",
         "Back and thigh extensive tissue loss"
        ],
        [
         "23",
         null,
         "2024",
         "USA",
         "Florida",
         "USA - Florida",
         "M",
         "16",
         null,
         null,
         null,
         "False",
         null,
         null,
         "Toro",
         "Bite to left arm"
        ],
        [
         "24",
         null,
         "2024",
         "Indonesia",
         "Timor Leste",
         "Indonesia - Timor Leste",
         "F",
         "68",
         null,
         null,
         null,
         "True",
         null,
         null,
         "Tigre",
         "Found inside shark"
        ],
        [
         "25",
         null,
         "2024",
         "Honduras",
         "Trujillo Colon",
         "Honduras - Trujillo Colon",
         "M",
         "33",
         null,
         null,
         null,
         "False",
         null,
         null,
         "Toro",
         "Bite to left leg"
        ],
        [
         "26",
         null,
         "2024",
         "Morocco",
         "Southern Morocco",
         "Morocco - Southern Morocco",
         "F",
         "30",
         null,
         null,
         null,
         "True",
         "16",
         "Tarde",
         "Blanco",
         "Leg severed"
        ],
        [
         "27",
         null,
         "2024",
         "Jamaica",
         "Montego Bay",
         "Jamaica - Montego Bay",
         "M",
         "16",
         null,
         null,
         null,
         "True",
         null,
         null,
         "Tigre",
         "Head right arm and leg severed"
        ],
        [
         "28",
         null,
         "2024",
         "Australia",
         "NSW",
         "Australia - NSW",
         "M",
         "23",
         null,
         null,
         null,
         "False",
         "11",
         "Mañana",
         "Blanco",
         "Serious injury to leg"
        ],
        [
         "29",
         null,
         "2024",
         "USA",
         "Texas",
         "USA - Texas",
         "F",
         null,
         null,
         null,
         null,
         "False",
         null,
         null,
         "Toro",
         "Bite to left leg calf muscle removed"
        ],
        [
         "30",
         null,
         "2024",
         "USA",
         "Florida",
         "USA - Florida",
         "F",
         "15",
         null,
         null,
         null,
         "False",
         "15",
         "Tarde",
         "Toro",
         "Left hand bitten off and right leg bitten"
        ],
        [
         "31",
         null,
         "2024",
         "USA",
         "Florida",
         "USA - Florida",
         "F",
         "45",
         null,
         null,
         null,
         "False",
         "13",
         "Tarde",
         "Toro",
         "Significant injuries to pelvic and abdominal region lower left arm amputated"
        ],
        [
         "32",
         null,
         "2024",
         "Tobago",
         "Graet Courland Bay",
         "Tobago - Graet Courland Bay",
         "M",
         "64",
         null,
         null,
         null,
         "False",
         null,
         null,
         "Toro",
         "Bite wounds to left arm and leg wounds to abdomen and left hand"
        ],
        [
         "33",
         null,
         "2024",
         "Australia",
         "South Australia",
         "Australia - South Australia",
         "M",
         "16",
         null,
         null,
         null,
         "False",
         "13",
         "Tarde",
         "Blanco",
         "Minor bite to left leg"
        ],
        [
         "34",
         "2024-03-15 00:00:00",
         "2024",
         "AUSTRALIA",
         "Queensland",
         "AUSTRALIA - Queensland",
         "F",
         "13",
         null,
         null,
         null,
         "False",
         "16",
         "Tarde",
         "Tigre",
         "Minor injuries to back, abdomen and legs"
        ],
        [
         "35",
         "2024-03-04 00:00:00",
         "2024",
         "USA",
         "Hawaii",
         "USA - Hawaii",
         "M",
         null,
         null,
         null,
         null,
         "False",
         null,
         null,
         "Tigre",
         "No injury, shark bit surfboard"
        ],
        [
         "36",
         "2024-02-25 00:00:00",
         "2024",
         "AUSTRALIA",
         "Western Australia",
         "AUSTRALIA - Western Australia",
         "F",
         "46",
         null,
         null,
         null,
         "False",
         "11",
         "Mañana",
         "Tigre",
         "Leg bitten"
        ],
        [
         "37",
         "2024-02-14 00:00:00",
         "2024",
         "INDIA",
         "Maharashtra",
         "INDIA - Maharashtra",
         "M",
         "32",
         null,
         null,
         null,
         "False",
         null,
         null,
         "Toro",
         "Calf of lower left leg injured"
        ],
        [
         "38",
         "2024-01-29 00:00:00",
         "2024",
         "AUSTRALIA",
         "New  South Wales",
         "AUSTRALIA - New  South Wales",
         "F",
         "29",
         null,
         null,
         null,
         "False",
         "20",
         "Noche",
         "Toro",
         "Right leg bitten"
        ],
        [
         "39",
         "2024-01-09 00:00:00",
         "2024",
         "AUSTRALIA",
         "South Australia",
         "AUSTRALIA - South Australia",
         "M",
         "64",
         null,
         null,
         null,
         "False",
         "13",
         "Tarde",
         "Blanco",
         "Leg bitten"
        ],
        [
         "40",
         "2023-12-29 00:00:00",
         "2023",
         "MEXICO",
         "Sonora",
         "MEXICO - Sonora",
         "M",
         "22",
         null,
         null,
         null,
         "True",
         "13",
         "Tarde",
         "Blanco",
         "FATAL"
        ],
        [
         "41",
         "2023-12-28 00:00:00",
         "2023",
         "AUSTRALIA",
         "South Australia",
         "AUSTRALIA - South Australia",
         "M",
         "15",
         null,
         null,
         null,
         "True",
         "13",
         "Tarde",
         "Blanco",
         "FATAL"
        ],
        [
         "42",
         "2023-11-30 00:00:00",
         "2023",
         "AUSTRALIA",
         "Queensland",
         "AUSTRALIA - Queensland",
         "M",
         "21",
         null,
         null,
         null,
         "False",
         "11",
         "Mañana",
         "Toro",
         "Puncture wounds to right upper arm"
        ],
        [
         "43",
         "2023-11-02 00:00:00",
         "2023",
         "NEW ZEALAND",
         "North Island",
         "NEW ZEALAND - North Island",
         "M",
         null,
         null,
         null,
         null,
         "False",
         "9",
         "Mañana",
         "Blanco",
         "Minor injury. Wetsuit shredded"
        ],
        [
         "44",
         "2023-10-31 00:00:00",
         "2023",
         "AUSTRALIA",
         "South Australia",
         "AUSTRALIA - South Australia",
         "M",
         "55",
         null,
         null,
         null,
         "True",
         "10",
         "Mañana",
         "Blanco",
         "FATAL"
        ],
        [
         "45",
         "2023-10-25 00:00:00",
         "2023",
         "USA",
         "Hawaii",
         "USA - Hawaii",
         "M",
         "30",
         null,
         null,
         null,
         "False",
         "15",
         "Tarde",
         "Tigre",
         "Bite to right thigh"
        ],
        [
         "46",
         "2023-10-15 00:00:00",
         "2023",
         "USA",
         "Hawaii",
         "USA - Hawaii",
         "M",
         "50",
         null,
         null,
         null,
         "False",
         "16",
         "Tarde",
         "Tigre",
         "Left leg and hand injured"
        ],
        [
         "47",
         "2023-09-13 00:00:00",
         "2023",
         "EGYPT",
         "South Sinai",
         "EGYPT - South Sinai",
         "F",
         "34",
         null,
         null,
         null,
         "False",
         null,
         null,
         "Tigre",
         "Left arm severely bitten, surgically amputated"
        ],
        [
         "48",
         "2023-08-25 00:00:00",
         "2023",
         "AUSTRALIA",
         "New South Wales",
         "AUSTRALIA - New South Wales",
         "M",
         "44",
         null,
         null,
         null,
         null,
         "10",
         "Mañana",
         "Blanco",
         "Severe injuries to lower limbs"
        ],
        [
         "49",
         "2023-07-03 00:00:00",
         "2023",
         "USA",
         "New York",
         "USA - New York",
         "F",
         "15",
         null,
         null,
         null,
         "False",
         "13",
         "Tarde",
         "Tigre",
         "3 small puncture wounds to left leg"
        ]
       ],
       "shape": {
        "columns": 15,
        "rows": 1332
       }
      },
      "text/html": [
       "<div>\n",
       "<style scoped>\n",
       "    .dataframe tbody tr th:only-of-type {\n",
       "        vertical-align: middle;\n",
       "    }\n",
       "\n",
       "    .dataframe tbody tr th {\n",
       "        vertical-align: top;\n",
       "    }\n",
       "\n",
       "    .dataframe thead th {\n",
       "        text-align: right;\n",
       "    }\n",
       "</style>\n",
       "<table border=\"1\" class=\"dataframe\">\n",
       "  <thead>\n",
       "    <tr style=\"text-align: right;\">\n",
       "      <th></th>\n",
       "      <th>Fecha</th>\n",
       "      <th>Año</th>\n",
       "      <th>País</th>\n",
       "      <th>Estado</th>\n",
       "      <th>Ubicación</th>\n",
       "      <th>Sexo</th>\n",
       "      <th>Edad</th>\n",
       "      <th>Tipo</th>\n",
       "      <th>Provocado</th>\n",
       "      <th>Provocado</th>\n",
       "      <th>Fatal</th>\n",
       "      <th>Hora_limpia</th>\n",
       "      <th>Momento_día</th>\n",
       "      <th>Especie_grupo</th>\n",
       "      <th>Herida</th>\n",
       "    </tr>\n",
       "  </thead>\n",
       "  <tbody>\n",
       "    <tr>\n",
       "      <th>0</th>\n",
       "      <td>NaT</td>\n",
       "      <td>2025</td>\n",
       "      <td>Australia</td>\n",
       "      <td>NSW</td>\n",
       "      <td>Australia - NSW</td>\n",
       "      <td>M</td>\n",
       "      <td>57</td>\n",
       "      <td>NaN</td>\n",
       "      <td>NaN</td>\n",
       "      <td>NaN</td>\n",
       "      <td>True</td>\n",
       "      <td>9</td>\n",
       "      <td>Mañana</td>\n",
       "      <td>Blanco</td>\n",
       "      <td>Both legs and arm severed</td>\n",
       "    </tr>\n",
       "    <tr>\n",
       "      <th>1</th>\n",
       "      <td>NaT</td>\n",
       "      <td>2025</td>\n",
       "      <td>Australia</td>\n",
       "      <td>NSW</td>\n",
       "      <td>Australia - NSW</td>\n",
       "      <td>M</td>\n",
       "      <td>&lt;NA&gt;</td>\n",
       "      <td>NaN</td>\n",
       "      <td>NaN</td>\n",
       "      <td>NaN</td>\n",
       "      <td>False</td>\n",
       "      <td>7</td>\n",
       "      <td>Mañana</td>\n",
       "      <td>Blanco</td>\n",
       "      <td>None sustained board severly damaged</td>\n",
       "    </tr>\n",
       "    <tr>\n",
       "      <th>2</th>\n",
       "      <td>NaT</td>\n",
       "      <td>2025</td>\n",
       "      <td>Australia</td>\n",
       "      <td>NSW</td>\n",
       "      <td>Australia - NSW</td>\n",
       "      <td>M</td>\n",
       "      <td>9</td>\n",
       "      <td>NaN</td>\n",
       "      <td>NaN</td>\n",
       "      <td>NaN</td>\n",
       "      <td>False</td>\n",
       "      <td>16</td>\n",
       "      <td>Tarde</td>\n",
       "      <td>Blanco</td>\n",
       "      <td>None sustained board severely damaged</td>\n",
       "    </tr>\n",
       "    <tr>\n",
       "      <th>3</th>\n",
       "      <td>NaT</td>\n",
       "      <td>2025</td>\n",
       "      <td>Australia</td>\n",
       "      <td>South Australia</td>\n",
       "      <td>Australia - South Australia</td>\n",
       "      <td>M</td>\n",
       "      <td>19</td>\n",
       "      <td>NaN</td>\n",
       "      <td>NaN</td>\n",
       "      <td>NaN</td>\n",
       "      <td>False</td>\n",
       "      <td>11</td>\n",
       "      <td>Mañana</td>\n",
       "      <td>Blanco</td>\n",
       "      <td>Kayak badly damaged no injury to person</td>\n",
       "    </tr>\n",
       "    <tr>\n",
       "      <th>4</th>\n",
       "      <td>NaT</td>\n",
       "      <td>2025</td>\n",
       "      <td>Bahamas</td>\n",
       "      <td>Great Abaco Islands</td>\n",
       "      <td>Bahamas - Great Abaco Islands</td>\n",
       "      <td>M</td>\n",
       "      <td>66</td>\n",
       "      <td>NaN</td>\n",
       "      <td>NaN</td>\n",
       "      <td>NaN</td>\n",
       "      <td>False</td>\n",
       "      <td>&lt;NA&gt;</td>\n",
       "      <td>NaN</td>\n",
       "      <td>Toro</td>\n",
       "      <td>Lacerations to right arm</td>\n",
       "    </tr>\n",
       "    <tr>\n",
       "      <th>...</th>\n",
       "      <td>...</td>\n",
       "      <td>...</td>\n",
       "      <td>...</td>\n",
       "      <td>...</td>\n",
       "      <td>...</td>\n",
       "      <td>...</td>\n",
       "      <td>...</td>\n",
       "      <td>...</td>\n",
       "      <td>...</td>\n",
       "      <td>...</td>\n",
       "      <td>...</td>\n",
       "      <td>...</td>\n",
       "      <td>...</td>\n",
       "      <td>...</td>\n",
       "      <td>...</td>\n",
       "    </tr>\n",
       "    <tr>\n",
       "      <th>1327</th>\n",
       "      <td>NaT</td>\n",
       "      <td>0</td>\n",
       "      <td>USA</td>\n",
       "      <td>California</td>\n",
       "      <td>USA - California</td>\n",
       "      <td>F</td>\n",
       "      <td>&lt;NA&gt;</td>\n",
       "      <td>NaN</td>\n",
       "      <td>NaN</td>\n",
       "      <td>NaN</td>\n",
       "      <td>False</td>\n",
       "      <td>&lt;NA&gt;</td>\n",
       "      <td>NaN</td>\n",
       "      <td>Blanco</td>\n",
       "      <td>Leg injured</td>\n",
       "    </tr>\n",
       "    <tr>\n",
       "      <th>1328</th>\n",
       "      <td>NaT</td>\n",
       "      <td>0</td>\n",
       "      <td>NICARAGUA</td>\n",
       "      <td>Lake Nicaragua (fresh water)</td>\n",
       "      <td>NICARAGUA - Lake Nicaragua (fresh water)</td>\n",
       "      <td>M</td>\n",
       "      <td>&lt;NA&gt;</td>\n",
       "      <td>NaN</td>\n",
       "      <td>NaN</td>\n",
       "      <td>NaN</td>\n",
       "      <td>True</td>\n",
       "      <td>&lt;NA&gt;</td>\n",
       "      <td>NaN</td>\n",
       "      <td>Toro</td>\n",
       "      <td>FATAL, leg severed</td>\n",
       "    </tr>\n",
       "    <tr>\n",
       "      <th>1329</th>\n",
       "      <td>NaT</td>\n",
       "      <td>0</td>\n",
       "      <td>IRAQ</td>\n",
       "      <td>Basrah</td>\n",
       "      <td>IRAQ - Basrah</td>\n",
       "      <td>M</td>\n",
       "      <td>&lt;NA&gt;</td>\n",
       "      <td>NaN</td>\n",
       "      <td>NaN</td>\n",
       "      <td>NaN</td>\n",
       "      <td>True</td>\n",
       "      <td>&lt;NA&gt;</td>\n",
       "      <td>NaN</td>\n",
       "      <td>Toro</td>\n",
       "      <td>FATAL, left leg bitten with severe blood loss</td>\n",
       "    </tr>\n",
       "    <tr>\n",
       "      <th>1330</th>\n",
       "      <td>NaT</td>\n",
       "      <td>0</td>\n",
       "      <td>ITALY</td>\n",
       "      <td>Adriatic Sea</td>\n",
       "      <td>ITALY - Adriatic Sea</td>\n",
       "      <td>M</td>\n",
       "      <td>&lt;NA&gt;</td>\n",
       "      <td>NaN</td>\n",
       "      <td>NaN</td>\n",
       "      <td>NaN</td>\n",
       "      <td>False</td>\n",
       "      <td>&lt;NA&gt;</td>\n",
       "      <td>NaN</td>\n",
       "      <td>Blanco</td>\n",
       "      <td>No injury to occupant; shark capsized boat</td>\n",
       "    </tr>\n",
       "    <tr>\n",
       "      <th>1331</th>\n",
       "      <td>NaT</td>\n",
       "      <td>0</td>\n",
       "      <td>BELIZE</td>\n",
       "      <td>NaN</td>\n",
       "      <td>BELIZE</td>\n",
       "      <td>M</td>\n",
       "      <td>16</td>\n",
       "      <td>NaN</td>\n",
       "      <td>NaN</td>\n",
       "      <td>NaN</td>\n",
       "      <td>True</td>\n",
       "      <td>&lt;NA&gt;</td>\n",
       "      <td>NaN</td>\n",
       "      <td>Tigre</td>\n",
       "      <td>FATAL</td>\n",
       "    </tr>\n",
       "  </tbody>\n",
       "</table>\n",
       "<p>1332 rows × 15 columns</p>\n",
       "</div>"
      ],
      "text/plain": [
       "     Fecha   Año       País                        Estado  \\\n",
       "0      NaT  2025  Australia                           NSW   \n",
       "1      NaT  2025  Australia                           NSW   \n",
       "2      NaT  2025  Australia                           NSW   \n",
       "3      NaT  2025  Australia               South Australia   \n",
       "4      NaT  2025    Bahamas           Great Abaco Islands   \n",
       "...    ...   ...        ...                           ...   \n",
       "1327   NaT     0        USA                    California   \n",
       "1328   NaT     0  NICARAGUA  Lake Nicaragua (fresh water)   \n",
       "1329   NaT     0       IRAQ                        Basrah   \n",
       "1330   NaT     0      ITALY                  Adriatic Sea   \n",
       "1331   NaT     0     BELIZE                           NaN   \n",
       "\n",
       "                                     Ubicación Sexo  Edad  Tipo  Provocado  \\\n",
       "0                              Australia - NSW    M    57   NaN        NaN   \n",
       "1                              Australia - NSW    M  <NA>   NaN        NaN   \n",
       "2                              Australia - NSW    M     9   NaN        NaN   \n",
       "3                  Australia - South Australia    M    19   NaN        NaN   \n",
       "4                Bahamas - Great Abaco Islands    M    66   NaN        NaN   \n",
       "...                                        ...  ...   ...   ...        ...   \n",
       "1327                          USA - California    F  <NA>   NaN        NaN   \n",
       "1328  NICARAGUA - Lake Nicaragua (fresh water)    M  <NA>   NaN        NaN   \n",
       "1329                             IRAQ - Basrah    M  <NA>   NaN        NaN   \n",
       "1330                      ITALY - Adriatic Sea    M  <NA>   NaN        NaN   \n",
       "1331                                    BELIZE    M    16   NaN        NaN   \n",
       "\n",
       "      Provocado  Fatal  Hora_limpia Momento_día Especie_grupo  \\\n",
       "0           NaN   True            9      Mañana        Blanco   \n",
       "1           NaN  False            7      Mañana        Blanco   \n",
       "2           NaN  False           16       Tarde        Blanco   \n",
       "3           NaN  False           11      Mañana        Blanco   \n",
       "4           NaN  False         <NA>         NaN          Toro   \n",
       "...         ...    ...          ...         ...           ...   \n",
       "1327        NaN  False         <NA>         NaN        Blanco   \n",
       "1328        NaN   True         <NA>         NaN          Toro   \n",
       "1329        NaN   True         <NA>         NaN          Toro   \n",
       "1330        NaN  False         <NA>         NaN        Blanco   \n",
       "1331        NaN   True         <NA>         NaN         Tigre   \n",
       "\n",
       "                                             Herida  \n",
       "0                         Both legs and arm severed  \n",
       "1              None sustained board severly damaged  \n",
       "2             None sustained board severely damaged  \n",
       "3           Kayak badly damaged no injury to person  \n",
       "4                          Lacerations to right arm  \n",
       "...                                             ...  \n",
       "1327                                    Leg injured  \n",
       "1328                            FATAL, leg severed   \n",
       "1329  FATAL, left leg bitten with severe blood loss  \n",
       "1330     No injury to occupant; shark capsized boat  \n",
       "1331                                          FATAL  \n",
       "\n",
       "[1332 rows x 15 columns]"
      ]
     },
     "execution_count": 10,
     "metadata": {},
     "output_type": "execute_result"
    }
   ],
   "source": [
    "df_final_4"
   ]
  },
  {
   "cell_type": "code",
   "execution_count": 11,
   "id": "cc18357b",
   "metadata": {},
   "outputs": [
    {
     "data": {
      "text/plain": [
       "Index(['Fecha', 'Año', 'País', 'Estado', 'Ubicación', 'Sexo', 'Edad', 'Tipo',\n",
       "       'Provocado', 'Provocado', 'Fatal', 'Hora_limpia', 'Momento_día',\n",
       "       'Especie_grupo', 'Herida'],\n",
       "      dtype='object')"
      ]
     },
     "execution_count": 11,
     "metadata": {},
     "output_type": "execute_result"
    }
   ],
   "source": [
    "df_final_4.columns"
   ]
  },
  {
   "cell_type": "code",
   "execution_count": 12,
   "id": "d7473b45",
   "metadata": {},
   "outputs": [
    {
     "name": "stdout",
     "output_type": "stream",
     "text": [
      "Columnas df_final_4: ['Fecha', 'Año', 'País', 'Estado', 'Sexo', 'Edad', 'Provocado', 'Fatal', 'Hora_limpia', 'Momento_día', 'Especie_grupo', 'Herida']\n",
      "Shape df_final_4: (1332, 12)\n"
     ]
    }
   ],
   "source": [
    "# 1) Quitar nombres de columna duplicados (se queda con la primera aparición)\n",
    "df_final_4 = df_final_4.loc[:, ~df_final_4.columns.duplicated()].copy()\n",
    "\n",
    "# (si también tienes df_final para “todas las especies”, haz lo mismo)\n",
    "try:\n",
    "    df_final = df_final.loc[:, ~df_final.columns.duplicated()].copy()\n",
    "except NameError:\n",
    "    pass\n",
    "\n",
    "# 2) Nos quedamos con el set limpio (12–13 columnas)\n",
    "cols_finales = [\n",
    "    \"Fecha\",\"Año\",\"País\",\"Estado\",  \n",
    "    \"Sexo\",\"Edad\",\n",
    "    \"Provocado\",\"Fatal\",\n",
    "    \"Hora_limpia\",\"Momento_día\",\n",
    "    \"Especie_grupo\",\"Herida\"\n",
    "]\n",
    "\n",
    "# 3) Eliminar columnas sobrantes como 'Tipo' (y cualquier otra que no esté en la lista)\n",
    "df_final_4 = df_final_4[[c for c in cols_finales if c in df_final_4.columns]].copy()\n",
    "try:\n",
    "    df_final = df_final[[c for c in cols_finales if c in df_final.columns]].copy()\n",
    "except NameError:\n",
    "    pass\n",
    "\n",
    "print(\"Columnas df_final_4:\", df_final_4.columns.to_list())\n",
    "print(\"Shape df_final_4:\", df_final_4.shape)\n"
   ]
  },
  {
   "cell_type": "code",
   "execution_count": 13,
   "id": "f400853e",
   "metadata": {},
   "outputs": [
    {
     "name": "stdout",
     "output_type": "stream",
     "text": [
      "Guardados en: data\\processed\n"
     ]
    }
   ],
   "source": [
    "from pathlib import Path\n",
    "DATA_PROCESSED = Path(\"data/processed\"); DATA_PROCESSED.mkdir(parents=True, exist_ok=True)\n",
    "\n",
    "df_final_4.to_csv(DATA_PROCESSED/\"shark_attacks_final_4especies_min.csv\", index=False, encoding=\"utf-8\")\n",
    "try:\n",
    "    df_final.to_csv(DATA_PROCESSED/\"shark_attacks_final_min.csv\", index=False, encoding=\"utf-8\")\n",
    "except NameError:\n",
    "    pass\n",
    "\n",
    "print(\"Guardados en:\", DATA_PROCESSED)\n"
   ]
  },
  {
   "cell_type": "code",
   "execution_count": 51,
   "id": "48ec676f",
   "metadata": {},
   "outputs": [
    {
     "name": "stdout",
     "output_type": "stream",
     "text": [
      "c:\\Users\\CeX-Laguna\\OneDrive\\Escritorio\\shark-attacks\n"
     ]
    }
   ],
   "source": [
    "import os\n",
    "print(os.getcwd())\n"
   ]
  },
  {
   "cell_type": "code",
   "execution_count": 52,
   "id": "42cebdb5",
   "metadata": {},
   "outputs": [],
   "source": [
    "import pandas as pd\n",
    "\n",
    "df = pd.read_csv(\"shark_attacks_final_4especies_min.csv\")\n"
   ]
  },
  {
   "cell_type": "code",
   "execution_count": 60,
   "id": "721dfa93",
   "metadata": {},
   "outputs": [],
   "source": [
    "# Correcto\n",
    "df_grouped = df.groupby(['Especie_grupo', 'Fatal', 'Sexo']).agg(\n",
    "    numero_ataques=('Especie_grupo', 'count'),  # cuenta ataques\n",
    "    edad_promedio=('Edad', 'mean')        # calcula promedio de edad\n",
    ").reset_index()\n",
    "\n"
   ]
  },
  {
   "cell_type": "code",
   "execution_count": 67,
   "id": "e1dec262",
   "metadata": {},
   "outputs": [
    {
     "data": {
      "application/vnd.plotly.v1+json": {
       "config": {
        "plotlyServerURL": "https://plot.ly"
       },
       "data": [
        {
         "alignmentgroup": "True",
         "customdata": {
          "bdata": "J3ZiJ3ZiP0CamZmZmZk0QFNKKaWUUkFAttZaa621NkA=",
          "dtype": "f8",
          "shape": "4, 1"
         },
         "hovertemplate": "Fatal=False<br>Sexo=F<br>Especie_grupo=%{x}<br>numero_ataques=%{y}<br>edad_promedio=%{customdata[0]}<extra></extra>",
         "legendgroup": "False",
         "marker": {
          "color": "#636efa",
          "pattern": {
           "shape": ""
          }
         },
         "name": "False",
         "offsetgroup": "False",
         "orientation": "v",
         "showlegend": true,
         "textposition": "auto",
         "type": "bar",
         "x": [
          "Blanco",
          "Martillo",
          "Tigre",
          "Toro"
         ],
         "xaxis": "x",
         "y": {
          "bdata": "IQcpIw==",
          "dtype": "i1"
         },
         "yaxis": "y"
        },
        {
         "alignmentgroup": "True",
         "customdata": {
          "bdata": "AAAAAAAAQ0A=",
          "dtype": "f8",
          "shape": "1, 1"
         },
         "hovertemplate": "Fatal=False<br>Sexo=LLI<br>Especie_grupo=%{x}<br>numero_ataques=%{y}<br>edad_promedio=%{customdata[0]}<extra></extra>",
         "legendgroup": "False",
         "marker": {
          "color": "#636efa",
          "pattern": {
           "shape": ""
          }
         },
         "name": "False",
         "offsetgroup": "False",
         "orientation": "v",
         "showlegend": false,
         "textposition": "auto",
         "type": "bar",
         "x": [
          "Blanco"
         ],
         "xaxis": "x2",
         "y": {
          "bdata": "AQ==",
          "dtype": "i1"
         },
         "yaxis": "y2"
        },
        {
         "alignmentgroup": "True",
         "customdata": {
          "bdata": "gD6lPSjzPkDoeZ7neZ48QPgz4c+EPz5AR1juaYQlPkA=",
          "dtype": "f8",
          "shape": "4, 1"
         },
         "hovertemplate": "Fatal=False<br>Sexo=M<br>Especie_grupo=%{x}<br>numero_ataques=%{y}<br>edad_promedio=%{customdata[0]}<extra></extra>",
         "legendgroup": "False",
         "marker": {
          "color": "#636efa",
          "pattern": {
           "shape": ""
          }
         },
         "name": "False",
         "offsetgroup": "False",
         "orientation": "v",
         "showlegend": false,
         "textposition": "auto",
         "type": "bar",
         "x": [
          "Blanco",
          "Martillo",
          "Tigre",
          "Toro"
         ],
         "xaxis": "x3",
         "y": {
          "bdata": "oQEjAMAAlQA=",
          "dtype": "i2"
         },
         "yaxis": "y3"
        },
        {
         "alignmentgroup": "True",
         "customdata": {
          "bdata": "AAAAAAAAN0AAAAAAAAA1QAAAAAAAAPh/AAAAAAAA+H8=",
          "dtype": "f8",
          "shape": "4, 1"
         },
         "hovertemplate": "Fatal=False<br>Sexo=NAN<br>Especie_grupo=%{x}<br>numero_ataques=%{y}<br>edad_promedio=%{customdata[0]}<extra></extra>",
         "legendgroup": "False",
         "marker": {
          "color": "#636efa",
          "pattern": {
           "shape": ""
          }
         },
         "name": "False",
         "offsetgroup": "False",
         "orientation": "v",
         "showlegend": false,
         "textposition": "auto",
         "type": "bar",
         "x": [
          "Blanco",
          "Martillo",
          "Tigre",
          "Toro"
         ],
         "xaxis": "x4",
         "y": {
          "bdata": "SwUPAw==",
          "dtype": "i1"
         },
         "yaxis": "y4"
        },
        {
         "alignmentgroup": "True",
         "customdata": {
          "bdata": "VVVVVVVVQUAAAAAAAAD4f7ETO7ETu0ZAAAAAAAAgOUA=",
          "dtype": "f8",
          "shape": "4, 1"
         },
         "hovertemplate": "Fatal=True<br>Sexo=F<br>Especie_grupo=%{x}<br>numero_ataques=%{y}<br>edad_promedio=%{customdata[0]}<extra></extra>",
         "legendgroup": "True",
         "marker": {
          "color": "#EF553B",
          "pattern": {
           "shape": ""
          }
         },
         "name": "True",
         "offsetgroup": "True",
         "orientation": "v",
         "showlegend": true,
         "textposition": "auto",
         "type": "bar",
         "x": [
          "Blanco",
          "Martillo",
          "Tigre",
          "Toro"
         ],
         "xaxis": "x",
         "y": {
          "bdata": "FAEOCQ==",
          "dtype": "i1"
         },
         "yaxis": "y"
        },
        {
         "alignmentgroup": "True",
         "customdata": {
          "bdata": "AAAAAADuPUAAAAAAAAA6QH1orA+N9TxADMMwDMMwQUA=",
          "dtype": "f8",
          "shape": "4, 1"
         },
         "hovertemplate": "Fatal=True<br>Sexo=M<br>Especie_grupo=%{x}<br>numero_ataques=%{y}<br>edad_promedio=%{customdata[0]}<extra></extra>",
         "legendgroup": "True",
         "marker": {
          "color": "#EF553B",
          "pattern": {
           "shape": ""
          }
         },
         "name": "True",
         "offsetgroup": "True",
         "orientation": "v",
         "showlegend": false,
         "textposition": "auto",
         "type": "bar",
         "x": [
          "Blanco",
          "Martillo",
          "Tigre",
          "Toro"
         ],
         "xaxis": "x3",
         "y": {
          "bdata": "kAACAEUAHQA=",
          "dtype": "i2"
         },
         "yaxis": "y3"
        },
        {
         "alignmentgroup": "True",
         "customdata": {
          "bdata": "AAAAAAAA+H8AAAAAAAD4fwAAAAAAAPh/",
          "dtype": "f8",
          "shape": "3, 1"
         },
         "hovertemplate": "Fatal=True<br>Sexo=NAN<br>Especie_grupo=%{x}<br>numero_ataques=%{y}<br>edad_promedio=%{customdata[0]}<extra></extra>",
         "legendgroup": "True",
         "marker": {
          "color": "#EF553B",
          "pattern": {
           "shape": ""
          }
         },
         "name": "True",
         "offsetgroup": "True",
         "orientation": "v",
         "showlegend": false,
         "textposition": "auto",
         "type": "bar",
         "x": [
          "Blanco",
          "Tigre",
          "Toro"
         ],
         "xaxis": "x4",
         "y": {
          "bdata": "AwME",
          "dtype": "i1"
         },
         "yaxis": "y4"
        }
       ],
       "layout": {
        "annotations": [
         {
          "font": {},
          "showarrow": false,
          "text": "Sexo=F",
          "x": 0.1175,
          "xanchor": "center",
          "xref": "paper",
          "y": 1,
          "yanchor": "bottom",
          "yref": "paper"
         },
         {
          "font": {},
          "showarrow": false,
          "text": "Sexo=LLI",
          "x": 0.3725,
          "xanchor": "center",
          "xref": "paper",
          "y": 1,
          "yanchor": "bottom",
          "yref": "paper"
         },
         {
          "font": {},
          "showarrow": false,
          "text": "Sexo=M",
          "x": 0.6275,
          "xanchor": "center",
          "xref": "paper",
          "y": 1,
          "yanchor": "bottom",
          "yref": "paper"
         },
         {
          "font": {},
          "showarrow": false,
          "text": "Sexo=NAN",
          "x": 0.8824999999999998,
          "xanchor": "center",
          "xref": "paper",
          "y": 1,
          "yanchor": "bottom",
          "yref": "paper"
         }
        ],
        "barmode": "group",
        "legend": {
         "title": {
          "text": "Fatal"
         },
         "tracegroupgap": 0
        },
        "margin": {
         "t": 60
        },
        "template": {
         "data": {
          "bar": [
           {
            "error_x": {
             "color": "#2a3f5f"
            },
            "error_y": {
             "color": "#2a3f5f"
            },
            "marker": {
             "line": {
              "color": "#E5ECF6",
              "width": 0.5
             },
             "pattern": {
              "fillmode": "overlay",
              "size": 10,
              "solidity": 0.2
             }
            },
            "type": "bar"
           }
          ],
          "barpolar": [
           {
            "marker": {
             "line": {
              "color": "#E5ECF6",
              "width": 0.5
             },
             "pattern": {
              "fillmode": "overlay",
              "size": 10,
              "solidity": 0.2
             }
            },
            "type": "barpolar"
           }
          ],
          "carpet": [
           {
            "aaxis": {
             "endlinecolor": "#2a3f5f",
             "gridcolor": "white",
             "linecolor": "white",
             "minorgridcolor": "white",
             "startlinecolor": "#2a3f5f"
            },
            "baxis": {
             "endlinecolor": "#2a3f5f",
             "gridcolor": "white",
             "linecolor": "white",
             "minorgridcolor": "white",
             "startlinecolor": "#2a3f5f"
            },
            "type": "carpet"
           }
          ],
          "choropleth": [
           {
            "colorbar": {
             "outlinewidth": 0,
             "ticks": ""
            },
            "type": "choropleth"
           }
          ],
          "contour": [
           {
            "colorbar": {
             "outlinewidth": 0,
             "ticks": ""
            },
            "colorscale": [
             [
              0,
              "#0d0887"
             ],
             [
              0.1111111111111111,
              "#46039f"
             ],
             [
              0.2222222222222222,
              "#7201a8"
             ],
             [
              0.3333333333333333,
              "#9c179e"
             ],
             [
              0.4444444444444444,
              "#bd3786"
             ],
             [
              0.5555555555555556,
              "#d8576b"
             ],
             [
              0.6666666666666666,
              "#ed7953"
             ],
             [
              0.7777777777777778,
              "#fb9f3a"
             ],
             [
              0.8888888888888888,
              "#fdca26"
             ],
             [
              1,
              "#f0f921"
             ]
            ],
            "type": "contour"
           }
          ],
          "contourcarpet": [
           {
            "colorbar": {
             "outlinewidth": 0,
             "ticks": ""
            },
            "type": "contourcarpet"
           }
          ],
          "heatmap": [
           {
            "colorbar": {
             "outlinewidth": 0,
             "ticks": ""
            },
            "colorscale": [
             [
              0,
              "#0d0887"
             ],
             [
              0.1111111111111111,
              "#46039f"
             ],
             [
              0.2222222222222222,
              "#7201a8"
             ],
             [
              0.3333333333333333,
              "#9c179e"
             ],
             [
              0.4444444444444444,
              "#bd3786"
             ],
             [
              0.5555555555555556,
              "#d8576b"
             ],
             [
              0.6666666666666666,
              "#ed7953"
             ],
             [
              0.7777777777777778,
              "#fb9f3a"
             ],
             [
              0.8888888888888888,
              "#fdca26"
             ],
             [
              1,
              "#f0f921"
             ]
            ],
            "type": "heatmap"
           }
          ],
          "histogram": [
           {
            "marker": {
             "pattern": {
              "fillmode": "overlay",
              "size": 10,
              "solidity": 0.2
             }
            },
            "type": "histogram"
           }
          ],
          "histogram2d": [
           {
            "colorbar": {
             "outlinewidth": 0,
             "ticks": ""
            },
            "colorscale": [
             [
              0,
              "#0d0887"
             ],
             [
              0.1111111111111111,
              "#46039f"
             ],
             [
              0.2222222222222222,
              "#7201a8"
             ],
             [
              0.3333333333333333,
              "#9c179e"
             ],
             [
              0.4444444444444444,
              "#bd3786"
             ],
             [
              0.5555555555555556,
              "#d8576b"
             ],
             [
              0.6666666666666666,
              "#ed7953"
             ],
             [
              0.7777777777777778,
              "#fb9f3a"
             ],
             [
              0.8888888888888888,
              "#fdca26"
             ],
             [
              1,
              "#f0f921"
             ]
            ],
            "type": "histogram2d"
           }
          ],
          "histogram2dcontour": [
           {
            "colorbar": {
             "outlinewidth": 0,
             "ticks": ""
            },
            "colorscale": [
             [
              0,
              "#0d0887"
             ],
             [
              0.1111111111111111,
              "#46039f"
             ],
             [
              0.2222222222222222,
              "#7201a8"
             ],
             [
              0.3333333333333333,
              "#9c179e"
             ],
             [
              0.4444444444444444,
              "#bd3786"
             ],
             [
              0.5555555555555556,
              "#d8576b"
             ],
             [
              0.6666666666666666,
              "#ed7953"
             ],
             [
              0.7777777777777778,
              "#fb9f3a"
             ],
             [
              0.8888888888888888,
              "#fdca26"
             ],
             [
              1,
              "#f0f921"
             ]
            ],
            "type": "histogram2dcontour"
           }
          ],
          "mesh3d": [
           {
            "colorbar": {
             "outlinewidth": 0,
             "ticks": ""
            },
            "type": "mesh3d"
           }
          ],
          "parcoords": [
           {
            "line": {
             "colorbar": {
              "outlinewidth": 0,
              "ticks": ""
             }
            },
            "type": "parcoords"
           }
          ],
          "pie": [
           {
            "automargin": true,
            "type": "pie"
           }
          ],
          "scatter": [
           {
            "fillpattern": {
             "fillmode": "overlay",
             "size": 10,
             "solidity": 0.2
            },
            "type": "scatter"
           }
          ],
          "scatter3d": [
           {
            "line": {
             "colorbar": {
              "outlinewidth": 0,
              "ticks": ""
             }
            },
            "marker": {
             "colorbar": {
              "outlinewidth": 0,
              "ticks": ""
             }
            },
            "type": "scatter3d"
           }
          ],
          "scattercarpet": [
           {
            "marker": {
             "colorbar": {
              "outlinewidth": 0,
              "ticks": ""
             }
            },
            "type": "scattercarpet"
           }
          ],
          "scattergeo": [
           {
            "marker": {
             "colorbar": {
              "outlinewidth": 0,
              "ticks": ""
             }
            },
            "type": "scattergeo"
           }
          ],
          "scattergl": [
           {
            "marker": {
             "colorbar": {
              "outlinewidth": 0,
              "ticks": ""
             }
            },
            "type": "scattergl"
           }
          ],
          "scattermap": [
           {
            "marker": {
             "colorbar": {
              "outlinewidth": 0,
              "ticks": ""
             }
            },
            "type": "scattermap"
           }
          ],
          "scattermapbox": [
           {
            "marker": {
             "colorbar": {
              "outlinewidth": 0,
              "ticks": ""
             }
            },
            "type": "scattermapbox"
           }
          ],
          "scatterpolar": [
           {
            "marker": {
             "colorbar": {
              "outlinewidth": 0,
              "ticks": ""
             }
            },
            "type": "scatterpolar"
           }
          ],
          "scatterpolargl": [
           {
            "marker": {
             "colorbar": {
              "outlinewidth": 0,
              "ticks": ""
             }
            },
            "type": "scatterpolargl"
           }
          ],
          "scatterternary": [
           {
            "marker": {
             "colorbar": {
              "outlinewidth": 0,
              "ticks": ""
             }
            },
            "type": "scatterternary"
           }
          ],
          "surface": [
           {
            "colorbar": {
             "outlinewidth": 0,
             "ticks": ""
            },
            "colorscale": [
             [
              0,
              "#0d0887"
             ],
             [
              0.1111111111111111,
              "#46039f"
             ],
             [
              0.2222222222222222,
              "#7201a8"
             ],
             [
              0.3333333333333333,
              "#9c179e"
             ],
             [
              0.4444444444444444,
              "#bd3786"
             ],
             [
              0.5555555555555556,
              "#d8576b"
             ],
             [
              0.6666666666666666,
              "#ed7953"
             ],
             [
              0.7777777777777778,
              "#fb9f3a"
             ],
             [
              0.8888888888888888,
              "#fdca26"
             ],
             [
              1,
              "#f0f921"
             ]
            ],
            "type": "surface"
           }
          ],
          "table": [
           {
            "cells": {
             "fill": {
              "color": "#EBF0F8"
             },
             "line": {
              "color": "white"
             }
            },
            "header": {
             "fill": {
              "color": "#C8D4E3"
             },
             "line": {
              "color": "white"
             }
            },
            "type": "table"
           }
          ]
         },
         "layout": {
          "annotationdefaults": {
           "arrowcolor": "#2a3f5f",
           "arrowhead": 0,
           "arrowwidth": 1
          },
          "autotypenumbers": "strict",
          "coloraxis": {
           "colorbar": {
            "outlinewidth": 0,
            "ticks": ""
           }
          },
          "colorscale": {
           "diverging": [
            [
             0,
             "#8e0152"
            ],
            [
             0.1,
             "#c51b7d"
            ],
            [
             0.2,
             "#de77ae"
            ],
            [
             0.3,
             "#f1b6da"
            ],
            [
             0.4,
             "#fde0ef"
            ],
            [
             0.5,
             "#f7f7f7"
            ],
            [
             0.6,
             "#e6f5d0"
            ],
            [
             0.7,
             "#b8e186"
            ],
            [
             0.8,
             "#7fbc41"
            ],
            [
             0.9,
             "#4d9221"
            ],
            [
             1,
             "#276419"
            ]
           ],
           "sequential": [
            [
             0,
             "#0d0887"
            ],
            [
             0.1111111111111111,
             "#46039f"
            ],
            [
             0.2222222222222222,
             "#7201a8"
            ],
            [
             0.3333333333333333,
             "#9c179e"
            ],
            [
             0.4444444444444444,
             "#bd3786"
            ],
            [
             0.5555555555555556,
             "#d8576b"
            ],
            [
             0.6666666666666666,
             "#ed7953"
            ],
            [
             0.7777777777777778,
             "#fb9f3a"
            ],
            [
             0.8888888888888888,
             "#fdca26"
            ],
            [
             1,
             "#f0f921"
            ]
           ],
           "sequentialminus": [
            [
             0,
             "#0d0887"
            ],
            [
             0.1111111111111111,
             "#46039f"
            ],
            [
             0.2222222222222222,
             "#7201a8"
            ],
            [
             0.3333333333333333,
             "#9c179e"
            ],
            [
             0.4444444444444444,
             "#bd3786"
            ],
            [
             0.5555555555555556,
             "#d8576b"
            ],
            [
             0.6666666666666666,
             "#ed7953"
            ],
            [
             0.7777777777777778,
             "#fb9f3a"
            ],
            [
             0.8888888888888888,
             "#fdca26"
            ],
            [
             1,
             "#f0f921"
            ]
           ]
          },
          "colorway": [
           "#636efa",
           "#EF553B",
           "#00cc96",
           "#ab63fa",
           "#FFA15A",
           "#19d3f3",
           "#FF6692",
           "#B6E880",
           "#FF97FF",
           "#FECB52"
          ],
          "font": {
           "color": "#2a3f5f"
          },
          "geo": {
           "bgcolor": "white",
           "lakecolor": "white",
           "landcolor": "#E5ECF6",
           "showlakes": true,
           "showland": true,
           "subunitcolor": "white"
          },
          "hoverlabel": {
           "align": "left"
          },
          "hovermode": "closest",
          "mapbox": {
           "style": "light"
          },
          "paper_bgcolor": "white",
          "plot_bgcolor": "#E5ECF6",
          "polar": {
           "angularaxis": {
            "gridcolor": "white",
            "linecolor": "white",
            "ticks": ""
           },
           "bgcolor": "#E5ECF6",
           "radialaxis": {
            "gridcolor": "white",
            "linecolor": "white",
            "ticks": ""
           }
          },
          "scene": {
           "xaxis": {
            "backgroundcolor": "#E5ECF6",
            "gridcolor": "white",
            "gridwidth": 2,
            "linecolor": "white",
            "showbackground": true,
            "ticks": "",
            "zerolinecolor": "white"
           },
           "yaxis": {
            "backgroundcolor": "#E5ECF6",
            "gridcolor": "white",
            "gridwidth": 2,
            "linecolor": "white",
            "showbackground": true,
            "ticks": "",
            "zerolinecolor": "white"
           },
           "zaxis": {
            "backgroundcolor": "#E5ECF6",
            "gridcolor": "white",
            "gridwidth": 2,
            "linecolor": "white",
            "showbackground": true,
            "ticks": "",
            "zerolinecolor": "white"
           }
          },
          "shapedefaults": {
           "line": {
            "color": "#2a3f5f"
           }
          },
          "ternary": {
           "aaxis": {
            "gridcolor": "white",
            "linecolor": "white",
            "ticks": ""
           },
           "baxis": {
            "gridcolor": "white",
            "linecolor": "white",
            "ticks": ""
           },
           "bgcolor": "#E5ECF6",
           "caxis": {
            "gridcolor": "white",
            "linecolor": "white",
            "ticks": ""
           }
          },
          "title": {
           "x": 0.05
          },
          "xaxis": {
           "automargin": true,
           "gridcolor": "white",
           "linecolor": "white",
           "ticks": "",
           "title": {
            "standoff": 15
           },
           "zerolinecolor": "white",
           "zerolinewidth": 2
          },
          "yaxis": {
           "automargin": true,
           "gridcolor": "white",
           "linecolor": "white",
           "ticks": "",
           "title": {
            "standoff": 15
           },
           "zerolinecolor": "white",
           "zerolinewidth": 2
          }
         }
        },
        "xaxis": {
         "anchor": "y",
         "domain": [
          0,
          0.235
         ],
         "title": {
          "text": "Especie_grupo"
         }
        },
        "xaxis2": {
         "anchor": "y2",
         "domain": [
          0.255,
          0.49
         ],
         "matches": "x",
         "title": {
          "text": "Especie_grupo"
         }
        },
        "xaxis3": {
         "anchor": "y3",
         "domain": [
          0.51,
          0.745
         ],
         "matches": "x",
         "title": {
          "text": "Especie_grupo"
         }
        },
        "xaxis4": {
         "anchor": "y4",
         "domain": [
          0.7649999999999999,
          0.9999999999999999
         ],
         "matches": "x",
         "title": {
          "text": "Especie_grupo"
         }
        },
        "yaxis": {
         "anchor": "x",
         "domain": [
          0,
          1
         ],
         "title": {
          "text": "numero_ataques"
         }
        },
        "yaxis2": {
         "anchor": "x2",
         "domain": [
          0,
          1
         ],
         "matches": "y",
         "showticklabels": false
        },
        "yaxis3": {
         "anchor": "x3",
         "domain": [
          0,
          1
         ],
         "matches": "y",
         "showticklabels": false
        },
        "yaxis4": {
         "anchor": "x4",
         "domain": [
          0,
          1
         ],
         "matches": "y",
         "showticklabels": false
        }
       }
      }
     },
     "metadata": {},
     "output_type": "display_data"
    }
   ],
   "source": [
    "import pandas as pd\n",
    "import plotly.express as px\n",
    "import plotly.io as pio\n",
    "\n",
    "# 1️⃣ Configurar VSCode para mostrar gráficos directamente\n",
    "pio.renderers.default = \"vscode\"\n",
    "\n",
    "# 2️⃣ Cargar CSV (ajusta la ruta si está en otra carpeta)\n",
    "df = pd.read_csv(\"shark_attacks_final_4especies_min.csv\")\n",
    "\n",
    "# 3️⃣ Agrupar datos por especie, fatalidad y género\n",
    "df_grouped = df.groupby(['Especie_grupo', 'Fatal', 'Sexo']).agg(\n",
    "    numero_ataques=('Especie_grupo', 'count'),  # contar ataques\n",
    "    edad_promedio=('Edad', 'mean')              # promedio de edad\n",
    ").reset_index()\n",
    "\n",
    "# 4️⃣ Crear gráfico de barras\n",
    "fig = px.bar(\n",
    "    df_grouped,\n",
    "    x='Especie_grupo',\n",
    "    y='numero_ataques',\n",
    "    color='Fatal',                    # Fatal / No Fatal\n",
    "    facet_col='Sexo',                 # separar por género\n",
    "    hover_data=['edad_promedio'],     # tooltip solo con edad promedio\n",
    "    barmode='group'                   # barras agrupadas por fatalidad\n",
    ")\n",
    "\n",
    "# 5️⃣ Mostrar gráfico en VSCode\n",
    "fig.show()\n"
   ]
  },
  {
   "cell_type": "code",
   "execution_count": 74,
   "id": "95d7e08b",
   "metadata": {},
   "outputs": [],
   "source": [
    "import numpy as np\n",
    "\n",
    "df_grouped = df.groupby(['País', 'Estado', 'Especie_grupo', 'Fatal']).agg(\n",
    "    numero_ataques=('Especie_grupo', 'count'),\n",
    "    edad=('Edad', 'mean'),\n",
    "    genero=('Sexo', lambda x: x.mode()[0] if not x.mode().empty else np.nan),\n",
    "    momento_dia=('Momento_día', lambda x: x.mode()[0] if not x.mode().empty else np.nan)\n",
    ").reset_index()\n"
   ]
  },
  {
   "cell_type": "code",
   "execution_count": 77,
   "id": "9a883b7b",
   "metadata": {},
   "outputs": [
    {
     "name": "stderr",
     "output_type": "stream",
     "text": [
      "C:\\Users\\CeX-Laguna\\AppData\\Local\\Temp\\ipykernel_30996\\3047253871.py:1: DeprecationWarning:\n",
      "\n",
      "The library used by the *country names* `locationmode` option is changing in an upcoming version. Country names in existing plots may not work in the new version. To ensure consistent behavior, consider setting `locationmode` to *ISO-3*.\n",
      "\n"
     ]
    },
    {
     "data": {
      "application/vnd.plotly.v1+json": {
       "config": {
        "plotlyServerURL": "https://plot.ly"
       },
       "data": [
        {
         "customdata": [
          [
           22,
           "M",
           true,
           "Mañana"
          ],
          [
           24.428571428571427,
           "M",
           false,
           "Noche"
          ],
          [
           17.5,
           "M",
           true,
           "Tarde"
          ],
          [
           26.46153846153846,
           "M",
           false,
           "Mañana"
          ],
          [
           19.2,
           "M",
           true,
           "Tarde"
          ],
          [
           25,
           "M",
           true,
           "Tarde"
          ],
          [
           null,
           "M",
           false,
           null
          ],
          [
           40.5,
           "M",
           false,
           "Mañana"
          ],
          [
           16,
           "M",
           true,
           null
          ],
          [
           null,
           "M",
           false,
           null
          ],
          [
           31,
           "M",
           false,
           "Mañana"
          ],
          [
           35,
           "M",
           true,
           "Tarde"
          ],
          [
           57,
           "F",
           false,
           "Tarde"
          ],
          [
           null,
           "M",
           false,
           "Tarde"
          ],
          [
           36,
           "M",
           false,
           "Tarde"
          ],
          [
           null,
           "NAN",
           false,
           null
          ],
          [
           null,
           "M",
           false,
           null
          ],
          [
           null,
           "M",
           false,
           "Mañana"
          ],
          [
           32,
           "F",
           false,
           "Tarde"
          ],
          [
           41,
           "M",
           false,
           null
          ],
          [
           24.428571428571427,
           "M",
           false,
           "Tarde"
          ],
          [
           27,
           "M",
           true,
           "Tarde"
          ],
          [
           41,
           "M",
           false,
           null
          ],
          [
           null,
           "F",
           false,
           null
          ],
          [
           56,
           "M",
           true,
           null
          ],
          [
           28,
           "M",
           false,
           "Mañana"
          ],
          [
           49,
           "F",
           true,
           null
          ],
          [
           22,
           "M",
           true,
           "Noche"
          ],
          [
           null,
           "M",
           false,
           null
          ],
          [
           68,
           "F",
           true,
           null
          ],
          [
           null,
           "M",
           false,
           null
          ],
          [
           24,
           "M",
           true,
           "Tarde"
          ],
          [
           34,
           "F",
           false,
           null
          ],
          [
           null,
           "M",
           true,
           null
          ],
          [
           69,
           "M",
           false,
           null
          ],
          [
           48,
           "M",
           true,
           null
          ],
          [
           26,
           "M",
           false,
           "Mañana"
          ],
          [
           21,
           "F",
           false,
           "Mañana"
          ],
          [
           36,
           "M",
           false,
           "Tarde"
          ],
          [
           47,
           "F",
           false,
           "Tarde"
          ],
          [
           null,
           "M",
           true,
           null
          ],
          [
           35,
           "M",
           true,
           "Mañana"
          ],
          [
           21,
           "M",
           false,
           "Tarde"
          ],
          [
           22,
           "M",
           false,
           null
          ],
          [
           22,
           "M",
           false,
           null
          ],
          [
           45,
           "F",
           true,
           null
          ],
          [
           65,
           "F",
           true,
           "Mañana"
          ],
          [
           35,
           "M",
           false,
           null
          ],
          [
           null,
           "M",
           true,
           "Tarde"
          ],
          [
           68,
           "F",
           true,
           null
          ],
          [
           68,
           "M",
           true,
           "Mañana"
          ],
          [
           16,
           "M",
           true,
           null
          ],
          [
           32,
           "M",
           false,
           "Noche"
          ],
          [
           null,
           "M",
           true,
           null
          ],
          [
           null,
           "M",
           false,
           null
          ],
          [
           26,
           "M",
           false,
           null
          ],
          [
           24,
           "M",
           true,
           null
          ],
          [
           34,
           "F",
           false,
           "Tarde"
          ],
          [
           33,
           "M",
           true,
           null
          ],
          [
           13,
           "F",
           false,
           null
          ],
          [
           35,
           "M",
           true,
           "Mañana"
          ],
          [
           32,
           "M",
           false,
           null
          ],
          [
           22,
           "M",
           true,
           null
          ],
          [
           69,
           "F",
           true,
           "Mañana"
          ],
          [
           16,
           "M",
           false,
           null
          ],
          [
           30,
           "M",
           false,
           "Tarde"
          ],
          [
           25,
           "M",
           true,
           "Mañana"
          ],
          [
           26,
           "F",
           false,
           "Tarde"
          ],
          [
           30,
           "M",
           true,
           null
          ],
          [
           16,
           "M",
           false,
           null
          ],
          [
           null,
           "M",
           false,
           null
          ],
          [
           8,
           "M",
           false,
           "Tarde"
          ],
          [
           30,
           "M",
           false,
           null
          ],
          [
           26,
           "M",
           true,
           null
          ],
          [
           18,
           "F",
           false,
           "Tarde"
          ],
          [
           19,
           "M",
           true,
           "Tarde"
          ],
          [
           null,
           "M",
           true,
           null
          ],
          [
           15,
           "M",
           false,
           "Tarde"
          ],
          [
           30,
           "M",
           false,
           "Tarde"
          ],
          [
           null,
           "M",
           true,
           "Tarde"
          ],
          [
           25,
           "M",
           true,
           "Tarde"
          ],
          [
           27,
           "M",
           false,
           "Tarde"
          ],
          [
           22,
           "F",
           true,
           "Tarde"
          ],
          [
           44,
           "M",
           true,
           null
          ],
          [
           null,
           "M",
           true,
           null
          ],
          [
           null,
           "M",
           true,
           null
          ],
          [
           21,
           "M",
           false,
           "Mañana"
          ],
          [
           23,
           "M",
           true,
           "Tarde"
          ],
          [
           null,
           "M",
           false,
           null
          ],
          [
           29,
           "M",
           true,
           "Mañana"
          ],
          [
           null,
           "M",
           false,
           null
          ],
          [
           null,
           "M",
           false,
           null
          ],
          [
           23,
           "M",
           false,
           null
          ],
          [
           null,
           "M",
           false,
           "Tarde"
          ],
          [
           24,
           "F",
           true,
           "Tarde"
          ],
          [
           30,
           "M",
           false,
           null
          ],
          [
           21,
           "M",
           false,
           null
          ],
          [
           null,
           "NAN",
           false,
           null
          ],
          [
           50,
           "M",
           false,
           null
          ],
          [
           null,
           "M",
           false,
           "Noche"
          ],
          [
           17.11111111111111,
           "M",
           false,
           "Tarde"
          ],
          [
           16.5,
           "M",
           true,
           "Tarde"
          ],
          [
           null,
           "F",
           false,
           "Tarde"
          ],
          [
           37.38235294117647,
           "M",
           false,
           "Mañana"
          ],
          [
           38.142857142857146,
           "M",
           true,
           "Mañana"
          ],
          [
           20,
           "F",
           false,
           "Tarde"
          ],
          [
           45,
           "M",
           false,
           null
          ],
          [
           null,
           "M",
           false,
           "Mañana"
          ],
          [
           null,
           "M",
           true,
           null
          ],
          [
           58,
           "F",
           false,
           "Tarde"
          ],
          [
           45,
           "M",
           false,
           "Tarde"
          ],
          [
           20.25,
           "F",
           false,
           "Mañana"
          ],
          [
           18.25,
           "M",
           false,
           "Tarde"
          ],
          [
           29,
           "M",
           false,
           "Mañana"
          ],
          [
           18,
           "M",
           false,
           "Tarde"
          ],
          [
           10,
           "F",
           false,
           null
          ],
          [
           null,
           "M",
           true,
           null
          ],
          [
           16,
           "M",
           false,
           null
          ],
          [
           null,
           "M",
           false,
           null
          ],
          [
           25,
           "M",
           true,
           null
          ]
         ],
         "geo": "geo",
         "hovertemplate": "<b>%{hovertext}</b><br><br>Especie_grupo=Tigre<br>numero_ataques=%{marker.size}<br>País=%{location}<br>edad=%{customdata[0]}<br>genero=%{customdata[1]}<br>Fatal=%{customdata[2]}<br>momento_dia=%{customdata[3]}<extra></extra>",
         "hovertext": [
          "Tutuila Island",
          "New South Wales",
          "New South Wales",
          "Queensland",
          "Queensland",
          "Queensland ",
          "South Australia",
          "Torres Strait",
          "Torres Strait",
          "Torres Strait ",
          "Western Australia",
          "Western Australia",
          "Queensland",
          "WA",
          "Abaco Islands",
          "Andros Islands",
          "Grand Bahama Island",
          "New Providence",
          "New Providence ",
          "Balneário Camboriú",
          "Pernambuco",
          "Pernambuco",
          "Santa Catarina State",
          "Liaoning Province",
          "Isla De San Andres",
          "Cocos Island",
          "Cocos Island",
          "Holquin Province",
          "Ascension Bay",
          "Hurghada, Red Sea Governorate",
          "Red Sea",
          "Red Sea Protectorate",
          "South Sinai",
          "Sussex",
          "North of Marsa Alam",
          "North of Marsa Alam",
          "Eastern Caroline Islands",
          " Lau Province",
          "Kadavu",
          "Taveuni",
          "Taveuni",
          "Vita Levu",
          "Vitu Levu",
          "Tahiti",
          "Vanua Levu",
          "Clearwater Bay",
          "Port Shelter",
          "Tamil Nadu",
          "Jakarta Harbour",
          "Timor Leste",
          "St. Catherine",
          "Montego Bay",
          "Alifu Alifu Atoll",
          "Mozambique Channel",
          "Colima",
          "Guerrero",
          "Guerro",
          "Quintana Roo",
          "Quintana Roo",
          "Sinaloa",
          "Sonora",
          "Tabasco",
          "South Coast, East New Britain",
          "Grand Terre",
          "Loyalty Islands",
          "North Province",
          "North Province",
          "South Province",
          "South Province",
          "Cook islans",
          "Aulong Island",
          "Western Caroline Islands",
          "Central Province",
          "Central Province",
          "Gulf Province",
          "Milne Bay Province",
          "New Britain",
          "Conservatória District",
          "L'Etang-Salé",
          "Saint-Joseph",
          "Saint-Paul ",
          "Saint-Pierre",
          "dÉtang-Salé",
          "Saint-Gilles",
          "60 miles north of San Domingo in the West Indies",
          "Amirante Islands",
          "Eastern Cape Province",
          "Eastern Cape Province",
          "KwaZulu-Natal",
          "KwaZulu-Natal",
          "Transvaal",
          "Western Cape Province",
          "Off Libya",
          "Vava'u",
          "Vava'u",
          "Cheshire",
          "Rocha",
          "Alabama",
          "California",
          "Delaware",
          "Florida",
          "Florida",
          "Guam",
          "Hawaii",
          "Hawaii",
          "Long Island NY",
          "Louisiana",
          "Maui",
          "Mississippi",
          "New Jersey",
          "New Mexico",
          "New York",
          "North Carolina",
          "Puerto Rico",
          "Rhode Island",
          "South Carolina",
          "South Carolina",
          "Texas",
          "Virginia",
          "Upolu Island"
         ],
         "legendgroup": "Tigre",
         "locationmode": "country names",
         "locations": [
          "AMERICAN SAMOA",
          "AUSTRALIA",
          "AUSTRALIA",
          "AUSTRALIA",
          "AUSTRALIA",
          "AUSTRALIA",
          "AUSTRALIA",
          "AUSTRALIA",
          "AUSTRALIA",
          "AUSTRALIA",
          "AUSTRALIA",
          "AUSTRALIA",
          "Australia",
          "Australia",
          "BAHAMAS",
          "BAHAMAS",
          "BAHAMAS",
          "BAHAMAS",
          "BAHAMAS",
          "BRAZIL",
          "BRAZIL",
          "BRAZIL",
          "BRAZIL",
          "CHINA",
          "COLUMBIA",
          "COSTA RICA",
          "COSTA RICA",
          "CUBA",
          "CURACAO",
          "EGYPT",
          "EGYPT",
          "EGYPT",
          "EGYPT",
          "ENGLAND",
          "Egypt",
          "Egypt",
          "FEDERATED STATES OF MICRONESIA",
          "FIJI",
          "FIJI",
          "FIJI",
          "FIJI",
          "FIJI",
          "FIJI",
          "FRENCH POLYNESIA",
          "Fiji",
          "HONG KONG",
          "HONG KONG",
          "INDIA",
          "INDONESIA",
          "Indonesia",
          "JAMAICA",
          "Jamaica",
          "MALDIVES",
          "MAYOTTE",
          "MEXICO",
          "MEXICO",
          "MEXICO",
          "MEXICO",
          "MEXICO",
          "MEXICO",
          "MEXICO",
          "MEXICO",
          "NEW BRITAIN",
          "NEW CALEDONIA",
          "NEW CALEDONIA",
          "NEW CALEDONIA",
          "NEW CALEDONIA",
          "NEW CALEDONIA",
          "NEW CALEDONIA",
          "NEW ZEALAND",
          "PALAU",
          "PALAU",
          "PAPUA NEW GUINEA",
          "PAPUA NEW GUINEA",
          "PAPUA NEW GUINEA",
          "PAPUA NEW GUINEA",
          "PAPUA NEW GUINEA",
          "REUNION",
          "REUNION",
          "REUNION",
          "REUNION",
          "REUNION",
          "REUNION",
          "REUNION ISLAND",
          "SAN DOMINGO",
          "SEYCHELLES",
          "SOUTH AFRICA",
          "SOUTH AFRICA",
          "SOUTH AFRICA",
          "SOUTH AFRICA",
          "SOUTH AFRICA",
          "SOUTH AFRICA",
          "SOUTH ATLANTIC OCEAN",
          "TONGA",
          "TONGA",
          "UNITED KINGDOM",
          "URUGUAY",
          "USA",
          "USA",
          "USA",
          "USA",
          "USA",
          "USA",
          "USA",
          "USA",
          "USA",
          "USA",
          "USA",
          "USA",
          "USA",
          "USA",
          "USA",
          "USA",
          "USA",
          "USA",
          "USA",
          "USA",
          "USA",
          "USA",
          "WESTERN SAMOA"
         ],
         "marker": {
          "color": "#636efa",
          "size": {
           "bdata": "AQwCEgUBAgcCAQYEAQEBAQEBAQEHAwEBAQIBAQECAQEBAQEBAQEBAQEBAQEBAQEBAQEBAQEBAQEBAQEBAQEBAQEBAgMCAQEBAQEBAgEBAQEBAQEBAQECAwEDAQECAQECAQEBAQwCAVoLAQIBAQIBBAgCAQEBAgEB",
           "dtype": "i1"
          },
          "sizemode": "area",
          "sizeref": 0.3975,
          "symbol": "circle"
         },
         "mode": "markers",
         "name": "Tigre",
         "showlegend": true,
         "type": "scattergeo"
        },
        {
         "customdata": [
          [
           null,
           "M",
           false,
           null
          ],
          [
           18,
           "M",
           false,
           "Tarde"
          ],
          [
           37.80769230769231,
           "M",
           false,
           "Mañana"
          ],
          [
           31.307692307692307,
           "M",
           true,
           "Tarde"
          ],
          [
           31,
           "M",
           false,
           "Noche"
          ],
          [
           37,
           "M",
           true,
           "Tarde"
          ],
          [
           30.6875,
           "M",
           false,
           "Tarde"
          ],
          [
           27.2,
           "M",
           true,
           "Tarde"
          ],
          [
           20.6,
           "M",
           false,
           "Tarde"
          ],
          [
           37.25,
           "M",
           true,
           "Mañana"
          ],
          [
           31.75,
           "M",
           false,
           "Mañana"
          ],
          [
           34,
           "M",
           true,
           "Tarde"
          ],
          [
           25,
           "M",
           false,
           "Tarde"
          ],
          [
           17,
           "M",
           false,
           null
          ],
          [
           36.266666666666666,
           "M",
           false,
           "Mañana"
          ],
          [
           31.6,
           "M",
           true,
           "Mañana"
          ],
          [
           16,
           "M",
           false,
           "Mañana"
          ],
          [
           57,
           "M",
           true,
           "Mañana"
          ],
          [
           62,
           "M",
           false,
           "Mañana"
          ],
          [
           17.5,
           "M",
           false,
           "Mañana"
          ],
          [
           28,
           "M",
           true,
           "Tarde"
          ],
          [
           37,
           "M",
           true,
           "Tarde"
          ],
          [
           34,
           "F",
           false,
           "Tarde"
          ],
          [
           null,
           "M",
           false,
           null
          ],
          [
           22,
           "M",
           true,
           null
          ],
          [
           22,
           "M",
           false,
           null
          ],
          [
           null,
           "M",
           false,
           null
          ],
          [
           null,
           "M",
           false,
           null
          ],
          [
           null,
           "M",
           false,
           null
          ],
          [
           null,
           "M",
           false,
           "Mañana"
          ],
          [
           null,
           "M",
           true,
           "Mañana"
          ],
          [
           null,
           "M",
           true,
           null
          ],
          [
           32,
           "F",
           true,
           null
          ],
          [
           43,
           "M",
           false,
           "Tarde"
          ],
          [
           21,
           "M",
           true,
           "Tarde"
          ],
          [
           18,
           "F",
           true,
           null
          ],
          [
           34,
           "M",
           true,
           "Mañana"
          ],
          [
           26,
           "M",
           true,
           null
          ],
          [
           16,
           "M",
           true,
           null
          ],
          [
           15,
           "NAN",
           false,
           null
          ],
          [
           null,
           "NAN",
           true,
           null
          ],
          [
           28,
           "M",
           false,
           "Mañana"
          ],
          [
           null,
           "NAN",
           false,
           null
          ],
          [
           null,
           "M",
           false,
           null
          ],
          [
           18,
           "M",
           false,
           null
          ],
          [
           15.5,
           "F",
           true,
           null
          ],
          [
           42,
           "F",
           true,
           "Tarde"
          ],
          [
           21,
           "M",
           false,
           "Tarde"
          ],
          [
           null,
           "M",
           true,
           null
          ],
          [
           20,
           "M",
           true,
           "Mañana"
          ],
          [
           40,
           "F",
           false,
           "Tarde"
          ],
          [
           null,
           "M",
           false,
           null
          ],
          [
           null,
           "M",
           true,
           null
          ],
          [
           13,
           "M",
           false,
           "Tarde"
          ],
          [
           null,
           "M",
           false,
           "Tarde"
          ],
          [
           null,
           "M",
           false,
           null
          ],
          [
           null,
           "M",
           false,
           "Mañana"
          ],
          [
           37.5,
           "M",
           true,
           "Mañana"
          ],
          [
           47,
           "M",
           true,
           "Mañana"
          ],
          [
           null,
           "NAN",
           false,
           "Tarde"
          ],
          [
           41,
           "M",
           true,
           "Tarde"
          ],
          [
           null,
           "NAN",
           false,
           null
          ],
          [
           null,
           "M",
           true,
           null
          ],
          [
           40,
           "M",
           true,
           null
          ],
          [
           null,
           "M",
           false,
           "Tarde"
          ],
          [
           37,
           "M",
           true,
           "Tarde"
          ],
          [
           22,
           "M",
           true,
           "Tarde"
          ],
          [
           null,
           "M",
           true,
           null
          ],
          [
           24,
           "M",
           false,
           "Tarde"
          ],
          [
           30,
           "F",
           true,
           "Tarde"
          ],
          [
           23,
           "F",
           true,
           null
          ],
          [
           null,
           "M",
           false,
           "Tarde"
          ],
          [
           45,
           "M",
           false,
           null
          ],
          [
           23,
           "M",
           false,
           "Mañana"
          ],
          [
           22,
           "M",
           false,
           null
          ],
          [
           null,
           "NAN",
           false,
           null
          ],
          [
           37.5,
           "M",
           false,
           "Tarde"
          ],
          [
           46,
           "M",
           true,
           "Tarde"
          ],
          [
           16.5,
           "M",
           false,
           "Mañana"
          ],
          [
           22,
           "M",
           true,
           "Mañana"
          ],
          [
           44,
           "M",
           false,
           "Mañana"
          ],
          [
           24,
           "M",
           true,
           null
          ],
          [
           53.5,
           "M",
           true,
           null
          ],
          [
           31,
           "M",
           true,
           "Tarde"
          ],
          [
           null,
           "M",
           true,
           null
          ],
          [
           20,
           "M",
           true,
           "Tarde"
          ],
          [
           24,
           "M",
           false,
           "Tarde"
          ],
          [
           null,
           "NAN",
           false,
           null
          ],
          [
           19,
           "M",
           true,
           null
          ],
          [
           22,
           "M",
           false,
           "Tarde"
          ],
          [
           null,
           "M",
           false,
           null
          ],
          [
           null,
           "M",
           false,
           null
          ],
          [
           null,
           "NAN",
           false,
           null
          ],
          [
           25.275862068965516,
           "M",
           false,
           "Tarde"
          ],
          [
           34.333333333333336,
           "M",
           true,
           "Mañana"
          ],
          [
           24.333333333333332,
           "M",
           false,
           "Tarde"
          ],
          [
           19.5,
           "M",
           true,
           "Tarde"
          ],
          [
           29.215686274509803,
           "M",
           false,
           "Tarde"
          ],
          [
           28.11111111111111,
           "M",
           true,
           "Tarde"
          ],
          [
           37,
           "M",
           true,
           "Tarde"
          ],
          [
           27,
           "F",
           true,
           "Tarde"
          ],
          [
           38,
           "F",
           false,
           null
          ],
          [
           null,
           "M",
           true,
           null
          ],
          [
           null,
           "M",
           true,
           null
          ],
          [
           null,
           "M",
           false,
           "Mañana"
          ],
          [
           33.15238095238095,
           "M",
           false,
           "Mañana"
          ],
          [
           33.53333333333333,
           "M",
           true,
           "Mañana"
          ],
          [
           28,
           "M",
           false,
           "Mañana"
          ],
          [
           16,
           "M",
           false,
           "Tarde"
          ],
          [
           null,
           "M",
           true,
           null
          ],
          [
           31,
           "M",
           true,
           "Mañana"
          ],
          [
           63,
           "F",
           true,
           "Tarde"
          ],
          [
           60,
           "M",
           false,
           "Tarde"
          ],
          [
           21,
           "M",
           true,
           "Tarde"
          ],
          [
           null,
           "M",
           false,
           "Tarde"
          ],
          [
           24,
           "M",
           true,
           "Tarde"
          ],
          [
           23,
           "M",
           false,
           "Tarde"
          ],
          [
           42.5,
           "M",
           true,
           "Tarde"
          ],
          [
           30.38095238095238,
           "M",
           false,
           "Tarde"
          ],
          [
           17,
           "M",
           false,
           "Mañana"
          ],
          [
           null,
           "M",
           false,
           "Mañana"
          ]
         ],
         "geo": "geo",
         "hovertemplate": "<b>%{hovertext}</b><br><br>Especie_grupo=Blanco<br>numero_ataques=%{marker.size}<br>País=%{location}<br>edad=%{customdata[0]}<br>genero=%{customdata[1]}<br>Fatal=%{customdata[2]}<br>momento_dia=%{customdata[3]}<extra></extra>",
         "hovertext": [
          "West Africa",
          "Buenos Aires Province",
          "New South Wales",
          "New South Wales",
          "Queensland",
          "Queensland",
          "South Australia",
          "South Australia",
          "Tasmania",
          "Tasmania",
          "Victoria",
          "Victoria",
          "Victoria ",
          "Westerm Australia",
          "Western Australia",
          "Western Australia",
          "NSW",
          "NSW",
          "New South Wales",
          "South Australia",
          "South Australia",
          "WA",
          "Abaco Islands",
          "Andros Islands",
          "Pernambuco",
          "Rio de Janeiro",
          "Bay of Fundy",
          "Newfoundland",
          "Nova Scotia",
          "Coquimbo",
          "Los Vilos",
          "Valpariso Province",
          " Primorje-Gorski Kotar County",
          " Split-Dalmatia Count,",
          " Split-Dalmatia County",
          "Adriatic Sea",
          "Istria County",
          "Primorje-Gorski Kotar County ",
          "Red Sea",
          "La Libertad",
          "La Libertad",
          "Lomaiviti  Island Group",
          "Antibes",
          "Côte d'Azur ",
          "Corfu Island",
          "Corfu Island",
          "Thessaly",
          "Adriatic Sea",
          "Adriatic Sea",
          "Golfo di Genova in the Ligurian Sea",
          "Ligurian Sea",
          "Sardinia",
          "Sardinia",
          "Sicily",
          "Tuscany",
          "Tyrrenian Sea",
          "Tyrrhenian Sea",
          "Tyrrhenian Sea",
          "Aichi Prefecture",
          "Ehime Prefecture",
          "Ehime Prefecture",
          "Congreve Channel",
          "Harare Province",
          "St. Thomas Bay",
          "Baja California",
          "Baja California",
          "Sonora",
          "Adriatic Sea",
          "Gaza",
          "Southern Morocco",
          "Loyalty Islands",
          "Antarctic Ocean",
          "Chatham Islands",
          "Chatham Islands ",
          "Chatham Islands, east of New  Zealand",
          "Cook Strait",
          "North Island",
          "North Island",
          "South Island",
          "South Island",
          "Southland",
          "Bay of Waitangi",
          "Miyako",
          "Miyako Island",
          "Caribbean Sea",
          "Gulf of Panama",
          "10ºS, 142ºE",
          "Baatan",
          "Madeira Islands",
          "Grand'Anse",
          "Kuril Islands in the Pacific",
          "Bird Island",
          "Adriatic Sea",
          "Eastern Cape Province",
          "Eastern Cape Province",
          "KwaZulu-Natal",
          "KwaZulu-Natal",
          "Western Cape Province",
          "Western Cape Province",
          "Western Province",
          "Chungnam",
          "South Ch'ungch'ong Province",
          "South Chungcheong Province",
          "Balearics",
          "Cádiz",
          "California",
          "California",
          "Florida",
          "Hawaii",
          "Hawaii",
          "Los Angeles",
          "Maine",
          "Massachusetts",
          "Massachusetts",
          "Maui",
          "New Jersey",
          "North Carolina",
          "North Carolina",
          "Oregon",
          "South Carolina",
          "Washington"
         ],
         "legendgroup": "Blanco",
         "locationmode": "country names",
         "locations": [
          "ANGOLA",
          "ARGENTINA",
          "AUSTRALIA",
          "AUSTRALIA",
          "AUSTRALIA",
          "AUSTRALIA",
          "AUSTRALIA",
          "AUSTRALIA",
          "AUSTRALIA",
          "AUSTRALIA",
          "AUSTRALIA",
          "AUSTRALIA",
          "AUSTRALIA",
          "AUSTRALIA",
          "AUSTRALIA",
          "AUSTRALIA",
          "Australia",
          "Australia",
          "Australia",
          "Australia",
          "Australia",
          "Australia",
          "BAHAMAS",
          "BAHAMAS",
          "BRAZIL",
          "BRAZIL",
          "CANADA",
          "CANADA",
          "CANADA",
          "CHILE",
          "CHILE",
          "CHILE",
          "CROATIA",
          "CROATIA",
          "CROATIA",
          "CROATIA",
          "CROATIA",
          "CROATIA",
          "EGYPT",
          "EL SALVADOR",
          "EL SALVADOR",
          "FIJI",
          "FRANCE",
          "FRANCE",
          "GREECE",
          "GREECE",
          "GREECE",
          "ITALY",
          "ITALY",
          "ITALY",
          "ITALY",
          "ITALY",
          "ITALY",
          "ITALY",
          "ITALY",
          "ITALY",
          "ITALY",
          "ITALY",
          "JAPAN",
          "JAPAN",
          "JAPAN",
          "MALTA",
          "MALTA",
          "MALTA",
          "MEXICO",
          "MEXICO",
          "MEXICO",
          "MONTENEGRO",
          "MOZAMBIQUE",
          "Morocco",
          "NEW CALEDONIA",
          "NEW ZEALAND",
          "NEW ZEALAND",
          "NEW ZEALAND",
          "NEW ZEALAND",
          "NEW ZEALAND",
          "NEW ZEALAND",
          "NEW ZEALAND",
          "NEW ZEALAND",
          "NEW ZEALAND",
          "NEW ZEALAND",
          "New Zealand",
          "OKINAWA",
          "OKINAWA",
          "PANAMA",
          "PANAMA",
          "PAPUA NEW GUINEA",
          "PHILIPPINES",
          "PORTUGAL",
          "REUNION",
          "RUSSIA",
          "SEYCHELLES",
          "SLOVENIA",
          "SOUTH AFRICA",
          "SOUTH AFRICA",
          "SOUTH AFRICA",
          "SOUTH AFRICA",
          "SOUTH AFRICA",
          "SOUTH AFRICA",
          "SOUTH AFRICA",
          "SOUTH KOREA",
          "SOUTH KOREA",
          "SOUTH KOREA",
          "SPAIN",
          "SPAIN",
          "USA",
          "USA",
          "USA",
          "USA",
          "USA",
          "USA",
          "USA",
          "USA",
          "USA",
          "USA",
          "USA",
          "USA",
          "USA",
          "USA",
          "USA",
          "USA"
         ],
         "marker": {
          "color": "#EF553B",
          "size": {
           "bdata": "AQABACIADQAGAAIAGwAVAAYABAAJAAIAAQACACAADwADAAEAAQACAAEAAQABAAEAAQABAAEAAQABAAEAAQABAAEAAQABAAIAAQACAAEAAQABAAEAAQABAAEAAgABAAMAAQABAAEAAQABAAQAAgABAAcAAgABAAIAAQABAAEAAQABAAEAAQABAAEAAQABAAEAAQABAAEAAQAIAAEAAgAEAAEAAQACAAEAAQABAAEAAQABAAEAAQABAAEAIQAGABEABwBSABYAAQABAAEAAQABAAEAnwAPAAQAAQABAAEAAQAEAAIAAQACAAMAAgAWAAMAAgA=",
           "dtype": "i2"
          },
          "sizemode": "area",
          "sizeref": 0.3975,
          "symbol": "circle"
         },
         "mode": "markers",
         "name": "Blanco",
         "showlegend": true,
         "type": "scattergeo"
        },
        {
         "customdata": [
          [
           29,
           "F",
           false,
           "Noche"
          ],
          [
           33.375,
           "M",
           false,
           "Tarde"
          ],
          [
           20.8,
           "M",
           true,
           "Tarde"
          ],
          [
           17,
           "M",
           false,
           null
          ],
          [
           30.818181818181817,
           "M",
           false,
           "Mañana"
          ],
          [
           35.6,
           "M",
           true,
           "Tarde"
          ],
          [
           38,
           "M",
           false,
           "Mañana"
          ],
          [
           28.4,
           "M",
           false,
           "Mañana"
          ],
          [
           37.5,
           "F",
           true,
           "Mañana"
          ],
          [
           36,
           "F",
           false,
           "Tarde"
          ],
          [
           17,
           "F",
           true,
           "Tarde"
          ],
          [
           37.857142857142854,
           "M",
           false,
           "Mañana"
          ],
          [
           27,
           "M",
           false,
           "Tarde"
          ],
          [
           49,
           "M",
           true,
           "Mañana"
          ],
          [
           17.5,
           "M",
           false,
           "Tarde"
          ],
          [
           66,
           "M",
           false,
           null
          ],
          [
           null,
           "M",
           false,
           null
          ],
          [
           null,
           "M",
           false,
           null
          ],
          [
           40,
           "M",
           false,
           "Tarde"
          ],
          [
           15,
           "M",
           false,
           "Mañana"
          ],
          [
           null,
           "M",
           true,
           null
          ],
          [
           38,
           "M",
           false,
           null
          ],
          [
           33,
           "M",
           false,
           null
          ],
          [
           32,
           "M",
           false,
           null
          ],
          [
           36,
           "M",
           false,
           "Mañana"
          ],
          [
           null,
           "M",
           false,
           null
          ],
          [
           null,
           "F",
           true,
           null
          ],
          [
           null,
           "M",
           false,
           null
          ],
          [
           12.333333333333334,
           "M",
           false,
           "Tarde"
          ],
          [
           null,
           "M",
           true,
           null
          ],
          [
           null,
           "M",
           false,
           null
          ],
          [
           46,
           "M",
           false,
           "Mañana"
          ],
          [
           null,
           "F",
           false,
           null
          ],
          [
           null,
           "M",
           false,
           null
          ],
          [
           36.333333333333336,
           "M",
           false,
           "Mañana"
          ],
          [
           10,
           "M",
           false,
           "Tarde"
          ],
          [
           49,
           "M",
           false,
           "Mañana"
          ],
          [
           null,
           "M",
           true,
           null
          ],
          [
           null,
           "NAN",
           true,
           null
          ],
          [
           40,
           "M",
           true,
           "Tarde"
          ],
          [
           52,
           "M",
           true,
           "Mañana"
          ],
          [
           47,
           "M",
           false,
           "Tarde"
          ],
          [
           39,
           "M",
           false,
           "Tarde"
          ],
          [
           24,
           "M",
           true,
           "Tarde"
          ],
          [
           36,
           "M",
           true,
           "Mañana"
          ],
          [
           13,
           "M",
           true,
           "Mañana"
          ],
          [
           null,
           "NAN",
           true,
           null
          ],
          [
           null,
           "NAN",
           true,
           null
          ],
          [
           16,
           "M",
           true,
           "Tarde"
          ],
          [
           null,
           "M",
           false,
           "Tarde"
          ],
          [
           24,
           "M",
           false,
           "Tarde"
          ],
          [
           30,
           "M",
           true,
           "Tarde"
          ],
          [
           32,
           "M",
           false,
           "Mañana"
          ],
          [
           25,
           "M",
           true,
           "Tarde"
          ],
          [
           18,
           "M",
           false,
           "Mañana"
          ],
          [
           55,
           "M",
           false,
           null
          ],
          [
           54,
           "M",
           false,
           null
          ],
          [
           12,
           "M",
           false,
           null
          ],
          [
           29,
           "F",
           false,
           null
          ],
          [
           64,
           "M",
           false,
           null
          ],
          [
           55,
           "F",
           false,
           null
          ],
          [
           47.333333333333336,
           "M",
           false,
           "Mañana"
          ],
          [
           19,
           "F",
           false,
           null
          ],
          [
           24.80952380952381,
           "M",
           false,
           "Tarde"
          ],
          [
           36.5,
           "M",
           true,
           "Tarde"
          ],
          [
           64,
           "M",
           false,
           "Mañana"
          ],
          [
           31.5,
           "M",
           false,
           "Mañana"
          ],
          [
           14.625,
           "F",
           false,
           "Tarde"
          ],
          [
           11.25,
           "F",
           false,
           "Mañana"
          ],
          [
           24.5,
           "M",
           false,
           "Mañana"
          ],
          [
           38,
           "F",
           false,
           null
          ],
          [
           10,
           "M",
           true,
           "Tarde"
          ],
          [
           40,
           "M",
           false,
           "Mañana"
          ]
         ],
         "geo": "geo",
         "hovertemplate": "<b>%{hovertext}</b><br><br>Especie_grupo=Toro<br>numero_ataques=%{marker.size}<br>País=%{location}<br>edad=%{customdata[0]}<br>genero=%{customdata[1]}<br>Fatal=%{customdata[2]}<br>momento_dia=%{customdata[3]}<extra></extra>",
         "hovertext": [
          "New  South Wales",
          "New South Wales",
          "New South Wales",
          "Northern Territory ",
          "Queensland",
          "Queensland",
          "Western  Australia",
          "Western Australia",
          "Western Australia",
          "NSW",
          "Queensland",
          "Abaco Islands",
          "Grand Bahama Island",
          "Northern Bahamas",
          "Pernambuco",
          "Great Abaco Islands",
          "Guanacaste",
          "North Pacific coast",
          "Camaguey Province",
          "Guantanamo Province",
          "Mayabeque",
          "Tela",
          "Trujillo Colon",
          "Maharashtra",
          "Bali",
          "Karun River",
          "Karun River",
          "Khuzestan Province",
          "Basrah",
          "Basrah",
          "Basrah City",
          "Guerrero",
          "Quintana Roo",
          "Curacao",
          "North Province",
          "Noumea",
          "South Province",
          "Lake Nicaragua (fresh water)",
          "Lower San Juan River",
          "Grande Terre",
          "L' Etang Salé-les-Bains",
          "Le Port",
          "Saint Leu",
          "Saint-Denis",
          "Saint-Gilles",
          "Saint-Gilles-les-Bains",
          "Saint-Joseph",
          "Saint-Leu",
          "Saint-Paul",
          "Sainte-Marie",
          "dÉtang-Salé",
          "Praslin",
          "Eastern Cape Province",
          "Eastern Cape Province",
          "KwaZulu-Natal",
          "Chanthaburi Province",
          "Hua Hin",
          "Muang district of Satun province, ",
          "Vava'u",
          "Graet Courland Bay",
          "Near five Cays settlement West Caicos",
          "Alabama",
          "BAHAMAS",
          "Florida",
          "Florida",
          "Georgia",
          "Louisiana",
          "North Carolina",
          "South Carolina",
          "Texas",
          "US Virgin Islands",
          "Virginia",
          "Anzoategui"
         ],
         "legendgroup": "Toro",
         "locationmode": "country names",
         "locations": [
          "AUSTRALIA",
          "AUSTRALIA",
          "AUSTRALIA",
          "AUSTRALIA",
          "AUSTRALIA",
          "AUSTRALIA",
          "AUSTRALIA",
          "AUSTRALIA",
          "AUSTRALIA",
          "Australia",
          "Australia",
          "BAHAMAS",
          "BAHAMAS",
          "BAHAMAS",
          "BRAZIL",
          "Bahamas",
          "COSTA RICA",
          "COSTA RICA",
          "CUBA",
          "CUBA",
          "CUBA",
          "Honduras",
          "Honduras",
          "INDIA",
          "INDONESIA",
          "IRAN",
          "IRAN",
          "IRAN",
          "IRAQ",
          "IRAQ",
          "IRAQ",
          "MEXICO",
          "MEXICO",
          "NETHERLANDS ANTILLES",
          "NEW CALEDONIA",
          "NEW CALEDONIA",
          "NEW CALEDONIA",
          "NICARAGUA",
          "NICARAGUA",
          "New Caledonia",
          "REUNION",
          "REUNION",
          "REUNION",
          "REUNION",
          "REUNION",
          "REUNION",
          "REUNION",
          "REUNION",
          "REUNION",
          "REUNION",
          "REUNION",
          "SEYCHELLES",
          "SOUTH AFRICA",
          "SOUTH AFRICA",
          "SOUTH AFRICA",
          "THAILAND",
          "THAILAND",
          "THAILAND",
          "TONGA",
          "Tobago",
          "Turks and Caicos",
          "USA",
          "USA",
          "USA",
          "USA",
          "USA",
          "USA",
          "USA",
          "USA",
          "USA",
          "USA",
          "USA",
          "VENEZUELA"
         ],
         "marker": {
          "color": "#00cc96",
          "size": {
           "bdata": "AQgHAQ0FAQYCAgEJAgEEAQEBAQIBAQEBAwQCAQMBAQEBAQMBAQIBAQEBAQEBAQEBAQEBAQIBAwEBAQEBAQMBNgQBAgkECAEBAg==",
           "dtype": "i1"
          },
          "sizemode": "area",
          "sizeref": 0.3975,
          "symbol": "circle"
         },
         "mode": "markers",
         "name": "Toro",
         "showlegend": true,
         "type": "scattergeo"
        },
        {
         "customdata": [
          [
           null,
           "M",
           false,
           null
          ],
          [
           18,
           "M",
           false,
           null
          ],
          [
           null,
           "M",
           false,
           null
          ],
          [
           29,
           "M",
           false,
           null
          ],
          [
           30,
           "M",
           false,
           null
          ],
          [
           null,
           "F",
           true,
           null
          ],
          [
           26,
           "M",
           false,
           "Mañana"
          ],
          [
           null,
           "M",
           false,
           null
          ],
          [
           28,
           "M",
           false,
           null
          ],
          [
           61,
           "M",
           false,
           null
          ],
          [
           32.8,
           "M",
           false,
           "Mañana"
          ],
          [
           25.76923076923077,
           "M",
           false,
           "Tarde"
          ],
          [
           26,
           "M",
           true,
           null
          ],
          [
           11.5,
           "M",
           false,
           "Tarde"
          ],
          [
           11,
           "M",
           false,
           null
          ],
          [
           null,
           "M",
           false,
           null
          ],
          [
           null,
           "M",
           true,
           null
          ]
         ],
         "geo": "geo",
         "hovertemplate": "<b>%{hovertext}</b><br><br>Especie_grupo=Martillo<br>numero_ataques=%{marker.size}<br>País=%{location}<br>edad=%{customdata[0]}<br>genero=%{customdata[1]}<br>Fatal=%{customdata[2]}<br>momento_dia=%{customdata[3]}<extra></extra>",
         "hovertext": [
          "Northern Territory",
          "Queensland",
          "Western Australia",
          "Rio Grande Do Sul",
          "Wakaya Island",
          "Society Islands",
          "Baja California",
          "Eastern Cape Province",
          "KwaZulu-Natal",
          "Western Cape Province",
          "California",
          "Florida",
          "Florida",
          "Hawaii",
          "Texas",
          "Malampa Province",
          "Los Roques  Islands"
         ],
         "legendgroup": "Martillo",
         "locationmode": "country names",
         "locations": [
          "AUSTRALIA",
          "AUSTRALIA",
          "AUSTRALIA",
          "BRAZIL",
          "FIJI",
          "FRENCH POLYNESIA",
          "MEXICO",
          "SOUTH AFRICA",
          "SOUTH AFRICA",
          "SOUTH AFRICA",
          "USA",
          "USA",
          "USA",
          "USA",
          "USA",
          "VANUATU",
          "VENEZUELA"
         ],
         "marker": {
          "color": "#ab63fa",
          "size": {
           "bdata": "AQUBAQEBAgEBAQgUAQMBAQE=",
           "dtype": "i1"
          },
          "sizemode": "area",
          "sizeref": 0.3975,
          "symbol": "circle"
         },
         "mode": "markers",
         "name": "Martillo",
         "showlegend": true,
         "type": "scattergeo"
        }
       ],
       "layout": {
        "geo": {
         "center": {},
         "domain": {
          "x": [
           0,
           1
          ],
          "y": [
           0,
           1
          ]
         },
         "projection": {
          "type": "natural earth"
         },
         "scope": "world"
        },
        "legend": {
         "itemsizing": "constant",
         "title": {
          "text": "Especie_grupo"
         },
         "tracegroupgap": 0
        },
        "margin": {
         "t": 60
        },
        "template": {
         "data": {
          "bar": [
           {
            "error_x": {
             "color": "#2a3f5f"
            },
            "error_y": {
             "color": "#2a3f5f"
            },
            "marker": {
             "line": {
              "color": "#E5ECF6",
              "width": 0.5
             },
             "pattern": {
              "fillmode": "overlay",
              "size": 10,
              "solidity": 0.2
             }
            },
            "type": "bar"
           }
          ],
          "barpolar": [
           {
            "marker": {
             "line": {
              "color": "#E5ECF6",
              "width": 0.5
             },
             "pattern": {
              "fillmode": "overlay",
              "size": 10,
              "solidity": 0.2
             }
            },
            "type": "barpolar"
           }
          ],
          "carpet": [
           {
            "aaxis": {
             "endlinecolor": "#2a3f5f",
             "gridcolor": "white",
             "linecolor": "white",
             "minorgridcolor": "white",
             "startlinecolor": "#2a3f5f"
            },
            "baxis": {
             "endlinecolor": "#2a3f5f",
             "gridcolor": "white",
             "linecolor": "white",
             "minorgridcolor": "white",
             "startlinecolor": "#2a3f5f"
            },
            "type": "carpet"
           }
          ],
          "choropleth": [
           {
            "colorbar": {
             "outlinewidth": 0,
             "ticks": ""
            },
            "type": "choropleth"
           }
          ],
          "contour": [
           {
            "colorbar": {
             "outlinewidth": 0,
             "ticks": ""
            },
            "colorscale": [
             [
              0,
              "#0d0887"
             ],
             [
              0.1111111111111111,
              "#46039f"
             ],
             [
              0.2222222222222222,
              "#7201a8"
             ],
             [
              0.3333333333333333,
              "#9c179e"
             ],
             [
              0.4444444444444444,
              "#bd3786"
             ],
             [
              0.5555555555555556,
              "#d8576b"
             ],
             [
              0.6666666666666666,
              "#ed7953"
             ],
             [
              0.7777777777777778,
              "#fb9f3a"
             ],
             [
              0.8888888888888888,
              "#fdca26"
             ],
             [
              1,
              "#f0f921"
             ]
            ],
            "type": "contour"
           }
          ],
          "contourcarpet": [
           {
            "colorbar": {
             "outlinewidth": 0,
             "ticks": ""
            },
            "type": "contourcarpet"
           }
          ],
          "heatmap": [
           {
            "colorbar": {
             "outlinewidth": 0,
             "ticks": ""
            },
            "colorscale": [
             [
              0,
              "#0d0887"
             ],
             [
              0.1111111111111111,
              "#46039f"
             ],
             [
              0.2222222222222222,
              "#7201a8"
             ],
             [
              0.3333333333333333,
              "#9c179e"
             ],
             [
              0.4444444444444444,
              "#bd3786"
             ],
             [
              0.5555555555555556,
              "#d8576b"
             ],
             [
              0.6666666666666666,
              "#ed7953"
             ],
             [
              0.7777777777777778,
              "#fb9f3a"
             ],
             [
              0.8888888888888888,
              "#fdca26"
             ],
             [
              1,
              "#f0f921"
             ]
            ],
            "type": "heatmap"
           }
          ],
          "histogram": [
           {
            "marker": {
             "pattern": {
              "fillmode": "overlay",
              "size": 10,
              "solidity": 0.2
             }
            },
            "type": "histogram"
           }
          ],
          "histogram2d": [
           {
            "colorbar": {
             "outlinewidth": 0,
             "ticks": ""
            },
            "colorscale": [
             [
              0,
              "#0d0887"
             ],
             [
              0.1111111111111111,
              "#46039f"
             ],
             [
              0.2222222222222222,
              "#7201a8"
             ],
             [
              0.3333333333333333,
              "#9c179e"
             ],
             [
              0.4444444444444444,
              "#bd3786"
             ],
             [
              0.5555555555555556,
              "#d8576b"
             ],
             [
              0.6666666666666666,
              "#ed7953"
             ],
             [
              0.7777777777777778,
              "#fb9f3a"
             ],
             [
              0.8888888888888888,
              "#fdca26"
             ],
             [
              1,
              "#f0f921"
             ]
            ],
            "type": "histogram2d"
           }
          ],
          "histogram2dcontour": [
           {
            "colorbar": {
             "outlinewidth": 0,
             "ticks": ""
            },
            "colorscale": [
             [
              0,
              "#0d0887"
             ],
             [
              0.1111111111111111,
              "#46039f"
             ],
             [
              0.2222222222222222,
              "#7201a8"
             ],
             [
              0.3333333333333333,
              "#9c179e"
             ],
             [
              0.4444444444444444,
              "#bd3786"
             ],
             [
              0.5555555555555556,
              "#d8576b"
             ],
             [
              0.6666666666666666,
              "#ed7953"
             ],
             [
              0.7777777777777778,
              "#fb9f3a"
             ],
             [
              0.8888888888888888,
              "#fdca26"
             ],
             [
              1,
              "#f0f921"
             ]
            ],
            "type": "histogram2dcontour"
           }
          ],
          "mesh3d": [
           {
            "colorbar": {
             "outlinewidth": 0,
             "ticks": ""
            },
            "type": "mesh3d"
           }
          ],
          "parcoords": [
           {
            "line": {
             "colorbar": {
              "outlinewidth": 0,
              "ticks": ""
             }
            },
            "type": "parcoords"
           }
          ],
          "pie": [
           {
            "automargin": true,
            "type": "pie"
           }
          ],
          "scatter": [
           {
            "fillpattern": {
             "fillmode": "overlay",
             "size": 10,
             "solidity": 0.2
            },
            "type": "scatter"
           }
          ],
          "scatter3d": [
           {
            "line": {
             "colorbar": {
              "outlinewidth": 0,
              "ticks": ""
             }
            },
            "marker": {
             "colorbar": {
              "outlinewidth": 0,
              "ticks": ""
             }
            },
            "type": "scatter3d"
           }
          ],
          "scattercarpet": [
           {
            "marker": {
             "colorbar": {
              "outlinewidth": 0,
              "ticks": ""
             }
            },
            "type": "scattercarpet"
           }
          ],
          "scattergeo": [
           {
            "marker": {
             "colorbar": {
              "outlinewidth": 0,
              "ticks": ""
             }
            },
            "type": "scattergeo"
           }
          ],
          "scattergl": [
           {
            "marker": {
             "colorbar": {
              "outlinewidth": 0,
              "ticks": ""
             }
            },
            "type": "scattergl"
           }
          ],
          "scattermap": [
           {
            "marker": {
             "colorbar": {
              "outlinewidth": 0,
              "ticks": ""
             }
            },
            "type": "scattermap"
           }
          ],
          "scattermapbox": [
           {
            "marker": {
             "colorbar": {
              "outlinewidth": 0,
              "ticks": ""
             }
            },
            "type": "scattermapbox"
           }
          ],
          "scatterpolar": [
           {
            "marker": {
             "colorbar": {
              "outlinewidth": 0,
              "ticks": ""
             }
            },
            "type": "scatterpolar"
           }
          ],
          "scatterpolargl": [
           {
            "marker": {
             "colorbar": {
              "outlinewidth": 0,
              "ticks": ""
             }
            },
            "type": "scatterpolargl"
           }
          ],
          "scatterternary": [
           {
            "marker": {
             "colorbar": {
              "outlinewidth": 0,
              "ticks": ""
             }
            },
            "type": "scatterternary"
           }
          ],
          "surface": [
           {
            "colorbar": {
             "outlinewidth": 0,
             "ticks": ""
            },
            "colorscale": [
             [
              0,
              "#0d0887"
             ],
             [
              0.1111111111111111,
              "#46039f"
             ],
             [
              0.2222222222222222,
              "#7201a8"
             ],
             [
              0.3333333333333333,
              "#9c179e"
             ],
             [
              0.4444444444444444,
              "#bd3786"
             ],
             [
              0.5555555555555556,
              "#d8576b"
             ],
             [
              0.6666666666666666,
              "#ed7953"
             ],
             [
              0.7777777777777778,
              "#fb9f3a"
             ],
             [
              0.8888888888888888,
              "#fdca26"
             ],
             [
              1,
              "#f0f921"
             ]
            ],
            "type": "surface"
           }
          ],
          "table": [
           {
            "cells": {
             "fill": {
              "color": "#EBF0F8"
             },
             "line": {
              "color": "white"
             }
            },
            "header": {
             "fill": {
              "color": "#C8D4E3"
             },
             "line": {
              "color": "white"
             }
            },
            "type": "table"
           }
          ]
         },
         "layout": {
          "annotationdefaults": {
           "arrowcolor": "#2a3f5f",
           "arrowhead": 0,
           "arrowwidth": 1
          },
          "autotypenumbers": "strict",
          "coloraxis": {
           "colorbar": {
            "outlinewidth": 0,
            "ticks": ""
           }
          },
          "colorscale": {
           "diverging": [
            [
             0,
             "#8e0152"
            ],
            [
             0.1,
             "#c51b7d"
            ],
            [
             0.2,
             "#de77ae"
            ],
            [
             0.3,
             "#f1b6da"
            ],
            [
             0.4,
             "#fde0ef"
            ],
            [
             0.5,
             "#f7f7f7"
            ],
            [
             0.6,
             "#e6f5d0"
            ],
            [
             0.7,
             "#b8e186"
            ],
            [
             0.8,
             "#7fbc41"
            ],
            [
             0.9,
             "#4d9221"
            ],
            [
             1,
             "#276419"
            ]
           ],
           "sequential": [
            [
             0,
             "#0d0887"
            ],
            [
             0.1111111111111111,
             "#46039f"
            ],
            [
             0.2222222222222222,
             "#7201a8"
            ],
            [
             0.3333333333333333,
             "#9c179e"
            ],
            [
             0.4444444444444444,
             "#bd3786"
            ],
            [
             0.5555555555555556,
             "#d8576b"
            ],
            [
             0.6666666666666666,
             "#ed7953"
            ],
            [
             0.7777777777777778,
             "#fb9f3a"
            ],
            [
             0.8888888888888888,
             "#fdca26"
            ],
            [
             1,
             "#f0f921"
            ]
           ],
           "sequentialminus": [
            [
             0,
             "#0d0887"
            ],
            [
             0.1111111111111111,
             "#46039f"
            ],
            [
             0.2222222222222222,
             "#7201a8"
            ],
            [
             0.3333333333333333,
             "#9c179e"
            ],
            [
             0.4444444444444444,
             "#bd3786"
            ],
            [
             0.5555555555555556,
             "#d8576b"
            ],
            [
             0.6666666666666666,
             "#ed7953"
            ],
            [
             0.7777777777777778,
             "#fb9f3a"
            ],
            [
             0.8888888888888888,
             "#fdca26"
            ],
            [
             1,
             "#f0f921"
            ]
           ]
          },
          "colorway": [
           "#636efa",
           "#EF553B",
           "#00cc96",
           "#ab63fa",
           "#FFA15A",
           "#19d3f3",
           "#FF6692",
           "#B6E880",
           "#FF97FF",
           "#FECB52"
          ],
          "font": {
           "color": "#2a3f5f"
          },
          "geo": {
           "bgcolor": "white",
           "lakecolor": "white",
           "landcolor": "#E5ECF6",
           "showlakes": true,
           "showland": true,
           "subunitcolor": "white"
          },
          "hoverlabel": {
           "align": "left"
          },
          "hovermode": "closest",
          "mapbox": {
           "style": "light"
          },
          "paper_bgcolor": "white",
          "plot_bgcolor": "#E5ECF6",
          "polar": {
           "angularaxis": {
            "gridcolor": "white",
            "linecolor": "white",
            "ticks": ""
           },
           "bgcolor": "#E5ECF6",
           "radialaxis": {
            "gridcolor": "white",
            "linecolor": "white",
            "ticks": ""
           }
          },
          "scene": {
           "xaxis": {
            "backgroundcolor": "#E5ECF6",
            "gridcolor": "white",
            "gridwidth": 2,
            "linecolor": "white",
            "showbackground": true,
            "ticks": "",
            "zerolinecolor": "white"
           },
           "yaxis": {
            "backgroundcolor": "#E5ECF6",
            "gridcolor": "white",
            "gridwidth": 2,
            "linecolor": "white",
            "showbackground": true,
            "ticks": "",
            "zerolinecolor": "white"
           },
           "zaxis": {
            "backgroundcolor": "#E5ECF6",
            "gridcolor": "white",
            "gridwidth": 2,
            "linecolor": "white",
            "showbackground": true,
            "ticks": "",
            "zerolinecolor": "white"
           }
          },
          "shapedefaults": {
           "line": {
            "color": "#2a3f5f"
           }
          },
          "ternary": {
           "aaxis": {
            "gridcolor": "white",
            "linecolor": "white",
            "ticks": ""
           },
           "baxis": {
            "gridcolor": "white",
            "linecolor": "white",
            "ticks": ""
           },
           "bgcolor": "#E5ECF6",
           "caxis": {
            "gridcolor": "white",
            "linecolor": "white",
            "ticks": ""
           }
          },
          "title": {
           "x": 0.05
          },
          "xaxis": {
           "automargin": true,
           "gridcolor": "white",
           "linecolor": "white",
           "ticks": "",
           "title": {
            "standoff": 15
           },
           "zerolinecolor": "white",
           "zerolinewidth": 2
          },
          "yaxis": {
           "automargin": true,
           "gridcolor": "white",
           "linecolor": "white",
           "ticks": "",
           "title": {
            "standoff": 15
           },
           "zerolinecolor": "white",
           "zerolinewidth": 2
          }
         }
        }
       }
      }
     },
     "metadata": {},
     "output_type": "display_data"
    }
   ],
   "source": [
    "fig = px.scatter_geo(\n",
    "    df_grouped,\n",
    "    locationmode='country names',\n",
    "    locations='País',\n",
    "    color='Especie_grupo',\n",
    "    size='numero_ataques',  # nombre exacto de la columna\n",
    "    hover_name='Estado',\n",
    "    hover_data=['edad', 'genero', 'Fatal', 'momento_dia'],\n",
    "    scope='world',\n",
    "    projection='natural earth'\n",
    ")\n",
    "\n",
    "fig.show()\n",
    "\n",
    "\n"
   ]
  }
 ],
 "metadata": {
  "kernelspec": {
   "display_name": "Python 3",
   "language": "python",
   "name": "python3"
  },
  "language_info": {
   "codemirror_mode": {
    "name": "ipython",
    "version": 3
   },
   "file_extension": ".py",
   "mimetype": "text/x-python",
   "name": "python",
   "nbconvert_exporter": "python",
   "pygments_lexer": "ipython3",
   "version": "3.13.7"
  }
 },
 "nbformat": 4,
 "nbformat_minor": 5
}
